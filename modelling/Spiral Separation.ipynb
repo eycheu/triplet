{
 "cells": [
  {
   "cell_type": "code",
   "execution_count": 168,
   "metadata": {},
   "outputs": [],
   "source": [
    "%load_ext autoreload\n",
    "%autoreload 2"
   ]
  },
  {
   "cell_type": "code",
   "execution_count": 1,
   "metadata": {},
   "outputs": [],
   "source": [
    "import numpy as np\n",
    "import pandas as pd\n",
    "import math\n",
    "from matplotlib import pyplot as plt\n",
    "import matplotlib.pyplot as plt\n",
    "from matplotlib import gridspec\n",
    "%matplotlib notebook\n",
    "import random\n",
    "import sys\n",
    "import torch\n",
    "from torch.utils.data import Dataset, DataLoader\n",
    "from torch import nn, optim\n",
    "from IPython import display"
   ]
  },
  {
   "cell_type": "code",
   "execution_count": 197,
   "metadata": {},
   "outputs": [],
   "source": [
    "sys.path.append(\"../src/\")\n",
    "from network import NormEmbeddingNet, NormClampEmbeddingNet, extract_embedding\n",
    "from loss import OnlineTripletLoss, OnlineNonLinearTripletLoss\n",
    "from metric import AverageNonZeroTripletsMetric\n",
    "from trainer import fit\n",
    "from sampler import BalancedBatchSampler, RandomNegativeTripletSelector, HardestNegativeTripletSelector, SemiHardNegativeTripletSelector, MarginallyHardNegativeTripletSelector\n",
    "from display import plot_image, plot_2d_circle, plot_2d_embedding"
   ]
  },
  {
   "cell_type": "code",
   "execution_count": 198,
   "metadata": {},
   "outputs": [
    {
     "data": {
      "text/plain": [
       "<function display.plot_2d_embedding(embeddings, targets, ax, xlim=None, ylim=None, n_classes=2, kde=True, s=10)>"
      ]
     },
     "execution_count": 198,
     "metadata": {},
     "output_type": "execute_result"
    }
   ],
   "source": [
    "plot_2d_embedding"
   ]
  },
  {
   "cell_type": "code",
   "execution_count": 199,
   "metadata": {},
   "outputs": [
    {
     "data": {
      "text/plain": [
       "<module 'display' from '../src\\\\display.py'>"
      ]
     },
     "execution_count": 199,
     "metadata": {},
     "output_type": "execute_result"
    }
   ],
   "source": [
    "from importlib import reload\n",
    "reload(display)"
   ]
  },
  {
   "cell_type": "code",
   "execution_count": 69,
   "metadata": {},
   "outputs": [
    {
     "name": "stdout",
     "output_type": "stream",
     "text": [
      "use_cuda : True\n",
      "device : cuda\n"
     ]
    }
   ],
   "source": [
    "dict_args = dict()\n",
    "dict_args[\"batch_size\"] = 128\n",
    "dict_args[\"no_cuda\"] = False\n",
    "dict_args[\"optimizer\"] = \"Adam\"\n",
    "dict_args[\"lr\"] = 1e-2\n",
    "dict_args[\"lambda_l2\"] = 1e-5\n",
    "dict_args[\"epochs\"] = 50\n",
    "dict_args[\"margin\"] = 1.5\n",
    "dict_args[\"log_interval\"] = None\n",
    "dict_args[\"seed\"] = 1\n",
    "\n",
    "use_cuda = not dict_args[\"no_cuda\"] and torch.cuda.is_available()\n",
    "\n",
    "torch.manual_seed(dict_args[\"seed\"])\n",
    "\n",
    "device = torch.device(\"cuda\" if use_cuda else \"cpu\")\n",
    "\n",
    "kwargs = {'num_workers': 2,} if use_cuda else {}\n",
    "\n",
    "print(\"use_cuda :\", use_cuda)\n",
    "print(\"device :\", device)"
   ]
  },
  {
   "cell_type": "code",
   "execution_count": 4,
   "metadata": {},
   "outputs": [],
   "source": [
    "def plot_data(X, label, auto=False, zoom=1):\n",
    "    X = X.cpu()\n",
    "    label = label.cpu()\n",
    "    plt.scatter(X.numpy()[:, 0], X.numpy()[:, 1], c=label, s=20, cmap=plt.cm.viridis)\n",
    "    plt.axis('square')\n",
    "    plt.axis(torch.Tensor((-1.1, 1.1, -1.1, 1.1)) * zoom)\n",
    "    if auto is True: \n",
    "        plt.axis('equal')\n",
    "    \n",
    "    _m, _c = 0, '.15'\n",
    "    plt.axvline(0, ymin=_m, color=_c, lw=1, zorder=0)\n",
    "    plt.axhline(0, xmin=_m, color=_c, lw=1, zorder=0)\n",
    "\n",
    "\n",
    "def plot_model(X, label, model):\n",
    "    model.cpu()\n",
    "    mesh = np.arange(-1.1, 1.1, 0.01)\n",
    "    xx, yy = np.meshgrid(mesh, mesh)\n",
    "    with torch.no_grad():\n",
    "        data = torch.from_numpy(np.vstack((xx.reshape(-1), yy.reshape(-1))).T).float()\n",
    "        Z = model(data).detach()\n",
    "    Z = np.argmax(Z, axis=1).reshape(xx.shape)\n",
    "    plt.contourf(xx, yy, Z, cmap=plt.cm.viridis, alpha=0.3)\n",
    "    plot_data(X, label)\n"
   ]
  },
  {
   "cell_type": "code",
   "execution_count": 5,
   "metadata": {},
   "outputs": [],
   "source": [
    "seed = 12345\n",
    "random.seed(seed)\n",
    "torch.manual_seed(seed)\n",
    "N = 500  # num_samples_per_class\n",
    "D = 2  # dimensions\n",
    "C = 3  # num_classes\n",
    "H = 100  # num_hidden_units"
   ]
  },
  {
   "cell_type": "code",
   "execution_count": 6,
   "metadata": {},
   "outputs": [
    {
     "name": "stdout",
     "output_type": "stream",
     "text": [
      "Shapes:\n",
      "X: (1500, 2)\n",
      "y: (1500,)\n"
     ]
    }
   ],
   "source": [
    "X = torch.zeros(N * C, D)\n",
    "y = torch.zeros(N * C, dtype=torch.long)\n",
    "for c in range(C):\n",
    "    index = 0\n",
    "    t = torch.linspace(0, 1, N)\n",
    "    # When c = 0 and t = 0: start of linspace\n",
    "    # When c = 0 and t = 1: end of linpace\n",
    "    # This inner_var is for the formula inside sin() and cos() like sin(inner_var) and cos(inner_Var)\n",
    "    inner_var = torch.linspace(\n",
    "        # When t = 0\n",
    "        (2 * math.pi / C) * (c),\n",
    "        # When t = 1\n",
    "        (2 * math.pi / C) * (2 + c),\n",
    "        N\n",
    "    ) + torch.randn(N) * 0.2\n",
    "    \n",
    "    for ix in range(N * c, N * (c + 1)):\n",
    "        X[ix] = t[index] * torch.FloatTensor((\n",
    "            math.sin(inner_var[index]), math.cos(inner_var[index])\n",
    "        ))\n",
    "        y[ix] = c\n",
    "        index += 1\n",
    "\n",
    "print(\"Shapes:\")\n",
    "print(\"X:\", tuple(X.size()))\n",
    "print(\"y:\", tuple(y.size()))"
   ]
  },
  {
   "cell_type": "code",
   "execution_count": 202,
   "metadata": {},
   "outputs": [
    {
     "data": {
      "application/javascript": [
       "/* Put everything inside the global mpl namespace */\n",
       "/* global mpl */\n",
       "window.mpl = {};\n",
       "\n",
       "mpl.get_websocket_type = function () {\n",
       "    if (typeof WebSocket !== 'undefined') {\n",
       "        return WebSocket;\n",
       "    } else if (typeof MozWebSocket !== 'undefined') {\n",
       "        return MozWebSocket;\n",
       "    } else {\n",
       "        alert(\n",
       "            'Your browser does not have WebSocket support. ' +\n",
       "                'Please try Chrome, Safari or Firefox ≥ 6. ' +\n",
       "                'Firefox 4 and 5 are also supported but you ' +\n",
       "                'have to enable WebSockets in about:config.'\n",
       "        );\n",
       "    }\n",
       "};\n",
       "\n",
       "mpl.figure = function (figure_id, websocket, ondownload, parent_element) {\n",
       "    this.id = figure_id;\n",
       "\n",
       "    this.ws = websocket;\n",
       "\n",
       "    this.supports_binary = this.ws.binaryType !== undefined;\n",
       "\n",
       "    if (!this.supports_binary) {\n",
       "        var warnings = document.getElementById('mpl-warnings');\n",
       "        if (warnings) {\n",
       "            warnings.style.display = 'block';\n",
       "            warnings.textContent =\n",
       "                'This browser does not support binary websocket messages. ' +\n",
       "                'Performance may be slow.';\n",
       "        }\n",
       "    }\n",
       "\n",
       "    this.imageObj = new Image();\n",
       "\n",
       "    this.context = undefined;\n",
       "    this.message = undefined;\n",
       "    this.canvas = undefined;\n",
       "    this.rubberband_canvas = undefined;\n",
       "    this.rubberband_context = undefined;\n",
       "    this.format_dropdown = undefined;\n",
       "\n",
       "    this.image_mode = 'full';\n",
       "\n",
       "    this.root = document.createElement('div');\n",
       "    this.root.setAttribute('style', 'display: inline-block');\n",
       "    this._root_extra_style(this.root);\n",
       "\n",
       "    parent_element.appendChild(this.root);\n",
       "\n",
       "    this._init_header(this);\n",
       "    this._init_canvas(this);\n",
       "    this._init_toolbar(this);\n",
       "\n",
       "    var fig = this;\n",
       "\n",
       "    this.waiting = false;\n",
       "\n",
       "    this.ws.onopen = function () {\n",
       "        fig.send_message('supports_binary', { value: fig.supports_binary });\n",
       "        fig.send_message('send_image_mode', {});\n",
       "        if (fig.ratio !== 1) {\n",
       "            fig.send_message('set_dpi_ratio', { dpi_ratio: fig.ratio });\n",
       "        }\n",
       "        fig.send_message('refresh', {});\n",
       "    };\n",
       "\n",
       "    this.imageObj.onload = function () {\n",
       "        if (fig.image_mode === 'full') {\n",
       "            // Full images could contain transparency (where diff images\n",
       "            // almost always do), so we need to clear the canvas so that\n",
       "            // there is no ghosting.\n",
       "            fig.context.clearRect(0, 0, fig.canvas.width, fig.canvas.height);\n",
       "        }\n",
       "        fig.context.drawImage(fig.imageObj, 0, 0);\n",
       "    };\n",
       "\n",
       "    this.imageObj.onunload = function () {\n",
       "        fig.ws.close();\n",
       "    };\n",
       "\n",
       "    this.ws.onmessage = this._make_on_message_function(this);\n",
       "\n",
       "    this.ondownload = ondownload;\n",
       "};\n",
       "\n",
       "mpl.figure.prototype._init_header = function () {\n",
       "    var titlebar = document.createElement('div');\n",
       "    titlebar.classList =\n",
       "        'ui-dialog-titlebar ui-widget-header ui-corner-all ui-helper-clearfix';\n",
       "    var titletext = document.createElement('div');\n",
       "    titletext.classList = 'ui-dialog-title';\n",
       "    titletext.setAttribute(\n",
       "        'style',\n",
       "        'width: 100%; text-align: center; padding: 3px;'\n",
       "    );\n",
       "    titlebar.appendChild(titletext);\n",
       "    this.root.appendChild(titlebar);\n",
       "    this.header = titletext;\n",
       "};\n",
       "\n",
       "mpl.figure.prototype._canvas_extra_style = function (_canvas_div) {};\n",
       "\n",
       "mpl.figure.prototype._root_extra_style = function (_canvas_div) {};\n",
       "\n",
       "mpl.figure.prototype._init_canvas = function () {\n",
       "    var fig = this;\n",
       "\n",
       "    var canvas_div = (this.canvas_div = document.createElement('div'));\n",
       "    canvas_div.setAttribute(\n",
       "        'style',\n",
       "        'border: 1px solid #ddd;' +\n",
       "            'box-sizing: content-box;' +\n",
       "            'clear: both;' +\n",
       "            'min-height: 1px;' +\n",
       "            'min-width: 1px;' +\n",
       "            'outline: 0;' +\n",
       "            'overflow: hidden;' +\n",
       "            'position: relative;' +\n",
       "            'resize: both;'\n",
       "    );\n",
       "\n",
       "    function on_keyboard_event_closure(name) {\n",
       "        return function (event) {\n",
       "            return fig.key_event(event, name);\n",
       "        };\n",
       "    }\n",
       "\n",
       "    canvas_div.addEventListener(\n",
       "        'keydown',\n",
       "        on_keyboard_event_closure('key_press')\n",
       "    );\n",
       "    canvas_div.addEventListener(\n",
       "        'keyup',\n",
       "        on_keyboard_event_closure('key_release')\n",
       "    );\n",
       "\n",
       "    this._canvas_extra_style(canvas_div);\n",
       "    this.root.appendChild(canvas_div);\n",
       "\n",
       "    var canvas = (this.canvas = document.createElement('canvas'));\n",
       "    canvas.classList.add('mpl-canvas');\n",
       "    canvas.setAttribute('style', 'box-sizing: content-box;');\n",
       "\n",
       "    this.context = canvas.getContext('2d');\n",
       "\n",
       "    var backingStore =\n",
       "        this.context.backingStorePixelRatio ||\n",
       "        this.context.webkitBackingStorePixelRatio ||\n",
       "        this.context.mozBackingStorePixelRatio ||\n",
       "        this.context.msBackingStorePixelRatio ||\n",
       "        this.context.oBackingStorePixelRatio ||\n",
       "        this.context.backingStorePixelRatio ||\n",
       "        1;\n",
       "\n",
       "    this.ratio = (window.devicePixelRatio || 1) / backingStore;\n",
       "    if (this.ratio !== 1) {\n",
       "        fig.send_message('set_dpi_ratio', { dpi_ratio: this.ratio });\n",
       "    }\n",
       "\n",
       "    var rubberband_canvas = (this.rubberband_canvas = document.createElement(\n",
       "        'canvas'\n",
       "    ));\n",
       "    rubberband_canvas.setAttribute(\n",
       "        'style',\n",
       "        'box-sizing: content-box; position: absolute; left: 0; top: 0; z-index: 1;'\n",
       "    );\n",
       "\n",
       "    var resizeObserver = new ResizeObserver(function (entries) {\n",
       "        var nentries = entries.length;\n",
       "        for (var i = 0; i < nentries; i++) {\n",
       "            var entry = entries[i];\n",
       "            var width, height;\n",
       "            if (entry.contentBoxSize) {\n",
       "                if (entry.contentBoxSize instanceof Array) {\n",
       "                    // Chrome 84 implements new version of spec.\n",
       "                    width = entry.contentBoxSize[0].inlineSize;\n",
       "                    height = entry.contentBoxSize[0].blockSize;\n",
       "                } else {\n",
       "                    // Firefox implements old version of spec.\n",
       "                    width = entry.contentBoxSize.inlineSize;\n",
       "                    height = entry.contentBoxSize.blockSize;\n",
       "                }\n",
       "            } else {\n",
       "                // Chrome <84 implements even older version of spec.\n",
       "                width = entry.contentRect.width;\n",
       "                height = entry.contentRect.height;\n",
       "            }\n",
       "\n",
       "            // Keep the size of the canvas and rubber band canvas in sync with\n",
       "            // the canvas container.\n",
       "            if (entry.devicePixelContentBoxSize) {\n",
       "                // Chrome 84 implements new version of spec.\n",
       "                canvas.setAttribute(\n",
       "                    'width',\n",
       "                    entry.devicePixelContentBoxSize[0].inlineSize\n",
       "                );\n",
       "                canvas.setAttribute(\n",
       "                    'height',\n",
       "                    entry.devicePixelContentBoxSize[0].blockSize\n",
       "                );\n",
       "            } else {\n",
       "                canvas.setAttribute('width', width * fig.ratio);\n",
       "                canvas.setAttribute('height', height * fig.ratio);\n",
       "            }\n",
       "            canvas.setAttribute(\n",
       "                'style',\n",
       "                'width: ' + width + 'px; height: ' + height + 'px;'\n",
       "            );\n",
       "\n",
       "            rubberband_canvas.setAttribute('width', width);\n",
       "            rubberband_canvas.setAttribute('height', height);\n",
       "\n",
       "            // And update the size in Python. We ignore the initial 0/0 size\n",
       "            // that occurs as the element is placed into the DOM, which should\n",
       "            // otherwise not happen due to the minimum size styling.\n",
       "            if (width != 0 && height != 0) {\n",
       "                fig.request_resize(width, height);\n",
       "            }\n",
       "        }\n",
       "    });\n",
       "    resizeObserver.observe(canvas_div);\n",
       "\n",
       "    function on_mouse_event_closure(name) {\n",
       "        return function (event) {\n",
       "            return fig.mouse_event(event, name);\n",
       "        };\n",
       "    }\n",
       "\n",
       "    rubberband_canvas.addEventListener(\n",
       "        'mousedown',\n",
       "        on_mouse_event_closure('button_press')\n",
       "    );\n",
       "    rubberband_canvas.addEventListener(\n",
       "        'mouseup',\n",
       "        on_mouse_event_closure('button_release')\n",
       "    );\n",
       "    // Throttle sequential mouse events to 1 every 20ms.\n",
       "    rubberband_canvas.addEventListener(\n",
       "        'mousemove',\n",
       "        on_mouse_event_closure('motion_notify')\n",
       "    );\n",
       "\n",
       "    rubberband_canvas.addEventListener(\n",
       "        'mouseenter',\n",
       "        on_mouse_event_closure('figure_enter')\n",
       "    );\n",
       "    rubberband_canvas.addEventListener(\n",
       "        'mouseleave',\n",
       "        on_mouse_event_closure('figure_leave')\n",
       "    );\n",
       "\n",
       "    canvas_div.addEventListener('wheel', function (event) {\n",
       "        if (event.deltaY < 0) {\n",
       "            event.step = 1;\n",
       "        } else {\n",
       "            event.step = -1;\n",
       "        }\n",
       "        on_mouse_event_closure('scroll')(event);\n",
       "    });\n",
       "\n",
       "    canvas_div.appendChild(canvas);\n",
       "    canvas_div.appendChild(rubberband_canvas);\n",
       "\n",
       "    this.rubberband_context = rubberband_canvas.getContext('2d');\n",
       "    this.rubberband_context.strokeStyle = '#000000';\n",
       "\n",
       "    this._resize_canvas = function (width, height, forward) {\n",
       "        if (forward) {\n",
       "            canvas_div.style.width = width + 'px';\n",
       "            canvas_div.style.height = height + 'px';\n",
       "        }\n",
       "    };\n",
       "\n",
       "    // Disable right mouse context menu.\n",
       "    this.rubberband_canvas.addEventListener('contextmenu', function (_e) {\n",
       "        event.preventDefault();\n",
       "        return false;\n",
       "    });\n",
       "\n",
       "    function set_focus() {\n",
       "        canvas.focus();\n",
       "        canvas_div.focus();\n",
       "    }\n",
       "\n",
       "    window.setTimeout(set_focus, 100);\n",
       "};\n",
       "\n",
       "mpl.figure.prototype._init_toolbar = function () {\n",
       "    var fig = this;\n",
       "\n",
       "    var toolbar = document.createElement('div');\n",
       "    toolbar.classList = 'mpl-toolbar';\n",
       "    this.root.appendChild(toolbar);\n",
       "\n",
       "    function on_click_closure(name) {\n",
       "        return function (_event) {\n",
       "            return fig.toolbar_button_onclick(name);\n",
       "        };\n",
       "    }\n",
       "\n",
       "    function on_mouseover_closure(tooltip) {\n",
       "        return function (event) {\n",
       "            if (!event.currentTarget.disabled) {\n",
       "                return fig.toolbar_button_onmouseover(tooltip);\n",
       "            }\n",
       "        };\n",
       "    }\n",
       "\n",
       "    fig.buttons = {};\n",
       "    var buttonGroup = document.createElement('div');\n",
       "    buttonGroup.classList = 'mpl-button-group';\n",
       "    for (var toolbar_ind in mpl.toolbar_items) {\n",
       "        var name = mpl.toolbar_items[toolbar_ind][0];\n",
       "        var tooltip = mpl.toolbar_items[toolbar_ind][1];\n",
       "        var image = mpl.toolbar_items[toolbar_ind][2];\n",
       "        var method_name = mpl.toolbar_items[toolbar_ind][3];\n",
       "\n",
       "        if (!name) {\n",
       "            /* Instead of a spacer, we start a new button group. */\n",
       "            if (buttonGroup.hasChildNodes()) {\n",
       "                toolbar.appendChild(buttonGroup);\n",
       "            }\n",
       "            buttonGroup = document.createElement('div');\n",
       "            buttonGroup.classList = 'mpl-button-group';\n",
       "            continue;\n",
       "        }\n",
       "\n",
       "        var button = (fig.buttons[name] = document.createElement('button'));\n",
       "        button.classList = 'mpl-widget';\n",
       "        button.setAttribute('role', 'button');\n",
       "        button.setAttribute('aria-disabled', 'false');\n",
       "        button.addEventListener('click', on_click_closure(method_name));\n",
       "        button.addEventListener('mouseover', on_mouseover_closure(tooltip));\n",
       "\n",
       "        var icon_img = document.createElement('img');\n",
       "        icon_img.src = '_images/' + image + '.png';\n",
       "        icon_img.srcset = '_images/' + image + '_large.png 2x';\n",
       "        icon_img.alt = tooltip;\n",
       "        button.appendChild(icon_img);\n",
       "\n",
       "        buttonGroup.appendChild(button);\n",
       "    }\n",
       "\n",
       "    if (buttonGroup.hasChildNodes()) {\n",
       "        toolbar.appendChild(buttonGroup);\n",
       "    }\n",
       "\n",
       "    var fmt_picker = document.createElement('select');\n",
       "    fmt_picker.classList = 'mpl-widget';\n",
       "    toolbar.appendChild(fmt_picker);\n",
       "    this.format_dropdown = fmt_picker;\n",
       "\n",
       "    for (var ind in mpl.extensions) {\n",
       "        var fmt = mpl.extensions[ind];\n",
       "        var option = document.createElement('option');\n",
       "        option.selected = fmt === mpl.default_extension;\n",
       "        option.innerHTML = fmt;\n",
       "        fmt_picker.appendChild(option);\n",
       "    }\n",
       "\n",
       "    var status_bar = document.createElement('span');\n",
       "    status_bar.classList = 'mpl-message';\n",
       "    toolbar.appendChild(status_bar);\n",
       "    this.message = status_bar;\n",
       "};\n",
       "\n",
       "mpl.figure.prototype.request_resize = function (x_pixels, y_pixels) {\n",
       "    // Request matplotlib to resize the figure. Matplotlib will then trigger a resize in the client,\n",
       "    // which will in turn request a refresh of the image.\n",
       "    this.send_message('resize', { width: x_pixels, height: y_pixels });\n",
       "};\n",
       "\n",
       "mpl.figure.prototype.send_message = function (type, properties) {\n",
       "    properties['type'] = type;\n",
       "    properties['figure_id'] = this.id;\n",
       "    this.ws.send(JSON.stringify(properties));\n",
       "};\n",
       "\n",
       "mpl.figure.prototype.send_draw_message = function () {\n",
       "    if (!this.waiting) {\n",
       "        this.waiting = true;\n",
       "        this.ws.send(JSON.stringify({ type: 'draw', figure_id: this.id }));\n",
       "    }\n",
       "};\n",
       "\n",
       "mpl.figure.prototype.handle_save = function (fig, _msg) {\n",
       "    var format_dropdown = fig.format_dropdown;\n",
       "    var format = format_dropdown.options[format_dropdown.selectedIndex].value;\n",
       "    fig.ondownload(fig, format);\n",
       "};\n",
       "\n",
       "mpl.figure.prototype.handle_resize = function (fig, msg) {\n",
       "    var size = msg['size'];\n",
       "    if (size[0] !== fig.canvas.width || size[1] !== fig.canvas.height) {\n",
       "        fig._resize_canvas(size[0], size[1], msg['forward']);\n",
       "        fig.send_message('refresh', {});\n",
       "    }\n",
       "};\n",
       "\n",
       "mpl.figure.prototype.handle_rubberband = function (fig, msg) {\n",
       "    var x0 = msg['x0'] / fig.ratio;\n",
       "    var y0 = (fig.canvas.height - msg['y0']) / fig.ratio;\n",
       "    var x1 = msg['x1'] / fig.ratio;\n",
       "    var y1 = (fig.canvas.height - msg['y1']) / fig.ratio;\n",
       "    x0 = Math.floor(x0) + 0.5;\n",
       "    y0 = Math.floor(y0) + 0.5;\n",
       "    x1 = Math.floor(x1) + 0.5;\n",
       "    y1 = Math.floor(y1) + 0.5;\n",
       "    var min_x = Math.min(x0, x1);\n",
       "    var min_y = Math.min(y0, y1);\n",
       "    var width = Math.abs(x1 - x0);\n",
       "    var height = Math.abs(y1 - y0);\n",
       "\n",
       "    fig.rubberband_context.clearRect(\n",
       "        0,\n",
       "        0,\n",
       "        fig.canvas.width / fig.ratio,\n",
       "        fig.canvas.height / fig.ratio\n",
       "    );\n",
       "\n",
       "    fig.rubberband_context.strokeRect(min_x, min_y, width, height);\n",
       "};\n",
       "\n",
       "mpl.figure.prototype.handle_figure_label = function (fig, msg) {\n",
       "    // Updates the figure title.\n",
       "    fig.header.textContent = msg['label'];\n",
       "};\n",
       "\n",
       "mpl.figure.prototype.handle_cursor = function (fig, msg) {\n",
       "    var cursor = msg['cursor'];\n",
       "    switch (cursor) {\n",
       "        case 0:\n",
       "            cursor = 'pointer';\n",
       "            break;\n",
       "        case 1:\n",
       "            cursor = 'default';\n",
       "            break;\n",
       "        case 2:\n",
       "            cursor = 'crosshair';\n",
       "            break;\n",
       "        case 3:\n",
       "            cursor = 'move';\n",
       "            break;\n",
       "    }\n",
       "    fig.rubberband_canvas.style.cursor = cursor;\n",
       "};\n",
       "\n",
       "mpl.figure.prototype.handle_message = function (fig, msg) {\n",
       "    fig.message.textContent = msg['message'];\n",
       "};\n",
       "\n",
       "mpl.figure.prototype.handle_draw = function (fig, _msg) {\n",
       "    // Request the server to send over a new figure.\n",
       "    fig.send_draw_message();\n",
       "};\n",
       "\n",
       "mpl.figure.prototype.handle_image_mode = function (fig, msg) {\n",
       "    fig.image_mode = msg['mode'];\n",
       "};\n",
       "\n",
       "mpl.figure.prototype.handle_history_buttons = function (fig, msg) {\n",
       "    for (var key in msg) {\n",
       "        if (!(key in fig.buttons)) {\n",
       "            continue;\n",
       "        }\n",
       "        fig.buttons[key].disabled = !msg[key];\n",
       "        fig.buttons[key].setAttribute('aria-disabled', !msg[key]);\n",
       "    }\n",
       "};\n",
       "\n",
       "mpl.figure.prototype.handle_navigate_mode = function (fig, msg) {\n",
       "    if (msg['mode'] === 'PAN') {\n",
       "        fig.buttons['Pan'].classList.add('active');\n",
       "        fig.buttons['Zoom'].classList.remove('active');\n",
       "    } else if (msg['mode'] === 'ZOOM') {\n",
       "        fig.buttons['Pan'].classList.remove('active');\n",
       "        fig.buttons['Zoom'].classList.add('active');\n",
       "    } else {\n",
       "        fig.buttons['Pan'].classList.remove('active');\n",
       "        fig.buttons['Zoom'].classList.remove('active');\n",
       "    }\n",
       "};\n",
       "\n",
       "mpl.figure.prototype.updated_canvas_event = function () {\n",
       "    // Called whenever the canvas gets updated.\n",
       "    this.send_message('ack', {});\n",
       "};\n",
       "\n",
       "// A function to construct a web socket function for onmessage handling.\n",
       "// Called in the figure constructor.\n",
       "mpl.figure.prototype._make_on_message_function = function (fig) {\n",
       "    return function socket_on_message(evt) {\n",
       "        if (evt.data instanceof Blob) {\n",
       "            /* FIXME: We get \"Resource interpreted as Image but\n",
       "             * transferred with MIME type text/plain:\" errors on\n",
       "             * Chrome.  But how to set the MIME type?  It doesn't seem\n",
       "             * to be part of the websocket stream */\n",
       "            evt.data.type = 'image/png';\n",
       "\n",
       "            /* Free the memory for the previous frames */\n",
       "            if (fig.imageObj.src) {\n",
       "                (window.URL || window.webkitURL).revokeObjectURL(\n",
       "                    fig.imageObj.src\n",
       "                );\n",
       "            }\n",
       "\n",
       "            fig.imageObj.src = (window.URL || window.webkitURL).createObjectURL(\n",
       "                evt.data\n",
       "            );\n",
       "            fig.updated_canvas_event();\n",
       "            fig.waiting = false;\n",
       "            return;\n",
       "        } else if (\n",
       "            typeof evt.data === 'string' &&\n",
       "            evt.data.slice(0, 21) === 'data:image/png;base64'\n",
       "        ) {\n",
       "            fig.imageObj.src = evt.data;\n",
       "            fig.updated_canvas_event();\n",
       "            fig.waiting = false;\n",
       "            return;\n",
       "        }\n",
       "\n",
       "        var msg = JSON.parse(evt.data);\n",
       "        var msg_type = msg['type'];\n",
       "\n",
       "        // Call the  \"handle_{type}\" callback, which takes\n",
       "        // the figure and JSON message as its only arguments.\n",
       "        try {\n",
       "            var callback = fig['handle_' + msg_type];\n",
       "        } catch (e) {\n",
       "            console.log(\n",
       "                \"No handler for the '\" + msg_type + \"' message type: \",\n",
       "                msg\n",
       "            );\n",
       "            return;\n",
       "        }\n",
       "\n",
       "        if (callback) {\n",
       "            try {\n",
       "                // console.log(\"Handling '\" + msg_type + \"' message: \", msg);\n",
       "                callback(fig, msg);\n",
       "            } catch (e) {\n",
       "                console.log(\n",
       "                    \"Exception inside the 'handler_\" + msg_type + \"' callback:\",\n",
       "                    e,\n",
       "                    e.stack,\n",
       "                    msg\n",
       "                );\n",
       "            }\n",
       "        }\n",
       "    };\n",
       "};\n",
       "\n",
       "// from http://stackoverflow.com/questions/1114465/getting-mouse-location-in-canvas\n",
       "mpl.findpos = function (e) {\n",
       "    //this section is from http://www.quirksmode.org/js/events_properties.html\n",
       "    var targ;\n",
       "    if (!e) {\n",
       "        e = window.event;\n",
       "    }\n",
       "    if (e.target) {\n",
       "        targ = e.target;\n",
       "    } else if (e.srcElement) {\n",
       "        targ = e.srcElement;\n",
       "    }\n",
       "    if (targ.nodeType === 3) {\n",
       "        // defeat Safari bug\n",
       "        targ = targ.parentNode;\n",
       "    }\n",
       "\n",
       "    // pageX,Y are the mouse positions relative to the document\n",
       "    var boundingRect = targ.getBoundingClientRect();\n",
       "    var x = e.pageX - (boundingRect.left + document.body.scrollLeft);\n",
       "    var y = e.pageY - (boundingRect.top + document.body.scrollTop);\n",
       "\n",
       "    return { x: x, y: y };\n",
       "};\n",
       "\n",
       "/*\n",
       " * return a copy of an object with only non-object keys\n",
       " * we need this to avoid circular references\n",
       " * http://stackoverflow.com/a/24161582/3208463\n",
       " */\n",
       "function simpleKeys(original) {\n",
       "    return Object.keys(original).reduce(function (obj, key) {\n",
       "        if (typeof original[key] !== 'object') {\n",
       "            obj[key] = original[key];\n",
       "        }\n",
       "        return obj;\n",
       "    }, {});\n",
       "}\n",
       "\n",
       "mpl.figure.prototype.mouse_event = function (event, name) {\n",
       "    var canvas_pos = mpl.findpos(event);\n",
       "\n",
       "    if (name === 'button_press') {\n",
       "        this.canvas.focus();\n",
       "        this.canvas_div.focus();\n",
       "    }\n",
       "\n",
       "    var x = canvas_pos.x * this.ratio;\n",
       "    var y = canvas_pos.y * this.ratio;\n",
       "\n",
       "    this.send_message(name, {\n",
       "        x: x,\n",
       "        y: y,\n",
       "        button: event.button,\n",
       "        step: event.step,\n",
       "        guiEvent: simpleKeys(event),\n",
       "    });\n",
       "\n",
       "    /* This prevents the web browser from automatically changing to\n",
       "     * the text insertion cursor when the button is pressed.  We want\n",
       "     * to control all of the cursor setting manually through the\n",
       "     * 'cursor' event from matplotlib */\n",
       "    event.preventDefault();\n",
       "    return false;\n",
       "};\n",
       "\n",
       "mpl.figure.prototype._key_event_extra = function (_event, _name) {\n",
       "    // Handle any extra behaviour associated with a key event\n",
       "};\n",
       "\n",
       "mpl.figure.prototype.key_event = function (event, name) {\n",
       "    // Prevent repeat events\n",
       "    if (name === 'key_press') {\n",
       "        if (event.which === this._key) {\n",
       "            return;\n",
       "        } else {\n",
       "            this._key = event.which;\n",
       "        }\n",
       "    }\n",
       "    if (name === 'key_release') {\n",
       "        this._key = null;\n",
       "    }\n",
       "\n",
       "    var value = '';\n",
       "    if (event.ctrlKey && event.which !== 17) {\n",
       "        value += 'ctrl+';\n",
       "    }\n",
       "    if (event.altKey && event.which !== 18) {\n",
       "        value += 'alt+';\n",
       "    }\n",
       "    if (event.shiftKey && event.which !== 16) {\n",
       "        value += 'shift+';\n",
       "    }\n",
       "\n",
       "    value += 'k';\n",
       "    value += event.which.toString();\n",
       "\n",
       "    this._key_event_extra(event, name);\n",
       "\n",
       "    this.send_message(name, { key: value, guiEvent: simpleKeys(event) });\n",
       "    return false;\n",
       "};\n",
       "\n",
       "mpl.figure.prototype.toolbar_button_onclick = function (name) {\n",
       "    if (name === 'download') {\n",
       "        this.handle_save(this, null);\n",
       "    } else {\n",
       "        this.send_message('toolbar_button', { name: name });\n",
       "    }\n",
       "};\n",
       "\n",
       "mpl.figure.prototype.toolbar_button_onmouseover = function (tooltip) {\n",
       "    this.message.textContent = tooltip;\n",
       "};\n",
       "mpl.toolbar_items = [[\"Home\", \"Reset original view\", \"fa fa-home icon-home\", \"home\"], [\"Back\", \"Back to previous view\", \"fa fa-arrow-left icon-arrow-left\", \"back\"], [\"Forward\", \"Forward to next view\", \"fa fa-arrow-right icon-arrow-right\", \"forward\"], [\"\", \"\", \"\", \"\"], [\"Pan\", \"Left button pans, Right button zooms\\nx/y fixes axis, CTRL fixes aspect\", \"fa fa-arrows icon-move\", \"pan\"], [\"Zoom\", \"Zoom to rectangle\\nx/y fixes axis, CTRL fixes aspect\", \"fa fa-square-o icon-check-empty\", \"zoom\"], [\"\", \"\", \"\", \"\"], [\"Download\", \"Download plot\", \"fa fa-floppy-o icon-save\", \"download\"]];\n",
       "\n",
       "mpl.extensions = [\"eps\", \"jpeg\", \"pdf\", \"png\", \"ps\", \"raw\", \"svg\", \"tif\"];\n",
       "\n",
       "mpl.default_extension = \"png\";/* global mpl */\n",
       "\n",
       "var comm_websocket_adapter = function (comm) {\n",
       "    // Create a \"websocket\"-like object which calls the given IPython comm\n",
       "    // object with the appropriate methods. Currently this is a non binary\n",
       "    // socket, so there is still some room for performance tuning.\n",
       "    var ws = {};\n",
       "\n",
       "    ws.close = function () {\n",
       "        comm.close();\n",
       "    };\n",
       "    ws.send = function (m) {\n",
       "        //console.log('sending', m);\n",
       "        comm.send(m);\n",
       "    };\n",
       "    // Register the callback with on_msg.\n",
       "    comm.on_msg(function (msg) {\n",
       "        //console.log('receiving', msg['content']['data'], msg);\n",
       "        // Pass the mpl event to the overridden (by mpl) onmessage function.\n",
       "        ws.onmessage(msg['content']['data']);\n",
       "    });\n",
       "    return ws;\n",
       "};\n",
       "\n",
       "mpl.mpl_figure_comm = function (comm, msg) {\n",
       "    // This is the function which gets called when the mpl process\n",
       "    // starts-up an IPython Comm through the \"matplotlib\" channel.\n",
       "\n",
       "    var id = msg.content.data.id;\n",
       "    // Get hold of the div created by the display call when the Comm\n",
       "    // socket was opened in Python.\n",
       "    var element = document.getElementById(id);\n",
       "    var ws_proxy = comm_websocket_adapter(comm);\n",
       "\n",
       "    function ondownload(figure, _format) {\n",
       "        window.open(figure.canvas.toDataURL());\n",
       "    }\n",
       "\n",
       "    var fig = new mpl.figure(id, ws_proxy, ondownload, element);\n",
       "\n",
       "    // Call onopen now - mpl needs it, as it is assuming we've passed it a real\n",
       "    // web socket which is closed, not our websocket->open comm proxy.\n",
       "    ws_proxy.onopen();\n",
       "\n",
       "    fig.parent_element = element;\n",
       "    fig.cell_info = mpl.find_output_cell(\"<div id='\" + id + \"'></div>\");\n",
       "    if (!fig.cell_info) {\n",
       "        console.error('Failed to find cell for figure', id, fig);\n",
       "        return;\n",
       "    }\n",
       "    fig.cell_info[0].output_area.element.one(\n",
       "        'cleared',\n",
       "        { fig: fig },\n",
       "        fig._remove_fig_handler\n",
       "    );\n",
       "};\n",
       "\n",
       "mpl.figure.prototype.handle_close = function (fig, msg) {\n",
       "    var width = fig.canvas.width / fig.ratio;\n",
       "    fig.cell_info[0].output_area.element.off(\n",
       "        'cleared',\n",
       "        fig._remove_fig_handler\n",
       "    );\n",
       "\n",
       "    // Update the output cell to use the data from the current canvas.\n",
       "    fig.push_to_output();\n",
       "    var dataURL = fig.canvas.toDataURL();\n",
       "    // Re-enable the keyboard manager in IPython - without this line, in FF,\n",
       "    // the notebook keyboard shortcuts fail.\n",
       "    IPython.keyboard_manager.enable();\n",
       "    fig.parent_element.innerHTML =\n",
       "        '<img src=\"' + dataURL + '\" width=\"' + width + '\">';\n",
       "    fig.close_ws(fig, msg);\n",
       "};\n",
       "\n",
       "mpl.figure.prototype.close_ws = function (fig, msg) {\n",
       "    fig.send_message('closing', msg);\n",
       "    // fig.ws.close()\n",
       "};\n",
       "\n",
       "mpl.figure.prototype.push_to_output = function (_remove_interactive) {\n",
       "    // Turn the data on the canvas into data in the output cell.\n",
       "    var width = this.canvas.width / this.ratio;\n",
       "    var dataURL = this.canvas.toDataURL();\n",
       "    this.cell_info[1]['text/html'] =\n",
       "        '<img src=\"' + dataURL + '\" width=\"' + width + '\">';\n",
       "};\n",
       "\n",
       "mpl.figure.prototype.updated_canvas_event = function () {\n",
       "    // Tell IPython that the notebook contents must change.\n",
       "    IPython.notebook.set_dirty(true);\n",
       "    this.send_message('ack', {});\n",
       "    var fig = this;\n",
       "    // Wait a second, then push the new image to the DOM so\n",
       "    // that it is saved nicely (might be nice to debounce this).\n",
       "    setTimeout(function () {\n",
       "        fig.push_to_output();\n",
       "    }, 1000);\n",
       "};\n",
       "\n",
       "mpl.figure.prototype._init_toolbar = function () {\n",
       "    var fig = this;\n",
       "\n",
       "    var toolbar = document.createElement('div');\n",
       "    toolbar.classList = 'btn-toolbar';\n",
       "    this.root.appendChild(toolbar);\n",
       "\n",
       "    function on_click_closure(name) {\n",
       "        return function (_event) {\n",
       "            return fig.toolbar_button_onclick(name);\n",
       "        };\n",
       "    }\n",
       "\n",
       "    function on_mouseover_closure(tooltip) {\n",
       "        return function (event) {\n",
       "            if (!event.currentTarget.disabled) {\n",
       "                return fig.toolbar_button_onmouseover(tooltip);\n",
       "            }\n",
       "        };\n",
       "    }\n",
       "\n",
       "    fig.buttons = {};\n",
       "    var buttonGroup = document.createElement('div');\n",
       "    buttonGroup.classList = 'btn-group';\n",
       "    var button;\n",
       "    for (var toolbar_ind in mpl.toolbar_items) {\n",
       "        var name = mpl.toolbar_items[toolbar_ind][0];\n",
       "        var tooltip = mpl.toolbar_items[toolbar_ind][1];\n",
       "        var image = mpl.toolbar_items[toolbar_ind][2];\n",
       "        var method_name = mpl.toolbar_items[toolbar_ind][3];\n",
       "\n",
       "        if (!name) {\n",
       "            /* Instead of a spacer, we start a new button group. */\n",
       "            if (buttonGroup.hasChildNodes()) {\n",
       "                toolbar.appendChild(buttonGroup);\n",
       "            }\n",
       "            buttonGroup = document.createElement('div');\n",
       "            buttonGroup.classList = 'btn-group';\n",
       "            continue;\n",
       "        }\n",
       "\n",
       "        button = fig.buttons[name] = document.createElement('button');\n",
       "        button.classList = 'btn btn-default';\n",
       "        button.href = '#';\n",
       "        button.title = name;\n",
       "        button.innerHTML = '<i class=\"fa ' + image + ' fa-lg\"></i>';\n",
       "        button.addEventListener('click', on_click_closure(method_name));\n",
       "        button.addEventListener('mouseover', on_mouseover_closure(tooltip));\n",
       "        buttonGroup.appendChild(button);\n",
       "    }\n",
       "\n",
       "    if (buttonGroup.hasChildNodes()) {\n",
       "        toolbar.appendChild(buttonGroup);\n",
       "    }\n",
       "\n",
       "    // Add the status bar.\n",
       "    var status_bar = document.createElement('span');\n",
       "    status_bar.classList = 'mpl-message pull-right';\n",
       "    toolbar.appendChild(status_bar);\n",
       "    this.message = status_bar;\n",
       "\n",
       "    // Add the close button to the window.\n",
       "    var buttongrp = document.createElement('div');\n",
       "    buttongrp.classList = 'btn-group inline pull-right';\n",
       "    button = document.createElement('button');\n",
       "    button.classList = 'btn btn-mini btn-primary';\n",
       "    button.href = '#';\n",
       "    button.title = 'Stop Interaction';\n",
       "    button.innerHTML = '<i class=\"fa fa-power-off icon-remove icon-large\"></i>';\n",
       "    button.addEventListener('click', function (_evt) {\n",
       "        fig.handle_close(fig, {});\n",
       "    });\n",
       "    button.addEventListener(\n",
       "        'mouseover',\n",
       "        on_mouseover_closure('Stop Interaction')\n",
       "    );\n",
       "    buttongrp.appendChild(button);\n",
       "    var titlebar = this.root.querySelector('.ui-dialog-titlebar');\n",
       "    titlebar.insertBefore(buttongrp, titlebar.firstChild);\n",
       "};\n",
       "\n",
       "mpl.figure.prototype._remove_fig_handler = function (event) {\n",
       "    var fig = event.data.fig;\n",
       "    fig.close_ws(fig, {});\n",
       "};\n",
       "\n",
       "mpl.figure.prototype._root_extra_style = function (el) {\n",
       "    el.style.boxSizing = 'content-box'; // override notebook setting of border-box.\n",
       "};\n",
       "\n",
       "mpl.figure.prototype._canvas_extra_style = function (el) {\n",
       "    // this is important to make the div 'focusable\n",
       "    el.setAttribute('tabindex', 0);\n",
       "    // reach out to IPython and tell the keyboard manager to turn it's self\n",
       "    // off when our div gets focus\n",
       "\n",
       "    // location in version 3\n",
       "    if (IPython.notebook.keyboard_manager) {\n",
       "        IPython.notebook.keyboard_manager.register_events(el);\n",
       "    } else {\n",
       "        // location in version 2\n",
       "        IPython.keyboard_manager.register_events(el);\n",
       "    }\n",
       "};\n",
       "\n",
       "mpl.figure.prototype._key_event_extra = function (event, _name) {\n",
       "    var manager = IPython.notebook.keyboard_manager;\n",
       "    if (!manager) {\n",
       "        manager = IPython.keyboard_manager;\n",
       "    }\n",
       "\n",
       "    // Check for shift+enter\n",
       "    if (event.shiftKey && event.which === 13) {\n",
       "        this.canvas_div.blur();\n",
       "        // select the cell after this one\n",
       "        var index = IPython.notebook.find_cell_index(this.cell_info[0]);\n",
       "        IPython.notebook.select(index + 1);\n",
       "    }\n",
       "};\n",
       "\n",
       "mpl.figure.prototype.handle_save = function (fig, _msg) {\n",
       "    fig.ondownload(fig, null);\n",
       "};\n",
       "\n",
       "mpl.find_output_cell = function (html_output) {\n",
       "    // Return the cell and output element which can be found *uniquely* in the notebook.\n",
       "    // Note - this is a bit hacky, but it is done because the \"notebook_saving.Notebook\"\n",
       "    // IPython event is triggered only after the cells have been serialised, which for\n",
       "    // our purposes (turning an active figure into a static one), is too late.\n",
       "    var cells = IPython.notebook.get_cells();\n",
       "    var ncells = cells.length;\n",
       "    for (var i = 0; i < ncells; i++) {\n",
       "        var cell = cells[i];\n",
       "        if (cell.cell_type === 'code') {\n",
       "            for (var j = 0; j < cell.output_area.outputs.length; j++) {\n",
       "                var data = cell.output_area.outputs[j];\n",
       "                if (data.data) {\n",
       "                    // IPython >= 3 moved mimebundle to data attribute of output\n",
       "                    data = data.data;\n",
       "                }\n",
       "                if (data['text/html'] === html_output) {\n",
       "                    return [cell, data, j];\n",
       "                }\n",
       "            }\n",
       "        }\n",
       "    }\n",
       "};\n",
       "\n",
       "// Register the function which deals with the matplotlib target/channel.\n",
       "// The kernel may be null if the page has been refreshed.\n",
       "if (IPython.notebook.kernel !== null) {\n",
       "    IPython.notebook.kernel.comm_manager.register_target(\n",
       "        'matplotlib',\n",
       "        mpl.mpl_figure_comm\n",
       "    );\n",
       "}\n"
      ],
      "text/plain": [
       "<IPython.core.display.Javascript object>"
      ]
     },
     "metadata": {},
     "output_type": "display_data"
    },
    {
     "data": {
      "text/html": [
       "<img src=\"data:image/png;base64,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\" width=\"538.8889031645696\">"
      ],
      "text/plain": [
       "<IPython.core.display.HTML object>"
      ]
     },
     "metadata": {},
     "output_type": "display_data"
    }
   ],
   "source": [
    "fig, ax = plt.subplots(figsize=(6,6))\n",
    "# ax.scatter(X[:, 0], X[:, 1], c=y, label=[1])\n",
    "# ax.grid()\n",
    "\n",
    "plot_2d_embedding(X, \n",
    "                  y, \n",
    "                  ax=ax, xlim=[-1.5, 1.5], \n",
    "                  ylim=[-1.5, 1.5],\n",
    "                  n_classes=C, kde=False)"
   ]
  },
  {
   "cell_type": "code",
   "execution_count": 13,
   "metadata": {},
   "outputs": [
    {
     "data": {
      "text/plain": [
       "tensor([4.2066, 4.2509, 3.9746, 4.2020, 4.6229, 4.4869, 3.9969, 4.5041, 4.2877,\n",
       "        4.4112, 4.1591, 4.7082, 4.4062, 4.7293, 4.5810, 4.1721, 4.2772, 4.3189,\n",
       "        4.3667, 4.3472, 4.3938, 4.5108, 4.1764, 4.6285, 4.4970, 4.0826, 4.5068,\n",
       "        4.4262, 4.3664, 4.5596, 4.4611, 4.7257, 4.3695, 4.6570, 4.6338, 4.6500,\n",
       "        4.2194, 4.3940, 4.6843, 4.7517, 4.2672, 4.7333, 4.5429, 4.6983, 4.7872,\n",
       "        4.4924, 4.7749, 4.7431, 4.6892, 4.7448, 4.6666, 4.4949, 4.5035, 4.6156,\n",
       "        5.0183, 4.6175, 4.7280, 4.2281, 4.8279, 4.7334, 4.5748, 4.6200, 4.6425,\n",
       "        4.8275, 4.9141, 5.0863, 4.9273, 5.1106, 4.4877, 4.8276, 4.7514, 4.8635,\n",
       "        5.0407, 4.7417, 4.4152, 4.8623, 5.1456, 4.4428, 4.9184, 4.6787, 5.1001,\n",
       "        4.8387, 4.4178, 4.6353, 5.0015, 4.6981, 4.7494, 5.1541, 4.9120, 4.9361,\n",
       "        5.0131, 4.6721, 5.1861, 4.8857, 4.6137, 4.9988, 4.8726, 5.1163, 5.2344,\n",
       "        5.3342, 5.2886, 5.1665, 4.9500, 4.8966, 5.1365, 4.9586, 4.7812, 4.9738,\n",
       "        5.0906, 5.4161, 5.0730, 5.1702, 5.1962, 5.1116, 5.3064, 4.8706, 5.3094,\n",
       "        5.3559, 5.0865, 5.1273, 4.9174, 5.3627, 5.2344, 5.3480, 5.0849, 5.6329,\n",
       "        5.0161, 5.1043, 5.4234, 5.1708, 5.0863, 5.1501, 5.2738, 5.2861, 5.4492,\n",
       "        5.3548, 5.5979, 5.2201, 5.0009, 5.6434, 4.9506, 5.3704, 5.5145, 5.3073,\n",
       "        5.4249, 5.5150, 5.4385, 5.7357, 5.2373, 5.7168, 5.9369, 5.2970, 5.0664,\n",
       "        5.6145, 5.6750, 5.2369, 5.4408, 5.5142, 5.8532, 5.4688, 5.4144, 5.5432,\n",
       "        5.6269, 5.3874, 5.8159, 5.4193, 5.5693, 5.7032, 5.4868, 5.5043, 5.3841,\n",
       "        5.6332, 5.4452, 5.6402, 5.8289, 5.6471, 5.9188, 5.6113, 5.6965, 5.7360,\n",
       "        5.8257, 5.6650, 5.6195, 5.7679, 5.7518, 5.8676, 5.9874, 5.7100, 6.1787,\n",
       "        5.7817, 6.0298, 5.9534, 5.7909, 6.1132, 5.5741, 5.5855, 5.9718, 5.7937,\n",
       "        5.6487, 5.9016, 6.1158, 5.6856, 5.7984, 5.9301, 5.8135, 5.8119, 6.1006,\n",
       "        5.4017, 5.7432, 5.7548, 5.5820, 5.9985, 5.9455, 6.2304, 5.7616, 6.0888,\n",
       "        6.0967, 6.0439, 5.8083, 5.7451, 5.7901, 5.8156, 6.0958, 6.0787, 6.6299,\n",
       "        6.3035, 6.2485, 5.7933, 6.3663, 5.9218, 6.2972, 6.2089, 5.9448, 6.2061,\n",
       "        6.4050, 6.2703, 6.4726, 5.9839, 6.4285, 5.8686, 6.1116, 5.7572, 6.2898,\n",
       "        6.3686, 6.2129, 6.3047, 6.3131, 6.4637, 6.4142, 6.3947, 6.3777, 6.5203,\n",
       "        6.2235, 6.6078, 6.1359, 5.6893, 6.4782, 6.4796, 6.2875, 6.2476, 6.5411,\n",
       "        6.4404, 6.5831, 6.7063, 6.1816, 6.2955, 6.1435, 6.3631, 6.4171, 6.2639,\n",
       "        6.2205, 6.6417, 6.5197, 6.3070, 6.3591, 6.5745, 6.2775, 6.7138, 6.4707,\n",
       "        6.4746, 6.6225, 6.7715, 6.7521, 6.6189, 6.0856, 6.7623, 6.5719, 6.5025,\n",
       "        6.7954, 6.6974, 6.6784, 6.6020, 6.4817, 6.8030, 6.7872, 6.9790, 6.5466,\n",
       "        6.8708, 6.8043, 6.7039, 7.0592, 6.9005, 6.8374, 6.7748, 6.8967, 6.9363,\n",
       "        6.9791, 6.5116, 6.7566, 6.8361, 6.4339, 6.8593, 6.7353, 6.6644, 7.1598,\n",
       "        7.2772, 6.7866, 6.7404, 6.6162, 6.7158, 6.8853, 6.9461, 6.8823, 6.8900,\n",
       "        6.6612, 6.9828, 6.7494, 6.8739, 6.8683, 7.0614, 7.0289, 6.9829, 6.9701,\n",
       "        7.1476, 6.7000, 7.0527, 6.7494, 6.7676, 7.2556, 7.1263, 7.0063, 6.9111,\n",
       "        7.2219, 7.0496, 7.0555, 7.0924, 7.1855, 7.3106, 7.1509, 7.1657, 7.3402,\n",
       "        7.7220, 7.2244, 7.1646, 7.3156, 7.2432, 7.3543, 7.1496, 7.1404, 7.3798,\n",
       "        7.5238, 7.1252, 7.1124, 7.2514, 7.1040, 7.2912, 7.1130, 7.5174, 7.2461,\n",
       "        7.0646, 7.0863, 7.1177, 7.5565, 7.9349, 7.5651, 7.2032, 7.6535, 7.6208,\n",
       "        7.3123, 7.2250, 7.2771, 7.4761, 7.2973, 7.4289, 7.2725, 7.6542, 7.5534,\n",
       "        7.3675, 7.8425, 7.1608, 7.5579, 7.7462, 7.2482, 7.1095, 7.4508, 7.3124,\n",
       "        7.7534, 7.5897, 7.6851, 7.0867, 7.6260, 7.6461, 7.6464, 7.6186, 7.8766,\n",
       "        7.3876, 7.6326, 7.4696, 7.4676, 7.9098, 7.4181, 7.5046, 7.4328, 7.3872,\n",
       "        7.8428, 7.9558, 7.7071, 7.6807, 7.9329, 7.4228, 7.7202, 7.8973, 7.7634,\n",
       "        7.7246, 7.8286, 7.7148, 7.6946, 7.9366, 7.9090, 7.7021, 7.7400, 7.6204,\n",
       "        7.7940, 8.2159, 7.8681, 7.6121, 8.1506, 7.9033, 7.9668, 7.9748, 7.8453,\n",
       "        7.8677, 7.7234, 8.0770, 8.1080, 7.7844, 8.2347, 8.1962, 8.0581, 7.6369,\n",
       "        7.9973, 8.3570, 8.0755, 7.7864, 7.9701, 8.3335, 7.8761, 7.7332, 8.3773,\n",
       "        8.1722, 8.0795, 7.9260, 7.9637, 7.8152, 8.1340, 8.3697, 7.9264, 7.7214,\n",
       "        7.7564, 7.8758, 7.8584, 8.1536, 8.1101, 8.2228, 7.9485, 7.9827, 8.3733,\n",
       "        8.1613, 8.1412, 8.4576, 8.4597, 8.1191, 8.3559, 8.1762, 8.1444, 8.6404,\n",
       "        7.9502, 8.2675, 8.4616, 7.9644, 8.1836, 8.1322, 8.6502, 8.1140, 8.1929,\n",
       "        8.6661, 8.1940, 8.0105, 8.2725, 8.6264])"
      ]
     },
     "execution_count": 13,
     "metadata": {},
     "output_type": "execute_result"
    }
   ],
   "source": [
    "inner_var"
   ]
  },
  {
   "cell_type": "code",
   "execution_count": 14,
   "metadata": {
    "scrolled": false
   },
   "outputs": [],
   "source": [
    "# fig, ax = plt.subplots(figsize=(6,6))\n",
    "# plt.plot([math.pow(v1,2)+math.pow(v2,2)+math.asin(v1)+math.asin(v1)+math.asin(v2)+math.asin(v2) for v1,v2 in zip(X[:,0], X[:,1])])"
   ]
  },
  {
   "cell_type": "code",
   "execution_count": 15,
   "metadata": {},
   "outputs": [],
   "source": [
    "class SpiralDataset(Dataset):\n",
    "    def __init__(self, X, y, n_neg=100):\n",
    "        self.X = X\n",
    "        self.labels = y\n",
    "\n",
    "    def __getitem__(self, index):\n",
    "        x = self.X[index, :]\n",
    "        target = self.labels[index]\n",
    "        return x, target\n",
    "\n",
    "    def __len__(self):\n",
    "        return len(self.labels)\n",
    "    \n",
    "ds = SpiralDataset(X.numpy(), y.numpy())"
   ]
  },
  {
   "cell_type": "code",
   "execution_count": 27,
   "metadata": {},
   "outputs": [
    {
     "name": "stdout",
     "output_type": "stream",
     "text": [
      "torch.Size([128, 2]) torch.Size([128])\n",
      "torch.Size([768, 2]) torch.Size([768])\n"
     ]
    }
   ],
   "source": [
    "train_loader = DataLoader(ds, \n",
    "                         batch_size=dict_args[\"batch_size\"], \n",
    "                         shuffle=False)\n",
    "\n",
    "for batch_idx, (data, target) in enumerate(train_loader):\n",
    "    print(data.shape, target.shape)\n",
    "    break\n",
    "\n",
    "train_batch_sampler = BalancedBatchSampler(ds, n_classes=C, n_samples=256)\n",
    "online_train_loader = DataLoader(ds, batch_sampler=train_batch_sampler)\n",
    "\n",
    "for batch_idx, (data, target) in enumerate(online_train_loader):\n",
    "    print(data.shape, target.shape)\n",
    "    break"
   ]
  },
  {
   "cell_type": "code",
   "execution_count": 208,
   "metadata": {},
   "outputs": [],
   "source": [
    "# Select negative point when ap_distance + margin > an_distance \n",
    "loss_fn = OnlineNonLinearTripletLoss(MarginallyHardNegativeTripletSelector(dict_args[\"margin\"]),\n",
    "                                     max_dist=2,\n",
    "                                     beta1=2,\n",
    "                                     beta2=2.01,\n",
    "                                     epsilon=1e-8)\n",
    "\n",
    "# loss_fn = OnlineNonLinearTripletLoss(HardestNegativeTripletSelector(dict_args[\"margin\"]),\n",
    "#                                      max_dist=2,\n",
    "#                                      beta1=2,\n",
    "#                                      beta2=2.01,\n",
    "#                                      epsilon=1e-8)\n",
    "\n",
    "# loss_fn = OnlineNonLinearTripletLoss(RandomNegativeTripletSelector(dict_args[\"margin\"]),\n",
    "#                                      max_dist=2,\n",
    "#                                      beta1=2,\n",
    "#                                      beta2=2.01,\n",
    "#                                      epsilon=1e-8)\n"
   ]
  },
  {
   "cell_type": "code",
   "execution_count": 43,
   "metadata": {},
   "outputs": [],
   "source": [
    "import numpy as np\n",
    "import torch\n",
    "import torch.nn as nn\n",
    "from torch.nn.utils import weight_norm\n",
    "from torch.nn.init import xavier_uniform_\n",
    "import torch.nn.functional as F\n",
    "\n",
    "def clamp_by_norm(t, p=2, dim=1, max_norm=1.0):\n",
    "    t_norm = t.norm(p=p, dim=dim, keepdim=True)\n",
    "    clip_coef = max_norm / t_norm\n",
    "    t_max_norm = torch.Tensor([max_norm])\n",
    "    if clip_coef.is_cuda:\n",
    "        t_max_norm = t_max_norm.cuda()\n",
    "    clip_coef = torch.min(clip_coef, t_max_norm)\n",
    "    return t.mul(clip_coef.expand_as(t))\n",
    "\n",
    "class RBF(nn.Module):\n",
    "    \"\"\"\n",
    "    Transforms incoming data using a given radial basis function:\n",
    "    u_{i} = rbf(||x - c_{i}|| / s_{i})\n",
    "    Arguments:\n",
    "        in_features: size of each input sample\n",
    "        out_features: size of each output sample\n",
    "    Shape:\n",
    "        - Input: (N, in_features) where N is an arbitrary batch size\n",
    "        - Output: (N, out_features) where N is an arbitrary batch size\n",
    "    Attributes:\n",
    "        centres: the learnable centres of shape (out_features, in_features).\n",
    "            The values are initialised from a standard normal distribution.\n",
    "            Normalising inputs to have mean 0 and standard deviation 1 is\n",
    "            recommended.\n",
    "        \n",
    "        sigmas: the learnable scaling factors of shape (out_features).\n",
    "            The values are initialised as ones.\n",
    "        \n",
    "        basis_func: the radial basis function used to transform the scaled\n",
    "            distances.\n",
    "    \"\"\"\n",
    "\n",
    "    def __init__(self, in_features, out_features, basis_func):\n",
    "        super(RBF, self).__init__()\n",
    "        self.in_features = in_features\n",
    "        self.out_features = out_features\n",
    "        self.centres = nn.Parameter(torch.Tensor(out_features, in_features))\n",
    "        self.sigmas = nn.Parameter(torch.Tensor(out_features))\n",
    "        self.basis_func = basis_func\n",
    "        self.reset_parameters()\n",
    "\n",
    "    def reset_parameters(self):\n",
    "        nn.init.normal_(self.centres, 0, 1)\n",
    "        nn.init.constant_(self.sigmas, 1)\n",
    "\n",
    "    def forward(self, input):\n",
    "        size = (input.size(0), self.out_features, self.in_features)\n",
    "#         print(size)\n",
    "        x = input.unsqueeze(1).expand(size)\n",
    "#         print(x.shape)\n",
    "        c = self.centres.unsqueeze(0).expand(size)\n",
    "        distances = (x - c).pow(2).sum(-1).pow(0.5) * self.sigmas.unsqueeze(0)\n",
    "#         print(\"distances\", distances.shape)\n",
    "        return self.basis_func(distances)\n",
    "\n",
    "# RBFs\n",
    "\n",
    "def gaussian(alpha):\n",
    "    phi = torch.exp(-1*alpha.pow(2))\n",
    "    return phi\n",
    "\n",
    "def linear(alpha):\n",
    "    phi = alpha\n",
    "    return phi\n",
    "\n",
    "def quadratic(alpha):\n",
    "    phi = alpha.pow(2)\n",
    "    return phi\n",
    "\n",
    "class NormClampEmbeddingNet(nn.Module):\n",
    "    def __init__(self, \n",
    "                 p=2):\n",
    "        super(NormClampEmbeddingNet, self).__init__()\n",
    "                \n",
    "        self.fc1 = nn.Sequential(\n",
    "            nn.Linear(D, 20),\n",
    "            nn.Dropout(0.1),\n",
    "            nn.ReLU(),\n",
    "            nn.Linear(20, 20),\n",
    "            nn.Dropout(0.1),\n",
    "            nn.ReLU(),\n",
    "        )\n",
    "        self.fc2 = nn.Sequential(\n",
    "            RBF(D, 20, gaussian),\n",
    "            nn.Linear(20, 20),\n",
    "            nn.Dropout(0.1),\n",
    "            RBF(20, 20, gaussian)\n",
    "        )\n",
    "        self.fc3 = nn.Sequential(\n",
    "            nn.Linear(D, 20),\n",
    "            nn.Dropout(0.1),\n",
    "            nn.Tanh(),\n",
    "            nn.Linear(20, 20),\n",
    "            nn.Dropout(0.1),\n",
    "            nn.Tanh(),\n",
    "        )\n",
    "        self.fc4 = nn.Sequential(\n",
    "            nn.Linear(60, 60),\n",
    "            nn.Dropout(0.1),\n",
    "            nn.ReLU(),\n",
    "            nn.Linear(60, D),\n",
    "            nn.Dropout(0.1),\n",
    "        )\n",
    "        \n",
    "        self.p = p\n",
    "#         self.init_weights()\n",
    "    \n",
    "#     def init_weights(self):\n",
    "#         for linear in self.linears:\n",
    "#             xavier_uniform_(linear.weight.data)\n",
    "        \n",
    "    def forward(self, x):\n",
    "        out1 = self.fc1(x)\n",
    "#         print(out1.shape)\n",
    "        out2 = self.fc2(x)\n",
    "        out3 = self.fc3(x)\n",
    "#         print(out2.shape)\n",
    "        out = torch.cat((out1,out2,out3), 1)\n",
    "#         print(out.shape)\n",
    "        out = self.fc4(out)\n",
    "        # constrain embedding within unit norm\n",
    "        out = clamp_by_norm(out, p=self.p, dim=1, max_norm=1.0)\n",
    "        return out\n",
    "\n",
    "    def get_embedding(self, x):\n",
    "        return self.forward(x)\n",
    "    \n",
    "model = NormClampEmbeddingNet()"
   ]
  },
  {
   "cell_type": "code",
   "execution_count": 87,
   "metadata": {},
   "outputs": [
    {
     "data": {
      "text/plain": [
       "Adam (\n",
       "Parameter Group 0\n",
       "    amsgrad: False\n",
       "    betas: (0.9, 0.999)\n",
       "    eps: 1e-08\n",
       "    lr: 0.001\n",
       "    weight_decay: 0\n",
       ")"
      ]
     },
     "execution_count": 87,
     "metadata": {},
     "output_type": "execute_result"
    }
   ],
   "source": [
    "optimizer = getattr(torch.optim, dict_args[\"optimizer\"])(model.parameters(), lr=1e-3, weight_decay=0)\n",
    "optimizer"
   ]
  },
  {
   "cell_type": "code",
   "execution_count": 204,
   "metadata": {},
   "outputs": [
    {
     "data": {
      "application/javascript": [
       "/* Put everything inside the global mpl namespace */\n",
       "/* global mpl */\n",
       "window.mpl = {};\n",
       "\n",
       "mpl.get_websocket_type = function () {\n",
       "    if (typeof WebSocket !== 'undefined') {\n",
       "        return WebSocket;\n",
       "    } else if (typeof MozWebSocket !== 'undefined') {\n",
       "        return MozWebSocket;\n",
       "    } else {\n",
       "        alert(\n",
       "            'Your browser does not have WebSocket support. ' +\n",
       "                'Please try Chrome, Safari or Firefox ≥ 6. ' +\n",
       "                'Firefox 4 and 5 are also supported but you ' +\n",
       "                'have to enable WebSockets in about:config.'\n",
       "        );\n",
       "    }\n",
       "};\n",
       "\n",
       "mpl.figure = function (figure_id, websocket, ondownload, parent_element) {\n",
       "    this.id = figure_id;\n",
       "\n",
       "    this.ws = websocket;\n",
       "\n",
       "    this.supports_binary = this.ws.binaryType !== undefined;\n",
       "\n",
       "    if (!this.supports_binary) {\n",
       "        var warnings = document.getElementById('mpl-warnings');\n",
       "        if (warnings) {\n",
       "            warnings.style.display = 'block';\n",
       "            warnings.textContent =\n",
       "                'This browser does not support binary websocket messages. ' +\n",
       "                'Performance may be slow.';\n",
       "        }\n",
       "    }\n",
       "\n",
       "    this.imageObj = new Image();\n",
       "\n",
       "    this.context = undefined;\n",
       "    this.message = undefined;\n",
       "    this.canvas = undefined;\n",
       "    this.rubberband_canvas = undefined;\n",
       "    this.rubberband_context = undefined;\n",
       "    this.format_dropdown = undefined;\n",
       "\n",
       "    this.image_mode = 'full';\n",
       "\n",
       "    this.root = document.createElement('div');\n",
       "    this.root.setAttribute('style', 'display: inline-block');\n",
       "    this._root_extra_style(this.root);\n",
       "\n",
       "    parent_element.appendChild(this.root);\n",
       "\n",
       "    this._init_header(this);\n",
       "    this._init_canvas(this);\n",
       "    this._init_toolbar(this);\n",
       "\n",
       "    var fig = this;\n",
       "\n",
       "    this.waiting = false;\n",
       "\n",
       "    this.ws.onopen = function () {\n",
       "        fig.send_message('supports_binary', { value: fig.supports_binary });\n",
       "        fig.send_message('send_image_mode', {});\n",
       "        if (fig.ratio !== 1) {\n",
       "            fig.send_message('set_dpi_ratio', { dpi_ratio: fig.ratio });\n",
       "        }\n",
       "        fig.send_message('refresh', {});\n",
       "    };\n",
       "\n",
       "    this.imageObj.onload = function () {\n",
       "        if (fig.image_mode === 'full') {\n",
       "            // Full images could contain transparency (where diff images\n",
       "            // almost always do), so we need to clear the canvas so that\n",
       "            // there is no ghosting.\n",
       "            fig.context.clearRect(0, 0, fig.canvas.width, fig.canvas.height);\n",
       "        }\n",
       "        fig.context.drawImage(fig.imageObj, 0, 0);\n",
       "    };\n",
       "\n",
       "    this.imageObj.onunload = function () {\n",
       "        fig.ws.close();\n",
       "    };\n",
       "\n",
       "    this.ws.onmessage = this._make_on_message_function(this);\n",
       "\n",
       "    this.ondownload = ondownload;\n",
       "};\n",
       "\n",
       "mpl.figure.prototype._init_header = function () {\n",
       "    var titlebar = document.createElement('div');\n",
       "    titlebar.classList =\n",
       "        'ui-dialog-titlebar ui-widget-header ui-corner-all ui-helper-clearfix';\n",
       "    var titletext = document.createElement('div');\n",
       "    titletext.classList = 'ui-dialog-title';\n",
       "    titletext.setAttribute(\n",
       "        'style',\n",
       "        'width: 100%; text-align: center; padding: 3px;'\n",
       "    );\n",
       "    titlebar.appendChild(titletext);\n",
       "    this.root.appendChild(titlebar);\n",
       "    this.header = titletext;\n",
       "};\n",
       "\n",
       "mpl.figure.prototype._canvas_extra_style = function (_canvas_div) {};\n",
       "\n",
       "mpl.figure.prototype._root_extra_style = function (_canvas_div) {};\n",
       "\n",
       "mpl.figure.prototype._init_canvas = function () {\n",
       "    var fig = this;\n",
       "\n",
       "    var canvas_div = (this.canvas_div = document.createElement('div'));\n",
       "    canvas_div.setAttribute(\n",
       "        'style',\n",
       "        'border: 1px solid #ddd;' +\n",
       "            'box-sizing: content-box;' +\n",
       "            'clear: both;' +\n",
       "            'min-height: 1px;' +\n",
       "            'min-width: 1px;' +\n",
       "            'outline: 0;' +\n",
       "            'overflow: hidden;' +\n",
       "            'position: relative;' +\n",
       "            'resize: both;'\n",
       "    );\n",
       "\n",
       "    function on_keyboard_event_closure(name) {\n",
       "        return function (event) {\n",
       "            return fig.key_event(event, name);\n",
       "        };\n",
       "    }\n",
       "\n",
       "    canvas_div.addEventListener(\n",
       "        'keydown',\n",
       "        on_keyboard_event_closure('key_press')\n",
       "    );\n",
       "    canvas_div.addEventListener(\n",
       "        'keyup',\n",
       "        on_keyboard_event_closure('key_release')\n",
       "    );\n",
       "\n",
       "    this._canvas_extra_style(canvas_div);\n",
       "    this.root.appendChild(canvas_div);\n",
       "\n",
       "    var canvas = (this.canvas = document.createElement('canvas'));\n",
       "    canvas.classList.add('mpl-canvas');\n",
       "    canvas.setAttribute('style', 'box-sizing: content-box;');\n",
       "\n",
       "    this.context = canvas.getContext('2d');\n",
       "\n",
       "    var backingStore =\n",
       "        this.context.backingStorePixelRatio ||\n",
       "        this.context.webkitBackingStorePixelRatio ||\n",
       "        this.context.mozBackingStorePixelRatio ||\n",
       "        this.context.msBackingStorePixelRatio ||\n",
       "        this.context.oBackingStorePixelRatio ||\n",
       "        this.context.backingStorePixelRatio ||\n",
       "        1;\n",
       "\n",
       "    this.ratio = (window.devicePixelRatio || 1) / backingStore;\n",
       "    if (this.ratio !== 1) {\n",
       "        fig.send_message('set_dpi_ratio', { dpi_ratio: this.ratio });\n",
       "    }\n",
       "\n",
       "    var rubberband_canvas = (this.rubberband_canvas = document.createElement(\n",
       "        'canvas'\n",
       "    ));\n",
       "    rubberband_canvas.setAttribute(\n",
       "        'style',\n",
       "        'box-sizing: content-box; position: absolute; left: 0; top: 0; z-index: 1;'\n",
       "    );\n",
       "\n",
       "    var resizeObserver = new ResizeObserver(function (entries) {\n",
       "        var nentries = entries.length;\n",
       "        for (var i = 0; i < nentries; i++) {\n",
       "            var entry = entries[i];\n",
       "            var width, height;\n",
       "            if (entry.contentBoxSize) {\n",
       "                if (entry.contentBoxSize instanceof Array) {\n",
       "                    // Chrome 84 implements new version of spec.\n",
       "                    width = entry.contentBoxSize[0].inlineSize;\n",
       "                    height = entry.contentBoxSize[0].blockSize;\n",
       "                } else {\n",
       "                    // Firefox implements old version of spec.\n",
       "                    width = entry.contentBoxSize.inlineSize;\n",
       "                    height = entry.contentBoxSize.blockSize;\n",
       "                }\n",
       "            } else {\n",
       "                // Chrome <84 implements even older version of spec.\n",
       "                width = entry.contentRect.width;\n",
       "                height = entry.contentRect.height;\n",
       "            }\n",
       "\n",
       "            // Keep the size of the canvas and rubber band canvas in sync with\n",
       "            // the canvas container.\n",
       "            if (entry.devicePixelContentBoxSize) {\n",
       "                // Chrome 84 implements new version of spec.\n",
       "                canvas.setAttribute(\n",
       "                    'width',\n",
       "                    entry.devicePixelContentBoxSize[0].inlineSize\n",
       "                );\n",
       "                canvas.setAttribute(\n",
       "                    'height',\n",
       "                    entry.devicePixelContentBoxSize[0].blockSize\n",
       "                );\n",
       "            } else {\n",
       "                canvas.setAttribute('width', width * fig.ratio);\n",
       "                canvas.setAttribute('height', height * fig.ratio);\n",
       "            }\n",
       "            canvas.setAttribute(\n",
       "                'style',\n",
       "                'width: ' + width + 'px; height: ' + height + 'px;'\n",
       "            );\n",
       "\n",
       "            rubberband_canvas.setAttribute('width', width);\n",
       "            rubberband_canvas.setAttribute('height', height);\n",
       "\n",
       "            // And update the size in Python. We ignore the initial 0/0 size\n",
       "            // that occurs as the element is placed into the DOM, which should\n",
       "            // otherwise not happen due to the minimum size styling.\n",
       "            if (width != 0 && height != 0) {\n",
       "                fig.request_resize(width, height);\n",
       "            }\n",
       "        }\n",
       "    });\n",
       "    resizeObserver.observe(canvas_div);\n",
       "\n",
       "    function on_mouse_event_closure(name) {\n",
       "        return function (event) {\n",
       "            return fig.mouse_event(event, name);\n",
       "        };\n",
       "    }\n",
       "\n",
       "    rubberband_canvas.addEventListener(\n",
       "        'mousedown',\n",
       "        on_mouse_event_closure('button_press')\n",
       "    );\n",
       "    rubberband_canvas.addEventListener(\n",
       "        'mouseup',\n",
       "        on_mouse_event_closure('button_release')\n",
       "    );\n",
       "    // Throttle sequential mouse events to 1 every 20ms.\n",
       "    rubberband_canvas.addEventListener(\n",
       "        'mousemove',\n",
       "        on_mouse_event_closure('motion_notify')\n",
       "    );\n",
       "\n",
       "    rubberband_canvas.addEventListener(\n",
       "        'mouseenter',\n",
       "        on_mouse_event_closure('figure_enter')\n",
       "    );\n",
       "    rubberband_canvas.addEventListener(\n",
       "        'mouseleave',\n",
       "        on_mouse_event_closure('figure_leave')\n",
       "    );\n",
       "\n",
       "    canvas_div.addEventListener('wheel', function (event) {\n",
       "        if (event.deltaY < 0) {\n",
       "            event.step = 1;\n",
       "        } else {\n",
       "            event.step = -1;\n",
       "        }\n",
       "        on_mouse_event_closure('scroll')(event);\n",
       "    });\n",
       "\n",
       "    canvas_div.appendChild(canvas);\n",
       "    canvas_div.appendChild(rubberband_canvas);\n",
       "\n",
       "    this.rubberband_context = rubberband_canvas.getContext('2d');\n",
       "    this.rubberband_context.strokeStyle = '#000000';\n",
       "\n",
       "    this._resize_canvas = function (width, height, forward) {\n",
       "        if (forward) {\n",
       "            canvas_div.style.width = width + 'px';\n",
       "            canvas_div.style.height = height + 'px';\n",
       "        }\n",
       "    };\n",
       "\n",
       "    // Disable right mouse context menu.\n",
       "    this.rubberband_canvas.addEventListener('contextmenu', function (_e) {\n",
       "        event.preventDefault();\n",
       "        return false;\n",
       "    });\n",
       "\n",
       "    function set_focus() {\n",
       "        canvas.focus();\n",
       "        canvas_div.focus();\n",
       "    }\n",
       "\n",
       "    window.setTimeout(set_focus, 100);\n",
       "};\n",
       "\n",
       "mpl.figure.prototype._init_toolbar = function () {\n",
       "    var fig = this;\n",
       "\n",
       "    var toolbar = document.createElement('div');\n",
       "    toolbar.classList = 'mpl-toolbar';\n",
       "    this.root.appendChild(toolbar);\n",
       "\n",
       "    function on_click_closure(name) {\n",
       "        return function (_event) {\n",
       "            return fig.toolbar_button_onclick(name);\n",
       "        };\n",
       "    }\n",
       "\n",
       "    function on_mouseover_closure(tooltip) {\n",
       "        return function (event) {\n",
       "            if (!event.currentTarget.disabled) {\n",
       "                return fig.toolbar_button_onmouseover(tooltip);\n",
       "            }\n",
       "        };\n",
       "    }\n",
       "\n",
       "    fig.buttons = {};\n",
       "    var buttonGroup = document.createElement('div');\n",
       "    buttonGroup.classList = 'mpl-button-group';\n",
       "    for (var toolbar_ind in mpl.toolbar_items) {\n",
       "        var name = mpl.toolbar_items[toolbar_ind][0];\n",
       "        var tooltip = mpl.toolbar_items[toolbar_ind][1];\n",
       "        var image = mpl.toolbar_items[toolbar_ind][2];\n",
       "        var method_name = mpl.toolbar_items[toolbar_ind][3];\n",
       "\n",
       "        if (!name) {\n",
       "            /* Instead of a spacer, we start a new button group. */\n",
       "            if (buttonGroup.hasChildNodes()) {\n",
       "                toolbar.appendChild(buttonGroup);\n",
       "            }\n",
       "            buttonGroup = document.createElement('div');\n",
       "            buttonGroup.classList = 'mpl-button-group';\n",
       "            continue;\n",
       "        }\n",
       "\n",
       "        var button = (fig.buttons[name] = document.createElement('button'));\n",
       "        button.classList = 'mpl-widget';\n",
       "        button.setAttribute('role', 'button');\n",
       "        button.setAttribute('aria-disabled', 'false');\n",
       "        button.addEventListener('click', on_click_closure(method_name));\n",
       "        button.addEventListener('mouseover', on_mouseover_closure(tooltip));\n",
       "\n",
       "        var icon_img = document.createElement('img');\n",
       "        icon_img.src = '_images/' + image + '.png';\n",
       "        icon_img.srcset = '_images/' + image + '_large.png 2x';\n",
       "        icon_img.alt = tooltip;\n",
       "        button.appendChild(icon_img);\n",
       "\n",
       "        buttonGroup.appendChild(button);\n",
       "    }\n",
       "\n",
       "    if (buttonGroup.hasChildNodes()) {\n",
       "        toolbar.appendChild(buttonGroup);\n",
       "    }\n",
       "\n",
       "    var fmt_picker = document.createElement('select');\n",
       "    fmt_picker.classList = 'mpl-widget';\n",
       "    toolbar.appendChild(fmt_picker);\n",
       "    this.format_dropdown = fmt_picker;\n",
       "\n",
       "    for (var ind in mpl.extensions) {\n",
       "        var fmt = mpl.extensions[ind];\n",
       "        var option = document.createElement('option');\n",
       "        option.selected = fmt === mpl.default_extension;\n",
       "        option.innerHTML = fmt;\n",
       "        fmt_picker.appendChild(option);\n",
       "    }\n",
       "\n",
       "    var status_bar = document.createElement('span');\n",
       "    status_bar.classList = 'mpl-message';\n",
       "    toolbar.appendChild(status_bar);\n",
       "    this.message = status_bar;\n",
       "};\n",
       "\n",
       "mpl.figure.prototype.request_resize = function (x_pixels, y_pixels) {\n",
       "    // Request matplotlib to resize the figure. Matplotlib will then trigger a resize in the client,\n",
       "    // which will in turn request a refresh of the image.\n",
       "    this.send_message('resize', { width: x_pixels, height: y_pixels });\n",
       "};\n",
       "\n",
       "mpl.figure.prototype.send_message = function (type, properties) {\n",
       "    properties['type'] = type;\n",
       "    properties['figure_id'] = this.id;\n",
       "    this.ws.send(JSON.stringify(properties));\n",
       "};\n",
       "\n",
       "mpl.figure.prototype.send_draw_message = function () {\n",
       "    if (!this.waiting) {\n",
       "        this.waiting = true;\n",
       "        this.ws.send(JSON.stringify({ type: 'draw', figure_id: this.id }));\n",
       "    }\n",
       "};\n",
       "\n",
       "mpl.figure.prototype.handle_save = function (fig, _msg) {\n",
       "    var format_dropdown = fig.format_dropdown;\n",
       "    var format = format_dropdown.options[format_dropdown.selectedIndex].value;\n",
       "    fig.ondownload(fig, format);\n",
       "};\n",
       "\n",
       "mpl.figure.prototype.handle_resize = function (fig, msg) {\n",
       "    var size = msg['size'];\n",
       "    if (size[0] !== fig.canvas.width || size[1] !== fig.canvas.height) {\n",
       "        fig._resize_canvas(size[0], size[1], msg['forward']);\n",
       "        fig.send_message('refresh', {});\n",
       "    }\n",
       "};\n",
       "\n",
       "mpl.figure.prototype.handle_rubberband = function (fig, msg) {\n",
       "    var x0 = msg['x0'] / fig.ratio;\n",
       "    var y0 = (fig.canvas.height - msg['y0']) / fig.ratio;\n",
       "    var x1 = msg['x1'] / fig.ratio;\n",
       "    var y1 = (fig.canvas.height - msg['y1']) / fig.ratio;\n",
       "    x0 = Math.floor(x0) + 0.5;\n",
       "    y0 = Math.floor(y0) + 0.5;\n",
       "    x1 = Math.floor(x1) + 0.5;\n",
       "    y1 = Math.floor(y1) + 0.5;\n",
       "    var min_x = Math.min(x0, x1);\n",
       "    var min_y = Math.min(y0, y1);\n",
       "    var width = Math.abs(x1 - x0);\n",
       "    var height = Math.abs(y1 - y0);\n",
       "\n",
       "    fig.rubberband_context.clearRect(\n",
       "        0,\n",
       "        0,\n",
       "        fig.canvas.width / fig.ratio,\n",
       "        fig.canvas.height / fig.ratio\n",
       "    );\n",
       "\n",
       "    fig.rubberband_context.strokeRect(min_x, min_y, width, height);\n",
       "};\n",
       "\n",
       "mpl.figure.prototype.handle_figure_label = function (fig, msg) {\n",
       "    // Updates the figure title.\n",
       "    fig.header.textContent = msg['label'];\n",
       "};\n",
       "\n",
       "mpl.figure.prototype.handle_cursor = function (fig, msg) {\n",
       "    var cursor = msg['cursor'];\n",
       "    switch (cursor) {\n",
       "        case 0:\n",
       "            cursor = 'pointer';\n",
       "            break;\n",
       "        case 1:\n",
       "            cursor = 'default';\n",
       "            break;\n",
       "        case 2:\n",
       "            cursor = 'crosshair';\n",
       "            break;\n",
       "        case 3:\n",
       "            cursor = 'move';\n",
       "            break;\n",
       "    }\n",
       "    fig.rubberband_canvas.style.cursor = cursor;\n",
       "};\n",
       "\n",
       "mpl.figure.prototype.handle_message = function (fig, msg) {\n",
       "    fig.message.textContent = msg['message'];\n",
       "};\n",
       "\n",
       "mpl.figure.prototype.handle_draw = function (fig, _msg) {\n",
       "    // Request the server to send over a new figure.\n",
       "    fig.send_draw_message();\n",
       "};\n",
       "\n",
       "mpl.figure.prototype.handle_image_mode = function (fig, msg) {\n",
       "    fig.image_mode = msg['mode'];\n",
       "};\n",
       "\n",
       "mpl.figure.prototype.handle_history_buttons = function (fig, msg) {\n",
       "    for (var key in msg) {\n",
       "        if (!(key in fig.buttons)) {\n",
       "            continue;\n",
       "        }\n",
       "        fig.buttons[key].disabled = !msg[key];\n",
       "        fig.buttons[key].setAttribute('aria-disabled', !msg[key]);\n",
       "    }\n",
       "};\n",
       "\n",
       "mpl.figure.prototype.handle_navigate_mode = function (fig, msg) {\n",
       "    if (msg['mode'] === 'PAN') {\n",
       "        fig.buttons['Pan'].classList.add('active');\n",
       "        fig.buttons['Zoom'].classList.remove('active');\n",
       "    } else if (msg['mode'] === 'ZOOM') {\n",
       "        fig.buttons['Pan'].classList.remove('active');\n",
       "        fig.buttons['Zoom'].classList.add('active');\n",
       "    } else {\n",
       "        fig.buttons['Pan'].classList.remove('active');\n",
       "        fig.buttons['Zoom'].classList.remove('active');\n",
       "    }\n",
       "};\n",
       "\n",
       "mpl.figure.prototype.updated_canvas_event = function () {\n",
       "    // Called whenever the canvas gets updated.\n",
       "    this.send_message('ack', {});\n",
       "};\n",
       "\n",
       "// A function to construct a web socket function for onmessage handling.\n",
       "// Called in the figure constructor.\n",
       "mpl.figure.prototype._make_on_message_function = function (fig) {\n",
       "    return function socket_on_message(evt) {\n",
       "        if (evt.data instanceof Blob) {\n",
       "            /* FIXME: We get \"Resource interpreted as Image but\n",
       "             * transferred with MIME type text/plain:\" errors on\n",
       "             * Chrome.  But how to set the MIME type?  It doesn't seem\n",
       "             * to be part of the websocket stream */\n",
       "            evt.data.type = 'image/png';\n",
       "\n",
       "            /* Free the memory for the previous frames */\n",
       "            if (fig.imageObj.src) {\n",
       "                (window.URL || window.webkitURL).revokeObjectURL(\n",
       "                    fig.imageObj.src\n",
       "                );\n",
       "            }\n",
       "\n",
       "            fig.imageObj.src = (window.URL || window.webkitURL).createObjectURL(\n",
       "                evt.data\n",
       "            );\n",
       "            fig.updated_canvas_event();\n",
       "            fig.waiting = false;\n",
       "            return;\n",
       "        } else if (\n",
       "            typeof evt.data === 'string' &&\n",
       "            evt.data.slice(0, 21) === 'data:image/png;base64'\n",
       "        ) {\n",
       "            fig.imageObj.src = evt.data;\n",
       "            fig.updated_canvas_event();\n",
       "            fig.waiting = false;\n",
       "            return;\n",
       "        }\n",
       "\n",
       "        var msg = JSON.parse(evt.data);\n",
       "        var msg_type = msg['type'];\n",
       "\n",
       "        // Call the  \"handle_{type}\" callback, which takes\n",
       "        // the figure and JSON message as its only arguments.\n",
       "        try {\n",
       "            var callback = fig['handle_' + msg_type];\n",
       "        } catch (e) {\n",
       "            console.log(\n",
       "                \"No handler for the '\" + msg_type + \"' message type: \",\n",
       "                msg\n",
       "            );\n",
       "            return;\n",
       "        }\n",
       "\n",
       "        if (callback) {\n",
       "            try {\n",
       "                // console.log(\"Handling '\" + msg_type + \"' message: \", msg);\n",
       "                callback(fig, msg);\n",
       "            } catch (e) {\n",
       "                console.log(\n",
       "                    \"Exception inside the 'handler_\" + msg_type + \"' callback:\",\n",
       "                    e,\n",
       "                    e.stack,\n",
       "                    msg\n",
       "                );\n",
       "            }\n",
       "        }\n",
       "    };\n",
       "};\n",
       "\n",
       "// from http://stackoverflow.com/questions/1114465/getting-mouse-location-in-canvas\n",
       "mpl.findpos = function (e) {\n",
       "    //this section is from http://www.quirksmode.org/js/events_properties.html\n",
       "    var targ;\n",
       "    if (!e) {\n",
       "        e = window.event;\n",
       "    }\n",
       "    if (e.target) {\n",
       "        targ = e.target;\n",
       "    } else if (e.srcElement) {\n",
       "        targ = e.srcElement;\n",
       "    }\n",
       "    if (targ.nodeType === 3) {\n",
       "        // defeat Safari bug\n",
       "        targ = targ.parentNode;\n",
       "    }\n",
       "\n",
       "    // pageX,Y are the mouse positions relative to the document\n",
       "    var boundingRect = targ.getBoundingClientRect();\n",
       "    var x = e.pageX - (boundingRect.left + document.body.scrollLeft);\n",
       "    var y = e.pageY - (boundingRect.top + document.body.scrollTop);\n",
       "\n",
       "    return { x: x, y: y };\n",
       "};\n",
       "\n",
       "/*\n",
       " * return a copy of an object with only non-object keys\n",
       " * we need this to avoid circular references\n",
       " * http://stackoverflow.com/a/24161582/3208463\n",
       " */\n",
       "function simpleKeys(original) {\n",
       "    return Object.keys(original).reduce(function (obj, key) {\n",
       "        if (typeof original[key] !== 'object') {\n",
       "            obj[key] = original[key];\n",
       "        }\n",
       "        return obj;\n",
       "    }, {});\n",
       "}\n",
       "\n",
       "mpl.figure.prototype.mouse_event = function (event, name) {\n",
       "    var canvas_pos = mpl.findpos(event);\n",
       "\n",
       "    if (name === 'button_press') {\n",
       "        this.canvas.focus();\n",
       "        this.canvas_div.focus();\n",
       "    }\n",
       "\n",
       "    var x = canvas_pos.x * this.ratio;\n",
       "    var y = canvas_pos.y * this.ratio;\n",
       "\n",
       "    this.send_message(name, {\n",
       "        x: x,\n",
       "        y: y,\n",
       "        button: event.button,\n",
       "        step: event.step,\n",
       "        guiEvent: simpleKeys(event),\n",
       "    });\n",
       "\n",
       "    /* This prevents the web browser from automatically changing to\n",
       "     * the text insertion cursor when the button is pressed.  We want\n",
       "     * to control all of the cursor setting manually through the\n",
       "     * 'cursor' event from matplotlib */\n",
       "    event.preventDefault();\n",
       "    return false;\n",
       "};\n",
       "\n",
       "mpl.figure.prototype._key_event_extra = function (_event, _name) {\n",
       "    // Handle any extra behaviour associated with a key event\n",
       "};\n",
       "\n",
       "mpl.figure.prototype.key_event = function (event, name) {\n",
       "    // Prevent repeat events\n",
       "    if (name === 'key_press') {\n",
       "        if (event.which === this._key) {\n",
       "            return;\n",
       "        } else {\n",
       "            this._key = event.which;\n",
       "        }\n",
       "    }\n",
       "    if (name === 'key_release') {\n",
       "        this._key = null;\n",
       "    }\n",
       "\n",
       "    var value = '';\n",
       "    if (event.ctrlKey && event.which !== 17) {\n",
       "        value += 'ctrl+';\n",
       "    }\n",
       "    if (event.altKey && event.which !== 18) {\n",
       "        value += 'alt+';\n",
       "    }\n",
       "    if (event.shiftKey && event.which !== 16) {\n",
       "        value += 'shift+';\n",
       "    }\n",
       "\n",
       "    value += 'k';\n",
       "    value += event.which.toString();\n",
       "\n",
       "    this._key_event_extra(event, name);\n",
       "\n",
       "    this.send_message(name, { key: value, guiEvent: simpleKeys(event) });\n",
       "    return false;\n",
       "};\n",
       "\n",
       "mpl.figure.prototype.toolbar_button_onclick = function (name) {\n",
       "    if (name === 'download') {\n",
       "        this.handle_save(this, null);\n",
       "    } else {\n",
       "        this.send_message('toolbar_button', { name: name });\n",
       "    }\n",
       "};\n",
       "\n",
       "mpl.figure.prototype.toolbar_button_onmouseover = function (tooltip) {\n",
       "    this.message.textContent = tooltip;\n",
       "};\n",
       "mpl.toolbar_items = [[\"Home\", \"Reset original view\", \"fa fa-home icon-home\", \"home\"], [\"Back\", \"Back to previous view\", \"fa fa-arrow-left icon-arrow-left\", \"back\"], [\"Forward\", \"Forward to next view\", \"fa fa-arrow-right icon-arrow-right\", \"forward\"], [\"\", \"\", \"\", \"\"], [\"Pan\", \"Left button pans, Right button zooms\\nx/y fixes axis, CTRL fixes aspect\", \"fa fa-arrows icon-move\", \"pan\"], [\"Zoom\", \"Zoom to rectangle\\nx/y fixes axis, CTRL fixes aspect\", \"fa fa-square-o icon-check-empty\", \"zoom\"], [\"\", \"\", \"\", \"\"], [\"Download\", \"Download plot\", \"fa fa-floppy-o icon-save\", \"download\"]];\n",
       "\n",
       "mpl.extensions = [\"eps\", \"jpeg\", \"pdf\", \"png\", \"ps\", \"raw\", \"svg\", \"tif\"];\n",
       "\n",
       "mpl.default_extension = \"png\";/* global mpl */\n",
       "\n",
       "var comm_websocket_adapter = function (comm) {\n",
       "    // Create a \"websocket\"-like object which calls the given IPython comm\n",
       "    // object with the appropriate methods. Currently this is a non binary\n",
       "    // socket, so there is still some room for performance tuning.\n",
       "    var ws = {};\n",
       "\n",
       "    ws.close = function () {\n",
       "        comm.close();\n",
       "    };\n",
       "    ws.send = function (m) {\n",
       "        //console.log('sending', m);\n",
       "        comm.send(m);\n",
       "    };\n",
       "    // Register the callback with on_msg.\n",
       "    comm.on_msg(function (msg) {\n",
       "        //console.log('receiving', msg['content']['data'], msg);\n",
       "        // Pass the mpl event to the overridden (by mpl) onmessage function.\n",
       "        ws.onmessage(msg['content']['data']);\n",
       "    });\n",
       "    return ws;\n",
       "};\n",
       "\n",
       "mpl.mpl_figure_comm = function (comm, msg) {\n",
       "    // This is the function which gets called when the mpl process\n",
       "    // starts-up an IPython Comm through the \"matplotlib\" channel.\n",
       "\n",
       "    var id = msg.content.data.id;\n",
       "    // Get hold of the div created by the display call when the Comm\n",
       "    // socket was opened in Python.\n",
       "    var element = document.getElementById(id);\n",
       "    var ws_proxy = comm_websocket_adapter(comm);\n",
       "\n",
       "    function ondownload(figure, _format) {\n",
       "        window.open(figure.canvas.toDataURL());\n",
       "    }\n",
       "\n",
       "    var fig = new mpl.figure(id, ws_proxy, ondownload, element);\n",
       "\n",
       "    // Call onopen now - mpl needs it, as it is assuming we've passed it a real\n",
       "    // web socket which is closed, not our websocket->open comm proxy.\n",
       "    ws_proxy.onopen();\n",
       "\n",
       "    fig.parent_element = element;\n",
       "    fig.cell_info = mpl.find_output_cell(\"<div id='\" + id + \"'></div>\");\n",
       "    if (!fig.cell_info) {\n",
       "        console.error('Failed to find cell for figure', id, fig);\n",
       "        return;\n",
       "    }\n",
       "    fig.cell_info[0].output_area.element.one(\n",
       "        'cleared',\n",
       "        { fig: fig },\n",
       "        fig._remove_fig_handler\n",
       "    );\n",
       "};\n",
       "\n",
       "mpl.figure.prototype.handle_close = function (fig, msg) {\n",
       "    var width = fig.canvas.width / fig.ratio;\n",
       "    fig.cell_info[0].output_area.element.off(\n",
       "        'cleared',\n",
       "        fig._remove_fig_handler\n",
       "    );\n",
       "\n",
       "    // Update the output cell to use the data from the current canvas.\n",
       "    fig.push_to_output();\n",
       "    var dataURL = fig.canvas.toDataURL();\n",
       "    // Re-enable the keyboard manager in IPython - without this line, in FF,\n",
       "    // the notebook keyboard shortcuts fail.\n",
       "    IPython.keyboard_manager.enable();\n",
       "    fig.parent_element.innerHTML =\n",
       "        '<img src=\"' + dataURL + '\" width=\"' + width + '\">';\n",
       "    fig.close_ws(fig, msg);\n",
       "};\n",
       "\n",
       "mpl.figure.prototype.close_ws = function (fig, msg) {\n",
       "    fig.send_message('closing', msg);\n",
       "    // fig.ws.close()\n",
       "};\n",
       "\n",
       "mpl.figure.prototype.push_to_output = function (_remove_interactive) {\n",
       "    // Turn the data on the canvas into data in the output cell.\n",
       "    var width = this.canvas.width / this.ratio;\n",
       "    var dataURL = this.canvas.toDataURL();\n",
       "    this.cell_info[1]['text/html'] =\n",
       "        '<img src=\"' + dataURL + '\" width=\"' + width + '\">';\n",
       "};\n",
       "\n",
       "mpl.figure.prototype.updated_canvas_event = function () {\n",
       "    // Tell IPython that the notebook contents must change.\n",
       "    IPython.notebook.set_dirty(true);\n",
       "    this.send_message('ack', {});\n",
       "    var fig = this;\n",
       "    // Wait a second, then push the new image to the DOM so\n",
       "    // that it is saved nicely (might be nice to debounce this).\n",
       "    setTimeout(function () {\n",
       "        fig.push_to_output();\n",
       "    }, 1000);\n",
       "};\n",
       "\n",
       "mpl.figure.prototype._init_toolbar = function () {\n",
       "    var fig = this;\n",
       "\n",
       "    var toolbar = document.createElement('div');\n",
       "    toolbar.classList = 'btn-toolbar';\n",
       "    this.root.appendChild(toolbar);\n",
       "\n",
       "    function on_click_closure(name) {\n",
       "        return function (_event) {\n",
       "            return fig.toolbar_button_onclick(name);\n",
       "        };\n",
       "    }\n",
       "\n",
       "    function on_mouseover_closure(tooltip) {\n",
       "        return function (event) {\n",
       "            if (!event.currentTarget.disabled) {\n",
       "                return fig.toolbar_button_onmouseover(tooltip);\n",
       "            }\n",
       "        };\n",
       "    }\n",
       "\n",
       "    fig.buttons = {};\n",
       "    var buttonGroup = document.createElement('div');\n",
       "    buttonGroup.classList = 'btn-group';\n",
       "    var button;\n",
       "    for (var toolbar_ind in mpl.toolbar_items) {\n",
       "        var name = mpl.toolbar_items[toolbar_ind][0];\n",
       "        var tooltip = mpl.toolbar_items[toolbar_ind][1];\n",
       "        var image = mpl.toolbar_items[toolbar_ind][2];\n",
       "        var method_name = mpl.toolbar_items[toolbar_ind][3];\n",
       "\n",
       "        if (!name) {\n",
       "            /* Instead of a spacer, we start a new button group. */\n",
       "            if (buttonGroup.hasChildNodes()) {\n",
       "                toolbar.appendChild(buttonGroup);\n",
       "            }\n",
       "            buttonGroup = document.createElement('div');\n",
       "            buttonGroup.classList = 'btn-group';\n",
       "            continue;\n",
       "        }\n",
       "\n",
       "        button = fig.buttons[name] = document.createElement('button');\n",
       "        button.classList = 'btn btn-default';\n",
       "        button.href = '#';\n",
       "        button.title = name;\n",
       "        button.innerHTML = '<i class=\"fa ' + image + ' fa-lg\"></i>';\n",
       "        button.addEventListener('click', on_click_closure(method_name));\n",
       "        button.addEventListener('mouseover', on_mouseover_closure(tooltip));\n",
       "        buttonGroup.appendChild(button);\n",
       "    }\n",
       "\n",
       "    if (buttonGroup.hasChildNodes()) {\n",
       "        toolbar.appendChild(buttonGroup);\n",
       "    }\n",
       "\n",
       "    // Add the status bar.\n",
       "    var status_bar = document.createElement('span');\n",
       "    status_bar.classList = 'mpl-message pull-right';\n",
       "    toolbar.appendChild(status_bar);\n",
       "    this.message = status_bar;\n",
       "\n",
       "    // Add the close button to the window.\n",
       "    var buttongrp = document.createElement('div');\n",
       "    buttongrp.classList = 'btn-group inline pull-right';\n",
       "    button = document.createElement('button');\n",
       "    button.classList = 'btn btn-mini btn-primary';\n",
       "    button.href = '#';\n",
       "    button.title = 'Stop Interaction';\n",
       "    button.innerHTML = '<i class=\"fa fa-power-off icon-remove icon-large\"></i>';\n",
       "    button.addEventListener('click', function (_evt) {\n",
       "        fig.handle_close(fig, {});\n",
       "    });\n",
       "    button.addEventListener(\n",
       "        'mouseover',\n",
       "        on_mouseover_closure('Stop Interaction')\n",
       "    );\n",
       "    buttongrp.appendChild(button);\n",
       "    var titlebar = this.root.querySelector('.ui-dialog-titlebar');\n",
       "    titlebar.insertBefore(buttongrp, titlebar.firstChild);\n",
       "};\n",
       "\n",
       "mpl.figure.prototype._remove_fig_handler = function (event) {\n",
       "    var fig = event.data.fig;\n",
       "    fig.close_ws(fig, {});\n",
       "};\n",
       "\n",
       "mpl.figure.prototype._root_extra_style = function (el) {\n",
       "    el.style.boxSizing = 'content-box'; // override notebook setting of border-box.\n",
       "};\n",
       "\n",
       "mpl.figure.prototype._canvas_extra_style = function (el) {\n",
       "    // this is important to make the div 'focusable\n",
       "    el.setAttribute('tabindex', 0);\n",
       "    // reach out to IPython and tell the keyboard manager to turn it's self\n",
       "    // off when our div gets focus\n",
       "\n",
       "    // location in version 3\n",
       "    if (IPython.notebook.keyboard_manager) {\n",
       "        IPython.notebook.keyboard_manager.register_events(el);\n",
       "    } else {\n",
       "        // location in version 2\n",
       "        IPython.keyboard_manager.register_events(el);\n",
       "    }\n",
       "};\n",
       "\n",
       "mpl.figure.prototype._key_event_extra = function (event, _name) {\n",
       "    var manager = IPython.notebook.keyboard_manager;\n",
       "    if (!manager) {\n",
       "        manager = IPython.keyboard_manager;\n",
       "    }\n",
       "\n",
       "    // Check for shift+enter\n",
       "    if (event.shiftKey && event.which === 13) {\n",
       "        this.canvas_div.blur();\n",
       "        // select the cell after this one\n",
       "        var index = IPython.notebook.find_cell_index(this.cell_info[0]);\n",
       "        IPython.notebook.select(index + 1);\n",
       "    }\n",
       "};\n",
       "\n",
       "mpl.figure.prototype.handle_save = function (fig, _msg) {\n",
       "    fig.ondownload(fig, null);\n",
       "};\n",
       "\n",
       "mpl.find_output_cell = function (html_output) {\n",
       "    // Return the cell and output element which can be found *uniquely* in the notebook.\n",
       "    // Note - this is a bit hacky, but it is done because the \"notebook_saving.Notebook\"\n",
       "    // IPython event is triggered only after the cells have been serialised, which for\n",
       "    // our purposes (turning an active figure into a static one), is too late.\n",
       "    var cells = IPython.notebook.get_cells();\n",
       "    var ncells = cells.length;\n",
       "    for (var i = 0; i < ncells; i++) {\n",
       "        var cell = cells[i];\n",
       "        if (cell.cell_type === 'code') {\n",
       "            for (var j = 0; j < cell.output_area.outputs.length; j++) {\n",
       "                var data = cell.output_area.outputs[j];\n",
       "                if (data.data) {\n",
       "                    // IPython >= 3 moved mimebundle to data attribute of output\n",
       "                    data = data.data;\n",
       "                }\n",
       "                if (data['text/html'] === html_output) {\n",
       "                    return [cell, data, j];\n",
       "                }\n",
       "            }\n",
       "        }\n",
       "    }\n",
       "};\n",
       "\n",
       "// Register the function which deals with the matplotlib target/channel.\n",
       "// The kernel may be null if the page has been refreshed.\n",
       "if (IPython.notebook.kernel !== null) {\n",
       "    IPython.notebook.kernel.comm_manager.register_target(\n",
       "        'matplotlib',\n",
       "        mpl.mpl_figure_comm\n",
       "    );\n",
       "}\n"
      ],
      "text/plain": [
       "<IPython.core.display.Javascript object>"
      ]
     },
     "metadata": {},
     "output_type": "display_data"
    },
    {
     "data": {
      "text/html": [
       "<img src=\"data:image/png;base64,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\" width=\"538.8889031645696\">"
      ],
      "text/plain": [
       "<IPython.core.display.HTML object>"
      ]
     },
     "metadata": {},
     "output_type": "display_data"
    }
   ],
   "source": [
    "fig, ax = plt.subplots(figsize=(6,6))\n",
    "\n",
    "with torch.no_grad():\n",
    "    model.eval()\n",
    "    indices = [0, 500, 1000]\n",
    "    for i in indices:\n",
    "        x = X[[i],:]\n",
    "        plt.scatter(x[0, 0], x[0, 1])\n",
    "        t = model(x[0:1,:].to(device)).cpu().numpy()\n",
    "        plt.scatter(t[0,0], t[0,1])\n",
    "\n",
    "plt.axis(\"square\")\n",
    "ax.grid()"
   ]
  },
  {
   "cell_type": "code",
   "execution_count": 148,
   "metadata": {},
   "outputs": [
    {
     "data": {
      "text/plain": [
       "tensor([[-0., 0.],\n",
       "        [0., -0.],\n",
       "        [-0., -0.]])"
      ]
     },
     "execution_count": 148,
     "metadata": {},
     "output_type": "execute_result"
    }
   ],
   "source": [
    "X[[0, 500, 1000],:]"
   ]
  },
  {
   "cell_type": "code",
   "execution_count": 210,
   "metadata": {
    "scrolled": false
   },
   "outputs": [
    {
     "data": {
      "application/javascript": [
       "/* Put everything inside the global mpl namespace */\n",
       "/* global mpl */\n",
       "window.mpl = {};\n",
       "\n",
       "mpl.get_websocket_type = function () {\n",
       "    if (typeof WebSocket !== 'undefined') {\n",
       "        return WebSocket;\n",
       "    } else if (typeof MozWebSocket !== 'undefined') {\n",
       "        return MozWebSocket;\n",
       "    } else {\n",
       "        alert(\n",
       "            'Your browser does not have WebSocket support. ' +\n",
       "                'Please try Chrome, Safari or Firefox ≥ 6. ' +\n",
       "                'Firefox 4 and 5 are also supported but you ' +\n",
       "                'have to enable WebSockets in about:config.'\n",
       "        );\n",
       "    }\n",
       "};\n",
       "\n",
       "mpl.figure = function (figure_id, websocket, ondownload, parent_element) {\n",
       "    this.id = figure_id;\n",
       "\n",
       "    this.ws = websocket;\n",
       "\n",
       "    this.supports_binary = this.ws.binaryType !== undefined;\n",
       "\n",
       "    if (!this.supports_binary) {\n",
       "        var warnings = document.getElementById('mpl-warnings');\n",
       "        if (warnings) {\n",
       "            warnings.style.display = 'block';\n",
       "            warnings.textContent =\n",
       "                'This browser does not support binary websocket messages. ' +\n",
       "                'Performance may be slow.';\n",
       "        }\n",
       "    }\n",
       "\n",
       "    this.imageObj = new Image();\n",
       "\n",
       "    this.context = undefined;\n",
       "    this.message = undefined;\n",
       "    this.canvas = undefined;\n",
       "    this.rubberband_canvas = undefined;\n",
       "    this.rubberband_context = undefined;\n",
       "    this.format_dropdown = undefined;\n",
       "\n",
       "    this.image_mode = 'full';\n",
       "\n",
       "    this.root = document.createElement('div');\n",
       "    this.root.setAttribute('style', 'display: inline-block');\n",
       "    this._root_extra_style(this.root);\n",
       "\n",
       "    parent_element.appendChild(this.root);\n",
       "\n",
       "    this._init_header(this);\n",
       "    this._init_canvas(this);\n",
       "    this._init_toolbar(this);\n",
       "\n",
       "    var fig = this;\n",
       "\n",
       "    this.waiting = false;\n",
       "\n",
       "    this.ws.onopen = function () {\n",
       "        fig.send_message('supports_binary', { value: fig.supports_binary });\n",
       "        fig.send_message('send_image_mode', {});\n",
       "        if (fig.ratio !== 1) {\n",
       "            fig.send_message('set_dpi_ratio', { dpi_ratio: fig.ratio });\n",
       "        }\n",
       "        fig.send_message('refresh', {});\n",
       "    };\n",
       "\n",
       "    this.imageObj.onload = function () {\n",
       "        if (fig.image_mode === 'full') {\n",
       "            // Full images could contain transparency (where diff images\n",
       "            // almost always do), so we need to clear the canvas so that\n",
       "            // there is no ghosting.\n",
       "            fig.context.clearRect(0, 0, fig.canvas.width, fig.canvas.height);\n",
       "        }\n",
       "        fig.context.drawImage(fig.imageObj, 0, 0);\n",
       "    };\n",
       "\n",
       "    this.imageObj.onunload = function () {\n",
       "        fig.ws.close();\n",
       "    };\n",
       "\n",
       "    this.ws.onmessage = this._make_on_message_function(this);\n",
       "\n",
       "    this.ondownload = ondownload;\n",
       "};\n",
       "\n",
       "mpl.figure.prototype._init_header = function () {\n",
       "    var titlebar = document.createElement('div');\n",
       "    titlebar.classList =\n",
       "        'ui-dialog-titlebar ui-widget-header ui-corner-all ui-helper-clearfix';\n",
       "    var titletext = document.createElement('div');\n",
       "    titletext.classList = 'ui-dialog-title';\n",
       "    titletext.setAttribute(\n",
       "        'style',\n",
       "        'width: 100%; text-align: center; padding: 3px;'\n",
       "    );\n",
       "    titlebar.appendChild(titletext);\n",
       "    this.root.appendChild(titlebar);\n",
       "    this.header = titletext;\n",
       "};\n",
       "\n",
       "mpl.figure.prototype._canvas_extra_style = function (_canvas_div) {};\n",
       "\n",
       "mpl.figure.prototype._root_extra_style = function (_canvas_div) {};\n",
       "\n",
       "mpl.figure.prototype._init_canvas = function () {\n",
       "    var fig = this;\n",
       "\n",
       "    var canvas_div = (this.canvas_div = document.createElement('div'));\n",
       "    canvas_div.setAttribute(\n",
       "        'style',\n",
       "        'border: 1px solid #ddd;' +\n",
       "            'box-sizing: content-box;' +\n",
       "            'clear: both;' +\n",
       "            'min-height: 1px;' +\n",
       "            'min-width: 1px;' +\n",
       "            'outline: 0;' +\n",
       "            'overflow: hidden;' +\n",
       "            'position: relative;' +\n",
       "            'resize: both;'\n",
       "    );\n",
       "\n",
       "    function on_keyboard_event_closure(name) {\n",
       "        return function (event) {\n",
       "            return fig.key_event(event, name);\n",
       "        };\n",
       "    }\n",
       "\n",
       "    canvas_div.addEventListener(\n",
       "        'keydown',\n",
       "        on_keyboard_event_closure('key_press')\n",
       "    );\n",
       "    canvas_div.addEventListener(\n",
       "        'keyup',\n",
       "        on_keyboard_event_closure('key_release')\n",
       "    );\n",
       "\n",
       "    this._canvas_extra_style(canvas_div);\n",
       "    this.root.appendChild(canvas_div);\n",
       "\n",
       "    var canvas = (this.canvas = document.createElement('canvas'));\n",
       "    canvas.classList.add('mpl-canvas');\n",
       "    canvas.setAttribute('style', 'box-sizing: content-box;');\n",
       "\n",
       "    this.context = canvas.getContext('2d');\n",
       "\n",
       "    var backingStore =\n",
       "        this.context.backingStorePixelRatio ||\n",
       "        this.context.webkitBackingStorePixelRatio ||\n",
       "        this.context.mozBackingStorePixelRatio ||\n",
       "        this.context.msBackingStorePixelRatio ||\n",
       "        this.context.oBackingStorePixelRatio ||\n",
       "        this.context.backingStorePixelRatio ||\n",
       "        1;\n",
       "\n",
       "    this.ratio = (window.devicePixelRatio || 1) / backingStore;\n",
       "    if (this.ratio !== 1) {\n",
       "        fig.send_message('set_dpi_ratio', { dpi_ratio: this.ratio });\n",
       "    }\n",
       "\n",
       "    var rubberband_canvas = (this.rubberband_canvas = document.createElement(\n",
       "        'canvas'\n",
       "    ));\n",
       "    rubberband_canvas.setAttribute(\n",
       "        'style',\n",
       "        'box-sizing: content-box; position: absolute; left: 0; top: 0; z-index: 1;'\n",
       "    );\n",
       "\n",
       "    var resizeObserver = new ResizeObserver(function (entries) {\n",
       "        var nentries = entries.length;\n",
       "        for (var i = 0; i < nentries; i++) {\n",
       "            var entry = entries[i];\n",
       "            var width, height;\n",
       "            if (entry.contentBoxSize) {\n",
       "                if (entry.contentBoxSize instanceof Array) {\n",
       "                    // Chrome 84 implements new version of spec.\n",
       "                    width = entry.contentBoxSize[0].inlineSize;\n",
       "                    height = entry.contentBoxSize[0].blockSize;\n",
       "                } else {\n",
       "                    // Firefox implements old version of spec.\n",
       "                    width = entry.contentBoxSize.inlineSize;\n",
       "                    height = entry.contentBoxSize.blockSize;\n",
       "                }\n",
       "            } else {\n",
       "                // Chrome <84 implements even older version of spec.\n",
       "                width = entry.contentRect.width;\n",
       "                height = entry.contentRect.height;\n",
       "            }\n",
       "\n",
       "            // Keep the size of the canvas and rubber band canvas in sync with\n",
       "            // the canvas container.\n",
       "            if (entry.devicePixelContentBoxSize) {\n",
       "                // Chrome 84 implements new version of spec.\n",
       "                canvas.setAttribute(\n",
       "                    'width',\n",
       "                    entry.devicePixelContentBoxSize[0].inlineSize\n",
       "                );\n",
       "                canvas.setAttribute(\n",
       "                    'height',\n",
       "                    entry.devicePixelContentBoxSize[0].blockSize\n",
       "                );\n",
       "            } else {\n",
       "                canvas.setAttribute('width', width * fig.ratio);\n",
       "                canvas.setAttribute('height', height * fig.ratio);\n",
       "            }\n",
       "            canvas.setAttribute(\n",
       "                'style',\n",
       "                'width: ' + width + 'px; height: ' + height + 'px;'\n",
       "            );\n",
       "\n",
       "            rubberband_canvas.setAttribute('width', width);\n",
       "            rubberband_canvas.setAttribute('height', height);\n",
       "\n",
       "            // And update the size in Python. We ignore the initial 0/0 size\n",
       "            // that occurs as the element is placed into the DOM, which should\n",
       "            // otherwise not happen due to the minimum size styling.\n",
       "            if (width != 0 && height != 0) {\n",
       "                fig.request_resize(width, height);\n",
       "            }\n",
       "        }\n",
       "    });\n",
       "    resizeObserver.observe(canvas_div);\n",
       "\n",
       "    function on_mouse_event_closure(name) {\n",
       "        return function (event) {\n",
       "            return fig.mouse_event(event, name);\n",
       "        };\n",
       "    }\n",
       "\n",
       "    rubberband_canvas.addEventListener(\n",
       "        'mousedown',\n",
       "        on_mouse_event_closure('button_press')\n",
       "    );\n",
       "    rubberband_canvas.addEventListener(\n",
       "        'mouseup',\n",
       "        on_mouse_event_closure('button_release')\n",
       "    );\n",
       "    // Throttle sequential mouse events to 1 every 20ms.\n",
       "    rubberband_canvas.addEventListener(\n",
       "        'mousemove',\n",
       "        on_mouse_event_closure('motion_notify')\n",
       "    );\n",
       "\n",
       "    rubberband_canvas.addEventListener(\n",
       "        'mouseenter',\n",
       "        on_mouse_event_closure('figure_enter')\n",
       "    );\n",
       "    rubberband_canvas.addEventListener(\n",
       "        'mouseleave',\n",
       "        on_mouse_event_closure('figure_leave')\n",
       "    );\n",
       "\n",
       "    canvas_div.addEventListener('wheel', function (event) {\n",
       "        if (event.deltaY < 0) {\n",
       "            event.step = 1;\n",
       "        } else {\n",
       "            event.step = -1;\n",
       "        }\n",
       "        on_mouse_event_closure('scroll')(event);\n",
       "    });\n",
       "\n",
       "    canvas_div.appendChild(canvas);\n",
       "    canvas_div.appendChild(rubberband_canvas);\n",
       "\n",
       "    this.rubberband_context = rubberband_canvas.getContext('2d');\n",
       "    this.rubberband_context.strokeStyle = '#000000';\n",
       "\n",
       "    this._resize_canvas = function (width, height, forward) {\n",
       "        if (forward) {\n",
       "            canvas_div.style.width = width + 'px';\n",
       "            canvas_div.style.height = height + 'px';\n",
       "        }\n",
       "    };\n",
       "\n",
       "    // Disable right mouse context menu.\n",
       "    this.rubberband_canvas.addEventListener('contextmenu', function (_e) {\n",
       "        event.preventDefault();\n",
       "        return false;\n",
       "    });\n",
       "\n",
       "    function set_focus() {\n",
       "        canvas.focus();\n",
       "        canvas_div.focus();\n",
       "    }\n",
       "\n",
       "    window.setTimeout(set_focus, 100);\n",
       "};\n",
       "\n",
       "mpl.figure.prototype._init_toolbar = function () {\n",
       "    var fig = this;\n",
       "\n",
       "    var toolbar = document.createElement('div');\n",
       "    toolbar.classList = 'mpl-toolbar';\n",
       "    this.root.appendChild(toolbar);\n",
       "\n",
       "    function on_click_closure(name) {\n",
       "        return function (_event) {\n",
       "            return fig.toolbar_button_onclick(name);\n",
       "        };\n",
       "    }\n",
       "\n",
       "    function on_mouseover_closure(tooltip) {\n",
       "        return function (event) {\n",
       "            if (!event.currentTarget.disabled) {\n",
       "                return fig.toolbar_button_onmouseover(tooltip);\n",
       "            }\n",
       "        };\n",
       "    }\n",
       "\n",
       "    fig.buttons = {};\n",
       "    var buttonGroup = document.createElement('div');\n",
       "    buttonGroup.classList = 'mpl-button-group';\n",
       "    for (var toolbar_ind in mpl.toolbar_items) {\n",
       "        var name = mpl.toolbar_items[toolbar_ind][0];\n",
       "        var tooltip = mpl.toolbar_items[toolbar_ind][1];\n",
       "        var image = mpl.toolbar_items[toolbar_ind][2];\n",
       "        var method_name = mpl.toolbar_items[toolbar_ind][3];\n",
       "\n",
       "        if (!name) {\n",
       "            /* Instead of a spacer, we start a new button group. */\n",
       "            if (buttonGroup.hasChildNodes()) {\n",
       "                toolbar.appendChild(buttonGroup);\n",
       "            }\n",
       "            buttonGroup = document.createElement('div');\n",
       "            buttonGroup.classList = 'mpl-button-group';\n",
       "            continue;\n",
       "        }\n",
       "\n",
       "        var button = (fig.buttons[name] = document.createElement('button'));\n",
       "        button.classList = 'mpl-widget';\n",
       "        button.setAttribute('role', 'button');\n",
       "        button.setAttribute('aria-disabled', 'false');\n",
       "        button.addEventListener('click', on_click_closure(method_name));\n",
       "        button.addEventListener('mouseover', on_mouseover_closure(tooltip));\n",
       "\n",
       "        var icon_img = document.createElement('img');\n",
       "        icon_img.src = '_images/' + image + '.png';\n",
       "        icon_img.srcset = '_images/' + image + '_large.png 2x';\n",
       "        icon_img.alt = tooltip;\n",
       "        button.appendChild(icon_img);\n",
       "\n",
       "        buttonGroup.appendChild(button);\n",
       "    }\n",
       "\n",
       "    if (buttonGroup.hasChildNodes()) {\n",
       "        toolbar.appendChild(buttonGroup);\n",
       "    }\n",
       "\n",
       "    var fmt_picker = document.createElement('select');\n",
       "    fmt_picker.classList = 'mpl-widget';\n",
       "    toolbar.appendChild(fmt_picker);\n",
       "    this.format_dropdown = fmt_picker;\n",
       "\n",
       "    for (var ind in mpl.extensions) {\n",
       "        var fmt = mpl.extensions[ind];\n",
       "        var option = document.createElement('option');\n",
       "        option.selected = fmt === mpl.default_extension;\n",
       "        option.innerHTML = fmt;\n",
       "        fmt_picker.appendChild(option);\n",
       "    }\n",
       "\n",
       "    var status_bar = document.createElement('span');\n",
       "    status_bar.classList = 'mpl-message';\n",
       "    toolbar.appendChild(status_bar);\n",
       "    this.message = status_bar;\n",
       "};\n",
       "\n",
       "mpl.figure.prototype.request_resize = function (x_pixels, y_pixels) {\n",
       "    // Request matplotlib to resize the figure. Matplotlib will then trigger a resize in the client,\n",
       "    // which will in turn request a refresh of the image.\n",
       "    this.send_message('resize', { width: x_pixels, height: y_pixels });\n",
       "};\n",
       "\n",
       "mpl.figure.prototype.send_message = function (type, properties) {\n",
       "    properties['type'] = type;\n",
       "    properties['figure_id'] = this.id;\n",
       "    this.ws.send(JSON.stringify(properties));\n",
       "};\n",
       "\n",
       "mpl.figure.prototype.send_draw_message = function () {\n",
       "    if (!this.waiting) {\n",
       "        this.waiting = true;\n",
       "        this.ws.send(JSON.stringify({ type: 'draw', figure_id: this.id }));\n",
       "    }\n",
       "};\n",
       "\n",
       "mpl.figure.prototype.handle_save = function (fig, _msg) {\n",
       "    var format_dropdown = fig.format_dropdown;\n",
       "    var format = format_dropdown.options[format_dropdown.selectedIndex].value;\n",
       "    fig.ondownload(fig, format);\n",
       "};\n",
       "\n",
       "mpl.figure.prototype.handle_resize = function (fig, msg) {\n",
       "    var size = msg['size'];\n",
       "    if (size[0] !== fig.canvas.width || size[1] !== fig.canvas.height) {\n",
       "        fig._resize_canvas(size[0], size[1], msg['forward']);\n",
       "        fig.send_message('refresh', {});\n",
       "    }\n",
       "};\n",
       "\n",
       "mpl.figure.prototype.handle_rubberband = function (fig, msg) {\n",
       "    var x0 = msg['x0'] / fig.ratio;\n",
       "    var y0 = (fig.canvas.height - msg['y0']) / fig.ratio;\n",
       "    var x1 = msg['x1'] / fig.ratio;\n",
       "    var y1 = (fig.canvas.height - msg['y1']) / fig.ratio;\n",
       "    x0 = Math.floor(x0) + 0.5;\n",
       "    y0 = Math.floor(y0) + 0.5;\n",
       "    x1 = Math.floor(x1) + 0.5;\n",
       "    y1 = Math.floor(y1) + 0.5;\n",
       "    var min_x = Math.min(x0, x1);\n",
       "    var min_y = Math.min(y0, y1);\n",
       "    var width = Math.abs(x1 - x0);\n",
       "    var height = Math.abs(y1 - y0);\n",
       "\n",
       "    fig.rubberband_context.clearRect(\n",
       "        0,\n",
       "        0,\n",
       "        fig.canvas.width / fig.ratio,\n",
       "        fig.canvas.height / fig.ratio\n",
       "    );\n",
       "\n",
       "    fig.rubberband_context.strokeRect(min_x, min_y, width, height);\n",
       "};\n",
       "\n",
       "mpl.figure.prototype.handle_figure_label = function (fig, msg) {\n",
       "    // Updates the figure title.\n",
       "    fig.header.textContent = msg['label'];\n",
       "};\n",
       "\n",
       "mpl.figure.prototype.handle_cursor = function (fig, msg) {\n",
       "    var cursor = msg['cursor'];\n",
       "    switch (cursor) {\n",
       "        case 0:\n",
       "            cursor = 'pointer';\n",
       "            break;\n",
       "        case 1:\n",
       "            cursor = 'default';\n",
       "            break;\n",
       "        case 2:\n",
       "            cursor = 'crosshair';\n",
       "            break;\n",
       "        case 3:\n",
       "            cursor = 'move';\n",
       "            break;\n",
       "    }\n",
       "    fig.rubberband_canvas.style.cursor = cursor;\n",
       "};\n",
       "\n",
       "mpl.figure.prototype.handle_message = function (fig, msg) {\n",
       "    fig.message.textContent = msg['message'];\n",
       "};\n",
       "\n",
       "mpl.figure.prototype.handle_draw = function (fig, _msg) {\n",
       "    // Request the server to send over a new figure.\n",
       "    fig.send_draw_message();\n",
       "};\n",
       "\n",
       "mpl.figure.prototype.handle_image_mode = function (fig, msg) {\n",
       "    fig.image_mode = msg['mode'];\n",
       "};\n",
       "\n",
       "mpl.figure.prototype.handle_history_buttons = function (fig, msg) {\n",
       "    for (var key in msg) {\n",
       "        if (!(key in fig.buttons)) {\n",
       "            continue;\n",
       "        }\n",
       "        fig.buttons[key].disabled = !msg[key];\n",
       "        fig.buttons[key].setAttribute('aria-disabled', !msg[key]);\n",
       "    }\n",
       "};\n",
       "\n",
       "mpl.figure.prototype.handle_navigate_mode = function (fig, msg) {\n",
       "    if (msg['mode'] === 'PAN') {\n",
       "        fig.buttons['Pan'].classList.add('active');\n",
       "        fig.buttons['Zoom'].classList.remove('active');\n",
       "    } else if (msg['mode'] === 'ZOOM') {\n",
       "        fig.buttons['Pan'].classList.remove('active');\n",
       "        fig.buttons['Zoom'].classList.add('active');\n",
       "    } else {\n",
       "        fig.buttons['Pan'].classList.remove('active');\n",
       "        fig.buttons['Zoom'].classList.remove('active');\n",
       "    }\n",
       "};\n",
       "\n",
       "mpl.figure.prototype.updated_canvas_event = function () {\n",
       "    // Called whenever the canvas gets updated.\n",
       "    this.send_message('ack', {});\n",
       "};\n",
       "\n",
       "// A function to construct a web socket function for onmessage handling.\n",
       "// Called in the figure constructor.\n",
       "mpl.figure.prototype._make_on_message_function = function (fig) {\n",
       "    return function socket_on_message(evt) {\n",
       "        if (evt.data instanceof Blob) {\n",
       "            /* FIXME: We get \"Resource interpreted as Image but\n",
       "             * transferred with MIME type text/plain:\" errors on\n",
       "             * Chrome.  But how to set the MIME type?  It doesn't seem\n",
       "             * to be part of the websocket stream */\n",
       "            evt.data.type = 'image/png';\n",
       "\n",
       "            /* Free the memory for the previous frames */\n",
       "            if (fig.imageObj.src) {\n",
       "                (window.URL || window.webkitURL).revokeObjectURL(\n",
       "                    fig.imageObj.src\n",
       "                );\n",
       "            }\n",
       "\n",
       "            fig.imageObj.src = (window.URL || window.webkitURL).createObjectURL(\n",
       "                evt.data\n",
       "            );\n",
       "            fig.updated_canvas_event();\n",
       "            fig.waiting = false;\n",
       "            return;\n",
       "        } else if (\n",
       "            typeof evt.data === 'string' &&\n",
       "            evt.data.slice(0, 21) === 'data:image/png;base64'\n",
       "        ) {\n",
       "            fig.imageObj.src = evt.data;\n",
       "            fig.updated_canvas_event();\n",
       "            fig.waiting = false;\n",
       "            return;\n",
       "        }\n",
       "\n",
       "        var msg = JSON.parse(evt.data);\n",
       "        var msg_type = msg['type'];\n",
       "\n",
       "        // Call the  \"handle_{type}\" callback, which takes\n",
       "        // the figure and JSON message as its only arguments.\n",
       "        try {\n",
       "            var callback = fig['handle_' + msg_type];\n",
       "        } catch (e) {\n",
       "            console.log(\n",
       "                \"No handler for the '\" + msg_type + \"' message type: \",\n",
       "                msg\n",
       "            );\n",
       "            return;\n",
       "        }\n",
       "\n",
       "        if (callback) {\n",
       "            try {\n",
       "                // console.log(\"Handling '\" + msg_type + \"' message: \", msg);\n",
       "                callback(fig, msg);\n",
       "            } catch (e) {\n",
       "                console.log(\n",
       "                    \"Exception inside the 'handler_\" + msg_type + \"' callback:\",\n",
       "                    e,\n",
       "                    e.stack,\n",
       "                    msg\n",
       "                );\n",
       "            }\n",
       "        }\n",
       "    };\n",
       "};\n",
       "\n",
       "// from http://stackoverflow.com/questions/1114465/getting-mouse-location-in-canvas\n",
       "mpl.findpos = function (e) {\n",
       "    //this section is from http://www.quirksmode.org/js/events_properties.html\n",
       "    var targ;\n",
       "    if (!e) {\n",
       "        e = window.event;\n",
       "    }\n",
       "    if (e.target) {\n",
       "        targ = e.target;\n",
       "    } else if (e.srcElement) {\n",
       "        targ = e.srcElement;\n",
       "    }\n",
       "    if (targ.nodeType === 3) {\n",
       "        // defeat Safari bug\n",
       "        targ = targ.parentNode;\n",
       "    }\n",
       "\n",
       "    // pageX,Y are the mouse positions relative to the document\n",
       "    var boundingRect = targ.getBoundingClientRect();\n",
       "    var x = e.pageX - (boundingRect.left + document.body.scrollLeft);\n",
       "    var y = e.pageY - (boundingRect.top + document.body.scrollTop);\n",
       "\n",
       "    return { x: x, y: y };\n",
       "};\n",
       "\n",
       "/*\n",
       " * return a copy of an object with only non-object keys\n",
       " * we need this to avoid circular references\n",
       " * http://stackoverflow.com/a/24161582/3208463\n",
       " */\n",
       "function simpleKeys(original) {\n",
       "    return Object.keys(original).reduce(function (obj, key) {\n",
       "        if (typeof original[key] !== 'object') {\n",
       "            obj[key] = original[key];\n",
       "        }\n",
       "        return obj;\n",
       "    }, {});\n",
       "}\n",
       "\n",
       "mpl.figure.prototype.mouse_event = function (event, name) {\n",
       "    var canvas_pos = mpl.findpos(event);\n",
       "\n",
       "    if (name === 'button_press') {\n",
       "        this.canvas.focus();\n",
       "        this.canvas_div.focus();\n",
       "    }\n",
       "\n",
       "    var x = canvas_pos.x * this.ratio;\n",
       "    var y = canvas_pos.y * this.ratio;\n",
       "\n",
       "    this.send_message(name, {\n",
       "        x: x,\n",
       "        y: y,\n",
       "        button: event.button,\n",
       "        step: event.step,\n",
       "        guiEvent: simpleKeys(event),\n",
       "    });\n",
       "\n",
       "    /* This prevents the web browser from automatically changing to\n",
       "     * the text insertion cursor when the button is pressed.  We want\n",
       "     * to control all of the cursor setting manually through the\n",
       "     * 'cursor' event from matplotlib */\n",
       "    event.preventDefault();\n",
       "    return false;\n",
       "};\n",
       "\n",
       "mpl.figure.prototype._key_event_extra = function (_event, _name) {\n",
       "    // Handle any extra behaviour associated with a key event\n",
       "};\n",
       "\n",
       "mpl.figure.prototype.key_event = function (event, name) {\n",
       "    // Prevent repeat events\n",
       "    if (name === 'key_press') {\n",
       "        if (event.which === this._key) {\n",
       "            return;\n",
       "        } else {\n",
       "            this._key = event.which;\n",
       "        }\n",
       "    }\n",
       "    if (name === 'key_release') {\n",
       "        this._key = null;\n",
       "    }\n",
       "\n",
       "    var value = '';\n",
       "    if (event.ctrlKey && event.which !== 17) {\n",
       "        value += 'ctrl+';\n",
       "    }\n",
       "    if (event.altKey && event.which !== 18) {\n",
       "        value += 'alt+';\n",
       "    }\n",
       "    if (event.shiftKey && event.which !== 16) {\n",
       "        value += 'shift+';\n",
       "    }\n",
       "\n",
       "    value += 'k';\n",
       "    value += event.which.toString();\n",
       "\n",
       "    this._key_event_extra(event, name);\n",
       "\n",
       "    this.send_message(name, { key: value, guiEvent: simpleKeys(event) });\n",
       "    return false;\n",
       "};\n",
       "\n",
       "mpl.figure.prototype.toolbar_button_onclick = function (name) {\n",
       "    if (name === 'download') {\n",
       "        this.handle_save(this, null);\n",
       "    } else {\n",
       "        this.send_message('toolbar_button', { name: name });\n",
       "    }\n",
       "};\n",
       "\n",
       "mpl.figure.prototype.toolbar_button_onmouseover = function (tooltip) {\n",
       "    this.message.textContent = tooltip;\n",
       "};\n",
       "mpl.toolbar_items = [[\"Home\", \"Reset original view\", \"fa fa-home icon-home\", \"home\"], [\"Back\", \"Back to previous view\", \"fa fa-arrow-left icon-arrow-left\", \"back\"], [\"Forward\", \"Forward to next view\", \"fa fa-arrow-right icon-arrow-right\", \"forward\"], [\"\", \"\", \"\", \"\"], [\"Pan\", \"Left button pans, Right button zooms\\nx/y fixes axis, CTRL fixes aspect\", \"fa fa-arrows icon-move\", \"pan\"], [\"Zoom\", \"Zoom to rectangle\\nx/y fixes axis, CTRL fixes aspect\", \"fa fa-square-o icon-check-empty\", \"zoom\"], [\"\", \"\", \"\", \"\"], [\"Download\", \"Download plot\", \"fa fa-floppy-o icon-save\", \"download\"]];\n",
       "\n",
       "mpl.extensions = [\"eps\", \"jpeg\", \"pdf\", \"png\", \"ps\", \"raw\", \"svg\", \"tif\"];\n",
       "\n",
       "mpl.default_extension = \"png\";/* global mpl */\n",
       "\n",
       "var comm_websocket_adapter = function (comm) {\n",
       "    // Create a \"websocket\"-like object which calls the given IPython comm\n",
       "    // object with the appropriate methods. Currently this is a non binary\n",
       "    // socket, so there is still some room for performance tuning.\n",
       "    var ws = {};\n",
       "\n",
       "    ws.close = function () {\n",
       "        comm.close();\n",
       "    };\n",
       "    ws.send = function (m) {\n",
       "        //console.log('sending', m);\n",
       "        comm.send(m);\n",
       "    };\n",
       "    // Register the callback with on_msg.\n",
       "    comm.on_msg(function (msg) {\n",
       "        //console.log('receiving', msg['content']['data'], msg);\n",
       "        // Pass the mpl event to the overridden (by mpl) onmessage function.\n",
       "        ws.onmessage(msg['content']['data']);\n",
       "    });\n",
       "    return ws;\n",
       "};\n",
       "\n",
       "mpl.mpl_figure_comm = function (comm, msg) {\n",
       "    // This is the function which gets called when the mpl process\n",
       "    // starts-up an IPython Comm through the \"matplotlib\" channel.\n",
       "\n",
       "    var id = msg.content.data.id;\n",
       "    // Get hold of the div created by the display call when the Comm\n",
       "    // socket was opened in Python.\n",
       "    var element = document.getElementById(id);\n",
       "    var ws_proxy = comm_websocket_adapter(comm);\n",
       "\n",
       "    function ondownload(figure, _format) {\n",
       "        window.open(figure.canvas.toDataURL());\n",
       "    }\n",
       "\n",
       "    var fig = new mpl.figure(id, ws_proxy, ondownload, element);\n",
       "\n",
       "    // Call onopen now - mpl needs it, as it is assuming we've passed it a real\n",
       "    // web socket which is closed, not our websocket->open comm proxy.\n",
       "    ws_proxy.onopen();\n",
       "\n",
       "    fig.parent_element = element;\n",
       "    fig.cell_info = mpl.find_output_cell(\"<div id='\" + id + \"'></div>\");\n",
       "    if (!fig.cell_info) {\n",
       "        console.error('Failed to find cell for figure', id, fig);\n",
       "        return;\n",
       "    }\n",
       "    fig.cell_info[0].output_area.element.one(\n",
       "        'cleared',\n",
       "        { fig: fig },\n",
       "        fig._remove_fig_handler\n",
       "    );\n",
       "};\n",
       "\n",
       "mpl.figure.prototype.handle_close = function (fig, msg) {\n",
       "    var width = fig.canvas.width / fig.ratio;\n",
       "    fig.cell_info[0].output_area.element.off(\n",
       "        'cleared',\n",
       "        fig._remove_fig_handler\n",
       "    );\n",
       "\n",
       "    // Update the output cell to use the data from the current canvas.\n",
       "    fig.push_to_output();\n",
       "    var dataURL = fig.canvas.toDataURL();\n",
       "    // Re-enable the keyboard manager in IPython - without this line, in FF,\n",
       "    // the notebook keyboard shortcuts fail.\n",
       "    IPython.keyboard_manager.enable();\n",
       "    fig.parent_element.innerHTML =\n",
       "        '<img src=\"' + dataURL + '\" width=\"' + width + '\">';\n",
       "    fig.close_ws(fig, msg);\n",
       "};\n",
       "\n",
       "mpl.figure.prototype.close_ws = function (fig, msg) {\n",
       "    fig.send_message('closing', msg);\n",
       "    // fig.ws.close()\n",
       "};\n",
       "\n",
       "mpl.figure.prototype.push_to_output = function (_remove_interactive) {\n",
       "    // Turn the data on the canvas into data in the output cell.\n",
       "    var width = this.canvas.width / this.ratio;\n",
       "    var dataURL = this.canvas.toDataURL();\n",
       "    this.cell_info[1]['text/html'] =\n",
       "        '<img src=\"' + dataURL + '\" width=\"' + width + '\">';\n",
       "};\n",
       "\n",
       "mpl.figure.prototype.updated_canvas_event = function () {\n",
       "    // Tell IPython that the notebook contents must change.\n",
       "    IPython.notebook.set_dirty(true);\n",
       "    this.send_message('ack', {});\n",
       "    var fig = this;\n",
       "    // Wait a second, then push the new image to the DOM so\n",
       "    // that it is saved nicely (might be nice to debounce this).\n",
       "    setTimeout(function () {\n",
       "        fig.push_to_output();\n",
       "    }, 1000);\n",
       "};\n",
       "\n",
       "mpl.figure.prototype._init_toolbar = function () {\n",
       "    var fig = this;\n",
       "\n",
       "    var toolbar = document.createElement('div');\n",
       "    toolbar.classList = 'btn-toolbar';\n",
       "    this.root.appendChild(toolbar);\n",
       "\n",
       "    function on_click_closure(name) {\n",
       "        return function (_event) {\n",
       "            return fig.toolbar_button_onclick(name);\n",
       "        };\n",
       "    }\n",
       "\n",
       "    function on_mouseover_closure(tooltip) {\n",
       "        return function (event) {\n",
       "            if (!event.currentTarget.disabled) {\n",
       "                return fig.toolbar_button_onmouseover(tooltip);\n",
       "            }\n",
       "        };\n",
       "    }\n",
       "\n",
       "    fig.buttons = {};\n",
       "    var buttonGroup = document.createElement('div');\n",
       "    buttonGroup.classList = 'btn-group';\n",
       "    var button;\n",
       "    for (var toolbar_ind in mpl.toolbar_items) {\n",
       "        var name = mpl.toolbar_items[toolbar_ind][0];\n",
       "        var tooltip = mpl.toolbar_items[toolbar_ind][1];\n",
       "        var image = mpl.toolbar_items[toolbar_ind][2];\n",
       "        var method_name = mpl.toolbar_items[toolbar_ind][3];\n",
       "\n",
       "        if (!name) {\n",
       "            /* Instead of a spacer, we start a new button group. */\n",
       "            if (buttonGroup.hasChildNodes()) {\n",
       "                toolbar.appendChild(buttonGroup);\n",
       "            }\n",
       "            buttonGroup = document.createElement('div');\n",
       "            buttonGroup.classList = 'btn-group';\n",
       "            continue;\n",
       "        }\n",
       "\n",
       "        button = fig.buttons[name] = document.createElement('button');\n",
       "        button.classList = 'btn btn-default';\n",
       "        button.href = '#';\n",
       "        button.title = name;\n",
       "        button.innerHTML = '<i class=\"fa ' + image + ' fa-lg\"></i>';\n",
       "        button.addEventListener('click', on_click_closure(method_name));\n",
       "        button.addEventListener('mouseover', on_mouseover_closure(tooltip));\n",
       "        buttonGroup.appendChild(button);\n",
       "    }\n",
       "\n",
       "    if (buttonGroup.hasChildNodes()) {\n",
       "        toolbar.appendChild(buttonGroup);\n",
       "    }\n",
       "\n",
       "    // Add the status bar.\n",
       "    var status_bar = document.createElement('span');\n",
       "    status_bar.classList = 'mpl-message pull-right';\n",
       "    toolbar.appendChild(status_bar);\n",
       "    this.message = status_bar;\n",
       "\n",
       "    // Add the close button to the window.\n",
       "    var buttongrp = document.createElement('div');\n",
       "    buttongrp.classList = 'btn-group inline pull-right';\n",
       "    button = document.createElement('button');\n",
       "    button.classList = 'btn btn-mini btn-primary';\n",
       "    button.href = '#';\n",
       "    button.title = 'Stop Interaction';\n",
       "    button.innerHTML = '<i class=\"fa fa-power-off icon-remove icon-large\"></i>';\n",
       "    button.addEventListener('click', function (_evt) {\n",
       "        fig.handle_close(fig, {});\n",
       "    });\n",
       "    button.addEventListener(\n",
       "        'mouseover',\n",
       "        on_mouseover_closure('Stop Interaction')\n",
       "    );\n",
       "    buttongrp.appendChild(button);\n",
       "    var titlebar = this.root.querySelector('.ui-dialog-titlebar');\n",
       "    titlebar.insertBefore(buttongrp, titlebar.firstChild);\n",
       "};\n",
       "\n",
       "mpl.figure.prototype._remove_fig_handler = function (event) {\n",
       "    var fig = event.data.fig;\n",
       "    fig.close_ws(fig, {});\n",
       "};\n",
       "\n",
       "mpl.figure.prototype._root_extra_style = function (el) {\n",
       "    el.style.boxSizing = 'content-box'; // override notebook setting of border-box.\n",
       "};\n",
       "\n",
       "mpl.figure.prototype._canvas_extra_style = function (el) {\n",
       "    // this is important to make the div 'focusable\n",
       "    el.setAttribute('tabindex', 0);\n",
       "    // reach out to IPython and tell the keyboard manager to turn it's self\n",
       "    // off when our div gets focus\n",
       "\n",
       "    // location in version 3\n",
       "    if (IPython.notebook.keyboard_manager) {\n",
       "        IPython.notebook.keyboard_manager.register_events(el);\n",
       "    } else {\n",
       "        // location in version 2\n",
       "        IPython.keyboard_manager.register_events(el);\n",
       "    }\n",
       "};\n",
       "\n",
       "mpl.figure.prototype._key_event_extra = function (event, _name) {\n",
       "    var manager = IPython.notebook.keyboard_manager;\n",
       "    if (!manager) {\n",
       "        manager = IPython.keyboard_manager;\n",
       "    }\n",
       "\n",
       "    // Check for shift+enter\n",
       "    if (event.shiftKey && event.which === 13) {\n",
       "        this.canvas_div.blur();\n",
       "        // select the cell after this one\n",
       "        var index = IPython.notebook.find_cell_index(this.cell_info[0]);\n",
       "        IPython.notebook.select(index + 1);\n",
       "    }\n",
       "};\n",
       "\n",
       "mpl.figure.prototype.handle_save = function (fig, _msg) {\n",
       "    fig.ondownload(fig, null);\n",
       "};\n",
       "\n",
       "mpl.find_output_cell = function (html_output) {\n",
       "    // Return the cell and output element which can be found *uniquely* in the notebook.\n",
       "    // Note - this is a bit hacky, but it is done because the \"notebook_saving.Notebook\"\n",
       "    // IPython event is triggered only after the cells have been serialised, which for\n",
       "    // our purposes (turning an active figure into a static one), is too late.\n",
       "    var cells = IPython.notebook.get_cells();\n",
       "    var ncells = cells.length;\n",
       "    for (var i = 0; i < ncells; i++) {\n",
       "        var cell = cells[i];\n",
       "        if (cell.cell_type === 'code') {\n",
       "            for (var j = 0; j < cell.output_area.outputs.length; j++) {\n",
       "                var data = cell.output_area.outputs[j];\n",
       "                if (data.data) {\n",
       "                    // IPython >= 3 moved mimebundle to data attribute of output\n",
       "                    data = data.data;\n",
       "                }\n",
       "                if (data['text/html'] === html_output) {\n",
       "                    return [cell, data, j];\n",
       "                }\n",
       "            }\n",
       "        }\n",
       "    }\n",
       "};\n",
       "\n",
       "// Register the function which deals with the matplotlib target/channel.\n",
       "// The kernel may be null if the page has been refreshed.\n",
       "if (IPython.notebook.kernel !== null) {\n",
       "    IPython.notebook.kernel.comm_manager.register_target(\n",
       "        'matplotlib',\n",
       "        mpl.mpl_figure_comm\n",
       "    );\n",
       "}\n"
      ],
      "text/plain": [
       "<IPython.core.display.Javascript object>"
      ]
     },
     "metadata": {},
     "output_type": "display_data"
    },
    {
     "data": {
      "text/html": [
       "<img src=\"data:image/png;base64,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\" width=\"538.8889031645696\">"
      ],
      "text/plain": [
       "<IPython.core.display.HTML object>"
      ]
     },
     "metadata": {},
     "output_type": "display_data"
    },
    {
     "name": "stderr",
     "output_type": "stream",
     "text": [
      "C:\\Opt\\Anaconda3\\envs\\pDL\\lib\\site-packages\\seaborn\\_decorators.py:36: FutureWarning: Pass the following variable as a keyword arg: y. From version 0.12, the only valid positional argument will be `data`, and passing other arguments without an explicit keyword will result in an error or misinterpretation.\n",
      "  warnings.warn(\n"
     ]
    }
   ],
   "source": [
    "model.to(device)\n",
    "model.eval()\n",
    "train_embeddings = model(X.to(device)).cpu().detach()\n",
    "train_labels = y\n",
    "fig, ax = plt.subplots(figsize=(6,6))\n",
    "plot_2d_circle(ax)\n",
    "plot_2d_embedding(train_embeddings, \n",
    "                  train_labels, \n",
    "                  ax=ax, xlim=[-1.5, 1.5], \n",
    "                  ylim=[-1.5, 1.5],\n",
    "                  n_classes=C)\n"
   ]
  },
  {
   "cell_type": "code",
   "execution_count": 206,
   "metadata": {},
   "outputs": [
    {
     "data": {
      "application/javascript": [
       "/* Put everything inside the global mpl namespace */\n",
       "/* global mpl */\n",
       "window.mpl = {};\n",
       "\n",
       "mpl.get_websocket_type = function () {\n",
       "    if (typeof WebSocket !== 'undefined') {\n",
       "        return WebSocket;\n",
       "    } else if (typeof MozWebSocket !== 'undefined') {\n",
       "        return MozWebSocket;\n",
       "    } else {\n",
       "        alert(\n",
       "            'Your browser does not have WebSocket support. ' +\n",
       "                'Please try Chrome, Safari or Firefox ≥ 6. ' +\n",
       "                'Firefox 4 and 5 are also supported but you ' +\n",
       "                'have to enable WebSockets in about:config.'\n",
       "        );\n",
       "    }\n",
       "};\n",
       "\n",
       "mpl.figure = function (figure_id, websocket, ondownload, parent_element) {\n",
       "    this.id = figure_id;\n",
       "\n",
       "    this.ws = websocket;\n",
       "\n",
       "    this.supports_binary = this.ws.binaryType !== undefined;\n",
       "\n",
       "    if (!this.supports_binary) {\n",
       "        var warnings = document.getElementById('mpl-warnings');\n",
       "        if (warnings) {\n",
       "            warnings.style.display = 'block';\n",
       "            warnings.textContent =\n",
       "                'This browser does not support binary websocket messages. ' +\n",
       "                'Performance may be slow.';\n",
       "        }\n",
       "    }\n",
       "\n",
       "    this.imageObj = new Image();\n",
       "\n",
       "    this.context = undefined;\n",
       "    this.message = undefined;\n",
       "    this.canvas = undefined;\n",
       "    this.rubberband_canvas = undefined;\n",
       "    this.rubberband_context = undefined;\n",
       "    this.format_dropdown = undefined;\n",
       "\n",
       "    this.image_mode = 'full';\n",
       "\n",
       "    this.root = document.createElement('div');\n",
       "    this.root.setAttribute('style', 'display: inline-block');\n",
       "    this._root_extra_style(this.root);\n",
       "\n",
       "    parent_element.appendChild(this.root);\n",
       "\n",
       "    this._init_header(this);\n",
       "    this._init_canvas(this);\n",
       "    this._init_toolbar(this);\n",
       "\n",
       "    var fig = this;\n",
       "\n",
       "    this.waiting = false;\n",
       "\n",
       "    this.ws.onopen = function () {\n",
       "        fig.send_message('supports_binary', { value: fig.supports_binary });\n",
       "        fig.send_message('send_image_mode', {});\n",
       "        if (fig.ratio !== 1) {\n",
       "            fig.send_message('set_dpi_ratio', { dpi_ratio: fig.ratio });\n",
       "        }\n",
       "        fig.send_message('refresh', {});\n",
       "    };\n",
       "\n",
       "    this.imageObj.onload = function () {\n",
       "        if (fig.image_mode === 'full') {\n",
       "            // Full images could contain transparency (where diff images\n",
       "            // almost always do), so we need to clear the canvas so that\n",
       "            // there is no ghosting.\n",
       "            fig.context.clearRect(0, 0, fig.canvas.width, fig.canvas.height);\n",
       "        }\n",
       "        fig.context.drawImage(fig.imageObj, 0, 0);\n",
       "    };\n",
       "\n",
       "    this.imageObj.onunload = function () {\n",
       "        fig.ws.close();\n",
       "    };\n",
       "\n",
       "    this.ws.onmessage = this._make_on_message_function(this);\n",
       "\n",
       "    this.ondownload = ondownload;\n",
       "};\n",
       "\n",
       "mpl.figure.prototype._init_header = function () {\n",
       "    var titlebar = document.createElement('div');\n",
       "    titlebar.classList =\n",
       "        'ui-dialog-titlebar ui-widget-header ui-corner-all ui-helper-clearfix';\n",
       "    var titletext = document.createElement('div');\n",
       "    titletext.classList = 'ui-dialog-title';\n",
       "    titletext.setAttribute(\n",
       "        'style',\n",
       "        'width: 100%; text-align: center; padding: 3px;'\n",
       "    );\n",
       "    titlebar.appendChild(titletext);\n",
       "    this.root.appendChild(titlebar);\n",
       "    this.header = titletext;\n",
       "};\n",
       "\n",
       "mpl.figure.prototype._canvas_extra_style = function (_canvas_div) {};\n",
       "\n",
       "mpl.figure.prototype._root_extra_style = function (_canvas_div) {};\n",
       "\n",
       "mpl.figure.prototype._init_canvas = function () {\n",
       "    var fig = this;\n",
       "\n",
       "    var canvas_div = (this.canvas_div = document.createElement('div'));\n",
       "    canvas_div.setAttribute(\n",
       "        'style',\n",
       "        'border: 1px solid #ddd;' +\n",
       "            'box-sizing: content-box;' +\n",
       "            'clear: both;' +\n",
       "            'min-height: 1px;' +\n",
       "            'min-width: 1px;' +\n",
       "            'outline: 0;' +\n",
       "            'overflow: hidden;' +\n",
       "            'position: relative;' +\n",
       "            'resize: both;'\n",
       "    );\n",
       "\n",
       "    function on_keyboard_event_closure(name) {\n",
       "        return function (event) {\n",
       "            return fig.key_event(event, name);\n",
       "        };\n",
       "    }\n",
       "\n",
       "    canvas_div.addEventListener(\n",
       "        'keydown',\n",
       "        on_keyboard_event_closure('key_press')\n",
       "    );\n",
       "    canvas_div.addEventListener(\n",
       "        'keyup',\n",
       "        on_keyboard_event_closure('key_release')\n",
       "    );\n",
       "\n",
       "    this._canvas_extra_style(canvas_div);\n",
       "    this.root.appendChild(canvas_div);\n",
       "\n",
       "    var canvas = (this.canvas = document.createElement('canvas'));\n",
       "    canvas.classList.add('mpl-canvas');\n",
       "    canvas.setAttribute('style', 'box-sizing: content-box;');\n",
       "\n",
       "    this.context = canvas.getContext('2d');\n",
       "\n",
       "    var backingStore =\n",
       "        this.context.backingStorePixelRatio ||\n",
       "        this.context.webkitBackingStorePixelRatio ||\n",
       "        this.context.mozBackingStorePixelRatio ||\n",
       "        this.context.msBackingStorePixelRatio ||\n",
       "        this.context.oBackingStorePixelRatio ||\n",
       "        this.context.backingStorePixelRatio ||\n",
       "        1;\n",
       "\n",
       "    this.ratio = (window.devicePixelRatio || 1) / backingStore;\n",
       "    if (this.ratio !== 1) {\n",
       "        fig.send_message('set_dpi_ratio', { dpi_ratio: this.ratio });\n",
       "    }\n",
       "\n",
       "    var rubberband_canvas = (this.rubberband_canvas = document.createElement(\n",
       "        'canvas'\n",
       "    ));\n",
       "    rubberband_canvas.setAttribute(\n",
       "        'style',\n",
       "        'box-sizing: content-box; position: absolute; left: 0; top: 0; z-index: 1;'\n",
       "    );\n",
       "\n",
       "    var resizeObserver = new ResizeObserver(function (entries) {\n",
       "        var nentries = entries.length;\n",
       "        for (var i = 0; i < nentries; i++) {\n",
       "            var entry = entries[i];\n",
       "            var width, height;\n",
       "            if (entry.contentBoxSize) {\n",
       "                if (entry.contentBoxSize instanceof Array) {\n",
       "                    // Chrome 84 implements new version of spec.\n",
       "                    width = entry.contentBoxSize[0].inlineSize;\n",
       "                    height = entry.contentBoxSize[0].blockSize;\n",
       "                } else {\n",
       "                    // Firefox implements old version of spec.\n",
       "                    width = entry.contentBoxSize.inlineSize;\n",
       "                    height = entry.contentBoxSize.blockSize;\n",
       "                }\n",
       "            } else {\n",
       "                // Chrome <84 implements even older version of spec.\n",
       "                width = entry.contentRect.width;\n",
       "                height = entry.contentRect.height;\n",
       "            }\n",
       "\n",
       "            // Keep the size of the canvas and rubber band canvas in sync with\n",
       "            // the canvas container.\n",
       "            if (entry.devicePixelContentBoxSize) {\n",
       "                // Chrome 84 implements new version of spec.\n",
       "                canvas.setAttribute(\n",
       "                    'width',\n",
       "                    entry.devicePixelContentBoxSize[0].inlineSize\n",
       "                );\n",
       "                canvas.setAttribute(\n",
       "                    'height',\n",
       "                    entry.devicePixelContentBoxSize[0].blockSize\n",
       "                );\n",
       "            } else {\n",
       "                canvas.setAttribute('width', width * fig.ratio);\n",
       "                canvas.setAttribute('height', height * fig.ratio);\n",
       "            }\n",
       "            canvas.setAttribute(\n",
       "                'style',\n",
       "                'width: ' + width + 'px; height: ' + height + 'px;'\n",
       "            );\n",
       "\n",
       "            rubberband_canvas.setAttribute('width', width);\n",
       "            rubberband_canvas.setAttribute('height', height);\n",
       "\n",
       "            // And update the size in Python. We ignore the initial 0/0 size\n",
       "            // that occurs as the element is placed into the DOM, which should\n",
       "            // otherwise not happen due to the minimum size styling.\n",
       "            if (width != 0 && height != 0) {\n",
       "                fig.request_resize(width, height);\n",
       "            }\n",
       "        }\n",
       "    });\n",
       "    resizeObserver.observe(canvas_div);\n",
       "\n",
       "    function on_mouse_event_closure(name) {\n",
       "        return function (event) {\n",
       "            return fig.mouse_event(event, name);\n",
       "        };\n",
       "    }\n",
       "\n",
       "    rubberband_canvas.addEventListener(\n",
       "        'mousedown',\n",
       "        on_mouse_event_closure('button_press')\n",
       "    );\n",
       "    rubberband_canvas.addEventListener(\n",
       "        'mouseup',\n",
       "        on_mouse_event_closure('button_release')\n",
       "    );\n",
       "    // Throttle sequential mouse events to 1 every 20ms.\n",
       "    rubberband_canvas.addEventListener(\n",
       "        'mousemove',\n",
       "        on_mouse_event_closure('motion_notify')\n",
       "    );\n",
       "\n",
       "    rubberband_canvas.addEventListener(\n",
       "        'mouseenter',\n",
       "        on_mouse_event_closure('figure_enter')\n",
       "    );\n",
       "    rubberband_canvas.addEventListener(\n",
       "        'mouseleave',\n",
       "        on_mouse_event_closure('figure_leave')\n",
       "    );\n",
       "\n",
       "    canvas_div.addEventListener('wheel', function (event) {\n",
       "        if (event.deltaY < 0) {\n",
       "            event.step = 1;\n",
       "        } else {\n",
       "            event.step = -1;\n",
       "        }\n",
       "        on_mouse_event_closure('scroll')(event);\n",
       "    });\n",
       "\n",
       "    canvas_div.appendChild(canvas);\n",
       "    canvas_div.appendChild(rubberband_canvas);\n",
       "\n",
       "    this.rubberband_context = rubberband_canvas.getContext('2d');\n",
       "    this.rubberband_context.strokeStyle = '#000000';\n",
       "\n",
       "    this._resize_canvas = function (width, height, forward) {\n",
       "        if (forward) {\n",
       "            canvas_div.style.width = width + 'px';\n",
       "            canvas_div.style.height = height + 'px';\n",
       "        }\n",
       "    };\n",
       "\n",
       "    // Disable right mouse context menu.\n",
       "    this.rubberband_canvas.addEventListener('contextmenu', function (_e) {\n",
       "        event.preventDefault();\n",
       "        return false;\n",
       "    });\n",
       "\n",
       "    function set_focus() {\n",
       "        canvas.focus();\n",
       "        canvas_div.focus();\n",
       "    }\n",
       "\n",
       "    window.setTimeout(set_focus, 100);\n",
       "};\n",
       "\n",
       "mpl.figure.prototype._init_toolbar = function () {\n",
       "    var fig = this;\n",
       "\n",
       "    var toolbar = document.createElement('div');\n",
       "    toolbar.classList = 'mpl-toolbar';\n",
       "    this.root.appendChild(toolbar);\n",
       "\n",
       "    function on_click_closure(name) {\n",
       "        return function (_event) {\n",
       "            return fig.toolbar_button_onclick(name);\n",
       "        };\n",
       "    }\n",
       "\n",
       "    function on_mouseover_closure(tooltip) {\n",
       "        return function (event) {\n",
       "            if (!event.currentTarget.disabled) {\n",
       "                return fig.toolbar_button_onmouseover(tooltip);\n",
       "            }\n",
       "        };\n",
       "    }\n",
       "\n",
       "    fig.buttons = {};\n",
       "    var buttonGroup = document.createElement('div');\n",
       "    buttonGroup.classList = 'mpl-button-group';\n",
       "    for (var toolbar_ind in mpl.toolbar_items) {\n",
       "        var name = mpl.toolbar_items[toolbar_ind][0];\n",
       "        var tooltip = mpl.toolbar_items[toolbar_ind][1];\n",
       "        var image = mpl.toolbar_items[toolbar_ind][2];\n",
       "        var method_name = mpl.toolbar_items[toolbar_ind][3];\n",
       "\n",
       "        if (!name) {\n",
       "            /* Instead of a spacer, we start a new button group. */\n",
       "            if (buttonGroup.hasChildNodes()) {\n",
       "                toolbar.appendChild(buttonGroup);\n",
       "            }\n",
       "            buttonGroup = document.createElement('div');\n",
       "            buttonGroup.classList = 'mpl-button-group';\n",
       "            continue;\n",
       "        }\n",
       "\n",
       "        var button = (fig.buttons[name] = document.createElement('button'));\n",
       "        button.classList = 'mpl-widget';\n",
       "        button.setAttribute('role', 'button');\n",
       "        button.setAttribute('aria-disabled', 'false');\n",
       "        button.addEventListener('click', on_click_closure(method_name));\n",
       "        button.addEventListener('mouseover', on_mouseover_closure(tooltip));\n",
       "\n",
       "        var icon_img = document.createElement('img');\n",
       "        icon_img.src = '_images/' + image + '.png';\n",
       "        icon_img.srcset = '_images/' + image + '_large.png 2x';\n",
       "        icon_img.alt = tooltip;\n",
       "        button.appendChild(icon_img);\n",
       "\n",
       "        buttonGroup.appendChild(button);\n",
       "    }\n",
       "\n",
       "    if (buttonGroup.hasChildNodes()) {\n",
       "        toolbar.appendChild(buttonGroup);\n",
       "    }\n",
       "\n",
       "    var fmt_picker = document.createElement('select');\n",
       "    fmt_picker.classList = 'mpl-widget';\n",
       "    toolbar.appendChild(fmt_picker);\n",
       "    this.format_dropdown = fmt_picker;\n",
       "\n",
       "    for (var ind in mpl.extensions) {\n",
       "        var fmt = mpl.extensions[ind];\n",
       "        var option = document.createElement('option');\n",
       "        option.selected = fmt === mpl.default_extension;\n",
       "        option.innerHTML = fmt;\n",
       "        fmt_picker.appendChild(option);\n",
       "    }\n",
       "\n",
       "    var status_bar = document.createElement('span');\n",
       "    status_bar.classList = 'mpl-message';\n",
       "    toolbar.appendChild(status_bar);\n",
       "    this.message = status_bar;\n",
       "};\n",
       "\n",
       "mpl.figure.prototype.request_resize = function (x_pixels, y_pixels) {\n",
       "    // Request matplotlib to resize the figure. Matplotlib will then trigger a resize in the client,\n",
       "    // which will in turn request a refresh of the image.\n",
       "    this.send_message('resize', { width: x_pixels, height: y_pixels });\n",
       "};\n",
       "\n",
       "mpl.figure.prototype.send_message = function (type, properties) {\n",
       "    properties['type'] = type;\n",
       "    properties['figure_id'] = this.id;\n",
       "    this.ws.send(JSON.stringify(properties));\n",
       "};\n",
       "\n",
       "mpl.figure.prototype.send_draw_message = function () {\n",
       "    if (!this.waiting) {\n",
       "        this.waiting = true;\n",
       "        this.ws.send(JSON.stringify({ type: 'draw', figure_id: this.id }));\n",
       "    }\n",
       "};\n",
       "\n",
       "mpl.figure.prototype.handle_save = function (fig, _msg) {\n",
       "    var format_dropdown = fig.format_dropdown;\n",
       "    var format = format_dropdown.options[format_dropdown.selectedIndex].value;\n",
       "    fig.ondownload(fig, format);\n",
       "};\n",
       "\n",
       "mpl.figure.prototype.handle_resize = function (fig, msg) {\n",
       "    var size = msg['size'];\n",
       "    if (size[0] !== fig.canvas.width || size[1] !== fig.canvas.height) {\n",
       "        fig._resize_canvas(size[0], size[1], msg['forward']);\n",
       "        fig.send_message('refresh', {});\n",
       "    }\n",
       "};\n",
       "\n",
       "mpl.figure.prototype.handle_rubberband = function (fig, msg) {\n",
       "    var x0 = msg['x0'] / fig.ratio;\n",
       "    var y0 = (fig.canvas.height - msg['y0']) / fig.ratio;\n",
       "    var x1 = msg['x1'] / fig.ratio;\n",
       "    var y1 = (fig.canvas.height - msg['y1']) / fig.ratio;\n",
       "    x0 = Math.floor(x0) + 0.5;\n",
       "    y0 = Math.floor(y0) + 0.5;\n",
       "    x1 = Math.floor(x1) + 0.5;\n",
       "    y1 = Math.floor(y1) + 0.5;\n",
       "    var min_x = Math.min(x0, x1);\n",
       "    var min_y = Math.min(y0, y1);\n",
       "    var width = Math.abs(x1 - x0);\n",
       "    var height = Math.abs(y1 - y0);\n",
       "\n",
       "    fig.rubberband_context.clearRect(\n",
       "        0,\n",
       "        0,\n",
       "        fig.canvas.width / fig.ratio,\n",
       "        fig.canvas.height / fig.ratio\n",
       "    );\n",
       "\n",
       "    fig.rubberband_context.strokeRect(min_x, min_y, width, height);\n",
       "};\n",
       "\n",
       "mpl.figure.prototype.handle_figure_label = function (fig, msg) {\n",
       "    // Updates the figure title.\n",
       "    fig.header.textContent = msg['label'];\n",
       "};\n",
       "\n",
       "mpl.figure.prototype.handle_cursor = function (fig, msg) {\n",
       "    var cursor = msg['cursor'];\n",
       "    switch (cursor) {\n",
       "        case 0:\n",
       "            cursor = 'pointer';\n",
       "            break;\n",
       "        case 1:\n",
       "            cursor = 'default';\n",
       "            break;\n",
       "        case 2:\n",
       "            cursor = 'crosshair';\n",
       "            break;\n",
       "        case 3:\n",
       "            cursor = 'move';\n",
       "            break;\n",
       "    }\n",
       "    fig.rubberband_canvas.style.cursor = cursor;\n",
       "};\n",
       "\n",
       "mpl.figure.prototype.handle_message = function (fig, msg) {\n",
       "    fig.message.textContent = msg['message'];\n",
       "};\n",
       "\n",
       "mpl.figure.prototype.handle_draw = function (fig, _msg) {\n",
       "    // Request the server to send over a new figure.\n",
       "    fig.send_draw_message();\n",
       "};\n",
       "\n",
       "mpl.figure.prototype.handle_image_mode = function (fig, msg) {\n",
       "    fig.image_mode = msg['mode'];\n",
       "};\n",
       "\n",
       "mpl.figure.prototype.handle_history_buttons = function (fig, msg) {\n",
       "    for (var key in msg) {\n",
       "        if (!(key in fig.buttons)) {\n",
       "            continue;\n",
       "        }\n",
       "        fig.buttons[key].disabled = !msg[key];\n",
       "        fig.buttons[key].setAttribute('aria-disabled', !msg[key]);\n",
       "    }\n",
       "};\n",
       "\n",
       "mpl.figure.prototype.handle_navigate_mode = function (fig, msg) {\n",
       "    if (msg['mode'] === 'PAN') {\n",
       "        fig.buttons['Pan'].classList.add('active');\n",
       "        fig.buttons['Zoom'].classList.remove('active');\n",
       "    } else if (msg['mode'] === 'ZOOM') {\n",
       "        fig.buttons['Pan'].classList.remove('active');\n",
       "        fig.buttons['Zoom'].classList.add('active');\n",
       "    } else {\n",
       "        fig.buttons['Pan'].classList.remove('active');\n",
       "        fig.buttons['Zoom'].classList.remove('active');\n",
       "    }\n",
       "};\n",
       "\n",
       "mpl.figure.prototype.updated_canvas_event = function () {\n",
       "    // Called whenever the canvas gets updated.\n",
       "    this.send_message('ack', {});\n",
       "};\n",
       "\n",
       "// A function to construct a web socket function for onmessage handling.\n",
       "// Called in the figure constructor.\n",
       "mpl.figure.prototype._make_on_message_function = function (fig) {\n",
       "    return function socket_on_message(evt) {\n",
       "        if (evt.data instanceof Blob) {\n",
       "            /* FIXME: We get \"Resource interpreted as Image but\n",
       "             * transferred with MIME type text/plain:\" errors on\n",
       "             * Chrome.  But how to set the MIME type?  It doesn't seem\n",
       "             * to be part of the websocket stream */\n",
       "            evt.data.type = 'image/png';\n",
       "\n",
       "            /* Free the memory for the previous frames */\n",
       "            if (fig.imageObj.src) {\n",
       "                (window.URL || window.webkitURL).revokeObjectURL(\n",
       "                    fig.imageObj.src\n",
       "                );\n",
       "            }\n",
       "\n",
       "            fig.imageObj.src = (window.URL || window.webkitURL).createObjectURL(\n",
       "                evt.data\n",
       "            );\n",
       "            fig.updated_canvas_event();\n",
       "            fig.waiting = false;\n",
       "            return;\n",
       "        } else if (\n",
       "            typeof evt.data === 'string' &&\n",
       "            evt.data.slice(0, 21) === 'data:image/png;base64'\n",
       "        ) {\n",
       "            fig.imageObj.src = evt.data;\n",
       "            fig.updated_canvas_event();\n",
       "            fig.waiting = false;\n",
       "            return;\n",
       "        }\n",
       "\n",
       "        var msg = JSON.parse(evt.data);\n",
       "        var msg_type = msg['type'];\n",
       "\n",
       "        // Call the  \"handle_{type}\" callback, which takes\n",
       "        // the figure and JSON message as its only arguments.\n",
       "        try {\n",
       "            var callback = fig['handle_' + msg_type];\n",
       "        } catch (e) {\n",
       "            console.log(\n",
       "                \"No handler for the '\" + msg_type + \"' message type: \",\n",
       "                msg\n",
       "            );\n",
       "            return;\n",
       "        }\n",
       "\n",
       "        if (callback) {\n",
       "            try {\n",
       "                // console.log(\"Handling '\" + msg_type + \"' message: \", msg);\n",
       "                callback(fig, msg);\n",
       "            } catch (e) {\n",
       "                console.log(\n",
       "                    \"Exception inside the 'handler_\" + msg_type + \"' callback:\",\n",
       "                    e,\n",
       "                    e.stack,\n",
       "                    msg\n",
       "                );\n",
       "            }\n",
       "        }\n",
       "    };\n",
       "};\n",
       "\n",
       "// from http://stackoverflow.com/questions/1114465/getting-mouse-location-in-canvas\n",
       "mpl.findpos = function (e) {\n",
       "    //this section is from http://www.quirksmode.org/js/events_properties.html\n",
       "    var targ;\n",
       "    if (!e) {\n",
       "        e = window.event;\n",
       "    }\n",
       "    if (e.target) {\n",
       "        targ = e.target;\n",
       "    } else if (e.srcElement) {\n",
       "        targ = e.srcElement;\n",
       "    }\n",
       "    if (targ.nodeType === 3) {\n",
       "        // defeat Safari bug\n",
       "        targ = targ.parentNode;\n",
       "    }\n",
       "\n",
       "    // pageX,Y are the mouse positions relative to the document\n",
       "    var boundingRect = targ.getBoundingClientRect();\n",
       "    var x = e.pageX - (boundingRect.left + document.body.scrollLeft);\n",
       "    var y = e.pageY - (boundingRect.top + document.body.scrollTop);\n",
       "\n",
       "    return { x: x, y: y };\n",
       "};\n",
       "\n",
       "/*\n",
       " * return a copy of an object with only non-object keys\n",
       " * we need this to avoid circular references\n",
       " * http://stackoverflow.com/a/24161582/3208463\n",
       " */\n",
       "function simpleKeys(original) {\n",
       "    return Object.keys(original).reduce(function (obj, key) {\n",
       "        if (typeof original[key] !== 'object') {\n",
       "            obj[key] = original[key];\n",
       "        }\n",
       "        return obj;\n",
       "    }, {});\n",
       "}\n",
       "\n",
       "mpl.figure.prototype.mouse_event = function (event, name) {\n",
       "    var canvas_pos = mpl.findpos(event);\n",
       "\n",
       "    if (name === 'button_press') {\n",
       "        this.canvas.focus();\n",
       "        this.canvas_div.focus();\n",
       "    }\n",
       "\n",
       "    var x = canvas_pos.x * this.ratio;\n",
       "    var y = canvas_pos.y * this.ratio;\n",
       "\n",
       "    this.send_message(name, {\n",
       "        x: x,\n",
       "        y: y,\n",
       "        button: event.button,\n",
       "        step: event.step,\n",
       "        guiEvent: simpleKeys(event),\n",
       "    });\n",
       "\n",
       "    /* This prevents the web browser from automatically changing to\n",
       "     * the text insertion cursor when the button is pressed.  We want\n",
       "     * to control all of the cursor setting manually through the\n",
       "     * 'cursor' event from matplotlib */\n",
       "    event.preventDefault();\n",
       "    return false;\n",
       "};\n",
       "\n",
       "mpl.figure.prototype._key_event_extra = function (_event, _name) {\n",
       "    // Handle any extra behaviour associated with a key event\n",
       "};\n",
       "\n",
       "mpl.figure.prototype.key_event = function (event, name) {\n",
       "    // Prevent repeat events\n",
       "    if (name === 'key_press') {\n",
       "        if (event.which === this._key) {\n",
       "            return;\n",
       "        } else {\n",
       "            this._key = event.which;\n",
       "        }\n",
       "    }\n",
       "    if (name === 'key_release') {\n",
       "        this._key = null;\n",
       "    }\n",
       "\n",
       "    var value = '';\n",
       "    if (event.ctrlKey && event.which !== 17) {\n",
       "        value += 'ctrl+';\n",
       "    }\n",
       "    if (event.altKey && event.which !== 18) {\n",
       "        value += 'alt+';\n",
       "    }\n",
       "    if (event.shiftKey && event.which !== 16) {\n",
       "        value += 'shift+';\n",
       "    }\n",
       "\n",
       "    value += 'k';\n",
       "    value += event.which.toString();\n",
       "\n",
       "    this._key_event_extra(event, name);\n",
       "\n",
       "    this.send_message(name, { key: value, guiEvent: simpleKeys(event) });\n",
       "    return false;\n",
       "};\n",
       "\n",
       "mpl.figure.prototype.toolbar_button_onclick = function (name) {\n",
       "    if (name === 'download') {\n",
       "        this.handle_save(this, null);\n",
       "    } else {\n",
       "        this.send_message('toolbar_button', { name: name });\n",
       "    }\n",
       "};\n",
       "\n",
       "mpl.figure.prototype.toolbar_button_onmouseover = function (tooltip) {\n",
       "    this.message.textContent = tooltip;\n",
       "};\n",
       "mpl.toolbar_items = [[\"Home\", \"Reset original view\", \"fa fa-home icon-home\", \"home\"], [\"Back\", \"Back to previous view\", \"fa fa-arrow-left icon-arrow-left\", \"back\"], [\"Forward\", \"Forward to next view\", \"fa fa-arrow-right icon-arrow-right\", \"forward\"], [\"\", \"\", \"\", \"\"], [\"Pan\", \"Left button pans, Right button zooms\\nx/y fixes axis, CTRL fixes aspect\", \"fa fa-arrows icon-move\", \"pan\"], [\"Zoom\", \"Zoom to rectangle\\nx/y fixes axis, CTRL fixes aspect\", \"fa fa-square-o icon-check-empty\", \"zoom\"], [\"\", \"\", \"\", \"\"], [\"Download\", \"Download plot\", \"fa fa-floppy-o icon-save\", \"download\"]];\n",
       "\n",
       "mpl.extensions = [\"eps\", \"jpeg\", \"pdf\", \"png\", \"ps\", \"raw\", \"svg\", \"tif\"];\n",
       "\n",
       "mpl.default_extension = \"png\";/* global mpl */\n",
       "\n",
       "var comm_websocket_adapter = function (comm) {\n",
       "    // Create a \"websocket\"-like object which calls the given IPython comm\n",
       "    // object with the appropriate methods. Currently this is a non binary\n",
       "    // socket, so there is still some room for performance tuning.\n",
       "    var ws = {};\n",
       "\n",
       "    ws.close = function () {\n",
       "        comm.close();\n",
       "    };\n",
       "    ws.send = function (m) {\n",
       "        //console.log('sending', m);\n",
       "        comm.send(m);\n",
       "    };\n",
       "    // Register the callback with on_msg.\n",
       "    comm.on_msg(function (msg) {\n",
       "        //console.log('receiving', msg['content']['data'], msg);\n",
       "        // Pass the mpl event to the overridden (by mpl) onmessage function.\n",
       "        ws.onmessage(msg['content']['data']);\n",
       "    });\n",
       "    return ws;\n",
       "};\n",
       "\n",
       "mpl.mpl_figure_comm = function (comm, msg) {\n",
       "    // This is the function which gets called when the mpl process\n",
       "    // starts-up an IPython Comm through the \"matplotlib\" channel.\n",
       "\n",
       "    var id = msg.content.data.id;\n",
       "    // Get hold of the div created by the display call when the Comm\n",
       "    // socket was opened in Python.\n",
       "    var element = document.getElementById(id);\n",
       "    var ws_proxy = comm_websocket_adapter(comm);\n",
       "\n",
       "    function ondownload(figure, _format) {\n",
       "        window.open(figure.canvas.toDataURL());\n",
       "    }\n",
       "\n",
       "    var fig = new mpl.figure(id, ws_proxy, ondownload, element);\n",
       "\n",
       "    // Call onopen now - mpl needs it, as it is assuming we've passed it a real\n",
       "    // web socket which is closed, not our websocket->open comm proxy.\n",
       "    ws_proxy.onopen();\n",
       "\n",
       "    fig.parent_element = element;\n",
       "    fig.cell_info = mpl.find_output_cell(\"<div id='\" + id + \"'></div>\");\n",
       "    if (!fig.cell_info) {\n",
       "        console.error('Failed to find cell for figure', id, fig);\n",
       "        return;\n",
       "    }\n",
       "    fig.cell_info[0].output_area.element.one(\n",
       "        'cleared',\n",
       "        { fig: fig },\n",
       "        fig._remove_fig_handler\n",
       "    );\n",
       "};\n",
       "\n",
       "mpl.figure.prototype.handle_close = function (fig, msg) {\n",
       "    var width = fig.canvas.width / fig.ratio;\n",
       "    fig.cell_info[0].output_area.element.off(\n",
       "        'cleared',\n",
       "        fig._remove_fig_handler\n",
       "    );\n",
       "\n",
       "    // Update the output cell to use the data from the current canvas.\n",
       "    fig.push_to_output();\n",
       "    var dataURL = fig.canvas.toDataURL();\n",
       "    // Re-enable the keyboard manager in IPython - without this line, in FF,\n",
       "    // the notebook keyboard shortcuts fail.\n",
       "    IPython.keyboard_manager.enable();\n",
       "    fig.parent_element.innerHTML =\n",
       "        '<img src=\"' + dataURL + '\" width=\"' + width + '\">';\n",
       "    fig.close_ws(fig, msg);\n",
       "};\n",
       "\n",
       "mpl.figure.prototype.close_ws = function (fig, msg) {\n",
       "    fig.send_message('closing', msg);\n",
       "    // fig.ws.close()\n",
       "};\n",
       "\n",
       "mpl.figure.prototype.push_to_output = function (_remove_interactive) {\n",
       "    // Turn the data on the canvas into data in the output cell.\n",
       "    var width = this.canvas.width / this.ratio;\n",
       "    var dataURL = this.canvas.toDataURL();\n",
       "    this.cell_info[1]['text/html'] =\n",
       "        '<img src=\"' + dataURL + '\" width=\"' + width + '\">';\n",
       "};\n",
       "\n",
       "mpl.figure.prototype.updated_canvas_event = function () {\n",
       "    // Tell IPython that the notebook contents must change.\n",
       "    IPython.notebook.set_dirty(true);\n",
       "    this.send_message('ack', {});\n",
       "    var fig = this;\n",
       "    // Wait a second, then push the new image to the DOM so\n",
       "    // that it is saved nicely (might be nice to debounce this).\n",
       "    setTimeout(function () {\n",
       "        fig.push_to_output();\n",
       "    }, 1000);\n",
       "};\n",
       "\n",
       "mpl.figure.prototype._init_toolbar = function () {\n",
       "    var fig = this;\n",
       "\n",
       "    var toolbar = document.createElement('div');\n",
       "    toolbar.classList = 'btn-toolbar';\n",
       "    this.root.appendChild(toolbar);\n",
       "\n",
       "    function on_click_closure(name) {\n",
       "        return function (_event) {\n",
       "            return fig.toolbar_button_onclick(name);\n",
       "        };\n",
       "    }\n",
       "\n",
       "    function on_mouseover_closure(tooltip) {\n",
       "        return function (event) {\n",
       "            if (!event.currentTarget.disabled) {\n",
       "                return fig.toolbar_button_onmouseover(tooltip);\n",
       "            }\n",
       "        };\n",
       "    }\n",
       "\n",
       "    fig.buttons = {};\n",
       "    var buttonGroup = document.createElement('div');\n",
       "    buttonGroup.classList = 'btn-group';\n",
       "    var button;\n",
       "    for (var toolbar_ind in mpl.toolbar_items) {\n",
       "        var name = mpl.toolbar_items[toolbar_ind][0];\n",
       "        var tooltip = mpl.toolbar_items[toolbar_ind][1];\n",
       "        var image = mpl.toolbar_items[toolbar_ind][2];\n",
       "        var method_name = mpl.toolbar_items[toolbar_ind][3];\n",
       "\n",
       "        if (!name) {\n",
       "            /* Instead of a spacer, we start a new button group. */\n",
       "            if (buttonGroup.hasChildNodes()) {\n",
       "                toolbar.appendChild(buttonGroup);\n",
       "            }\n",
       "            buttonGroup = document.createElement('div');\n",
       "            buttonGroup.classList = 'btn-group';\n",
       "            continue;\n",
       "        }\n",
       "\n",
       "        button = fig.buttons[name] = document.createElement('button');\n",
       "        button.classList = 'btn btn-default';\n",
       "        button.href = '#';\n",
       "        button.title = name;\n",
       "        button.innerHTML = '<i class=\"fa ' + image + ' fa-lg\"></i>';\n",
       "        button.addEventListener('click', on_click_closure(method_name));\n",
       "        button.addEventListener('mouseover', on_mouseover_closure(tooltip));\n",
       "        buttonGroup.appendChild(button);\n",
       "    }\n",
       "\n",
       "    if (buttonGroup.hasChildNodes()) {\n",
       "        toolbar.appendChild(buttonGroup);\n",
       "    }\n",
       "\n",
       "    // Add the status bar.\n",
       "    var status_bar = document.createElement('span');\n",
       "    status_bar.classList = 'mpl-message pull-right';\n",
       "    toolbar.appendChild(status_bar);\n",
       "    this.message = status_bar;\n",
       "\n",
       "    // Add the close button to the window.\n",
       "    var buttongrp = document.createElement('div');\n",
       "    buttongrp.classList = 'btn-group inline pull-right';\n",
       "    button = document.createElement('button');\n",
       "    button.classList = 'btn btn-mini btn-primary';\n",
       "    button.href = '#';\n",
       "    button.title = 'Stop Interaction';\n",
       "    button.innerHTML = '<i class=\"fa fa-power-off icon-remove icon-large\"></i>';\n",
       "    button.addEventListener('click', function (_evt) {\n",
       "        fig.handle_close(fig, {});\n",
       "    });\n",
       "    button.addEventListener(\n",
       "        'mouseover',\n",
       "        on_mouseover_closure('Stop Interaction')\n",
       "    );\n",
       "    buttongrp.appendChild(button);\n",
       "    var titlebar = this.root.querySelector('.ui-dialog-titlebar');\n",
       "    titlebar.insertBefore(buttongrp, titlebar.firstChild);\n",
       "};\n",
       "\n",
       "mpl.figure.prototype._remove_fig_handler = function (event) {\n",
       "    var fig = event.data.fig;\n",
       "    fig.close_ws(fig, {});\n",
       "};\n",
       "\n",
       "mpl.figure.prototype._root_extra_style = function (el) {\n",
       "    el.style.boxSizing = 'content-box'; // override notebook setting of border-box.\n",
       "};\n",
       "\n",
       "mpl.figure.prototype._canvas_extra_style = function (el) {\n",
       "    // this is important to make the div 'focusable\n",
       "    el.setAttribute('tabindex', 0);\n",
       "    // reach out to IPython and tell the keyboard manager to turn it's self\n",
       "    // off when our div gets focus\n",
       "\n",
       "    // location in version 3\n",
       "    if (IPython.notebook.keyboard_manager) {\n",
       "        IPython.notebook.keyboard_manager.register_events(el);\n",
       "    } else {\n",
       "        // location in version 2\n",
       "        IPython.keyboard_manager.register_events(el);\n",
       "    }\n",
       "};\n",
       "\n",
       "mpl.figure.prototype._key_event_extra = function (event, _name) {\n",
       "    var manager = IPython.notebook.keyboard_manager;\n",
       "    if (!manager) {\n",
       "        manager = IPython.keyboard_manager;\n",
       "    }\n",
       "\n",
       "    // Check for shift+enter\n",
       "    if (event.shiftKey && event.which === 13) {\n",
       "        this.canvas_div.blur();\n",
       "        // select the cell after this one\n",
       "        var index = IPython.notebook.find_cell_index(this.cell_info[0]);\n",
       "        IPython.notebook.select(index + 1);\n",
       "    }\n",
       "};\n",
       "\n",
       "mpl.figure.prototype.handle_save = function (fig, _msg) {\n",
       "    fig.ondownload(fig, null);\n",
       "};\n",
       "\n",
       "mpl.find_output_cell = function (html_output) {\n",
       "    // Return the cell and output element which can be found *uniquely* in the notebook.\n",
       "    // Note - this is a bit hacky, but it is done because the \"notebook_saving.Notebook\"\n",
       "    // IPython event is triggered only after the cells have been serialised, which for\n",
       "    // our purposes (turning an active figure into a static one), is too late.\n",
       "    var cells = IPython.notebook.get_cells();\n",
       "    var ncells = cells.length;\n",
       "    for (var i = 0; i < ncells; i++) {\n",
       "        var cell = cells[i];\n",
       "        if (cell.cell_type === 'code') {\n",
       "            for (var j = 0; j < cell.output_area.outputs.length; j++) {\n",
       "                var data = cell.output_area.outputs[j];\n",
       "                if (data.data) {\n",
       "                    // IPython >= 3 moved mimebundle to data attribute of output\n",
       "                    data = data.data;\n",
       "                }\n",
       "                if (data['text/html'] === html_output) {\n",
       "                    return [cell, data, j];\n",
       "                }\n",
       "            }\n",
       "        }\n",
       "    }\n",
       "};\n",
       "\n",
       "// Register the function which deals with the matplotlib target/channel.\n",
       "// The kernel may be null if the page has been refreshed.\n",
       "if (IPython.notebook.kernel !== null) {\n",
       "    IPython.notebook.kernel.comm_manager.register_target(\n",
       "        'matplotlib',\n",
       "        mpl.mpl_figure_comm\n",
       "    );\n",
       "}\n"
      ],
      "text/plain": [
       "<IPython.core.display.Javascript object>"
      ]
     },
     "metadata": {},
     "output_type": "display_data"
    },
    {
     "data": {
      "text/html": [
       "<img src=\"data:image/png;base64,iVBORw0KGgoAAAANSUhEUgAAAtgAAADyCAYAAAB3e7J8AAAgAElEQVR4XuxdB3gUVRc96QlpQBKS0CH03pt0kKqCgChIEwFBAQFBiqCAooCIINLEXwEpUgSkd5BeQ+8EQie0QHpCyv+dGzdukk2yk+wmu+zc78tHyL598959b2bO3Dn3XKuEhIQEmKCNHz8es2bNwoULF1KNLnfu3HB0dMzWUQcGBqJYsWLYsGED3njjDUXHXrp0KfLmzQs/Pz/Y2Nhg7969GDRoEMaMGYOxY8em6qtDhw7gsqxbty7V8ebOnSvf/fHHH9GiRQvs2LEDQ4YMAf/et29f6Ss8PBxDhw5F5cqVcenSJcyePVv602UvX76Ej48PFi1aJPPSZ6waX/zxxx9o3rx5UrdOTk5wd3dP+r8+Y42IiECFChXg6+uLH374AVZWVhg2bBiCgoJw7tw5sM+sWGb7j4mJwbNnz5Id+syZM2jVqhWWLVuGLl26yGdsw7ba1r17d9y5c0d8z/nQihYtijZt2uDLL79Masq94OXllfR/ffriev/vf/+T45ctWxZhYWGYMGGC7AOOr2TJkllxl/pd1QOqB1QPqB5QPaB6IIsesKKZMsD++eef8eTJkzSnSaDapEkTrFmzRsD44cOHkSdPHgwcOFDAq7axL7a5efMmPD090blzZ3z33XfJANz58+cF8O7btw+RkZECij7//HN88MEH0IDKhQsXYuvWrdi4cSNcXV1BMPXtt98KcFZib7/9Nl68eIHdu3cn+9rUqVNlPgSvpUqVSgawCZKLFCkiIO+XX35J+l6/fv2wfft2GWNK47wJyNMC2JzLu+++i0ePHsHBwUHnFFKOVZ+HDX3HSrDI8d+6dQsFCxaU49+9e1fm+euvv4rvs2KG7J/jXL9+PW7fvg17e3udwyKw5oPY9OnTMXjw4KQ23EudOnXCtGnT9J5OWn2l7IB7lQ823IfDhw/Xu3+1oeoB1QOqB1QPqB5QPWB4D7wyAJvAjGC5du3a2LJlCz777DMB0/379xevLViwAB9//DEmT56MN998EwTSAwYMEKDKyC3t8uXLqFmzJurXry8gO3/+/Lh27ZpEKN97770kgM1I69dff41GjRphz549Ag5/++03vYEggeeRI0fQrl07iTKPHj06aWX5wECwe/z4ccTHx6eKmGuALSPb/L7G/v77b7Rv317GSGCqbRkB7D59+iA6OloAfUpLa6yacdDvBHeFChUSv44cORLOzs7Sjb5j7dWrl0ReT506lezwVatWRZUqVfD777+nufMbN24sn9FvaVlW+tfu8/nz5yhQoIBE17n+adkXX3yBmTNn4t69e8mi+QTYjKZzXT08PFCvXj2JPBcuXFhxXym/8PjxY3kDwDXURNYNf7lQe1Q9oHpA9YDqAdUDqgf08YDJA2wCEA1g057QxYsXBZhoItgE16NGjUpqQqoEI7qMitIIOkmnINDW2JIlS9CjRw8EBAQIkO3Zs6dErgm0dUVyNYCRAOqbb75J6oegntQP0gbSM9Id6tatK2CWwHXcuHH46quvkr5CQFajRg2J2rZt2zYJoGpTUhihJzA7evQoatWqlfRd/r9OnTo4dOiQHEPb0gPYsbGxQg9hlFcbsGc0Vr5VYCT/tddek/Xh8flQUrx4cRw8eBDW1tbyNkGfsbZs2VKi/5s3b0427tatWwsY3bZtW5pu5frRFi9enGabrPSv3emMGTMkOsx9oIm0pzwoqSJ82GDEf968eck+Jv2FDw3e3t64fv06Jk6cKH2dPn1avqOkL+229BEj43xI4brlypVLn3NfbaN6QPWA6gHVA6oHVA8YyQMmD7B/+uknHDt2LNX0GQ20tbVNAtgHDhwQsKcNnkndCAkJkT+5ublJdK9bt25Jbfj6nSBdA2DLly8vEXBGo3WZBmCTvkEApbGOHTsiODg4FdVDF2AitYCcWY6XFBZG1BlZj4uLQ8OGDdGgQQP5G00XDYMAmvNMC2AT1BJoa1t6AJu8XY6f9BBtTjuBYlpjTWsv8oGGYJb/vv766wL29RkrH3y4lroANh9ESGHJihmif46jTJkywhX/66+/0hwO+evcYwS7lSpVSnfYT58+lQc70ncmTZqUqq0+fXHf9O7dW3y+a9culCtXLiuuUr+rekD1gOoB1QOqB1QPGMADJg+w9eVgpwTYBNOMbmoDbEas33///TQBNsEJwWlGADtlkiOjh4zopkdT0LVWjGCSj0seNn/IHU/J4yaAYjSYiWuMrOtLu9AXYJPeQsCfUfRde6yapL2Uc2I/5KTPnz9faDP6jtVQFI60zgdD9K95eCCIbdq0aZqnHiP2fFjgmxB9jG8syLPX5f+M+iI1h3Sis2fPYufOnShRooQ+h1TbqB5QPaB6QPWA6gHVA0b2wCsDsKdMmSLJiBr76KOPJPKpTRFhdFU7MZARQka5b9y4IcmMpIjs379fgKyuBLa0EvsyC7CpksJoNXm5NNJetO3+/fsSEaYCCCPCBNmaxEGqUWhTEDhfUimUJDkSvJO3S0CsHZHXtee0x0rAr8v++ecfkBNNDjy57fqOVZOEyIg5Oc400mX4dsGQSY5Z6Z/0GfLxU66Rth/IIa9WrRr+/PNPAb4ZGR/+OEfmCWjeWmi+k1FffGNCzjvzA/gWQuO3jI6pfq56QPWA6gHVA6oHVA8Y3wMmD7DTkuljpJTcXw0HmxxWghTykgmsmYhGeknKJEcqdFCKjtJ//IwANmWSI5MXSd8g+NSV5Kg0gk0gRXUHAiICIUYeqRzCBwIC/JRcXc2ypwXoKX1HdQpygimRx6jqp59+ijlz5iTJ9GkAO6keK1asEN9okggJ6igZyO8RODJBTiOFp+9Yyb8m0CagJOeXSZkjRowQdRZSehjFpekzVo2MHpNKqbxBY5LqgwcPMpTp04eDrW//TDbl2OkXbeNDGjn29DfVadIyJotu2rRJqDV2dnbJmpG6w7cszZo1kwRHPtRRro+caX9/f+Gua1t6fdEvfOAif550FfanMRcXF/BHNdUDqgdUD6geUD2geiDnPGDyAJtJjrqMKg5MqtMAbAINAmqqc2jL9GnTGbRl+ghKGGVMKdPH1+1MYuQrfoJTcmQJhEkzyGwEmwCPQJDgjdrOBEAEbJSfI5UiLXm/9KTw+OBBwKfhkVMHOyX4Y1ReE8HX9iFVOTgfqqgwEsqIq8b0HSuTCklvoeQhgR6TSKndTV9Ro1zb9BkrASfnQFUWGmkYVOLgHNIzfVRE+H19+qdPuJ9SvgUg8ObeYVSdXH5dplEYYRKkrj1LEE2uNd+OhIaGikIN1WqY5JpStzqjvvhwk5Z0Ifvj2wbVVA+oHlA9oHpA9YDqgZzzgEkDbH3cogHYjAQyAU01/TxA5QmCPAJHUlxUUz2gekD1gOoB1QOqB1QPqB4wjAdUgG0YP5pdL6SFkNvNiLMq62Z2y6cOWPWA6gHVA6oHVA+oHjBhD6gA24QXRx2a6gHVA6oHVA+oHlA9oHpA9YD5eUARwCadgPxP0jFYBITVBNMy8lkpPaatxkG1g5RFUMzPZeqIVQ+oHlA9oHpA9YDqAdUDqgdUD6TtAUUAmwVWqBxBzd27d+9mCLCZ7MZEPNVUD6geUD2gekD1gOoB1QOqB1QPWIoHFAFsjVOoUsDyzhlFsFWAbSnbSJ2n6gHVA6oHVA+oHlA9oHpA9YDGA0YF2H///Tcok0c96Q8//FBk2NIqUqIuieoB1QOqB1QPqB5QPaB6QPWA6oFXwQNGA9jU/WXxFxY0YRGSzp07Y+jQofKTljEynpbu9avgbHUOqgey0wOspGmOpq1db47jV8esekD1gOoB1QPm5wFD3zONBrBTupZVBlmchIVg9DXeaA09YX2Prd2OkXhWPFTtPw+oPkm9G0zJJ6Zy7mTmnDHnsSudryntGaVjV9penatSj5lPe3VtzWetlIzUktbVGPedbAPYLAdOBRIVYCvZ3qbb1pJOPH1XwZR8YoyLhb5+yGo7cx670rmb0p5ROnal7dW5KvWY+bRX19Z81krJSC1pXY1x31EEsFkSmz/ffPMNWFJ85cqVwqnWluLTLB4/a9WqFVxdXXHy5EmpFvjJJ59gxIgReq+vMSas98G1GlrSJtPXP6pP1Ai2vntFaTtTOe+Vjjsz7S3pPFLnmpkdYh7fUdfWPNZJ6SgtaV2Ncd9RBLB1caQbNWoElivv37+/rB0j1bSGDRsKCCcgL1CggCQ5Dh8+XFGSozEmrHSDsb0lbTJ9/aP6RAXY+u4Vpe1M5bxXOu7MtLek80ida2Z2iHl8R11b81gnpaO0pHU1xn1HEcBWujhZbW+MCWdmTJa0yfT1j+oTFWDru1eUtuN532H2AXSvWxRvVc4Pa2srpV2YTXtLOo/UuZrNtlQ8UHVtFbvMLL5gSetqDLxp1gA7Pj4ecXFxRk+E3LZtG1q2bGkWJ4QhBsmNZmtrKxKLaZklnXj6+tSUfGKMi4W+fshqO4696MiNAqxblffGrC7VXlmQbUp7JqvrltH31blm5CHz/dyc11YpjrAkPPCqzJX3FBsbm3QZFMa4Z5olwCbt5OHDhwgNDc2WK1JERARy5cqVLccylYNwM1Jm0cnJSeeQzPmCaiwfm5JPjHGxMJbfUvbLsRcZuVH+bGNthR/eqYz2VQtk1+Gz9TimtGeMPXF1rsb2cM71b45rm1kcYUl44FWbK3MCfXx8JICo675jaNU6swPYdMD169flacTb2xt2dnZGv6qEhITAzc3N6McxpQM8efIEYWFhKFmypM5ItjleUI3tX1PyyasCsPkOpVqRPPhrQD1jL1+O9G9Ke8bYDlDnamwP51z/5ra2WcERloQHXqW5vnz5EkFBQcJ6KFGiRCpcY4x7ptkBbDqJALt48eJwcHDIlivK8+fPwbLvlmQxMTEICAiQjajrIcbcLqjZsXam5BNjXCyyw4c8hnYEm//3cXPAkTHNs+vw2XocU9ozxp64Oldjezjn+je3tc0KjrAkPPCqzTU6Oho3btzQiWuMcc80O4CtAX5+fn465QGNcYl51TaZPj7KyM/mdkHVZ85ZbWNKPjH0xWLQoEFYt24dXrx4IdKb77zzDqZOnarzHOzVqxeWLVuW7LMdO3agbt26erlYG2CrEWy9XGYWjUzp/DC2wyxprvSluc03o/tbevvDkvDAqzbX9Nbd0PfMf4NFVlYJhiaeGOjqpWvCWTkxMjusV22T6eOHjPxsbhdUfeac1Tam5BNDXywuXbqEwoULw9nZGY8fP0bnzp3RrFkzjB07NpXbCLD5xmfGjBmZcqnKwc6U20z+S6Z0fhjbWZY0VxVgG3s35Vz/rxr2UQG21l56lQF2YGAgihUrhuDgYJOkn6gAW/lFzZRuqoYG2NreIMB+7733ULBgQSxatMgoAFtVEVG+/0z9G6Z0fhjbV5Y0VxVgG3s3Zb3/27dvo1y5crh37x7c3d0z7LB169Z488030bVrV5PEJxlOII0GKsB+hQD2/v37perl0aNHhVdatGhR9OjRA4MHD8adO3eyHWCTdzZ06FB5fU97//338eOPP+rMqFUBtvJT2JRuqsYA2JMnT8akSZMk+dXDwwNbt25FjRo1dAJs+oJj8PX1lSJTQ4YM0bvIlOhgzzmI7nWKqDrYyrehyX7DlM4PYzvJkuZqiQDbzc0d68/cxx+HA3H3eSQK5nYyuG6/i4tL0jaNjIyU+7QmH6pBgwbYsmWLsbcxjBHBZmHC9u3bS9/ZbSrAfkUA9saNG9GlSxd899138i8Byfnz5zFx4kT88ssvsrmyO4L91VdfCVdOc2LyKbVDhw748ssvU+1zFWArP/VN6aZqDICt8QjpIkuXLpXqrYxipzR/f3+ReMybNy+OHz8udBI+2PFHl+mqEEu+t2qqB1QPqB4whgesra2RP39+FClSRGeAKb1jxickYOS6K9h99SniE4AEJmYDYD2spqU8MKV9aVinU0MiM/N544030LZtWwwYMCDV1yk3SFW19OpWZOaYxvrOgQMHJLh369YtYx0izX7pKx73/v37oP65thH0G5otbblJjnRudAjg4AZYW6e70Eqf4rhITMLs06cPxowZo7PvlBSR7du3S9tr166J5vbbb7+NH374IUmHevr06cJpJaWEYJ3cV/Z/8+ZN9O3bV4AMT7KyZcuCCWW6dLsJehix7tSpk4xp1apVUr5e10ZXAbbyc99SALZm78yfPx87d+7M0FFz5szB4sWLceTIkQzbsoExHw70GkA2NjKlPWPsaatzNbaHc65/c1vbjO5v6Xly6cGr+HLTdcQRXacwY+n2N27cWKK+fBOouUbOnDkTvAZTVe3p06cSuJs7d67UCMmXL58ENAYOHCjtU+IN5skwGs5aIps2bZKHDfbF49A0x2O706dPy7G///57CRBSG5tvJZnkrrFZs2bJ//kZHwIYYORY+f2Ull4Em+P57LPPsGHDBvlau3btBAcx94cKIOx7/fr14Nt44pnff/8dNWvWFMzD7xEPEfswcEhfpDQ1gq3lEaNxsB9dAjYOA0LuAW4FgDemA/nKpnlOKQXYV69eRenSpUXmjnKCuizlhiedhK+EKlWqJICXT6vdunXDF198AfZXpUoVMDJYpkwZ0XLkD9uSI0WNbm5wGoE2X9vb29snOyyBOSOKBPCU3qPx91KlSkk0PSUvK6MLkLldULPj1mNKPjE2SF2+fDlGjRqlVxRi3rx5WLhwoQqwdWxCU9ozxj5H1Lka28M517+5ra2u+9trk3cjJOplhk4Mj46VyHVaxki2s0PqQiaa9m6Odjg4qmmGx9FuoAtgU5Vp9erVcl+nZPGaNWtQq1YteatIENumTRsJgLz22ms6AfZff/0lb7QbNWokb9p//fVXaacLYDOhnWB9ypQpAmKJMQjMOa5du3ZJ0I5VH4lTSItlfwsWLFAMsHv37i1jYPCPgUr2S4zChwf+8CGAxyNeIX5hITwCbT4gcGzdu3dHeHg4zpw5g3r1UtdOUAG2sQE2I9cL2wLBNwFHdyDqBZCnGNBrU5qRbKUA++DBg6hfvz7Im3J0dNQLYKdsxGg1NzCfzAjUK1SogCVLlshJo11dsWfPngKQp02bJkVh0jJyvqkCwQQ1T09Pacbf+aTLz1K+6lcBtqLrnzQ2pZuMIQE2OdcrV66UtypUB7lw4YIkOfICxoteSmPbVq1aiZzfyZMn5SL5ySefYMSIEXo51ZBj1+uAOdjIlPaMsd2gztXYHs65/s1tbbMCsMOiYoUWkpaRLuLiaHyAvXbtWoksp2X8jNFdBul0RbCjoqLw559/yteZ/EgMwAJzfEOeMoLdtGlTyb3RvBl//fXX5RrPqDGj2cQkP//8s/TF6LKXl5e8cVcSwSZlg/3/888/qF27tvR16NAh8NiMjDOhnsCd//Jz0nw0RqoPj8WHAB47LVMBtpZnjBLBjnwOzG8I2DkBto5AbBTwMhLovz8RcOswpQD7ypUrEmlWEsFm5Hn06NE4d+6cAHNyhRgFP3XqlIyIoIWvPAhY6tSpI69j+LT46NEjkMNKME5/cZORU629+fh9TQSbr5NIX6Hxd4JyNYJtmBuTKd1kDAlSGRHgxZpvUPiajg9lHTt2xIQJE+SCSC42jZFqWsOGDXH27FnZwwUKFJALMKlIKfdkmjcoKyuDc+EMs8KG78WU9ozhZ5e8R3WuxvZwzvVvbmubUQApPU+2m7UPZ++F6gTZxtLt1xXBJhaoVq1a0lCZF0M6BSPMjP4SlDKwQVqoLoCtLaVKDJAnTx75LsUYdFFEtJMSeT8g/iD2YC4X248cOTJpLKSq8v9KADbfyrOMOSkurNJN4+9MlOdnjNQT96xYsUKCgm+99ZYEFhkw5L2JCfh79uwRXj2xFHN/UpoKsI0NsLMhgs3NTWpIv379ZKF1WcoNT9rGBx98ILwl8o349MfX6uQ/aRvBNwE0FRwIxrWNSZTNmzfH7NmzBQClNL5KYb+az/h6adiwYaCEj5KNyLbmdkHNjluPKfnEkAA7O3ynfQxzHrtSX5nSnlE6dqXt1bkq9Zj5tDe3tc0KwDYVDjaDbwS5NN7DiTmICwh2qThCEEywzHu+MQF2ygg2AysEvZmJYDMSvm/fvqQI9uHDh9GkSRN5WNAO0BBwUzyifPnySfRY+oFRcCbIE1wzKq8B6pozSQXYxgbY7N/IHGwegiR/8qMpbcbX6Xz6ovoCkwQYiU6pIsKoIFU++MR58eJFOTkYHSTAZkScJxBpJ+RWk+PETcQTjJFtRrQJnu/evSu/M6mMyQEpjcCc49q8ebN8RLoJj6OqiBjmRmZKNxlzBqnmPHalO8mU9ozSsSttr85VqcfMp725rW1WAPaz4GCM23wDWy8EIT4+4T8VEWsrtCrvjVldqsGaRGwDmq4ItjbAJmaoWLGiYALSSXmPJ8hkkM/YAJs8bx6LQg2VK1eWSDJ/MuJgMzqtbcQ2BOuMThPXMFDJisF8486+du/eLTiK8yO9hcfkW35yrxnVptIKo/Bs16JFC4l6k+6ibSrAzg6AnfioA8SEAvauBlcR0UyBT2IEw1RPoMIHnyY1PKGUOtjkUzGaTF509erV5SmUFy0CbEaqqRTCk4hPcdzEP/30k/zL1zB8NUQKCDcXkwT46l6XZA+5UYyQa+tg8+Tj025Ky+gCZG4XVANe69LsypR8Ys4g1ZzHrnSfmdKeUTp2pe3VuSr1mPm0N7e1zej+lp7nGRxL0sE+cgv3giNQIE8uo+r2ZwSwOV4Gyhhci4uLE/oE6XykXBgbYPPYVDShygjfsFPpg3iGSmeMMqc0JmAyKp3S/vjjDxk3cRADgTT+n7QX5vMwsZ4BSmInRrr5tp7BSgYiGVA8duwYuK7MNWOwUqWIZHD9MAoHOxPXLKUc7EwcwuS+ktEFyNwuqNnhYFPyiTmDVHMeu9J9Zkp7RunYlbZX56rUY+bT3tzWNqP7W0YAm/xlS7DMYB/6VlOIjAompmRqBFtrNVSAnXNbM6MLkLldULPDk6bkE3MGqeY8dqX7zJT2jNKxK22vzlWpx8ynvbmtbUb3NxVgJ3pAX4BNiUAmO5IDzcg1I9iUF04pF5zTO1oF2CrAzuk9KMfP6AJkbhfU7HCqKfnEnEGqOY9d6T4zpT2jdOxK26tzVeox82lvbmub0f1NBdjKADYlXKngQd40Ey9Zl4N1OkzNVICtAmyT2JMZXYDM7YKaHU41JZ+YM0g157Er3WemtGeUjl1pe3WuSj1mPu3NbW0zur+pAFsZwDaXnaoCbBVgm8RezegCZG4X1Oxwqin5xJxBqjmPXek+M6U9o3TsSturc1XqMfNpb25rm9H9TQXYKsA2xNlnRUtgXN8ETeVg59yiZHQBMrcLanZ40pR8Ys4g1ZzHrnSfmdKeUTp2pe3VuSr1mPm0N7e1paKWpuiaUp6wvrxk81m9tEf6qs1Vg2tYd8TOzi7ZxI1x31EBth5nwau2yfSYssrB1sdJKdqY0k3GGBeLTLgkU18x57ErnbAp7RmlY1faXp2rUo+ZT3tzW1vGFC9fvixVApUqglgSHnjV5sr5UH+b+tkppYyNcd9RBLBZa57VBanLzIxRFjtJy/iEOHTo0GSayyzZqUtzOa0+1Ah2zl1g1Qi2ct+b0k3GGBcL5R7J3DfMeexKZ2xKe0bp2JW2V+eq1GPm094c15Y1J54+fSpa0dRS1tdCQkLg5uamb3OzbvcqzZXVIAmuKSHo5eWVal2Mcd9RBLApxcJCJ6zcw6qB6QFsCn3zpNuyZYtMhIC8Q4cOOqsGqgDb9M5BFWArXxNTuskY42Kh3COZ+4Y5j13pjE1pzygdu9L26lyVesx82pvj2jKK/eTJEwHZSliyBGpKALn5rGLqkb5Kc+V9heCaZdx1FeIzxn1HEcDWuH/8+PFSYTA9gM3S3YxYd+rUSb62atUqDB8+HLdu3dJ7v73KEezAwEAUK1ZMKjAqfUWltwOz0FAF2MqdZ0o3GWNcLJR7JHPfMOexK52xKe0ZpWNX2l6dq1KPmU97c15bguvY2Fi9Qfa2bdvQsmVL81mcLIz0VZkr7ylkT+gC1hr3GOO+YxSATdDImvHXrl0DyeQ0/l6qVCkRLnd3d9dryc0dYO/fv19KpR89elQWlqXSe/TogcGDB0u5z+wG2EooPiyzeu16APL6FoKNbfJkAC7ekT3bUKdJ2heZvM72sLOx1mudX5VGpnSTMcbFIrvWyZzHrtRHprRnlI5daXt1rko9Zj7t1bU1n7VSMlJLWldj3HeMArAJHlkPnhwnhuNp/D1fvnwCLAsWLKhzjRkZnzBhQrLPUkbJSVHJnz8/ihQpoojPrWRTGaLt1q1b0bdvX4wbN06i+HzguHjxIr7//nvMmDEDL168QOXKlcFItr4PHFkd14YNG4Tis3fvXty/fx9Lly5Ns0s+0fNtA9uxOpNq5uWB9u3b6x2RMbWZGeNCZ2pz1IzHkm5g6lxNdRdmfVzq2mbdh6bYgyWtqzHuO0YB2JoItkYGhxuHv5csWdIiIth85eTn54c+ffpgzJgxOs+blBSR7du3S1tG+snvYmWkH374AU5OTvL96dOnCzCnb8kjYjlS9n/z5k0B8sePH4eNjQ3Kli2LHTt26OSIxcUnID4hARMnTMCZM6fx15q1aZ7TTFK9EZD5CLaSi4WniwNsrK2UfMUk25rSxcgYF4vscro5j12pj0xpzygdu9L26lyVesx82qtraz5rpWSklrSuxrjvGAVgcwHJwSYg7Nixo6zn6tWrMWzYMNy+fVvv9TUmRSQ+IR5hL8PgYucCa6v0qQxKpWquXr0qMjABAQEoXry4XgCbdBIXFxcpL8rIcdu2bdGtWzd88cUXYH8sP+rv748yZcogKChIfti2a9euktHM0qQ0Au0aNWpAo+35Mi519NnUAHZKB3m7Oeq9R0yhIR9cImJi8ffGzWjRsiWsrazgYGsNZ3tbWOfQg4MxLhbZ5WtzHlaMsIUAACAASURBVLtSH1nSDUydq9LdYT7t1bU1n7VSMlJLWldj3HcUAWzSBvhDXvHZs2excuVKoRzoEmr/8ssvsXHjRmzevFnWs02bNuBra/5dXzMWwL4efB3fHP0GD8MfwsfZB2Nrj0WJPIlccV2mFGAfPHgQ9evXR2RkJBwddYPFjJIc+XCyadMmiUYTqFeoUAFLliwRP2qi2hxrz5495a3AtGnT5A0BTReo1p6XqQNs7bGaAtjmG4m7wZG4+CAE1x+FIfBJOO6/iMTDF1F4HBqNkKhYnfuG2DpPLnt4uTogf24nFPHIhVLerqhYwB1lfFxha0SOujEuFvqet1ltZ85jVzp3S7qBqXNVujvMp726tuazVkpGaknraoz7jiKArYsj3ahRI+H09u/fX9Zt3rx5iSDv5UsMGTIkmQ42QWNO62Azct17W2/cCb0DV3tXhMaEopBrIfzW8rc0I9lKAfaVK1ck0qwkgs3I8+jRo0VjnMCcDzKMgp86dUr8yYeZuXPn4uTJk6hTpw6mTp0qUe1Hjx6B60Iwzg3SvUdPjB03Th580jJzAtiaOWQnjYQR6XP3XuDg9Sc4EfgMZ+6+wLPwGJ3uzGVvIyDaxcEWEWEhyJs3D+LjExD1Mg5h0bF4Gh6DmNjUbxGc7W1QvWheNCzpiZblfVAor/46rPpcII1xsdDnuIZoY85jVzp/S7qBqXNVujvMp726tuazVkpGaknraoz7jiKArWRhDNHWGBHskJgQdN7QGY62jnCwcUB0XDSiYqOw6s1VArh1mVKAzYgnqSH9+vUT0KzLUkawqbbywQcfyEOJs7Oz0GtY1IdyiNpG8M23AEyiJBjXjlafP38erVu2wMxZs9ChQyI1R5eZI8DWnocxotqRMXH45+ojbDn/EPuuPkZwxMukQ9rZWKGsrxvK53dHaW8XFPNyQcE8TuA4CKw1putixL3wPOIl7j2PxM0n4bj8MARn7ryA/+1gRMTEJX23auHceLdGIbxVJT9y2f/XZ2bPI2NcLDI7FqXfM+exK52rJd3A1Lkq3R3m015dW/NZKyUjtaR1NcZ9x+IAdnZEsLmBSY8hP3ry5Ml47733REXk0qVLmDhxokSiCdq1ZfqosMLiPJ988omojZBOw2RHAmxGxMldJ+2EdBxSdNauW4fjJ05i1aqVqF27jnDeWfynwWv18NPPP+Ott9qlOo80FJ9vJ03CuXNnsfzPFWlSfLIzyVHJCW9IoM1I85EbT7Hq5F1su/AwCfASUFcvkgcNS3mhTnEPlM/vBgdbmwyHqeRiFBsXjzN3n2PHxUfYfO4Bbj+LkP7dnezQs24RfFi/ONxzpZZHzHAQ/zYwxsVC32NntZ05j13p3JXsGaV9m1p7da6mtiKGG4+6tobzpSn1ZEnraoz7jsUBbG5eY3OwNSfIvn37BAwfOXJEFD6og92rVy8MHDgwlQ722rVrJQmUcobVq1dH48aNpRImATYj1VQKIfAm9aNSpcqYPmOGyPyNHjUKfy5fJuoiefLkQc9eH+Cr8eN1Cqozcv3N1xOTnb8NGzbCzt27U53T5gCwNYNWGtF+EfkSq07cwR9HbuHW00Rg62Rng6Zl86FtRV80KuUFZ63ItL4XvMxejBjlPnkrWMaz6ewDxMYnCNAe3KykgO3McLWNcbHQ1w9ZbWfOY1c698zuGaXHMYX26lxNYRWMMwZ1bY3j15zu1ZLW1Rj3HYsE2Ny0jGSHvwyHs52zwVVEjHFSZJS4aOhjmhPA1hdoPwqJwq8HbmLpkVsI/5eeUatoXnSuWQitK/hkClRr+90QFyNSSX7efQ0rjt9BfAJQztcN09+tjDI+boqW2NAXi0GDBknlVuq3u7q64p133pE8AF0Jztw7Q4cOTZZ/waqu+uZfGHrsihyXzY0NsWeyeciZPpw610y7zuS/qK5t9i8R38CuP3MffxwOxN3nkSiY2wnd6xbFW5XzG0y9ypLW1Rj3HYsF2EpOB6UcbCV9Z9SWJ1FcQkJGzQz+uTkCbDohn6tDqug9ExRn77kuEWImHNrbWqNjtQLoVa8YSvvo5t2ndCgfcMihpooI6RxUEGG/IVEvJaGRtXiCnz1B4fw+En2mcgh52n5eLiiX3w25c9krWqMrD0Mxdt05HA8MlvFOeKs8utQqrHcfhr5YkN7E4lHMD+Bbls6dO6NZs2aix57SSHXihXnLli3yUevWrdGhQwe9FYQMPXa9nZYDDS3pBqbONQc2WDYdUl3bbHL0v4chLhi03B9bLwRJUj0RAitJUBa2VXlvzOpSzSAg25LW1Rj3HRVg63Fe5BTAzu6otbYrzBVga0ezo2Pj8PvBQMzefR2h0bFCA+lBfnODYsjnmr7Wdnh0LA4HPBWONhMSz98P0akGosf2kSYl8rmgnp8HmpX1ln/1KSPPC+f/DtzElK2XhTbyYf1i+KJNWb0unMa4WGjmSoDNvAJWZF20aFEqFzAfgBFrVjClrVq1CsOHDxd9d33MmGPX5/jZ2caSbmDqXLNzZ2XvsdS1zV5/rzt1D5+tOgMqXqU0Fm374Z3KaF+1QJYHZUnraoz7jgqw9diC2Q2wcxJYa9xh7gD76M2n+GHbVdx6FgFbayu8X7swBjYtKZHltOxFxEtsPv9AlESOBDxFjFaRHkalmexIHWvqWfu6O8LDxQFujnYC3KmKuG37DtRr2ERUQx6FRuH20whcCQoVyT8N15vH9nC2R4dqBdCjblG95PmOBz5Dv8UnRNnkvZqF8O3bFTME2ca4WDBhd9KkSQgLC5NqolSyYVEjbdNUcWVFUirj0Ph7qVKl9K7iaoyx63Ga50gTS7qBqXPNkS2WLQdV1zZb3Jx0kA5zDsL/9vM0D1q9cG789fFrWR6UJa2rMe47KsDWYwtmJ8A2BXBNl5grwA6Neokfd1zDpnMPZGXr+nngm/YVhKqhy5hgyEj1kqO3sPPioyRQTUDNZMf6JTxRs1heFPXIlUQ9YXSbBWaYLBlJekhCgkSkjx/aj05vtoSns0MqAExKyb5rj7Hl3APsu/ZEIg+MNJCqMuz10vBxTz+iHvA4DF0XHEFQSDQ+algco9uUTXfnGuNioTkg6SJLly4V7XtGsbXtzp07QiVhlNvT01M+4u9UyeFnKdvzc136+uR7q6Z6QPWA6gHVA6k9MOqYDSLjSArRbU42CZhc6z8ZWNWHGXuAym3EA4Y0FWDr4c3sANhcWNIATMXMEWBTiWP8+gt4FBoNTxd7DG9RGo1LewkwTqk0wgeZ9afvY/6+AFwNChO3uznaom2l/Hizsi+Y/EgAzMgzI8iU1Lv0IBQEuoxQp2fkTBf3dBbd7FrF8qBBSS+p5KgxRreXHrmNhYcCBaSzWM3IVmXQvU6RdCPT1x+FotO8w3L8ae9URqfqycGt9piMCbB5HNI+5s+fj507dyZzhSaCff36dfj5+cln/J1VRnkeubu7Z7jFjT32DAeQjQ0sKUKkzjUbN1Y2H0pd2+x1ePkvtyYl6us6srODDS5MaJXlQVnSuhrjvqMCbD22oLEBtqlErbVdYU4Am9Hg3w7cFL4yH1FalffBZy1Kwc0puY40qSKsusjM6+k7riZpT1culBu96hVB6wq+Eok+euOp0ER2X34kBWK0jeCZyYtMpsztZC/gmCcm1/D6rbuwdcmDO88ikhWq4fd5jM41CuLtqgWSCskwQZL8cCqbcA5Ny+TDj52rpKt/TU74+78ehb2NNbZ82gBFPZ117mBjXCy0D7R8+XKMGjVKJ6+aHGwWSurYMbHY0erVq0WCklru+pixx67PGLKrjSXdwNS5Zteuyv7jqGubvT6vNGEbQiJj0zyou5MtznzVMsuDsqR1NcZ9RwXYemxBYwJsUwTXdIm5AGxSQsb9fUFoHppIcKsKPjpX9fSd55i+/arwomksJDOwSQnUKpZXQPHyY7ex+uRdiYDTrKyACvndUbtYXlQo4A5ne1tExMTiYUiUlEAnVYTAmKCcutlBt66ibcPaokziYGuNs3df4FDAU+y8FJQE5vPkssNHjfzQq15RONolFq85f+8FBv95Cjceh6NkPhcs/rAWfN3/i3innMzMndfw486rkiy5tE9tnZrnhrxYkHO9cuVKvP3228idOzcuXLggSY716tXDL7/8ksrXrDTKQkubN2+Wz9q0aSOFk/h3fcyQY9fneDnZxpJuYOpcc3KnGffY6toa178pe+8w+wD877xI86DVCufGGpWDrWhRjHHfUQG2HktgLIBtquDaXAD23eAIDFtxRhIZi3k6Y0rHiijikTqiGxYVi592X8Pfp+/Lalco4IYv3ygvwPrC/ReYsycAW84/EN1payvgtRKeaFHOWyLJLGvOhEnSQ3RlbKe1fRjhJjWE+tqNSnni3P0QLDoUiA1n7stxON5p71RC9SJ5pYuw6FgMXOaPvVceC997Vf96aSZkct+0mbkf1x6FYUGPGni9nHeqYRjyYhEeHi4A2d/fH9HR0cKnZnR6woQJUm2UXGzavHnz5F8+nA0ZMiSZDjYj2qoOdurdogITPS7AZtjEktaVy2NJ8zWFua7xv4thK8+keWZM71wZHaqlTSHU95QyhbnqO9astjPkPVMzFhVg67EqxgDY1wJuoFQJPzx68lSigqZmph7BvvQgBENXnBYqRoOSnqITrav6ojYvm9FjVkck6L0THInfD97E5nMPxfXkbFNnuoyPK3ZffoztFx6KtJ/GqD5S3tcVBXLngoujrUStWVKd/9ryX2tr+J85Bxffojh/L0SAu4ZS7+3mgL4NiqNbnSJCOfl640UB0uR4j21bFh+8ViwRmMbFC8jediEIjED82a+uaGDrst2Xg9B74Qmhnqz7uF6qKLYxLhbZtUfNeexKfWRJNzB1rkp3h/m0V9c2e9eKAPuzlWeEEpnSmPr4gwqwFS+IMe47KsDWYxkyC7D3798vpdKPHj0qAIil0nv06IEBnySWSs9OgM3I46eDB2H3rl148uQJ8hcoINrEvT7ordMDpgywz9x5jiErTiMiJg7vVC+Ioa+XErCqbVT2IC/71/2JvGxGpJn06GBnLdrYS47ckqRSgt/+jfyE0sGkQ03CI/9PBZFCeZ0QGROPgCdhuPIgNBnoTuk4O6sEVCyUB3WKe0gU/HFoFNaeuo9/rj6WpgVyO2HS2xVEnWTliTv48u8LiI6Nx6CmJfBZi9LShkVr3vvlCEhn+bixHz5vVUbn+jApttWM/UJ3WftxPVQtnCdZO2NcLPQ4VQzSxJzHrtQBKjBR6jHzaG9J68oVsaT5msJcO/4r05cWwK5WJA/+GlAvyyeLKcw1y5PQswNj3HdUgK2H8zMDsMlB7dKlC7777jv5l7rB58+fx/gJEzB33nxRVMhOgM3X/N9PnYruPXqgePHiOHb0KN58oy2WLluO11u0SOUFUwXY5+6+wKDlp0Qer2+DYlJ8hSeGtpEb/dX6C9h/7UkyXjajyuPXXxQ+NLWre9YtAi83Byw6dCuJI12poDuqFc4jkeb91x4j6mV8Utf8TqG8ueDpQu3rxCg2cX1sfDweh8Xg8r3gZNJJpbxd0K+hHyrkdxPONCPTtAGN/TCiRWmcuvMcvX4/htCoWExsV150sWnkg7easQ9RsfHY+mkDlPTWXW2SJXLJP2fxnIntKqgAW49z2dSaWNINTJ2rqe0+w41HXVvD+VKfnmp/u1MkW9MyHzcHHBnTXJ+u0m1jSeuqAmwAMTExCAgIEAkwe3tl5aczu9uUAmxGFzm+Pn36YMyYMUmH1eZcBwYGJgPYO7Zvx7hxY3H92jXhtbZr3x5Tv58GJ6fEZLcZP/6IWT/NBGXQCNZHjxmD3h/2wc2bNzHgo49w4sRx2NjYoEyZstiybZv0kZG906kjypevIKA/pZkiwL72KBQDlvgLIB3ARMHXEgGptj0JixbqCCPRhfPmwtROlYTTvOTIbczdGyBl55kc2KVmYfx64AbO3E1MFGG0uqS3C7ZfCEpSDnG2t0HFgu4C0klFufUkAs8iYnS61cfNEflsI9CsWhkpOrPzYlBS3yxQ832nygLiP199BiFRsRJ5n9KxEk7dCUaXX46Klvaaj+uhUsFEutCv+2/gm02X0KaiD+a8X13nMTnXmpN2SmT8wMimKsDOaMOb4OeWdANT52qCG9BAQ1LX1kCO1LMbNYKtp6MUNFMBtgEBdkJ8POLDwmDt4gIrIqJ0TCnAvnr1KkqXLi0PAowW01ImNKYE2Af274eziwsqVaok0mft3noTXbu+L0Ca/dWsXg1Hj59AmTJlEBQUJD9s273b+3Bzc8OMmT/JcU4cP47qNWpk+PARFRWFsqVLYdr06ejYMbGktbaZGsAOConChwtP4HFYNHrWK4KPGydWCdQ2FnP5ZJk/7gZHonqRPJL0yCjzxA0XsevyI6GBDGleUtQ/5u+7gZdxCSjh5Yy6fp7Yev6h9E2rWjg3XBxsRQWEOtUaozRewTyJFRwZwSYtJfJlLHhcgmcN55rHYYIJkxsX7L8J8sDJpWb52rK+buj261FRIiEffNjrpfDHkVsYt+68VIpcP7C+9EuqSP0pu0WthOCZIFqXMdJ9+WEoDo9uCm3lEWNcLBRcq7LU1JzHrnTiKjBR6jHzaG9J68oVsaT5msJc1VLphr8OGOO+Y5EUkehr1/BgwkTEPnwIWx8f+H71JRxKlkxzxZQC7IMHD6J+/fqIjIyEo6NjKnDNA6UE2CkP/tPMmdiyeRO2bNsuQL1q5UpYuHgxWrdukxTV5nd6f9BL6CZTpn4vxTz0MUbYe/Xsgfv37mPbjh2w1vGAYUoAm2Cz3+KTwjd+q3J+jGlTJhUthJUVP/rjpESfWVzm63YVEBkTh2GrTkvSYf7cjvjqzXJCB6F0HsFy55oFBUTzh1a9cB7Excfj9L//Z35h1UJ5kDuXvah8ULXkwYuoZAWBXB1sJfJNUP78bgAc8hXF+jMPpD1BOpMvn4XH4Lstl+QYP3WpKomU7WcfQnhMLFZ9VFceBjrOPSSlb2d3rYa2lXyl7ffbLmP2ngB83qq0zgcKthm95pzIC/7SvTpalP9PntAYFwt99pYh2pjz2JXO3xRu1krHnNn26lwz6znT/566ttm7RvHxCRi03F/qNWgCOyRKWltboVV5b8zqUi3domX6jtaS1tUY9x2LA9iMXN/q0RMvb9+GtZsb4kNCYFe4MIosXpRmJFspwL5y5YpEmgmMCxVJTWPQBbAZeR77xRc4f/6cAPPY2FiUKl0ax0+clHNh1aqV+GXefPj7n0Tt2rXx7eQpqFKlCh49eoSvJ07Als2bBXR279ETY8eN0wma2Q/B9cBPPhbJta3btqdZWc9UADbHS9701gsPRVljVpeqsLVJ/saBMnwE19cfh0mxlq/blwf/9smyU7j+KAwVC7hjeItSwssOfBohlJGW5X2w6HCgcKz9PJ2Rx8UeJwKDxdfeUS/glxCKe97FcCskedVGyu/ldbaXyDgBMqPXTLbUWOWC7vi0eUkcufFMaB68+A1tXkpAOBVCGMneMLC+JDGOWH0W5Hz//clrUj6952/HRDpw5Ud1pTtyxtv+dCDZ31JeGFlch6okfOgg31tjxrhY6HtRzmo7cx670rlb0g1MnavS3WE+7dW1zf61Ishm4IZvSWkM1LAaMINQBNqGMEtaV2PcdywOYMeFhOBmh46wcnSEtYMD4qOjkRAVhWJr18DGVXcymVKATVBIasiHffpi5KhROvd5ygg26Ro9evbC4E8/hbOzMxjBXrx4EU6c9E/2fYLvCV99hW3bt+HU6eQ6mEyibN2yBWbOmoUOHRKr6GkbxzV40EBRNdm2fQfy5EmuPKHd1lQANsuZT9p8SdQ+Fn1QC3mck/PuqU09bOVpAbQEp9T/jImNx8dL/YU6wb9RpYOaoYxy1/PLCx83J6w5dQ82VlZoWjYfWB2RvG6P2AiUfn4Hp/MURYSNg7ijnK8rinm6CHf7aVi0JJYQUJMGwjGV83UT2geTLn/bcxH3IxIvbFQmqV/CI5EzHh2LqR0rCQXl+21XZEzL+9RGuzkHJbq+rG9t1CnmgQZT90gE/vgXzUUDmxfQyhO2S8T8/ISWqZRSeJyNZ+9j4LJTkvD5RdtyGQLsx48fix51emtviAtzVvowxoUuK+Mx5nct6QamztWYOyln+1bXNmf8z1yfPotPyMEDJ7c1+CAsaV2Ncd+xOICdHRFs7vJ1f69Hj+7dMOnb79D53XeRN29eXLp0CZO++Ro/z56TSkWkgK8Pxo77EgM+/hgXL15Ep44dJFGRAJsR8Tu3b+O1+vWFW/3tpElYv/5viW4zsl27dh2wPPXdu3fR4LV6+Onnn/HWW+1SnWwE16SvbN+xUxIl0zNTANj3giOlLDgB87zu1ZISALXHPe+fAJHdK+7pjAU9a4g6yIjVZ3Dw+lOJeI9sVUYAKMEtEwYZsWYJ9NxOtqhd3CNJ2aOJXx5cvBiIIAd32CbEoWbILVBA5IxHcflX20gviYlL/sf87o5okS8clatWw/gNF4W7zWqNbSr6osuCIwLItw9piA8WHpcCMav618XNJ+H4fPVZdKlVCN91qITRa85i+bE7mPt+NbSumEgTaT/7oES7D41qivw6eNh7Lj+SPt+vXRiT3q6YCmB/8skn6N69O+rUqYNVq1aha9eu8qaDpc41pcwNflXOYofGuNBlcUhG+7ol3cDUuRptG+V4x+raZu8SMPiy/sx9zNp9DQGPw+XgM96tYtDoNfu0pHU1xn3H4gA2N42xOdiMFDPquH/fPnz37SSJGFPho4joYPfEx598kkoHe926tfh8+HAwwlitWnU0bNQIGzasF4B97tw5UQq5dOmiUD8qVaqM6TNmoHLlyhg9ahT+XL5M1EUYlezZ6wN8NX58Ko4yEydL+hWHg4NDsop6Xd9/H7PnzE11dchpgE0fMgpNXjKl+Po1TEwW1bZTt4MlQuxkb4NFvWuJasj8fwLw28FAoYH81KUKPv3zjADZthV9JKlx+8UgEAyX8HbBvqtP4Opgg0al82HT2Qeil101+CZIQDmZJ7H4i0tMBOoGXUSjFjWRv3Z14W67OtqhQG5HRMTE48StZ1IhUqN1TVD9fu1C6LLgKJ6ExWB+9+rwvxUsSZW9XysGSveNWnMOXWsXFl3ual/vkKqOe4Y3Tkp2ZOIjEyBp/RafkDGTVkJFk5S261IQPlx0At3qFMY37VMDbF9fX9y4cUN4+9WrV8fYsWOFFvTpp5/KvjJF44WOpYC71y1q8BuGqc3Xkm5g6lxNbfcZbjzq2hrOlxn1pOFfb70QlKy6MJPjDcm/VgF2RiuR8ecWCbDpFlERCQ+HtbOzwVVETLkEesZbIrFFTgPszeceYMKGiyjh5YKFvWsK51nbmPjYdcFRoVSMf6scWlfwhTbgXvhBTcz/54aoh9Qt7oHSPi5YeOgWqA9KoLrj4iN4uzqgSuHcEsV2tLPGG0WcsfnqU0RY2yNfRDA6Xd0Nu/g47C9QGWc9/RBrY5tsDORbswpjuyr5JXHyo4VHEBZrJXzoUt6u6PX7cRT3csaKfnVQ97vdyJ3LDls+bYCak3bBz8sZuz5rjHrf7cKDkChc+bq1gPS+i08k07Wm5jfLq/81gMmQiWXVte3v0/fw6Z+n8VGj4hjdumzSR5qncSrMhISESHEhKts8ffpU2hBkv3iRmNxpaiZFmUZuNHjCjqnN09JuYCoIM8UdaJgxqWtrGD/q00t2KYhY2vXJJCLYBF5Dhw7FsmXLZC+8//77+PHHH5NFRTWbpFevXtJOW696x44dqFs3MYkrI9M1YVPXwX4VwDXXJScBdkRMLDrNPSwSdYwAVymUupT8L/tugAl+DUt5Cr+Z0WnSSSiXR7UQ1p5hcqSvuyM+bVZSosbUs+5YraBEir1cHFC/pIdUWmQJdVI5lh69LVuy07W9KBl8G7+VfwNBzomglpHsEs/vosjrjRAdm4Dz91+IHCCtQ7UCMoZfVmzAjIv2UnzmyOhmQt04dfu5RJ/Hb7ggcn2MVL8z7zCeR8Tg2qTWQgGhFvexL5rh0oNQSXRkyfbvOiRGo/ssOoGdl4KwcVB9VCiQOoJNiszkLZcx7o1yEunXmObc4VuOkSNH4tq1axKxXr16tdCTqDjDtyWmaBx7kZEbZWiMylDesH3VAqY41CyPSQUmWXahSXZgSetqaUAsp9c2uzSwLW1dTQJgf/XVV8LL2bJli1zYWrdujQ4dOuDLL79MdaEjwM6dOzdmzJiRqYuguQHsVwVc5zTA/v3gTcz754aUN/+6ffIKhRwbkxUpa0f7s18d4Sb/cfgWft5zXaLVE94qh87zj+B55EvMeLcyJm+5IrrTA5v4Ye4/NyS5sU+Dopiz9wbcnGzRtVZhOR550hPfKIPj0+djdfEG0n+thxfx9vV9qPj0BmwSEnnXZS9fEjWWwzee4rOVZ0S6j1Fr7+DzOBpfHMuO3sbkDhXl7zN3XcM37SvA/3Yw1vjfw7I+tTH27/O48Tgcl79uhc7zD4tMIBMbj918JjreBMoEzLR2Px8QAE7A7uPumOo8GrHqDFadvIvfetVA0zLeqQA2H2h5HvIhd+3ataI8s2TJEnnw3bx5c6bOS2N/SRtgM2XUUGV/jT3uzPSf0zfrzIw5s99R55pZz5n+99S1zb41yq4qjirAzvqaKqaIMJmOEetOnRKLkzBxavjw4VIcJaWpADvrC5RTPeRUBJvyeu3nHEREdBxW9q+DgnlSV6ScufMalh27LbzjQU1LghHvdrMPIjwqDsv71cbmcw+x8FAg3qzsC1ZYpIxRk9Jewok+d++FVIFceuwWQiNjMapNGUzfflU481QgYZR58eFbcI0Jx2cn/0TtoET96mTm4oKyJ47Ln64/CsXrP+6Dr5sjPi8bBnu/WsIdJxeb0nxfrD0vEoG3nkYIEF7yYW0MX3UGj0KjcG1SGzScugf3+5G4OgAAIABJREFUX0QKRWThoZv4dvNljG1bFn0aFBcQTxURJlRenNBKp/SSptDM0THN4O32HwBP72mcEpDs287OLqe2V7rH1QbYbGiosr+mOFkVmJjiqmR9TJa0rpYGxHJ6bdUIdtbPT1095HgEm4l0VMPg6+YSJRIr6fH3UqVKyWtn8jq1jQCbm5EDZ7LVhx9+iCFDhqSp0Zxy0uYUwX6Votdch5wC2EuO3MKs3dcFHI/Vkp3T7A0C8Dd/PoDYuASs+6SeVFVccfwOpu+4itYVfDCiZWn5PPplPJb0qYU+i05KVcTRbcrg642XUDKfC2oUzSNqHR2qFhAO91FGjpv4oXx+dwHHbo62mOr5CEV+/jbNM7ng7l1wzZ9fPn99+j+iDPJdzVh4l6+D3gtPiKpHoby5hL5BysquS49w4PoTrP24HjrMPYSCeZywcVADAdBMztz3eRN8+ucpSZhc3LsWGpbyEg3v5tP/kSI2az9+LdVYqFRSdeJ2AdaHRzdL9rnm3Dl58iR8fHxQoEAB4V9PnDhR6Fx8E0V+timaGsE2xVXJ+phyGphkfQb692BJc1UBtv77whAt0+Ngs/9utQtjYrsKBtHCtqR9nOMA+86dOyhcuLBwNz09PWWv8Pd8+fKJKkbBggWT7R8WM2HEm6D8+PHj6Ny5s/C3+aPLxo8fjwkTJiT7aN26dcn+TxWN/Pnzo0iRIjp534bYwPr0kZAAKSJC0gB/pwIFja+05ccKwsU1kN67PkMyaBtGOflW4v79+4iPT6FTZ9Aj/dcZ/fnNKRs8jbbC6Mqx8EkdvMahICusuGGD2l7x6FoicVyTT9vgQaQVRlSKxd1wKywPsEFNr3iUcEtI+j0yFjgfbI1uJeLw101rxMQDA8rG4eeLtvBwSMAXVeIw95I1roVYo3uJONTw0qxo+pPl2n910gasR/N97TjsfWCFjbdt8FbhOASGWeHsM2t8VCYOC69Zy37pUTIe/7tig6oe8ajqkYDfrtqgumc8upWIx5cnbRD+Evi2ZhycbCF9rQ20QfMC8XizcOo1OPXECguv2aCWVzze/9cXmtG2b99eotSVKlXCmjVr5IG4d+/esqasLkrq1tKlS420klnrVuVgZ81/pvptS7pZW9JcVYCdvWecriqO2iMwpJqIJe3jHAfYmgj29evX4eeXWDWOvzNhSlcEO+W2mzNnDhYvXowjR47otSN1TZiRVR6ThVwoOWdsY2T6SXAIbOwdERUbL5rM/FtsXHwSqE5vDNzsVMCgvJuDnbXoNPPHUJWWjDV/JpPevHEDeX0Lw8Y2uXoGj3lkzzbUadLSoIc/FPAEQ1eckYpUc96vprPvQctO4VjgM8zrVg1VC+fB7acReGf+YZTI54KlfWpj6IrTougxu2tVoZFQD/vHzpXx+V9nxe+MJn+26qxQRsr4uGHuPwEY0NgPnaoVxOs//iMR8fUDX4O1lRWerV0NfDcpzTm6L/kDN9yLotv/jormdo/8TzAvMI8UuPmzbx30WnhM+N6TO1YC1UCal/WW6DiL3DBxb/eVRyIPyOqUrA7JJM3XSnhgaZ86csy35xyUJElGvTnXlPbRHydEAYWJoKxMqW2ac4dAmucmwbaXl5dosVOyj+dvUFCQQdfPUJ2pKiKG8qRp9WNJN2tLmqsKsLP/PCPIHvf3+aTE/JQjMFRyuCXt4xwH2FxERqSZtKgpUkFVgmHDhuH27UQFhvRs3rx5WLhwYZYANoECATZ1pb29vQ3OIyV4DouOFQ5wxMs4AdIpzQpWsLGxgq21ldBfKCCniVQz7imR7YQE0ajkD39PBn4AONjZwNnBBi4OdlI+25SMPn729ClCQkPhkb9IKk1tYwHsr/6+ICXRJ7Yrnwow8pjkWr8+fR9cHGyx+dMGojCx6sQdTNt+FT3rFcFHDf2EUkF/7xzaEC1n7hcqycx3q6D/Un80KuWFsr6uktD42eulRAmEAJVgnpUTqe5BoDy3W/Wk5XhWq2qaS/PCPhdGdPsed55F4ueuVXHk2AksuW4DyvfVL+GJ2XsDhCpCwE1u99ROlTB23Xk42Fhj3SevodXMfQL6j45pjs9WnRbuOIF3x+oFceVhKFrO2CcFdHZ91ijVGrCqZJ3vdsHZwRbkXzvY2ugE2ATV1MG+cOEC+vfvj9OnTyMuLk400ynfZ4rGc+rt2QfQQ9XBNsXlyfSYLOlmbUlzVQF2pk+JTH+RALvaNzvwPOKlzj4MlRxuSfvYJAA21UI2btyYpEDQpk0b8HW0LhWRlStXolWrVnB1dQW5oEyMZGW5ESNG6LWx0pow6QsPHz5EaGioXv1k1IhRaZa6JleXcm8a4ya1tSGAjoeTvT3sbAisrSUqSQoIjQA6IyPgI9B7GR+Pl4yCxyUCb42xX0rIEWxxzqZgVtbWcPf0gZ1DauUKYwBsPsi0mrlfuNPbhjZALvvUUfOjN59i8PLTaF42X1LVwgkbLggw/fHdyiiUJxc6zTssAPfbDhXR9qcDKOPjKkVdvvz7ArrXKSIJg+RsU+Vjx8Ug0cn+tUcNSUhsOu0feehZP7C+FK+hPdu9Gxj1WaoleZArLybU6Y1bbj5SIXJo85J486d9iI63Esk+JjdyKUe3KYvx6y/IOCoVdMfKE3eljHp4dKzIBfL3TtULoMWP+5Anlz0OjmoKRzsbUSf5y/8uvmhTFn11FNmZvee6lF1nMuX4t8qnGp/m3CEthPJ8PFeYEzFq1CicOXMGXbp0kYqhpmgce9TL2FQPDaY41qyOyZJuYOpcs7pbTPf76tpm79qQhz1kxel0D2qI5HBLWleTANikaDBRUVsHmxFtJk4xQkZjpJrWsGFDnD17FgTETLJikiMVR8ij1scymjC5wYzGMeKq1IJCosBiJgRn1E7WGKkGtYrmRc1ieUV/mcB327ZtaNkyNR3iSVi00sNKe46XqhKUeTtw7QkCnyYen5FZFi1pV6WAAL2cMytY26QP9g1NEWG1wwFL/UVmb8Z7VXROnYD0593XMahpCXSrU0TasDALZe6Y8PjgeZT00aqCD3rWLSLVFOsUz4vXKfe38RJ6v1ZU3i5QYWTcG2VlDagYwmh255qFoImgNy7lJTJ5Lo6JIF87ih1q54SNxephRalmiLa1R12Xl/jig8ZSTTEoJFok9lhdkWs6sEkJAdFMRhzXtiy+3nRJqCCMmHddcESiz/tGNBFVEQJ9DZgOeBwmiZNuTnY4MLKp7AttYyS//pQ9oqW9+7PGKOrpnMpfmnOHVJ9FixbJmx6WTOebnz179gg95L333su5LZbOkVWAbZLLkuVBWdLN2pLmyo1hSfM1hblSSeTk7efpnpOkWv41oF6WzltTmGuWJqDgyxnhTQVdJTVVLNOXmYNk9juGnrBGu3jRoUCJXmqCyJUL5cYbFX0FmFH5IaWltckI0rNqHNOF+yEi4cYxMbLNwicfNy6BNyr7ChfYFM3QAHvBvhv49cBNiQS/V6uwzilP3XoZf/nfw/edKonKBo20Dj4g/TOiMU7feS5VDfmQwmg1o9m8yDCCzYjwW5Xzi4IIo9mJDzL5RfEjf25HLOtTR95i9F54XPSrqY/NBy0Wd7FNiMP92fNwLXchnPYqgZc2drCNj0Xnq7tR1Nkas0q0Qmh0LKp7xCPczl0oIc3K5sO94Ej5vUutQth9+ZEA8GnvVMKv+2/K30mFYcEbPhQUyuuEncMaCVefFSBZ1XF06zL4qFFiroO2zdl7HVO3XkH7Kvkx4z3dFBZd5w6rOWqSk01xT2nGxLFHxsRKJP9VN0u6galzfXV3s7q22bu2GWlhczQz3q2S5QJdlrSuhsabXAOLANjkK2278BBz9gaIDjLN08Ue79QoJJX9GLVOz3RtMkOA65THvP88Egv238CWcw8lgZJ84C/fLAdfd6fsPXv1OJqhATZfdx0OeAqWOC/rq1s+7ou157DzUiKlg+XOWe6eBWfuvYjGwZFN5EGl3x8nhULCCHTj7/cin5sDfutVU+giBXI7SUGWN2cdFOrP6v51MXnrZey7+gS1iuXFt29XkAecn3ZdT3rYiUvxdsT5ZSQa3zmFGkGXsKVYXRzzSSwI827NQth+5jaCY6xQu1heRMfG4fSdFxJBj4iOxdl7IUIFIX+fD1NMZvy+U2W0/Wk/giNe4o8Pa6FBSS9oSp8X83TG1iENUtEkHoVEocm0vYiOjceOYY3AdrpMc7GIiIiQHAkmF0dHR0ticI8ePfDDDz/A2Vn3d/VYfqM2UQG2Ud2bY51b0s3akubKDWVJ8zWFuWYUwc6dyw7+Y1/PspiCKcw1uy5YKsBW6GlGhwnIfth+RSKGtHK+bujbsJiUxk6ZGKarewKlBSs2wrt0Ndx4Eo47zyLwKCQaj8OihUer0b+2tbFGLjsbuOeyk6hkwbxO8PNyEbBYKI+TIm71hfsvpOAIdZBdHW3xdbsKqOvnoXD2xm1uaIDNkuEPX0Rh74jGaUYuR/51FnuvPBYQXjLiMSKmfosBns1w3dkbG9oVgnWRIgKkS3i5YGnf2uj261HRp175UR2hiPDhilztozee4c/jdwRUU1Vk8PJTCHgcLg9djHa3Ku8jiaf+t57j7vMI4c+7O9nBftdmPDnmj/0FquCsV6IOvG9sGOrVKo0NZx4Iv5vqJIyosz9ywZmI6X/7uUTD6xbPi5m7ryOfq4O8uhv85ylRCSGdZUK7CrgbHIE2M/cjJCoWy/vW0bnmVCPZcOY++jUsjjFtyqa5yJqLxYABA3D58mV8++23orzDhMexY8eKdv3cuXP12iQE5gMHDsTOnTvBKDjpXp9//rnI/ukycr1JIWP1SI2xomTdunX1Op4KsPVyk9k1sqSb9dp1f8OqSA38cTgQd59HomBuJ3R/hZN2LWltTWGuGWlh801pp+qFsnyNMIW5ZnkSenagAmw9HcVmBKkTNlyU8tM0RoM/bV4KDUt6pgt2Caj5nf3XnkgBkov3XyRLfNQeAskbGgUQAu208h3JuyWYI/iq5+epl2oIEy8pIcey21Qo+bxVGbxdtYACDxi3qSEBNqPG9afsFom8jYPqpznwr9ZfwNbzDzG7SxWUmvw54u7ewaTyHbE/dwlMe7gTr/34DTrMOyJAfdPg+lh3+j5+2XdDostc/5F/nZMCL/O6VRdQzQemGkXySHGa3w8FSt8aI0WkqIezUDbCY2KF383S6xrLF/UCFeKCcTmfH+6Hx0mZ9Qq5Y3ElxA5hMXESuX4WFoOrj8JAChLXfsbOa3C2t8GyvnWEDkOgzCIyLPfOQPm78w9LWfS0wPPW8w/Qf4k/fN0dsX1oQ7g6pl2JUXOxIBhmkiO16DXGgjMVK1YUjXN9LDw8HFOmTEHPnj0FpB89ehStW7fGihUr0KJFi1RdGKKCK6P+mkRTfcZorm0s6QZmKXPlG9MO0zbi3HMb8He+jeS9gtKsrcp7Y1aXalmOLJrafrektf3qtw24GOORow9O3FcDl53E5vO6pVZZdG1216zvM0tZV55PKsDW46oSEvUS07ZdASsCEvCW8nbBqNZl0KR0vjSBNUH1nsuPsOHsA/k3IiYu6UgezvbIZxeFxlVKSmS0sEcukedjRJMJkBrVD0bL+dqesjmkjzCKyejp+XsvJHquUQ1hRPrNyvnxXs1CyUpbpzW17ZSt23hRQD5LbpPWYgpmSIDNZL2WM/ajtLcrFn9YK83pUTmDSYljmxdDg28HA44OWO1THQvy1Ub3u4fx8dRPMePwA1EJ+bixH96o5IuOcw8jNj4eiz6oiXn7bggdRMB26zIYu/a8rBHXsUO1AqhcMDeOBz6TpEnK5GmnznLNmUzISBRVYU7fDkZIdOI+qV08r7zJYMSblPk2FXxx8PpjPI+MFbk+Vo8kgKdKzP961pBqjStO3BGwv+bjevB0dpBo9sazDwTwE4CnlG588CJSotukk2gqPaa3DzQXCxZloloI9bA1Rj37cuXK4cGDB5neSh06dECFChWkMmRKMwTADo9+qVNJJtMDNtEvWtINzFLmyujisBWnEC+wOrkZSp/Y1LazJaxtUoGXcw+QAKscf3D668QdfLb6bJpbYXrnyuhQLXnxP6X7xhLWVeMTFWBnsDt2Xw7C6DXnJJmMBT2GtyyNrrUKg/QNXXbjcRiWHLktcmhUeqARbL1WwhON/402F/XIhfXr16N12zflFf7951G48SRM6CGMMnNRGL0kcGYEljxfUg205fbY9siNp9h+MUhUQ2LjEwSkE9T1qV9caCXpGeXphq88KxSEr9uVR4sURUWUnjSGaG9IgM0Hkrd+Pigydgt61EhzeFR94VuJztULou+aqRLBvuNRGH3LdEHhmBdYMa4d7jyPwrvzj4gCx6r+dbH+zH1RHmE58hnvVsboNedxJShU/v95q9JSlIZa2hp5RtI3Snm7gg9WlFVkEcuw6MSHpptPImTtaLxRVimYW4oHUQ2GEWgvxwSUK5xPEhRppJuQV09aCx/I5narJiXaGbn2dnPAin51UcQjl8yJyiYE3NTH9nRJXkCJ++y9Xw4L1SQtWb6UTtNcLPr16ye0kMmTJ0v108DAQHzxxRfy+4IFCzK1FaKioqQyJNWDKL2pC2Dzwswx+Pr6inoQlYeUqAepADtTS2PSX7KUm3UiPzb437h18iUxlD6xqS20JaxterSMnHhwajR1N249i0xzKxC77B3RJEtbxRLWVQXYGWwRypaRY7v8WGKxG6orjH2jXCqgoumGRT/m7g3AzkuJr1eoQ92sjDfaV82PxqXzCWCmVNrhG89w6lYwDl2+i8fR1nppXrM/0gvK+7qLggWT2Yp7/ZdEyQIhq07clQgmI+VUDBnZqgyalMmX7iz3X3uMz1eflaqQv/asISAwJ82QAPtRaJQkHlYs4C5zS8tI/Wg3+6CA42XNPBAxeRISnj7BkMo9cMnBM0ld5NvNlyRKTFrGN+0rYNSac0L54QWHyh2/7LuJA9efyGHIbW9eJp+87iPYvhYUmkT14c1QO4rNxBE/T2ehLtx+Fpkk7+jhYi9g++DVIETFW0nRGqqYkN7zMCQKxb2cZWxTtlyRKpQE0ks+rC3gmvv2t4M3BdCv7F9XePvaxjcjo/46J/uFVBPyyfXJHdAA7LCwMAwePBjLly8HJfvIi+7atStmzpwJF5f0k3t1rQPHQ7m/e/fuYdeuXTpBs7+/vxSkIi3l+PHj6Ny5M4YOHSo/umz8+PGYMGFCso9W/LUOOapUmZMnl3pss/bAuBM2CHmZtvqTu30CJlb/7y2pWU/Wggb/4zlrBIZxXXWtbQKKuSZgSIXUhemM5aIhh20kkp6WMcY+o666z/T1P+u5ZEbyOb3+zV5F5PqjUAxY4i+v+hk5ntyhEpqX89Y554v3QzB122WJKNIYRWS1OHJ0CXD8bwfLa3rK5d0NTv5kyMgmwQ/51PyhNrGdbeLmZnGU0KhYECjeCY7EzcfhEm3WGFVKyJ8mZUEjPRYcHiMcawJBGscwuFkJ2KajEU7ay6zd1wUokkqhD9DSd3MpbWdIgM0HpCbT/pF5rfgo/US4Xr8fw6UHofjpwTaUun0B1l5eON1jGD4/8FiAK8ulMymx+29H5W0DJfI+YkLg2vMCoPmGom+DYlJBk8CWknw0PlRxnYp55IKdLR+mgLiEeFlbUn+ehceAbzwiX/63rgTO3q4OuPggBC8iY2GNBHSsXgiRMXHYeC6RfsGHvfZVCwhIJtjmQwRpIrlz2cvbFr494UMWy6OXy59aPWXGzqvC3eb+YwEcH3fdhX9Srl/K1128cDx+/FjKpdMIuAm0lRj7YNIki0Yx4dHd3V2vr8+ZM0dUTI4cOaJXe449NOplKv1vvb5sZo0sKUJkKXNt/P0eBD4NTwOIQZR/9gxvbGY7Nf3hWsLaZiSNZ4jCLko2RdFRmzJsHji5bYZt0mtgCeuqmb9KEUmxEyi9N2zFaYTHxKFBSU9M71xFoocpjVHjaduviHIEX+VTc3hQk5ICfAjuyNnlZzef8KKYaFSAIFWEvOCT/idRsGR5KUxCbjXBNKs+aoAZ6QgEQEU8nFHax1U4t0ygY7Ik9Y+pBkIjkOrboLgcl6+UaKSOsMAJE+galvLEpPYV00yCJMAZ/Odp6ZcgsU+D4lk6ebLyZUMCbI6DJc5JhaCKSHra32tO3sGUbVdR7+kVfHVvFxJCQ2FdsBAmNB2EgwFPweQOKoNwLT9achIhkbFoWd5bEhkZUV506BYovcf1Ihc+t5OdPFgxshwVEy+fpWXkUPt5OQul52lYTJIyDdeyZXkfPA+6h9PP7eTNBPchC8dcehgCanyTWUJKENeXetufLPUXagkTFinRVyJf6jcSCw/exPgNFwVorvioDsrn1w/QcvzpXSyoCpIrVy4p0qSvce+xCitBMiPXLLWur7Hw1MKFCxUB7JDImHSTOPU9tqm3s6QbmKXMNSOAbYhX96a2ry1hbUn9IU1P1x0iJ6g/KsA27FmgAux//cmb/fx9NzB5y2X5y5DmJTG4aclUmdlst/bUPUkSZPIhAe7Q10vhvZqFpQoeI8h/HrsjgIdGRYe3KvnCzckeJ24F43DAf1UWlSwlo6FUDSHoalTKS+gmjD7vuvRITs7y+d0w4a3ySUVtyNNlgRSC96ZlWAa8Qpogk8VL3vvliCTTrf24nvC+c8IMDbD7/3ESp+48x7I+teGXji55ZPALdJqxB08cXDHl9mZUCQ4EoqMR+8ti9FpxEY9Do/F+7cJS7fHG43AMXXlaOPksJjOkeSnkd3eUvUPKiMb45oORZZYq5/qwbDu51oyEE3AzCTYk8iUCn4Qj9N/ERn7Xx81R1EL4QLDl/EPZR0xOJE+aD2hTt12RhzICZJYz71itgMxx0LJTuPc8UiQjqdGtKyrNYkhUTWF/lCWk+owSywhgOzk5gZVQ9TWC6wMHDmD37t3w8EhfMnLlypVo1aoVXF1dJdpNnja/P2LECL0Ox7GrAFsvV5lVI0sAYVyQWpN24FFoTJpr4+1qj6NfvG5Wa5fRYC1hbU2Ng1189KY0lcu4XjZWQMB3agQ7o72r+VwF2IDIHhEwMymMEUWW1SaQTWmkYIxacxbbLgQJGGWy4+cty8DGxgpz9lwXekDUy3g42lmjU/WCqFPMQ3i5m84+kKp8GpOIZXwoKpUujpjYuKSnVxsrKwE/pHyQdkA5t6fh0bj4IFQiouH/AjFqYnerUxgdqxcUwDdl62UpiMJS6N91qIjaxRLBCsuu91t8UoBXRtFp0gaYLNezXhGp+JgTZmiAPf+fAPx2MBCfNPET2k5axuIymz6biK+9GsArJhSzTv0ODx9PuM5dgOtPwvHxEn/RkaaWNdVj+KaBD2J7/0085BuJTjUKolQ+FwHZ+649FhBMGkhGxjUu4+sqVCHuqfN3X4gMH437qKZHLLq9XkOi5KSj0JqVyYev21eQiDZ5/z/tuibgnVUlp3SslEqKjg+FpAFN33FVaCvzu1eXvACllhHAVhLBvnXrFooWLSpFamxt/yvb3q1bNzA63b9/fxkef6c1bNgQZ8+eRWxsrGhmM8lx+PDhipIcX0TGwC0dGUKl/jDV9pYATDS+t5S5ppfkSF8YooS1qe1nS1hbbRURjUJMTsovNp66G4FqkqPBTgWLB9jc4GPWnhM6BznTv39QE5UK/ic/pvE0AS5fwZNfy4S4ae9URs2iebDpXxUKRjkJXljgo2x+N/xx+Ja8+qHx70xMpBoIJdFYnIQATB8jiGJEk5KAlHIjv1oTKSXvjtSFkt4uos1MEMbkSlbz0xSRYYSUZbIZMWWyX1qUACpavD3nkERGqffMxMfsNkMDbNJo3v/1KIrkzYU/P6qTLk0kNiAAX/5vD3a5FEPZ6CeY1bUaXEuXFBewn2H/Rq3JyR7VqgxqFsuLQwFPMG/vDVEQoVHFhUmDVC7hWnO9SO2g4gsfvCjtJ+ks/5aqJwBnFcXz90OEj60xrmvbir7C3/55iz+uhySuBfnZY1qXlXyAs3efCwebXG0+FLLKJLnh2koz/A4pMuPWnZeERq7tLz2qK45ca8ZlSICd3XuLY+cbJiqvvOpmCcDE0gC2KtP36p61xCAjftmAvwJtZJJ8WGJCOwMm1DnPTlvjfxfDVp5J85CqTJ+y1bBogM3IHpPCCK6ZnMikMF0lzlefvIsxa85JkiETzL55u6IAF5bZ5mt8Gv/eqqKPAK7TdxKBNSPVdYt74N6LKBy49jhZcRkPhwSUyO8hQJagmJxbSv/ZWVtJJJOJcDeehiPgUVjSKxsC+971i4p29sxd13A8MFhA3dg3yqJ1BV/w5Jiy9YoArgU9q6PkvxxclspmFceyvq5CH0iLjzxi9RnRdP7hncqoX1IZfUB728UnxCPiZThy2TnD2kp/oJ4RwNb062Blh+gnt+DkVQw2tv9V9uMYGI1OCA+HlbMzrKyt0XfxCdGgntKxokRtU36uPe7I6JcYuPQkzj8MF5DMhygNIOPbi282XUpSCmHp8h51i4j+NQu5MJGVconahWP0PRW59qR28EGKutiXH4TIW5JHodGJwNrTGQMa+0lSK4E4I9EEzKR2s5rjlE6VdJY350MfHwrJBef+/l/PmqhQQH/Odcrx82KRFk+a51JISIgiDra+/jFEOxVgG8KLpteHpTxMaArNnA22TvYKn9cOtdCM6e1LpSP6Y9XfGHcy8U1eVpMIlR472b07PgGNp+0RRSttIyZpXd4bP3etnmXQbynnLP1n0QB70qaLWLD/poCPP/vVTQVSCBp+2nUdP+68KgCY0WI+WVKSb+CyU6LgwOTGcW3KYdvFIFFvoJXzdUWtYh7Ye+URAv+NVFNDu0IBKjpY4U5wBO6k8xomcWGAXLmewd41AO5ONnCMrovL9xMBV9VCuTH+rXIChqkGQU7v2LZlJcHu94M3Me+fG6Ke8ceHtYVywkhq74XHRSkjPfBMKgtOAkd+AAAgAElEQVSpMqS3MIEvMxYYEoCZp6fgcWQQvJy88WmVkSjq5qdXV+kBbE2/CLiOzhufwyMkARGu1vAcNhQF63eT/hmFZqnz+KAgWHt7I9fnY3AM7hi64oxElBc380L89MnJPrf1Sz428qKHrDgtlBtyrL99u6KUphfwnpAgCaZz9gYkKcIwot2sbD6JCpfxcRXOOwsB8Q0F1zk4/P/sXQd4FFXbPemd9NBCCyS00DtIR5oFRCxIE2wgNhABBRUEG/bup9gA5QepgoBK7y30ngCBACEQCKSRkPY/5w0TNpvd7Oxmd7Mhe5/ne8zH3rlz28yceee852RJ0ivXiBQgb3dn4WUzEZEvTNSnpkIIv2owQVFRIGHcgi85dR0T8PrwBwRY/7j5NGZvj5VoOLn/dOJ8rGU1nTc8JrrSWZIgnVxwRq4r+3qoWgd9lXiz2LBhQ7FtdO7cuUTnsNTBArDTbhnUh7fU+a3Zbnl6gJWnsdIq/UpAI1AylIUBnBe7hZdKpNMa+7k8ra2tAGyu61tLD2H2jnx5YhZ+UX25u/n2WXla13ILsOdsj8Wby44IUKF5iLbiAsEUb2QE4Py0TkOPjuHBmL/7HKYsPSzR6AHNqkrUmu59BDIESw81qyKJh1T8YImsUgE+Hi44EHe9kJtjkFsealT0h5e7s3CtGclmNJrl+s1b2Hk2Drdued7e4rkIqRiLVzs+iJ82x+JkQqr0m1zxxJRbmLjooPC4vxvcXCKviirIC13rYGi7GtIGwT5tvRkl/eLxZjrvj4o5C6P4lKYztjDC/OrmUbiYdh4+Lj5IyUpBFa9QfNLxe1WRbH0AW2k3PiUOL/18CcFJQLo74J0BpPg5otGC7XB0dEbK6GfEKMbBx0eUQJxCq8H72x8wcclheRnpmxKDlw4uKvQ7edaMdGsWAuIZK45h7fHLAooHtamGkR1qwcstP8JAqgfXmF82GB1XCr9EkEtN0F3N3xPUuPZ0dYazk4NwpAmkSVPgXmFiKVVJtCPejGR3rReMng0qSaLi4r//wTm3MHl541cT8rKHt6spPHldZkKs88Xak/ISwAj3oy1D8U6/yAIpR2PXVLO+JW4WJemPMcey70lpmSJleLeX8vQAK29jbdyhB7p+nP+S+/2QFugdWTRX6G7Z3+VpbW0JYL+59BDm2AG2WS4jSzwzbV4He2v0FQz9eZdEpakw0bJmQJHJnLn6uIAUAtnZI9tI9Jm0DEaMCaSmPtAQV9NuSXSbQOaBxlXEpW/1bcpIk2q+As4UHra7syOaVvMTPWTqYWvK92mfnMmK8DiOCr4JyM2qgMSECOTkuMPXI185glSERXsviLMkKR+MqL+/6rgAuz+eaYOEG5l47IftktC17IUOAq4ICh/8aiuS0m9h9cud9EbyaJ1N0LfptS563Sr17bzUWykYtX4I3J3c4erkhls5mcjIycD33X6Ht4thAxJ9AFtp1ycDePnrc8h0AbKcAc8swCUbqDxnATy9KiF56CCxOndwdUNeZqYogVSYOw9JcMWQWTtxLT0Lz17cioHJxwv97uhdVM5OUYthcqBi3kMXxf5Nq4qjo1IIlJnUSJlDRr0V9041Vyf3UViQt2hVU22GluZUcCEIZ6R85aFLEtlm8XJ1wqDW1fFs5zCE+OjWrWbk/LWFB3EsPlnqz3goEg81K5mtrR1gq1lJ26pTnoBJeRurHWDb1rVmrt7YCsAmFanLxxsKDM+U8ZmTilSertlyCbCbv/OvgGPSJajEoV1+3nJGqBIEsPOebSv82I/+OSGAm9Hsbwc3w+K9F7B0/0UBMs92ro15tx32KAxfr1IFbIy+IsCbVACqTBy+eAOJqXcS2fxdGcGuAD9PN7g7O8GZRiTZebhw46ZoITMSyeLmcQ2+ldfBIb0pEi7VkZeC9x+KFOBO7nhERW/8PLwlJi4+hK0xVzG2Rzgeb11dOOOMwNJlUFFEeffvY2LzTaURSvfpKs/NiRIOOeX6qvgZRymwZgT7pjvgpS+C7e2DvNT8CLYSoT4Yl4Qxv+3CLUdnPHdhCx6K3Vrod303Shr9fLv+lLw48SsBE1Y5dz3qV0TLmv6FIsME5YxO8wWKDpH8EsGotWJjzxcdcrqZuMq5JQWFJkCk8DCRcnfsNVnD/eeuF2hn0yr9ue4N8EjLanoT9AjqqQJDGT5qY5MfTv54tQDlC4h5HgOWuFmYp2eGW2Hfr6Vmwt/LHsE2PFtlp0Z5elhzrHaAXXb2pjE9/W3BMry9N/8LKSmroX4eGNquptXpP0ymHTt/v25dbgcIZhrQvGRBm/J0zVrimWnzEewaE1cIl5pSZ9pl48kroLMfaRuMBreoESBSaJTCIzj65clW+GZ9jIBX8nopl/fZf9GSANkpPAgxV1LF7Y/R5lY1A7D91FUxrSH7o3l1f3nAxyXdwKmEm8jKLZwhTPBMPWsa3OQ5Xsec3ceRkkyXvDyM7BSIKj4VQZBMXjXVTj5cdVwS7Cb0qivqFVTMYBR74ah2kow3/s+D6FGfGtiNZJh/7b+Id1cew4j2NTGqi25eNOkmdKWkTrLCPTbmRmFrHGxNjvXWrYfx+voLyHR0xoPJJ/HqU/fCPVydJOHZq2mib776yKUCqg/BNvnNTBykEVD1QE8Bznzp0lbz4BwSSDNZkjxrcrX5FeNkQgroBkoZQKXQ1ZOW7D0bVsLN6J3o37+fziWgMgyNbhhlJ0fbx90ZE3vXE/lIS2SfW+JmYczeKkld9p3mUJzbu72UpwdYeRtro/bd0e2TjbKF7RSRu+NKZtT4gZkrcOT6HapiaUj1sR/dPtlQkDema3ZJe9w75d4SPV/K0zVriWemzQPsHp9swPIX7ynCS6Ve9H1fbhYDma8GNZOkwZWH4vH873tFl5pJg7M2nxblECaYPNw8VIw/CIypIsLoMLnZ99QJFBB16koanB2BznVDkJiSKWBYKR5OeYB7AuCUAg8Xd9TwaiSmI5TxY6ng4SzR6PTsTHzxb6wAeCZZkifNJEaqVzDxYPgvuwtA9dOz9+DwhWRx8SP47/7JRuHxLh3TQdrcezYJo3/fK3rO0/o11Hl3oqTbv0cT8MPQFgLaTSmi9pGdDk9nT1Xca+UcqlREstPhBmdkXo2DR1AN3Soi6Wlw8MxXEdEuB84lCWc96Wa2qKqQ6kPlDrWF/GzyuclppzqHok2ueTyBN790uLk4imILzWVoGEOrbkaYtQtf5khB4gtY27BANKxaoUDphXPSr19hgJ2VkyuKMQTWjJYzIfYRSUytp9N1VO3YDNWzxM3C0DnN9bsdYJtrJm2rnfL0sOZY7QDbtvafOXqTHzXehzwRcS1ciC0YNaZTsyWLosf996F8VbTiyuePNS1Rf8rTNWuJZ6bNA+yDcdfRKLSwXBk3GCPAVHJgQttbDzQQt8QHvtoi4GjWsJbCs6VjX41AT4zoUBNT/zoq0WS66dGkhRcDkxyXH4gXkxFyavlvO89ck/1KZY++jYOw4NSPaJPXA/+m7IVDnjPcXXMxpvWj6BZRBRdvZEjyHNtgYaIida7HzT8ggG3es23w8rz98pbJaDol28jTJahm5PmnLWckok3qS/9vtgrQ3zKxqyRRKrrQ7WsH4rPHmuq8hiYtOoj1J65I2+QGW7MYAtjm6gvpG28uOywJiuRB82sGjWg8XPN1SNWWnNx8agc5z7FX0xCbmC7KMowmp2Zmg78rhcmJPu4uorVOt0bSN7iPmFDK/+nTHdcE2ATojKJTKYb7hIWmM6/1riu0JEsX5WYxe/ZsnaeiaUz16tXRqlWrQuYxlu6XmvbZ98SUjFJzKVXTR3PVKU8PsPI2VjvANtdVYjvtGDIRYjBt8fP5QTJLleIcJbXPWVJTo/J0zZZLgE2urHbhp3YazlBqjYmBjDwO+HabgNexPSLEbY/8ZNJEZvSPFOMRNkML61lbzgg395GWoZi745yAakYUGekmP5bAelTn2mJIsijqfCE6gGY/CMKYyPZMxzCJNjNhjeD+myeaCeWDIJ7aywRpn62Jlr8JzAiqJ/auK1FTKqMwGU+i2z/vEj73qpc7yqfx01dSMejHnaLNTQUSXWX03Cjhdy8a3Q6h/ubl8Bq6OVgLYLMfTPqctzNOpO/4MsQ5peIKkxiNBdr6xkWAzb3G/aCLMmJoPvj79nX/IKxlZ8zbdU5MhphwyUIe+Avd6kjU21pFuVk0a9YMR48eBZ0bK1eujPj4eKSnpyMiIgJ0aAwKCsJff/2FyMiiFCxr9VX7POz7lZQMUfq520t5eoCVt7HaAfbdd/W2eW8NEpLzJXh1FWKLY+/0LhEtw9CsEeTzua/jA2uRQ5lntuONHoaa1Pt7ebpm7QAbEBDc5aP1op6xbEwHcXL8cdNp4SvzbU24bp9vksTIrwc1xbsrj0tkeFTnMPy8hYlleXi6Yy2hbvBiUEA3AdbIDjVRI9BLONwER06OeYDnMTwYVBerc34DHLKRl+2DzgEvYOOJJNE4Jv+WiYikary17AiahPqK1Fq/b7YKWKc6xJBZu9C6VgD6NqokkXSCbfb15f/bj35Nq+CNvvWFS07tawVg82Xh6d/2SNTzvQH5vGzt0u/rrUJD2TihC9ycjYvomnzF3T7QmgBb6Wv8jZvCsf/3SILcXJjYSmoQXbSMoY6UdOzax5PzTSnApbtPIeFm/qdDvoD1a1IVT3WshYiKRZVPzN0HXSCVLwxvvvmmWJTzv7Q5z8nJwfTp05Gbmyv/NmHCBOzfvx/r16+3dJdUt88bHV0zmWB6t5fy9AArb2O1A+y77+o1FMHmiEtKyzA0a4ZAvubxzDFiXpepTpPl6Zq1A2wAiiQfTTvoisdP/J1mrkdGVo6A05+3npHoMa2oaRTDaCKtrI9cvCFUDdI4Zm05Lcofr/aMkKRHgrWZAxth37nrEtWmxvWw9tWx5MpoZDtexwy/GZhyfUrBvp3bcxmyb/nhpXn7QS74ew9Fomu9EImiE8z/80pHDP1pF+jORyvzvl9ukcQ6UlXeWHJY+sZoJqPepKzQhITHsq3NE7oKlWXtsQSp+1irahh3b0SRa44mK/d+tkk43YtGtzd0TZr999IA2Mog6Jg5e8dZ/Hc0oYDawa8ZjBTfUydIbMpNjUKrmShSSqiVTiURfq3QNCJiIiXX9KHmoaVq9a3cLIKDgyVqTXCtlOzsbIlmX7lyBWlpaQgNDUVSUpKaoVulDvv+wJebMfKeWiY/GKzSUTOcpDw9wMrbWO0A2wwXiI01QXrGK/P3CbbQV0pKyzA0ZGMi2GzLVNk+UnHf/nk5jt4KxPnrN0tNLcXQfJjrd5sA2FlZWRg7diz++OMPGdfgwYPx2Wef6eRxGlNX1yRpD5i81nbvrxNwvGlCV0kK/PifE/h6fYxEhcnH7v7pRlFo+GlYKwz83zYBOUPa1JA6nSOCJDJN2/IXu9bG/+05LyB45sONRSmCdRg1Y9JggF8y7l9yv3RLE2A7wwUr+m2Cs6OzaFy/+ucBdI4IxsyBjSUhj9xqcqKnrzgqBjaLRrXDw99vlyQ9vkXSHv3ZTmESff3435MSWSdNpOtHG+Hv5YK/X+oo5/zfxlP4eWus0El0Se1sjUnEuAUHik2CNNfG09VOaQJspT+JqZlYcSBeklvPXksv6CYpJNSqVhRDaChjquTbjfQsnLmaJpSd6IRUHIlPRnRCSqEESMovdgoPRkhqNJ59XLeKiCXXorhrhzzrJUuWoEWLFgXVoqKi0L9/f8TFxSEjI0PAtq0B7JoTV8hn1rvVWlpZjPIGOrWTgK19XVjrfPYkR2vNtHXPQ9AZMflvZOfpB9glpWUYGhFBPmmvupLw9R1rbAKmkki56lC8JHQyCFkaaimG5sKcv9sEwH777bfBm8eqVatkbH369MGAAQPw1ltvFRmrMXXVAOxft57B1OVHxfFu5sAmErVu895apGVmY/PEriLJxwg0rcOZ9Ej9ayYRMtmRUcd3+0di0uJ87jZBMf+dDo+MlD3w9RZ4uTpj6Zj24hS5+tRqvLbltSIA+4nKIzGy7Wj5d0qJMTpdt5IPZo9sLZue2si/jWiFF+ftE77w5481wejf9wmVhNxqms6wH9tOXwXtzgnM/Txc8OycKHSoE4hPH83nWyv86t9GttKZFPfFmmj8sescJvWph4csnLVsqwBb6RepENGXU7Hp5BXsOH1NpPRod65Z+EJD+/EgH1f4ebiCBkHUuuaNh4XqIdxP3CekH1FJhvQbTUk+pT2+hDWr5ic0HyqJ8EWPRZeKiDlvAMa0pdwsvvrqK/A6HDJkCKpVqyagmi/H/LcXX3xRwPecOXOwePFiY5q3aF32nfKcLMY+GCzaMQs0bgfYFphUG2jSDrBtYBEs1IWO05cjLq2o6hVPx6dJ8xr+Fv2qTPA74Nut2K+hdGZoqMb2q7hEyrv1nmwTAJsPaUasBw4cKGv6559/Yvz48ZIwpV2Mqatrg2gP+P6vNou03fIX7hFlkeUHLgqQva9xZXz6aBO0nL4GmTm5WP9qZ9EfZVLhG33rCdWCXGcC8TXHLuOrx5ti8tLDwqEmMJ/x9zFpa3q/hiIYz9Lotzu8Z22KyJqHdkudfeeSMGruXqElEChTNjD5Zjb+N6w5nv4tSuTc2tQKlMTGF7vVwZJ9F0SqbdmY9vI7I7D/vNIJv+86i9+2ncUrPcIlcZJR0z5fbpYo98qXOxbIwGkCyoe/2y6UEvLQFYBn6CIz5++2EMHWNx6CZILso/HJohxCjvTZq+nywmNMIUefEorkd5NPTwWRhlV8xVxAFwXFFgE2x7t27VrMmzcPFy9eRJUqVTBo0CB0797dmKmwal1NgG3sg8GqHTXDyewA2wyTaINN2AG2DS6Kmbo0/vu/sDBWd86TtcAnAbbiPK12WMZE1oujodyt9+RSB9j8jBwQEIDo6GjUqZNv+sG/qUhw/fp1+PrekdMzpq6+DaI54IvXb6L9B+sQFuSFta92FoDz0rx9omdNSgfVJMh77tmgokR0qSHN6HRGdo7YWM8a1gLP/7FPEhuZCEmZPxq7zBreCi2m/4eUjGwceLtngSqFGoCtODAySh7o7YqJiw6JMx8B2fzdcUL/oJoEedmMWhPUkyoyuktt4W9TGvDLQc2Ef03JOMWRkdJ/dKNU+Nna86MAe/J9Zw1vqfb6Mms9WwbYugbKKDd1y/lSQ/46QTgBtyLPxxujh4sTvNyc5YsC15P0ImO43LYKsM268FZoTBNg83TGPBis0D2znsIOsM06nTbTmB1g28xSmL0jmk6OSuPWpk+0eXcNElL0q5loD9pYUGwokfJuvCeXOsDm52VyOpkcRXkvFv4dEhIin56ZLKUUY+oqx0ydOhXTpk0rtDeWLl0q/3/XFQf8HuOETpVy8XCtXJHdeyvKCalZwPutc7D2giP+veCIgbVycDXDAevjHTG4Tg5WxTkiKRMYG5mDTw87I8I3F80D8/B/p53QOzQXfarlYux2J3i5ADNa5suqqSnbExykDV+XPLzWOAefH3ZCYqYDnqidgz9PO8q3oger52JRrJOc080ROJTkiMfDcnDgmgOOXXfEsPAcODsAP5/MrzOmQf64PjzohPh0B4yNzEZNHQIUs6MdEZXoiEG1c9A2RI1Yj5oR2evcTTNAjrUicblp0yaQd52SklJoiLpoXbYwB/YIti2sgvn7UN5eJuxJjubfQ7bQ4pw/l+HNqDtJ4+wTXZ0p2WuqWocx4yJFpPmM/8RkT20xNrJuj2Crndni6xllNKNEpWNiYlC7dr59N/8ODw/XG8FWU1dfFzXfKOhaOGfHWXzzRHOhhDA5sdW7a4RPvfqVThg1J0qssRc/316k3KgwsfT59pJgyKS3r59ojkf/t11cHNvVDpRoM/Wnx94bga4fbxAr7HWvdkZYsHdBd5QotiZF5N/+u0SZ5Ku1MZKE9cVjTbF0/wWhnpBDffNWjny6GdymOlYfviRygePuDcen/0ULtYCSfJTnq+zrjvnPtsXI3/YIjYEUlw51gkD79wkLD8oF+9PwlkUiqJSqIz2EbpWkyphLB9rY7VTWItjGjs+U+rYYwZ44cSK++eYbtG/fHl5ed1wweW3ZEu9ac77tHGxTdp/tH2MH2JVsf5FM7GF5WltdAJtf1ZlMb40ibpK3vT0Mnc/UyLqdg21oZtX9bhTAZpPkVX/++ed4+OGH5QwLFy7EuHHjcO7cuSJnNKauru5qAuxBP+wQ58Y14zoLF5Y0iYe+3YY+kZXw3ZAWePi7bYg6m4Rtk7ph/J8HsO3U1Xwu9qcbUdHHHT8/2Qp9v9yMThHBItVHsN0xPEgs1ZkcSUpG/coV8OOwFoVMWwiyCbAnJ03Bh83/kcRIugrSMpt26JtjEgVIkwfduqY//joQL/2r6OOGraeuisoHNa3Jl2b92dvPCph/p19DSap7b+VxNA71FZoLE/OGztol6iMK4Nael/dWHhPayVP31BI1ktIqdoBddOZtEWBTpm/z5s2oV69eaW0Vo8/L696uImL0tNn8AeUJhNkpIja/HU3uoC6ArR2cM7lxFQfma3FfV1ETkohP92NjI+uaKiK5tyUJTQXrqjpqA5VKnSLCOeBn5RUrVmDlypUyJX379hXJL12fm42pawhgd/9kA05dScORab2EJ7s5+opwrhU9bBq7UJt41+TumLToENYdv4yVL3XEiF93ITH1FvZO6YHW760VYLzt9W6499NNwntmFJlZvzR6oQIIC3WzKfPm7+kKSgP+u/MwYm954uL1fMtralo/0ykMs7fHStJliI8bWtUMwN+H4uHv6SKR6BUH40WjmslxW2KuoktEMEIquGHBnvNoVdMfU+6rj8Gzdkni5U9PtpTkOUbGP18TDdqtfju4eZHoNaXiaFrj6eYkfG3aeZdWsQPssgGwSek6deoUXFxKb68Yu0d5o7vvi0142kqfXI3tnznrlzfQaZfpM+fusZ22ytM+nrtwGabsKUwRsSbANsSPVnYFAfGZD+4zeZMoOthzYvITOk0F6yZ3wMoH2gTAprb1K6+8UkgHmxFtGlmMGjVKpuT777+X/xZXV83caQ64/ftrcfFGBs6831eAJ3Wgmag4sEUoPn6kCYb9vEtk2la/0hHzdp7Db9vPSgLhigMXxWXxlxGtsHDPeQHBUx9oAF9PF4ydf0AA8Q/DWkoU+et1MWCCIZMSdRXSNgi+z19Px8I9F3ArJ1coKtTdprY2k+LahwVi1ZFL+X/XDhQLdgJtvkW+v+o4Kng449cRrTBjxTGhkjzRujpe7hEuOtxDf9qJrJw8zBnZGrVDCn9uIp/2+d/3yjGktlA7uzSLHWCXDYA9a9YsHDlyBB988AHc3MqGMyKvb75M1gq6Q2kpzb1uyXOXJ2BS3sZq52Bb8sopvbZLG2AbYzQTWwKAzRnmNfvy9vyXiZK2VXorpu7MNgGw1XXVPLU0B9xx5jpxzIt5tw+cnRxxLD4Zfb7YLHrWv41sjal/HcGv22LFppSEfsr3UUWkc91g4TxTSu/1vvXw4Ndb4eLkgHnPtBVqBykfDg5AvyZV8EjLaiKtRxB78lKKKE0wWh574ghqhDdA1LkkbDqZKMCaVthsc+/ZJFxLzxIQXcXPHbvO5ANt0kX+O3ZZFCme71obM1efEJv2zx5rKi8HjGTToIQqIA5wwDOz9+D4pRQ807GWRO60y1/7L4odPFVU5jzVWuagNIsdYJcNgO3v71+Q3FihQoVCnb527VppbiG95+Z1H3M5xWqcxtKchPIGOu0R7NLcbZY7t7X2MaOqVA6bsz221NwFjQHYluhvcfxo7RUuKSi2A+ySXTNGc7BLdjrjjtYE2P2+3oID529g5xvdUbGCuyQTNnx7NYK83eTfGClmhJdJjDMeaoTW764RCTZ+uiGVhLxmOjYmZ2SJ7jUl2d59KBLZObnirshkRBZSSAiWvd2dxTHyckqm2LErhQYlzar5iwkJzU1Y2oUFiA07I98E2VV9PbD7bJJEx8mV/nJtjIByanJTDvCrdTECvBlVZ7IjgfPyA/FoWs0P3wxuBmfHwuCZEoWM1pOzzWg75flKuxQLsPNy4ZCZgjw3H8ChdF8ErDlPtsjB3rhxo94p6Ny5szWnR/W5eN1HJySL4dPdXqwFTGxhHsvbWO0RbPPuOoUXvPpIAvh3abkLqgXYluqv0u7Kw5dEday4cvq9viLGYGqxA2xTZy7/uDIDsBXN69+fbiMcZxYFdNOshaCYqiIE1VsndcOPm0/jfxtPo2+jSniyfU0M+nGnUPWZPHjhegZm/nNcNmeTan54pEWogNd9565LIqUmoHZ1dkSASw7CqgSJ4cuJS8m4kpoPuMOCvUShhPQQlhbV/XApOVMSGtmf+xtVxo9bzkifXr03QpIYybGmFjfVUGiW8+vWWHy38RSCvF3x64jWYtWuWQjyn5sTJaYpw9vXwPNd8vXHS7voA9hOicdRYe1EOKZcRK5PFSR3/xA5QWUnwa4k82qLALsk41GOzczMxAsvvIA1a9YgMTERVatWxYQJEzBy5EidzZMaNnbs2EI0MppTkUamphBg8zqLqGgH2Grmq6zUsQNsu4pISfaqrShbqAXYluwvQTbVy8YvOIDi7NOIdwY0vyOfbOz82wG2sTNWuH6ZAdizNp+WyLMircdhKOofz3UKw+t96+Od5Ufx89Yz4oY4+b766PXZJgG7BLdV/DwwfuEBAdVD2lZH17oh+OTfkwJclVLF1x11KvrAw9UROTl5koB46UYGYq+mIU8jk5ZcbHdXJ6GH5OZBItUNqlTA9pirstkpAxjo6YoVh+KFrvJ6n3qIS0oXt0aC608eaYJWtQKE7031EkbTvx/avIglOnnXVBnhJzFyxL8b3LzUqSHKXOkE2Hm58F/wEJxuxCLXzQ+OmdeR41sTSY8uKReRbFsB2MyBGD16tOhgf/nll3rvEC+99JKqu0daWv4TI3MAACAASURBVBo+/PBDDB8+HGFhYdi5cyf69OmD+fPno2fPnkXaoA07b8yrVq2S31h3wIABOhOhdXWAAPtY/I0i14OqzpaxSuUNdNopImVsg6rsrjX2sa1oM6sF2Nbob4M3VyM9S79/B0UWNrzWVeUqFq1mB9gmT50cWGYA9smEFPT8bBMaVK4g9uEspGl0/HC9cKo3TugKJwcHdPtkgzj2UfaOoJpyfOm3coSq0S4sUEA2Bdq93ZzFKbFGkBdOxKdg2+lEJNzIFCqHdqGZTFhlf7g7O+JC0k2cS7opVbzdnBBZ1RcnLqXIOalNzTY3RycKZYTA+637G2D5wXhRNeE5P36kMZpV98f/7TqHz9ZECyXlk0eboHWtgCLn/X3nWaGXMEpOnrl2dLtkS1+yo3UBbIeMGwiY2wN5Lp6AsxuQnQGHrJu4NnQt8twK839LdnbbPNpWADaVfQhuCbC7dtV9cyWIXbdunckTScAcGRmJd955p0gblOdkxHrgwIHy259//onx48fj7Nmzqs7Hvh25cENeWu/2Yg1gYitzWN7GaqeImHfnGVLPsJa7oFqAbWx/jeVrs37YG/lqbvoKsVH0u31NXgg7wDZ56soWwCZY6P35ZpxISMHSMR2Er8wybfkR/LI1VnQeqRpCgxkmDDIJ8afhrSRi/PTsPQKqqfjBCPiWmET8ued8AZh2dnSQCDG53fybVI7MrFyk38oWDvaZxFTk5t3hMfGtkHWPxyfjRka2xLa71gsB6ST/kBcFiGU6zWYYJT97LV242Yxc00adRjjUw2bfPny4sUS8tcvKQ/GYtvyo1PluSHOR8bOlYjiC7QvHzBv2CHYpLZolMqKVoWRkZKBOnTqih6+AaOU3xYwqOjpa6rDw74iIiCJmVPqmhn1v9s6/qBXoiaHtahqt4VpKU27Sacsb6CxPEezI9t3R/ZP8HIjvh7RA70g7RcSki+T2QdaICKvpny4d7PXjuxRRPTKmv5p8bVJKNYvf7UBd/6ZVC/jUrP/CH3tBHrYdYKtZNcN1LPHMLDMRbE4PdaJfX3yoQDmE/3bjZhZ6f75JEgyn948UObyft5zBOyuOSmR7yn0N0K1eMF798yB2nclXTaBSSJ/IypLEuC/uOvafS0JyRrbeFfBxyUOtin5C5biSmonTV9KkLiPm94QHws/TVYA9I+WU4RvduTYSUzLx6/azwr+mw+PbDzQUughfCKhEUsHdGR890qTgRUHz5GuPJeDNpUfEbn3mwMaiVmJrxc7BLroithLBZs+0bxYEvtpW6dTINrbwRXfo0KG4cOEC1q5dC0ethNy4uDiw3StXriAoKH/f8u+QkBDwt9DQonzAqVOnYtq0aYW6UmPiCgB5YIps44A8DI/IRQlydYwdpr2+fQZKPAMJN4H39ufnHYyMyEGTQAMZaSU+493dwJ4rDvg9xhGK8YnmaB2Rh8F1ctEy2PJznHwLRazSJzfNRohH4fk3pr/F1eV9kEG8Jhr3wd1XHDA3hnfH4hIY8xDsDkxppp9CombHKDJ9X7TTj5HUtGPrdejnwuebOUuZAtgExD0/2yj0C/KR+zSqLHMRdfYaBv2wE9m5ufhoYBM83CIU83efw5Slh0VXmtHkyX3r41xSumhdUw5PKbQvZzIV6RyUy2MbfIHMzM5BWmYOElOLRrCZwNi8ur8omWyKvoLM7FwB85QFJGXkx81nRNeaUXS6RlKrm5H3yUsO43zSTVQL8MDHA/Oj2dqF0oHkkjNH+p1+kbi3QUVzrrfZ2jKoInIrFXmu3uWCe61Mqi0CbKqIPPnkk+K0qnnzIADPyTHuxsvjye2OioqShEdf36JfVZQIdkxMDGrXri1Tw7/Dw8ONimDnA+z8whdTfv3p36yq2favrTRkj2DbykqYtx9cV3sE27xzqi/Ky/tD74YV8dWg5iVSzFDbW10RbOZlESuE+nkUfHVjey/O2wuqnihRaW03RNZhjtXkJYeQdqv4+7HmfbDLR+sFBxkq9iRHQzN05/dyH8HmVCgOjtSaXvHiPagW4CkzREoFta+5kcd0rY2xPSIkgXHCwoMFgJoc7EdbhiLIx01MaejcSOCr/UlGe0kYwW5UPQgE4wT5++OuixIJC3nX9zeujMZVfbFo7wWJiLO0DQvAa73qolIFd8zZcVZAN8/TKSJIeNnaLowEL/+3O05URhgZf/vBBujV0HY/Kdp1sAvvkgAvV6xcsRy28glcuVnUr18fQ4YMwYgRI+DlVfiFThdA1nc74v4cM2YMduzYIZFr6mvrK+Rgkz7y8MMPS5WFCxdi3LhxAvLVFPZdE2DzGLqILRrdXs3hZaqOHWCXqeVS3Vk7wFY9VUZVVHjKr8zfL8dR7nbqgw2tSiPTBbCVQegD0Ep/eR8jdZRl7vZYHIlPkQCdmsK26TrN+2D4GyuRpUUl0dVGzIw+cHY2XSrXzsFWszL665SpCLYyjBkrjmLWljOoHeyF+c+1Ey1slvUnLuPFP/aJQQy1ot/p11Aiygv2xIlkH6PKLORZ842Tv1Fqj/J7WTm5yMjKFRDMv7P53+wcXL+ZhaiTF3Apw6lQAiRpJj3qVxSONDWsFTUSus8R4JPWQRv1D1cfF71s1nuxW340mwBCs1CL+9P/TgpAZ70Z/SPRKSK4ZCtr4aPtALvwBJOTb0tgSQHYNJe5ceNGkT1n7PYguN6yZYskRgYGFs0Z0GzvrbfewooVK7ByZX4CDpMu+fmN/66m6ALYFX1csXPyvWoOL1N1bGnPWHriyttY7RFsy+2ompP+lsZ7Nqgo3hDWKgT4E35YjoWx+fbhxZUhbarLV2jqUCv9JeAd+L9t2B93w9DhOn9XEjnDJ6+Ur/OGCo33SvLlzw6wDc1w8b+XSYBNQEpt6LXHLwtA/vXJ1qgemB/Jjk1Mw7gF+8WNkaVbvRBREGldMwBbTyUKGN548gqupmUaFGnXnDpSSKhbzTfQCu4uEsVee+yygHmWOsHeGNa+hoBuSvv9b9Mp/HMkQX5rEuorsoE1AotSQq6mZgqVhf3lOcjLtgUjGUPbyg6wC8+QrQLsQYMGYdSoUSiJqQzVP2rWrClW65pa1oyMUxKQ7bPwbxbqYL/yyiuFdLAZ0TZGB1s7gl1SuSlD+7m0fi9voNNWvvBYer3tEWzLzrACWEmh/NFKALvA4OVQfIFsr6FR3teoklBXFLWPpqG+2H/eNHCtGcFWSxFpXt0Pi5/vYKiben9funQZXtlht0o3dQLLJMDmYGkM88If+7DmWIIA05kDmxTwlXkhLNx7Hl+siRYdbBZqXPdsWElMagh4b2blSISZGtcExHR4JP2DwWUPF2dps7KfhxjA7I3ag8q1G2JLzFXsPZckyYwslNgj5eOhZlUFePNcVAdZcTBeIuGU16NNet9GlSVKrl2YdEmLd7pI1q3oIwmNlXzdTV1Lqx5nB9hlA2A/++yzold93333oVKlwpSjTz/91Kp7Ru3JdEWwg71dsXuKPYKtdg5tsV55e5mwR7AttwtLA2AbY1GujFzhTSsUkZLMiCYHe/He8xi34IDB5vhF/Ng7vU3mptsBtsEpLrZCmQXYHBVB7PsrjwldhIVSfa/3rYfKvvnpvATM5GZTfWTnbQURZTZIK6khcntuEpHmRuQHFwJ3KpNcSclEXNJN+a9mYeJiq5oBomTC/9FSfU9sEhZFnZeER9KiqHf9RJvqGNS6Gjxdi7rX8RzfbzyFebvipOl+Tavg1Z4RcHM2/NmpZMttvqPtAPvOXAZ7u8kNzJYAhEIRIfdaX/nll1/MtyHM2JIugE0aYcx795nxLLbRlC3tGUvPSHkbqx1gW25HlQbALk52T99I86POfog6m/9F3ZSizevms4ZBxPpvrVbF3y4JTWTJ0mUYa49gm7JscozNA+y/9l/AA02qFDvAdccT8Mbiw7iUnCFa1I+3qoYRHWoV0qW8nJyBDSevYOfpazgWn4zoyykGOUzkapN6UiEnBT1b10fLGgGiZ81/j7mSKhSRf45cwsXbCY9MdGMSJXnW2kmMygD2xF7DB6uPI+7aTfi4O2NS73roYaNKIcVNuh1g35kd0kNYbAlAWCIj2uS7jJEH6gLYbOL0e31NjsQY2QWrVbelPWPpQZe3sdqNZiy3oxSATUrmrOHW4WAbMo7RN1oG8RKSCwfqjJkZfh2n/DADiATXLATYNNVToyRSkgRxO8A2ZqWK1rV5gF379b/xzeDmBhU1yIX+bkMMft4SK/QPFroj3teosvCwFbURZQqYyEhqCKV1UjKy5U2QW9fNxVEi2lQaqejjJtbkfDC079YbBMfUu95x5moBqGZ7zar5oV+zKuher6IAfF2FrpO0dld42dTGntSnHkJ8ygYlRHtMdoBtuwCbetdMbqTyR3Jyst47BOvYYtEHsEsqOWWLYy1voNPOwbbFXVjyPll7H98B2CGYNbxVyQegogXTI9j+iDqbpOIMuqvEflD4y10BF5ymdobzHFESh0s7wDZ52eRAmwfYNSetEP4yFUEGt6lhcLRJabfwx65z+GPnuQL+NQ8iB7txqB/CK3qjdrC3cJ0ZcfZyc4YLP7nc1r5OvpmNxLRMxF/PwNmraYi5nIq9pxOQdKswh5qW7V3qBgvvm5bs+kpKRpbwsufvjhMQT043JQS71w8psbKDwcmwYAU7wM6fXLpsKdQeaz9k9C0vgTNBNgE2jWC0VWv476boYFtwOxVqWh/AvhsTHW1lz1hjbcvbWO0UEcvtKgVgd68Xgp+etA7ANpWD/dHAxgV8aQagi1PXa1HdD1G3BRqU2dMG2Mb2wx7BVrcPLfHV1+YB9tJ95zH+zwNC5yD9go6IBMWGCt/y9sUl4d8jCdgcnYhjl5JVve3patcBeagd4oMW1f3F1jyiojcCb0sD6uvHjfQszN8TJ8Ca0XVyvAe1ro7h7Wvo5GUbGo+t/W4H2PkrotBD+LetAAjFTZFAmgog+kqNGoZfWEtj3+kD2E4OwKn37y4etq3sGWusc3kbqx1gW25XlQbANkZFhOE46hrQH4P3M8Ufo2k1Xxw8f0MvyCaYVsamD2AbG0nXx8FWNMXnbI/F+es3C5nkKFQUewS7ZHvY5gE2QcLu2GsY8/teXE7JFBdEakt2rRti1MgJcsm9PnU5FWcS00DKxrX0LNy8lS3gnW+WjEQyaZHqH4xwMwkyLMgbJ3ZvxKMD+hWcj8fqK5QJ/DPqPFYcvCi62sz8pRENpQI1wZhRnbfBynaAbbsAmz2zxNu4tbahPoDNh9YZrc+l1uqTpc5T3kCnnSJiqZ1Uuu1aex8rIJT0z5+tFMHmDGdn56Lze3/jQnrx5i31KnrD3dUJhy4kC19aYXIQZxB0a0r1EQArKiNqALYxXHAa4R2e2qtI7oqmK6bSP13JlIuXLsM4e5KjyRdXmQDYHB250rQTVTjMNGIZ3zNCaB+WLto3D9qoX0/PKjgtLdM3nLwsGtsK14oRayZnDmlbHYqqiaX7ac327QC7cPTaliLY2gB7+/bt2LBhAxITEwvZpZclmT6OiY+003aAbc3L3KznsjYIM2vnjWzMroNt5IQZWb20ADbl8V5dsN+gDvar90bg87XROl2iGXTTdI/WBNX6ALZmtPnghRsGBRqU6Zw5sBEebZnvHKlZiqOZFJIDtANsI3dm4eplBmAr3WaS4Yy/j+Ls1XxXRiYLMsO2WzEJhiWaIT2f/k9fScWO01ex4cQVoaAoiZWVfd1FF5vSe36eriU9tc0ebwfYZQNgf/PNN3jttdfQq1cvrFq1Cn369MG///4rlu5//PGHTe4vfRHsQC8XRL3Z0yb7bGqnyhvotEewTd0ptn2ctfdxaQBsgtzmM/7D9fRb/EZY7ILUq+SDE5dSCiLXmpV5pGZuoiGATfWkF+ftxeojCYWi4Wp2BD0/Fo1qX8QufcC3WwvM+LTb0TS0WbxkGcbttBvNqJlrXXXKHMDmIKgAom1/zoTFXg0ripIHedJqeNpqJ403j15978ehCzew8/RVbDt1VWgrilUptbG7RISgT6NKolyiy1RG7bnKSr1iAXZeLhwyU5Dn5gM4FP8prayMV7ufvh4ucHcprFtu7YdMcXOnUETCw8Mxa9YscXL09/dHUlKS2JgvWrQIZUkHm2NlgvCeu8xsxpb2jKWvxfI21obtuqPHpxtlWr8f0gK9IwsbPVl6vq3ZvrXXVgHYXesG45cRra0yVEZ91RrGEI9cSyMQN1wMAWxSSF7984DOaLjh1gHyvheP7lBI4s+QhraiPGIH2GpmWH+dMgmwleHwM8v645fxf7vjsOHEZWTfTs+lTnXDqr7CdapbyQcRFX1QPcATwT5uwonWV8j3Jlc7/kYG4q6l49SVVEQnpGLH8ThcynAs9FmG6hFtwwLRKTwI7WsHwcO17JjElGzL5B+tD2A7JR5HhbUT4ZhyEbk+VZDc/UPkBNUzxyltqg1dfHprP2TUAGwqiihSfQEBAbh69aocFhQUVPC3TU3sbf64tlU6++ji5IDod/vaWndL1B9b2jMlGoiKg8vbWO0AW8WmMLFKaQDsAd9swd44dTbn5oxge7k6Ie22e7SJ0wXNREc1LwqK8siiJcvwqgUi2GoSLE0dq6nHWSJvqUwDbM2J5GebdccvY/2JK9h+KhGJqUXfHomtGXlkIqO7s5OAbepIklPNDUwHR7o/6ip8I6XedZuwALSpFYjIqr7CCy+vRSfAzsuF/4KH4HQjFrlufnDMvI4c35pIenTJXRXJ5itayG1zGc31tyUAodwsIiIihH9dpUoVtGjRAh9//DGCg4PRtWtXXLlyxSa3rz6KiB1g2+Ryqe6ULV0fqjttYkWOtWG7bujx6SZpwR7BNnEi9RymAGxK5f5qpQh242n/gDK+akpxHGzt40kBCXtjpfyzLg62mvMZqqMp1UcVEm0pQO3jFUBuCYCtNsHS0JjM/XupA+ytW7fi+eefR3R0NPjg/u6779CuXTud44yNjUWtWrXg5eVV8Dsf6suXL1c9L6YOmJHoc9fSRTXk6MVknEpMw/mkm6CbIz/bUI9auzDqTfAd6O0qah+h/h6il10nxBuxB7Zj+CMP6tStLk5RRPVAy2BFXQDbIeMGAub2QJ6LJ+DsBmRnwCHrJq4NXYs8N9s0NTFl6vWpwdgSgFCunc8++ww1a9bEQw89hN9//x1PPvmkDHny5MmYOnWqKcO3+DH6AHatIC+sH9/F4ue35glsac9Yetzlbaz123ZFz882y7Ty2VIn2AtD29Us5Mhn6Tm3VvvWXtvSANgN31qtOpK8bEwH/LDpFFYdvlSs7jXX575GlfD3oUsWBdiaZjOGVEgo0HDsnd5CKbEEwFabYGmtvaucx1S8WVw/VUewr127htq1a2PmzJkYNmwYZs+ejUmTJuHUqVPw8yuq5KEAbHI+df2uZvIsMWCelxxuRqpzaLgBiPuiq1NRQw6lj8XdPOwAW2MlC0WwfeGYeeOui2CTCkSnT13F2g8ZAxe2KIakp6fD09OzoCo1slNTU1G/fn01l2Cp1NEHsD9+pDEGtqhWKn2y1Eltac9Yaoxq7qOWPre126d+8JKrlbApOrHg1Lpk0KzdL0udz9r7uDQAduOp/yA5Q10Ee/kL96BhlQqY/vdR/LI1tthp11QVsVQEu3l1PwxpWwNfro0WgYjiDCBZd/HzHaTPlgDYxel4ayZYWmqv6mvXEnhTNcD+6aefwGjY4cOHC/rXsGFDjB8/HiNGjCjSZ1sG2MYunKGbR3kE2eWVg12clrmhfWLsvitJfd4ssrOz4e3tjRs3bsDVtewo2tit0kuy8rZ7rC1dH5aepTdn/YXfTznpjV5WcHdGeIj3XRPRtvbaKgC7c0QwfhtpnSTH4pQ3tPcTAXajUF+sPnwJo+ZGFbvdNFVFLAGwSY1tVLUCDpxPNrjtNSX6LAWwDUXQS2LtbnCAxVQoVYD98ssvS1LU3LlzC7o4ePBghISECPDWLgrAJvczJycHrVu3luh3vXrqE94sMWBTFsDQzYPc7YysHFOaLrPHGFQRuZWKPFfvu4p7bcgoyNA+seZiK9dOZGQk1q5di4oVK1rz9CU6lz6AHernhk0TuhcxTSjRyUr5YFvaM5aeivI01i4zliM2tXgFpbspom3ttS0NgK0mOVC5hu4A7HiMmrtX9aWlFmB7ujgiMydPlbJI01BfHLhww6CTNcF174YV8dWg5gX32IVLlmG8mZMcy10E+9atW3kEwfqKm5sbnn76aXh4eODrr78uqDZmzBhkZmaKDJh24Wfoo0ePolmzZkhLS8P06dOxYMEC+TcfHx+dpyIndNq0aYV+W7p0qerNaa9onwH7DOTPQP/+/YUi8tVXX2H+/PmYOHEiqlWrBkfHOw/9xo0b2+R06QPY7Gyv+iH4bmjLuwZkWxuYlOaCl6exNn5zBZKzitdKVtZCO2pYmmtk6rmtvbYKwKbh3GwrRbCZnBcxZVWBWllxc2UMwDYlgs0kxEmLD4pbdHHFw8UR9StX0Kt5rXks23ywSZVC91ZLAOxyx8Hu169fHi8QfeXMmTMSpSYPe86cOQXVhgwZIooEuiLY2m3xYV+5cmX8+uuv6N27t6rruKxEsJXBlCeqSHkzmjEUveYesPZDpriLSLl2NAG1Zn3+XtxLtaoL1EKVigPYPOWnjzbBgOahFjq7dZu1pT1j6ZGXp7Eygn021bFYrqsy36XJOzXXmlt7bUsDYHOu8mkiSQaNZoyhiGhysM+83xe1Xs9XFNEumkCcyiMt311jUGubEn9UTUtINqx4xjaZ2KhZ/ly8DK/tMq/RjKIioiR28ny28DXHEnjTKA72559/jkOHDhXMPz8/jxs3DiNHjlR1nRJg09zCDrBVTZdNV9IE2NQjv0Tt8KR08CXjauotXL+ZhbTMbKHO8Hea7zg7OYg5C5ME/b1cUNHHHVX9PVAz0MumdcQ9XZ3goyexUXORrP2QUQOwbXoT6emcIYBdM9ATG17rWhaHVqTPtrRnLD2h5WmshjjY2nNdWrxTc625tddWAdgdw4Mw56k2Rg2jJBrM+TSRfSYDbOLX23YdBX3m8yX9ts51cQC7RXW/Ank9Ukke+X67GN4VVxT1GkOyfGyDaiaa9BD+myUANtvlGvT5YhNOJKRK9ykjSEdu7Qi6UQtbwsqlCrAVFRHq6A4dOlQi2RMmTEBMTIw4xGmXnTt3giYXlPO7efOmUER4zLFjx+Dr66tqKiwxYFUn1qpkzM3jbo9i80tE3LWbWPTfFmRUqIboy6mIuZyqU/pQ7Vzz7bVGoCcaVvFF09ta42oixmrbL2k9tX0xZp+UtE+GjreVa8dQP3X9bghgOzkAp96/z5Smbe4YW9ozlp6c8jRWqogsvloJmzVURPTNrz2CbfzOMxVgl1SDmceHvfG3KoCtS0Wkmr874pIy9A745Du9EfHWap2/R7/bB+GTV8lvBNivLtiPRXsvFDt5zar5ynN17s5zBidZF1XJUgCbnRn28y5sOpnvxcDxlHaxxDNTdQSbg9+yZUsRHez27dvLvJw7dw4NGjQQjnX16tUxb948TJkyBZcuXRKZsDZt2uCDDz4Ao95qiyUGrPbcmvWMfTDcbSA7/VY2tp+6iq20iD9zDZdTCn9u8nZzRliwF6oFeKJyBXfREvf3dBW7etrIOzs6IjcvT+QRyRlLzsiST1ucJ+qVn7qchkvJhW86dODsXi/ffj7Ex92UZTPLMWrBNU9m7D4xSwf1NMJr58svvxQetr7y0ksvWbILJrdtCGDbyg3Z5AFqHGhLe8Yc4ymujfI21vDWXdD3iy0Gp9XOwTY4RUUqmAqwzcH/rfP6CmTnFc+vX/J8e8zafFqVDrbm4BqH+uLged1ukSdn9BEOuHL/e3XBASzae77YyfP1cEZKRrZBLW6lEU1DGv6bJQH28J93YaMdYBu/+c11RFkF2DfSs5CRXbZVRagTvjn6ClYfuYSdp68VRKh5W6lX2QeVHW6gZ9smYkVf2dddpwmPMfsgKe0WDl+8gaizSdgSkyhRchZ+UrsnPAhPtK6OZtWLfikx5hzG1jUGXNsiwO7SRb8pC6+tdevWGTslVqlvB9hWmWarn6S8AeyI1l3R54t8oxkWfoJfeehSAS/bFnin5toE1l5btQBbmw6SmpGt1yxG7ZeE8NdXIMsAwGZgyVACorFzf2JGb9Sdkh/dzo9gGwbYxp6joo8rdk6+t+AwSwLsJ3/ZhQ0n7BFsY9fIbPXLKsDmBJTVKHZsYpq8FdOBim++LF5uTrinThCoOdqqZgAqeLjAkkmOjLqevpIm4H75gYtISs+SfvDt+oWuddCginVcIcs6wC4uem3MRUrlICYnM/+iT58+KE7Zh06Rf/zxRyHd7f/++0+v46uufqgB2LoScowZk63UtTYwKc1xl7exagNs7tn+324tiFDaAu/UXPvBmmubT9PITwSkQRw1nnU5ZOqigxgarxoufMQbK3ArV51CjKHzGfP78em9Ue9NywJsP08X7J1yb0Gy44LFyzDBzEmOypjtANuY1bdA3bIMsMsSyCYQ2xObhDk7zmLnmfykCRcnB3SoE4T7GlVGu9qBcHEqrOlqSYCtuZVIK/nvaAJ+3RqLs9fS5ad+TavgxW51VCUemrotjQXXPI81HzKGxmXOa2fx4sUi77dmzRqcP3/eIMCmcysTok0tagD23aIkYkt7xtT1UntceRtreKuu6PvlnQg2o46j50ZJ8ILFFninatfOUD1rra0xChTF0UF0vtgDaF7DH4tG59Ne9ZV6k1cgI+fuBNj8Yvzpo03Rv1lVGb4lAfaIX3ZhvT2CbejSstzv5gQJJellSW4ethzJJrDeduoqZm0+g6Px+S5PpHsMaF4VDzSuAn8v/e5/ugA2FUOoIELjHfK2s2+nSzPKQD42lUMCvFyFk21syc7NxYoD8fh+4ymJaAf7uGF6v4YWoY2YAq7vDVXg+gAAIABJREFUZoCtrBV16vfv328TALtGgAc2Tuhm7DayufolubfY3GAMdKg8jZVJjhcrNMRH/54omBXqDK8+HI/VRxLsANvEzWsMh7o4QxNdpycX/qOBjUXxas72WJy/fhOhfh5FouMdpi3HhZvGP8NMHHLBYUff6YUGb/1TsHcsQRHRpsnYAXbJVs2oJMeSncr4o+8GgM1R2yLIPnzhBr5aF4P9cddlYfJte2uge/0QgwCYsntLV/4Lx6qROHkpBacT03D2aloBlaO4leZNjDetOiHeIoDftLofGlSuAP67mkLw/um/J4U+4uTggLH3huORltXUHKqqjqng2g6w86eXFBECKV67lOV86qmn8MorrxQyuDG0EGoi2HeLkkh5Ap3lZayMsg74eAUOJjG5+85u5z0u2McVl27kJ4nbI9iG7gRFfzfGBdCQJbdm63z60MWQ955/jiaIjByXTpsnz2M6zliBC+nWB9hHpvVCw7ctC7A5Pk2ajCUB9shfd2Pd8cs2cy1YAm/aAbaKa9wcDwZbAdlXUjLx9boYAagsYUFeGNW5NjpFBBWbqEjVjy3Ridh2KlESEZNv87OV6XN2dEAlX3cEe7vB19MFXq7OonvNwoTJ1MxsUQ6hXvbVtFuFZt3PwwWd6wajT2QlkenjRjdUVhy8iA9XncCtnFw82b4mRnUOU3Vcce2WBFzbAXb+zO7du1ccIwMCArB79248+uijGDt2rPxPX9Hl4Fpj4nIDUlh5+KJd2U4kNrTH7b+XzRnYc8UBc2NoMqPrPqbANqCmdy46VspD8yD6BJTNsVq712/ucSrWIdPXNQ/vtMi/L3x2yBGxqZxYw5PrgDy0D8nD9ssOyNVRn6s5uE6+a+KcGIJrw23qnps762/s3NXwzhXzIpYv2mXj9xhH7LqiAH3T2y3cjzzU8snDK5H5Y83IASbe5mDznOYsPxx3xJGkO+MxZ9umtKW4H5tyrL5j7ABbxWyaA2Az6puYathNSUV3TKpCmbwley/gmw0xSMvMQaCXK0Z1qS0ca33RY1I++Ia56tAl7Dl7rSAaQ8pHda9s3BMZhnqVfFA72BtV/N0NRr6VjqdkZOFkQioYRSf3m85YCp2kTnB+JP3eBhUNRrUPxF3Hq38ekGTMp++phWc6hZk0NzyopOCabZhjn5g8AK0DLfE2roYiot3/b7/9FrNnz8aOHTtUD01NBJuN3Q0RQFvaM6oXyMSK5WWsA77Zgr3yZVAdCKPRyPQHG+Kh5qFFnPRMnGqrH2attTUmgm0MB5srxXVIu234oj2BCnUCeXmIUuHkaIkF0HZyfG3hQYMyfcb2Q1sycv7iZQUA29z326d+3Y219gi2sUtkvvqWAAmm9M5cNw8m7DGKa+3CqPE7K45K5Jm0isdaVcPTHWsJL1pXuZB0E/P3xOHvg/ESeWYhIO9aLwR0zmKUef+WNWh6Tw+cupIqih/nk24KFUZxcMzOyQMD0W7OjqCbFDnT1QM8BYxT5s/T9c65k29miVzP4n3ncSw+Rc5HCsnE3nXRONSv2Ok6Fp+MMX/slZeGN++vj/sbVzF6es0Bru0AW/e0f//996JAYgfYuufHXPcWozd9KRxQXsbaeNo/SL5pfLSPX/C+eaJ5mQTZ1lpbYzjYmioiDHCVtJA6wVbU2I6X9FyGjmeS97xdcQadHA21o/k7wTVpMppujpYE2E//thtrjtkpIsaskVnr3m0Am5Nj7Ug2I9Dv/n1MgDKjw1Pury/cZ12FPOqftpwR1Q7ej6gk0rVuiNiXMruafd8Xl4Qdp65h05GziE93RE4xRib6NgNBPqX2CNZ7Nawk1BIWJl3uPXddEhkpts839sFtqwuFRVvFRLPtPbHX8NK8/RLx/nVEK9QO8Va9D80Fru9mgJ2dnQ3+b8aMGTh48CAWLFggnGpX16JJsPytd+/e8PHxQVRUFAYOHIgxY8bgtddeU70m9gi26qkqUxWtBcJKe1LqT1mJm9n8xK4ugq3Z37KqjmOttTVGRYTzquhg80tnSUE2ZRVLM4KtuU8op0e/jZK/NtxplUm42lbl8xctw8Td+cEwc0ew7QC7lO9UdyPAVqbU0pzs7JxcfLE2Ggv25Ds9DW6TD1RdnYsmZ5C6QlDLiDWBtb+niyQODmhWVfjUpHGsOhwvrkuMFCslyNsV9SpVkGhzNX8PiVQTCLs4OwhdhOciSKfgvuLaeOJSCg6cv1EQyecjiEYyw9vVRKNQ3wKgTUOGT/87KS8Gzav74YOHG0v7+golBsktr1vRBz+PaKmKrmJOcH03A2xdHOnOnTtjw4YNGDVqlCwJI9UsnTp1EhBOQF61alVJchw/frzZkxx5rrtBC9tawKSUb+Vy+vIy1jqv/41sE5FPWVXHsebaFtbBdkCjUD8MbVujCDjU3PNN3/kX12/7KZh6LRCAkmo5bsF+k16eTD2vtY7TBaDnLVyG1/fkA+yKFdx0qqqY2r+nf9uDNcdsR1HHEnjTzsFWsTssdfOwFMi+nn4Lry8+JNFggtJpDzYULWvtQum7BbvP48fNp5F+KwcVPJwxrF1NDGweKjeSvw5cxJ97zuPC9XxXRdI9WtcKQJtaAbh8+hi8qobjREIqziSmIf7GTb3OVUxirBnkJWohzWv4oUV1f5FA4sVFUJ+Ymk+b6VI3GOPujSjgQ7PNiYsOgaCcIP6bJ5rBz1O3dCD7+9ycKIl8v9arLga2CC12Zc0Nrm0NQFjiZqHiUjFLFbUR7LIa7dOcJEvdW8yyEGZupLyMNd9l0LSkMwYcznxwn5ln3vLNWXttFSfHdmGB+P3pNvKsKk5ar/HUfyQxn8mk2mwR/hsDQ5ny1UF34bPvyNReeOn/9mKl6Jgb/3XC8qtQsjNoA2y+yPT7aAUO3U5EZOvmdB99ZvYe+VrOYu7ouCkzYYlnph1gq1gJS948zA2y466l45X5+4UTTRvzmQ83LqBgaA719JVUTF9xTPSvSa14vFU1jOxQS66g/9t1Dv+3O67AyZERZCYdslA3e9eZO9bpSpsV3J0R5O0mLo8SJc8DbmblICn9lkSvs3LuhHRoI9slIgSPtgpFREUfrD58SbS4LyVnwNvNGVPuqy98b5abt3IwYdFBOWfDKhXw3ZDmcHN20rlqJxNSMPSnXWBknWYB7i6661kCXNsBtooLSWUV3ujCJq2AxpbReWTNQE9seK2rylZts5ol7y22NuLyMlYF/Jk6/7YANoztu7XXVpnjtrUCEOjtKuY92sC5aagvFo5qL5z2iCmrChLptcfGXCFfdxfxb9D34YHPQAafzEE1MXZurVW/RXW/Qprf5LuPm79Pp6oK5+yTR5pgQPPiA1nF9f3Z2Xvwrx1gW2t5i57HEm8UpozG0jcPc4FsAsyX5u0TPeouEcGY1q9hEZBJnvPCqPP4cm2MSNxFVq2AyX3rS4T5r/0XC4xcJOEhshLahwVi2+mrWHM0oeANn9bpNT2yUDcsFA5wkOg3gXRSWhaoPJKLPAHBjFxX9nNHrUAviUrTfGZXbBK2xiTKMSyMQFDLmr//b9Np/LHznPz7C93qyGc/Frb54rx9Ep1+uHlVTOhdT+8yTlp0UNyhOKYHmxZNeLQUuLYDbFOuLN3H8LrvPHMdYq/mO3fqKzQXPfVe2Yv2aY7H0vcW861KyVsqL2O1A+yS7xVDLShzXCfYC6eupOkFxlQGoYSstqysofY1f1eUNRgh51dhE9k/xpyyVOpqR6cHfr9NFL70Reu1bdU1O61w34v7qmAH2KWyzHdOWl4ANkdcUpB9/FIyXvhjn0SdSY8g1UJbfo/R4HdXHpPPMrzpkJP9RJvqOHctXRIhD124IZPft1EldAoPxuJ9FyRyzMIbFcGwj7uzAJ+D55OQm2fcZzICbhrZ0CXy2KVkzN1xTugnlP17qXsd6feWmERMWXpY6Cav9AjHoNbV5fzkiQ+ZtVNeHkgVaVkzQOfu3HcuCaPm7kXjUF/8OKxlQR1/T1ed/HNzbnFbAhC2cu2YMr/s+6KoOIxbcMDg4WUx2mcH2AaXtUxXyOdgm0YR4cDL4p629r1PAdhexUjrmWMT8Rnaq0EIejSohIkLDyLLDGok5uiXJdsgZebjR5oIzbQ42gz7QF66Yquu9ElTvUWfYQ+/Kjw3Zw/+sSFXU0s8M+0UERU71Zo3D1OANukez82NEmkoRn3HdK1dxHSFAJWAhXxm2qG/91Aj1K/sI0mQTA5kNJua1k/dU0s+tykOS1V83dE2LEAoJ7tjkwre3j2d8hBexU8MZXgRZWTnyMXIv12cHeHj5gK+4ZIDTtWQ6Mupoh+qZHL3bFARz3epLa5ZszafFgoJo9Pje9WVSDUj8TSo+WJQU7Splc8fZxR98tLD4jo5+6nWYmmrXRih7//NNnlh+fulexDo7WYWjWsV28SmkrgscbNQMwfmqMO+5+TkIuyNlQabK4tgxA6wDS5rma7wxqID+GN3nEk8XdLb9ky5t8yN35rPSE5OSb8SqJ1g5nkwIPXPkaIUFLVtlMV6bk4OyDTE0QNAZRXSMTWLWilFO8Au5Z1hKyDB2jcPY0A26z712x7QoZHR6Je61SkCrhmhJmCNv5GBZtWoyNFIkjqmrzgqdApGs5/rFCbOi6RpMHoc7O2KbvVDEBWbhJgrabITqIVdO9gLKZnZOHkpGTlGRLCp7tGrYUVQC5ygnm6OjIZPfbChqJaM//OgKIuQCz723gj8e+QS3lx2RJwh5z/XVjS7CZ451iMXk4X/RfURXWXm6uNYtPeCJHcOb1/TarvY2vukuIHZyrVjyuQrfa/9+t/F8rCph3O6DCaE2QG2Kbui7ByTnZ2LOlP4cmjcFz6O8ONHGmNgi2plZ7C3e2rNe5+mioilJ4oA+9UFB+5aWkhJ50/TVl1pS60Z0Kg5UQWO0rYQKLHEM9MewVaxw6x589DsjiGgTU7zM7OjEHM5Ffc1row376tfBFxT2/r53/eKUgejxm/e30D40oxm87hQfw9M6l0Ps3ecFToIwTa5y2evposxDQtBtZ+Hq1BIGOlmYQS7LiPYbi6iOELgnJsLAemkkzByzYTHjFs52BV7rYBPW6mCu9BBGKVmIiU/R025r4FwwZ+dHSVGNTP6R0pS5ZtLD0sSBKPqz952aVx//DImLT6EzhHBmDmwsc7VU8A5LdQJ4K1VSmuf6BqfJW4W1ppHpe9qolRlXarPlvaMpde3PI01cvIKpOYYB7BdHIETM/rajWYMbMRFe+Lw6sKDlt6u0j4TqQ3lglilIzZ6EsrwNq7qWyg5ss17a4o141FA+ei5UfK1nMUOsEthgW0FJJTmg0EfyGY0l1xlOiG1qukvXChnZn1pFMrcEbReTslEv6ZVMKlPPaF6vPjHPlHs4HFUDnn7ryNSp1agJzqEB4k0H+keof7uqFTBQ4A2GYUeLo6IrOorEe7jF68jS0UEm/JG3euF4J46QVh99BI2nUyUHo7sUBO1grwwdflRURz5clBTavjjhXn7JDmSn52ogf3wd9vg4eqEFS/eIwmbBPK9Pt8EOkX+N66TTkURZoP3/GyTGNnMeaqN1XZuae4T7UHayrVjyuQbA7BnDmyER1vm8/TLYrGlPWPp+StPY+08fTnOphX1HChujqlUsfj5DpZeBou0b6215deB+m+vLqRKZZEB3W5U057ckucpy21rJ0c+IsmRupNBFct5Pt/tALuUV91WQIK1bh7FTbc20P5zTxw+/vek8Kl/G9m6iAkLwekzv+3B6cQ03Neosjg4xl/PEK426SS9G1ZCn8iKmLT4sMjp3Vs/RED1puhEODkAHeoEYc/ZJFH78PNwRoMqvqAtOZMMWdwd89Cgmr/IG8k6IU+i37RA57+5uzqB3HDK+rENJosMa1sDdSv7CDWFhjVP31MLVfw8xMY9xCefCsIxURt7dJfaYAR68pJD8hLx3kOR6F4/Xypw/J8HsDk6Ef8b2kJs25WiKISkZGSh0dR/hav937jOVtvFtrBPlMHayrVjyuQbA7C93ZxweFpvU05jE8fY0p6x9ISUp7EO/mw5tiaoB9gEHp88WjLZM0uvX3HtW2ttpyw5hLm3laZKc7z2cxedAUVthb/okzPkF+snWlcXLHH4YnJBEqUtfIm0xDPTThFRcaVY6+ahoiuSvEfaB/WemTA4a3jLItbnpGy89udBUeRggiJv3KkZ2cJfZgT7/saVhYLBOqR8DG9XAzvOXJMEyCp+7qji6yHgmo+H9nWC5GIgZ5oXR7PqfnB1dsLBs4lIyy7+EyiNZQa3rYaL1zPwy9ZYAdpd6wYLcH7+j70Csr8e1AxL9l3A2uOXJemR1uyP/G87qvp5YNHodgKuGalnBP6NvvVlimjn/sOm0wWGMtrSe4zuM0GOdJTtr3dXM61mqWNL+8QSNwuzTJKKRowB2GzOFj4vqhiWziq2tGdMHYPa48rTWLvMWI7YVPUAm3NYlo2TrLW2Dd9ajbTbEq9q9529nvVmgF9hqD3+4ry9WH0koYg9PYN3unIn72tUCV8Nal6q9ChLPDPtAFvF3rPWzUNFV0SlI1+f8jpGd66NJzsUTeKjljRt0msEeOLnJ1vB3dVRaCE8hm6Jw9rVwJjf90nkenTnMOFBkWfWqGoFAb2MejMyXiPQEztO58v0ta7pj/SsHBy+kCz/39EhD01C/cXenGDY18NZ7MnJoaZiyPZTV0X+j6VH/RCM6FALExcdFIDP89NghsCZUeZ3H4rEo//bIedc8nx7jPh1N47Fp+DP59pJ3x/4aquY5swe2VraW3koHtOWHxVArk8Tu84bKxHg5Ypdk3uomVaz1LGlfWKJm4VZJklFI0rf605ZZVAmyg6wVUyojVSxpevD0lPS+M0VSM4yjoOtS5HB0v00V/vWWFtrJjeaa17KWzv8ik2J3PNJ6fI1W+GvG6LaKNFvbck/a86fJZ6ZdoCtYgWtcfNQ0Q2psmB3nDgbNqrqK2CUkWXNQlrGsJ93iQHMzyNaIjzEB99tOIVft8UioqK3ODsyMfJKaiae7lgLW6ITcfxSClrW8JfoeFzSTTQJ9RX+MwX8Q3xc0biqn0SYycOuFuCBB5tUwfnTJ3HNtaJEtxWrc7owMmrdo0GIUFB2n03Cx/+cEPUS8qFf6R6O4b/sFsOZec+0Ef41gfSPw1rICwHBO/992f6LkgA5vV9DibR3/miD8K//HdtJhsoESdqsMvI+rV9kkakjTzt88ipUD/DEpgnWc/qzpX1iiZuF2j1a0npK30kP+l3F5+APH2qER1pVK9Xoh6ljtqU9Y+oY1B5XnsZqSgRblyKD2rkt7XrWWNvFe8+r0sYv7bmwn9+0GSjtHARLPDPtAFvFXrDGzUNFN5CWmY3OH60XQEtw3ay6f8FhBMekRjw3JwoHzt8ocEI8fCEfjBKgzhnZWjjO209fRd/ISsjJyxOhd2YBU8f6ZEKqUEouJN0UoE2rWRomEPgSPBOQk7+9aO95SXRk4Zsn+dP8L39ThOnDgrzw0SON5S2WfWI0+637G4hhzLcbTgkPq5KvOz7976SohNAE549d5/BOv4a4np4l//5itzoY0rYGen++SSLrJ9/tI+dcfThezGRGdKiJtx8oqhJy6UYG2r6/VvjZS8dYL2nIVvYJ58gSNws1e9QcdZS+58udrVLVJM0gekVWxu87zuL89ZsI9fPA4NtOoJr/NrRdTXlBpNGBLZTi9owaNzRbGIPaPtjS9aG2z6bWe3PWX5gb46Ra3k0z+cvUc5bmcdZY2y4frbcrepTmIlv43NTePja9T6ndmy3xzLQDbBWbxho3DxXdwLcbYjBz9Qn0b1oFnz/erMghKw5eFDdH0i5+HdlKotgjftmNEwkpeKNvPQHB01ccE+mhoe1qyN8VK7gJUF99+JJErrNz80Rnul1YgETHCbppQEOdbIJzOi9SGaRlYDYG92gp8nq0RWchJ/zg+euYtfmMcLgZQf5tZCuRA2TUnP0iH/zBr7fK3zSVIfgmhaRBlQpi3z62RzjcXJzwwarjGNU5DJP61Eejqf8INebIO/nJbKTAvLHkEMb2iMDLPcKLzMPO01fx2A87RLrwmyeaq5las9SxlX1ytwBsjkONVJ8xi0dvoj4NK+LrJ1qU2o1cs7/69oxaNzRjxl7adW3p+rD0XCxZugy/xAXg4G1KnaHz2cInckN9LO53a6xt+OSVVlMPKclc2I81fQY+GdgYD7csHR34UgXY8fHxeO6557Bnzx7w73379qFp06bFzuTWrVvx/PPPIzo6GhEREfjuu+/Qrl071bNviQGrPrlGRWvcPAz1ixHeDh+uw/X0W1gzrjPCgr0LHUJw2/OzjULr+P3pNqICQqWR1xYeFBD85eNNMfD7HWLmwr8pzUdFkBe61REnR/KVKaf3Z9R5RFapIC6MW2Kugp9tnu4YJsodTFLsEhGMV3tF4PSejWjbtVfhbuflwiEzBdku3nht0SFsjbkqgPnx1tXx0LdbJdlx7bhOeODrreLCSBWQwbN2on3tQDSv4S/9ePXeCHGCJMB++4EGeKxVNTR46x95KdjwWj7d472VxyTJUV9S0C9bzwhHm3bxL3UvCsANzbWpv9vCPlH6bivXjilzqdn3ljP+K6AgmdKWvmNo6MGcgTnbYwsi3qUR3da3Z+iGNm7BfuhyZmbw/dNHi1oUm3N+LNGWLV0flhif9ovTrarN5f7r4uhQrMU2nW57R1Ys9SSvksyJNdY2/I2V5cKqvCTrUNaPDfR0RtRbWrjCSoOyxDNTdQQ7ISEBixYtQsuWLdGmTRuDAPvatWuoXbs2Zs6ciWHDhmH27NmYNGkSTp06BT+/O9Jqxc2dJQZsylpZ4+ZhqF/zd5/DxEWHRAHkax1RWVq5MhrculYAFjzXTiK+994G3Pz/++OS8N7K48KNJo/6x81nRKaPEWqCcgLbz9dEw83FUUxd+Dfrff5oUzw7J0qi2c90rCV0Dq7LjvX/oO2+YXC/3fGcru/B+/hSOKZdQq5PFWxq+A6e/iuxwBCGfdsfdx2LR7fD4Fm7xJDmo4GNhepBAxzK9ZEnzojzppNXMH9PHGYNa4kAb1cM+HabgP+fnmwlZ3v8h+2SfLn6lY6oV6lCkalT9DXnPNUaHcODDU2t2X63hX1ytwHshVFx4vJp6aKt5WotCom+PTPgmy3YG3dD77BLm69oynrY0vVhSv+NOYZjzQptIYGJF7vWRu0QH8whfelaGjxcneUeGnctXb4Yvts/EoNaV7eJLyrGjFH7haJfv36mHq7qODtFRNU0lflKpSXZZwm8qRpga64aO2Iogv3TTz/hs88+w+HDhwsObdiwIcaPH48RI0ao2gSWGLCqE2tVsoUHw8DvtgntYv6zbdEmLLDIMEb8sktsz38Y2gI9G1YSFY9BP+6QCDRlczp9tF4UPFa+dI9I/NHNkbJ3M/4+JgmTVAxZIfrTYZJkyGgzI8xrjyWItTmBPV0glUKA/eC+YUX6ke1dFY7IwVH3Fnjg/GC0CwvE5483xSPfbxce9v892waP/7BTkiEfaRkqkWZSPdafuCwAfO2rneVFgbSSnW90x+K9F/Dh6uMY3zMCL3QLR0ZWDhpP+xfuzo7Y91ZPob1oluycXDSf/h8ysnNx8O2ewj23VrGFfXK3AWxrKweQQvLJI9bTI9a3ZxpP+wfJN7P1bl2q9hx4u3QiPaZeT5a8PmyNr86xKhFsfkXj1zTtcv9XmyW/Ze+b98oXxLJcLLm2yrzYkxzL8g5R3/fSkqu0BN60GMB++eWXcfXqVcydO7dgZgcPHoyQkBAB3mqKJQas5rzadaxx8yiuX4x0dJy5XjjNG8Z3KRLpuJqaidbvrYW/p4voPrs4OWLiwoMSBaadOOX6yElmAiOj0yN/3YMe9SuKQ+LyAxeFakHJPDopfvNEM4z8bQ8oGfXF403FNTErOw/LX+wAP8/bD4FPK2JHs9k6ATbHke0fjjkpLfBO6oNiJkO+N5VAmPj4VMdamLzksCiAxFxJFRrJ90OaY/Tve0W3mvSWbp9sLDCJGfDtVpEXXDamA5pU8xOu+Ki5UWKe883govzqbTGJeGLWTomc04DHmqW094n2SzCTXsti0b7uzc3DNjQndBIl6LFGFFvfnmnw5iqk304k1tVfKix/+lhTm0rYNDSvlro+bJGvrgmwX+4ejrE6APYDX23BoQs3EDWlBwK93QxNn03/bqm11Rw017nem6twS5eQsk3Pjr1zxswAHZ7Xj+9izCFmqWsJvCkA+9atW3k5OTl6O+nm5iaftJSiJoL91FNPwcPDA19//XXBcWPGjEFmZiZmzZql81xTp07FtGnTCv22dOlSs0xeWW5kQ7wDlsQ6oUeVXDxQI1+9Q7PsuuKA32Oc0KFiLh4NyxWg/FaUE1KzgHdb5WDtBUesueiIgbVycPmmAzZdcsQTtXOw7KwjMnKAZ+vl4Ltjzmjkn4tQrzysOu+Eh2vmINw3Dx8ccEaEby7GNCh6Xn1zmpYFfHDASXRgxzfKFkez7Zcd0Sc0B/uuOuLSTQcMrZONOTHO8HPNQ9vgXKy+4IRuVfLPse5ift0mgfnnD3LLw5RmOeAW/N8xRxy97oiREfm/a5e50Y7YneiIQbVz0DakbAJMc+zV/v37i6pMWSzaNzpqmvNTujULOf/UiacaiaW42QQMb/+8HEdvBRbhgTd8ezVuFgOwORf8etO7Ydnh7loKhJGvrs85jvNUwd1ZXtgttY669iXHmlm1OSYsPAh9APvBr7eI5OieKT0QZAfYqi7v2q//rdOoRNXB9kplYgZcnBwQ/W5fq/fVYgC7X79+ebwh6CtnzpxBzZp3DE3UAGxGsMnDnjNnTkGzQ4YMQXBwsD2CbeTWoczef0cT8H/PtkVbHfQQJVrNSHDvyMrC7WPEm4Lvf71wDwbP2iGRYnKW31x6GLtjk7B4dHsM+G6bUDVoVsMHAWXxSB3m2YMIAAAgAElEQVSZu+McfhreEtUCPNHzs01C85j3bNs7vZ7qi2XNZqOfDopIep4bRjhMx86MUAxoXhUDW4RKIqOvh4vYn7+/8jha1fQHo4T/HbssSZA/b40V3e1lz3fA4z/uwK3sXGye2FU0tJl0OblvfTzTKQxnEtPQ7ZMNCPZ2w5aJ3eDqXNgpjZH8du+vE5WTHW90h5ebs5EzXbLqlgIQpvTKEjcLU/phyjHafX9j8UH8sSvOlKbMcoyxyiNq6ApK1HXVoXjkwaFAzo3n4rVCqUo1pSypT6i9PtTMn+bcPHz7K1dxr2DW5tgLwK7SXDwLXukRjld6FKWI9Pt6i0iq7p7cA8E+9gi2mv1u7a9Zavpkr2PeGaBZTcx7dxHAzjMy1KUGYJOD/fnnn+PQoUMFsx8ZGYlx48Zh5MiRqlbEVkCC2geDqkGZUKnNe2tESeHw1F5C69Auyo1626Rukiy4/vhlcUN8rGU1fDiwMe75cJ3wr0/M6I3un2yUv1e93BF9vtgsBjB9IiuL7B0THWlD+/3GU0IteahZVbR+dw1SMrKx8uWO4r6oFJkTLYB9LLcaxnq+j+PXHUW5ZHq/SOkHwcKE3nXx1doYsWZ/rVddUQmhA2SHOoHC8R7UuppQW2ZvP4uhbWtgePsa6PX5ZtHf3jKxK3zc/7+97wCPotz6P+kkIT2QQhJCFQKEKghyKaI0C92rIsKnfn+wXcH2oShFsIFeuBZE7lWxAFJFQUCk6UUg1FACQmgpkIQACSmkZ//P74QNy2Z3Z2Z3Z1ve93l4RPadd97zO2dmzpw553e8mFUBOdk4/rn+LevgAO7sj7elGuXHNgN6RYfY2050N+so144iAG9O1t87+LB7vvcb5RYbz0k25zxKjxnbI45t2lTqCPY6+ovdlKxXoKgfbZaKusrdmzPxJ8u5PsxJ98D9MaegTBZktnohgayl0Z25MN0Yneiwz/6kIxn5tO+NAdQ4UFsuLksMh5skR7fW2LRwsOWjqM058PF0o9JK234BlL/LujMb+njQ8Vk1lLy2HGo8MxXlYJeWlrK8SP1ISkqixMRE8vb2Jnf32yOJmKNlEfnwww9p3LhxHMl+7bXX6MyZMxQScqtBiikA1RDYHIXZ6uZhaG+g1UPRHrowbpnS1+D28TsiwKdmD+ZUHm23R+2nyUTwSGuIjs8aRFpnfcfLfanPvJ3UPT6UJvZtTk99c4DGdI2hexMiarmp/zP+Tvr3H+fonY0n+RPmnOHtOHfb08OdtA52lcaNDmla0/Kms2ndmUo+T++W4TS+VzxX0F8vqaBH7oyl30/nckfHp3rH04r9mbxfRK/nb03lAh849IjUB/h4cqHjP5Ync0OcN+9vyzSBaJjz4Ke7KNTPm35/rT873rojr7ico/ZllVWcvxUT4meOqi06xp52or9xR7l2zAHU0N6VNJ0x55xyj7m/Q6RROjU4h6gZSM40zP6h69zJibrK3ZOzdACUc32YevEw5hwrwdKaLySmIu3r1/9MJVGdaeraY0bpQod/9icXdqOYO0I42LLMvdnUX2Q375G1oAtO6hoXzP0qmoT4cbBqaLtI6jh7i2TKmaNA4eVOlPru/TbfjhrPTEUOtm4etlb6HTt2UL9+/Sg9PZ0SEhLoxIkTFBcXxz/v2rWrDg92r169ZAOnhsCyT64zUc6DwZx15RxzKD2PaepAr7doXNc6h2hZFqKDGtDu1wfw79/uuUDTf0qh/xvchtMy4ICjC+SpOUO4KyJao++fNoDufn8H+fl40NYpfan7u1vZ0d3+cj8ubIQz/OljnTm6PePn45w2ggF+bBRNVhXnkW9QGK+FCDcGiiwn9WtB14rK6d//PcfO9sjOTWjXmVy6XFhOQ9pHUnJ6HmUVlBGigT8nX6LCskouskQ6yKXrpfThmI68V/B03xERQBv+0ZvwUEQ6C/IV3xnRnsb2aFoHh5k/pzDN3xM9m9LbBtqny8Ha0jn2tBM1HWzUUSxZsoS/Rg0ZMoRM1UVUVFTQlClTaNmyZbwlFDajqNnTU366jrHr/rF/76XdZ69aqiaLjjfFMgLncPKKZJPrgxMZqVupl4uo4OZ1Y9GGiMjf24MaNvBUNV/c0j3ieDnXhyln2ZhzbIoz3NC+IwK8KWnafRaJhPvu88sO0eaU7Nu4ykFqhHv1fQ0zOYL9+tqaL4MvGODjR2+Aw+n5tPf1AdzV1pmHHN1aKh8wbzFtI9cYOeoAa1fbyABObVRSjImXR6ROgn7WktHA043+mlM3vaLHO1spp1DeVx5Lzm+NY3Gdn3+/HjrY1gBPyRrCwSbakpLNPNRg3ZhlwHGsqKqmVtM2Mc3e7zcbsWgj2Fp6qEHz/+Bujoffuo/e+uk40/GBYWPxH2c5N/v7p3rQ0qQ02nQ8mwty4AA8/e0BbgaDdAxwX+9KvUJf775Ae89e5WJDbUt05DvfGR9K/e5oRDfKKum7pHRume7n7cEONc6FueC6xudQXOSDEiLocEYeO93P9G1BB9PzaN/5azSsUzQ9dXczGr1oD2lIQz8+eze1bxLEaR9I/8DNa9WkXnWo+VIuXefukH5eHrTj1X52KxiyxUNG7vVjzWtn7dq1/JVq69atlJmZadLBnjFjBjtSmzbVtDiHQz5y5EiaPn263K0bbfNeXl5FHd7eUmt7she08kQPd6J5ozvS8E5NeOV1yRdpwW+nKD2v5gufvUfHJoH0RM94WrYv3SpNdJTmRBuT39D1ob82Xs4rTBS0GorW4+tG73nbKfu6PAfCGiwxoIx7eeURE9FUDTX08eIvdS/f14peGFA3B3vU57vpYFoe7Xn9HooK8rW32Vh0flvc++S8wFokhIUHe7gRnX2vxjFUkgKGlzI8K+eP6UR9PtxB2TLTnQxtt3NsEP34XO86Pyn5ymMhDBYfLhxsiyGUt4A1nQR5ZzQ8yxY3D2P7095UEIlGRFp/IH0eDjYo9FCNjoF0jPFf7aNRXWK4NfmLPxxmbuuvJnRj5xd5gUgH6d0qnF78IZkd13ljOtIDH++i0soqmjsqkfOhX119hFvTRgU1YB5sONJ4EBSUltNvv++mhI6dKbewnPaeu8p/MBcDed1IDUHEGW/mQ9tH0taTOfyJ6j441+l5nFOOAsi84jLa9lcuc3GDFhDc3cinnP5AAj3ZuxmBdu/xL5O4HTui2S30OliiIHLk538yn+zbw9qxY2GvYU870ZdZjWsHLD/JyckmHezY2FiOWI8ePZq3tGrVKua+T0tLk60WU3uHkz3+6yTacz5P9npqTcSDEQ8DR2UNw95wRcot8DPkSI+9qyltPZFDv57I4eZVStbTx13/+jCUb21KV6Yi2KZYRAyt+XiPOP7SZS4Vo5KmJ60b+9PmyX3rnEvb20BbO6OWnVq6rpwXLFvc++AkHkzPt1Qc1Y5HsAlfiTG0Xzg2Hs82eT58EcazDi/rsEW8LM5cn0I/Hr7ILEa+Xh40vFM0dYkLoaX70ulkVoHRVA9cH/P/brjDqxKHXzWAZC6M++q5my8qMg+xyjQ1npmKUkSsIoWCRdQQWMHpa6fa4uZhbF8/JV9kJ9iYg43jer23jbIKSumv2YPZEb1cUMq82C0bN+S26qsPZnI+NBza6Q8m0N3vbWdH+tfJfegfPxxm5xTrd4wJ5s+eoESDA44/i/44R9v/uiwJG9JDOsUGs2MN3moMnL9xgA9/1sdFM7RDFD+s0QTm4W4xnIby39Qr1LyRP30+tis9u/Qgd5XEbx+MSuTGNCMW7ub27vP/3pFGdI6ps495v/5Fn+04S92ahtCKiT3rRLclN27FCfa0E0dwsPPy8ig0NJRSU1OpZcuaIlT8vXXr1pSfn09BQUGy0JZz3eNB9Na6o7T8wEVZa4pJNQgYcyyNFReyd66pcdT1h5KCQUOUhG2iAmn5vnSD7eCN6QtRQrAb4euc1ikxNzpnKp9eyl6Utu1eYMDxGf35n3QgLZ8LwhH4UJMSUkoeY7/LLTq1xb1PSTGrufJachzYf47MGMhL1DjYB2nj8Zw6S8IRbx8daBZtpFx96J9U97gqG1OeKsW03rOIKAXM3PlyHrTmrq3kOFvcPIztBw4p0jVQrDB7eHuD08Z9mcSO6oYXenNKBca9//yduyFuf7kvU0CBvg4MHigAXHswkz767TQ3k0Gb3jFf7OE86v+5O576tGpEr64+SleKysjbw53uadOYOsYGMbtIVn4p/zui5lk5lyk2OpLn4DPosYv5dP1m5zlEvO+IDOB0EjjT0cENqGWjAPojNZcdbTS72Xkql/O3UbyJKPuUFUd4v/e2bUyLHu9K126U08OL9tCFqzeMsoLsPFXDltLQ25NZTvDgteewp53oy63GtSMVwc7IyOD6i9zcXAoPD+ct4e9oLoXfYmLqviBhjiX895XVRGvOg2f9FtVdDRa3d/i0p13IO7c2NixvtnmzatzkOH8NX4fXytwo1EdDf4usiUwvO+NO1QZxM7Y3DcU31NCL7avpYK4bbc50o7xyN86R9fci8vFAKhmRt7uGCivdqLyWSl8bW9dKYUhXuufUuvfaeTX/3zFUQ0+0qqY3D3hQSZU5+tbQ3REaGt2smvFQMl7a60Eo8JY3NNQsQEOT29/qJQC7fWO/B5VV635n0BDoAhJDNTS+tfI9yduLslkHuMeCcbvw9SCK8K2xoS7hNXal1ph/zJ0uFOEEKp7E7M1rqFlDDU3uUKNjU7i5k4bGtqymbo3MSyaHf3zoihvtynGrvYZ7R0jjrz0O12luqVo4Wnof01CjBuh7Ib/vhtkq0ztQjd4RIoItQzv2dJyOZdawZwxo05i+nHCnwd3O/+00/WtbKr0xtA39vz4teM4n21LZiYbTPOPBdvTRllP0yfYznKLxyaOd6O+LkzgnGrlfmIP25Hk3KtjhBQVeysUCWr4/vbaAUQomONqIxKA1+cG0a1RWqWGe6l4twuhYZj5dLa7gaDYYRVCMiAIv/IacbxSGIZoNZ/7zx7tQUWklp4qczinigiF0bNRviX42t4hGfPYnr/PZY13o/sQoqS2q/rs97URfOHs42NoINpiCWrSosUP8vVWrVlaPYBtSpohqq27idU7g7eHG96ZNKXUjdbbYDc6vpJjM0J6Gto+gTx+rKSBHPj1qPsDCoKnWULC/NzMWlZRXUUzIraZD4OPHy7/coZs7jmgiChzBgW1oKPkyIPf85s6T83WgxlXT0JAOUUYZdsw9v+5xjpzmoK8zc4p1rYGRnDVMpWbhBen2ALelDrOcHd0+p963SlcOmXlHqOEkmLMTezpOiA53mPkrc0ajuYqhAQq7Bz7ZxU1jfgHrhpsbR5rBf42LZdtLfZkhZOjH/6W0qze4cBH52X9fvIf/v3NcML026A76eNsZpsbDiA315cLFED9v5rHGwwSpJ8XlleROblRZWkyxkWGcI4YiRhRRXi0q52NR4Ig10fAm/VoJ/9tDHaO5gQyq7jEQxW4TGcBt05FrhqY0SAvBp1JE5JEqgnbni5/oymkvugMNZcAqgr1P6tuCpg6pm5tujp4tPcaedqK/dzWuHakINttNbCzz348aNYq3tHr1aua+B8uQ3GHp3ktLK6ndrF8dNjdaLg5inu0QCPXz5MZUGTIKVeFQgkrsVkReep/oDAqGJuTZokDypZVHTB6kO9/YRDm50dI7Mz1DCfuE2i8GWsfwl2Om85rxFcDPB19WbRMFNdRRVSqdxd7UmrW2szeNLubdqKX0e6BDFG04lkXf7U2jzGvFVF1RSg0bBlBxWQU18HSnnIJyKquqiytSRKfd35a2n7zM9RpSaSjQEVx33Ri+0oZeltq2LZ6ZIoItQ0v2dpy06R77pg2gxgF16ZyQsjH0411cAKHb7XHB1tO0YGsqdW8WSsue7sFO8OjP97BDCyd7dJcmNGnpIaaKQgT68bviqHVkAP146CIlnb+dLghvtngA4eGC47UFjVr4cJNJiAqgwAZelJJVUNuJ7q5modQqIoCrqkHJh/SRGQ8m0LaTl5nKCBfVKwPvoGf7teBc8Ke/3c9FjoiKIXKNiLjuKCitoLH/TqJjF69zdHvh2C5mFyrJUL2iKfa2E93NWuqk6q5VWVlJ+DNnzhw6evQorVy5kllFwIGvP8AWsmHDBtq4cSP/NHToUMKnN2uwiChRBoohJyzZR7stpL1Sck4xVyBgDAEtU8Qnj3ahvnO3UUa+NONJp5ggvrchmo78bBScYizdm0YZeTeovFJDuB8iJUdp8akx57zWwdpzgc+BL49SzpJWZv0iVDVeALCmqa8Hunsw1fRpYNtGdOl6mdGvCKYtuQZtUG52iAniwnoEkHQLZh05gq3kKjVUmPzzkUvsgOs65lr5tTrXEiQYOxeoMl8fmkDvbzrJrCnNwv35a7Y+jkr2aulcaz4za68JeNhKOzlaKojc49UQWO65defZ23FCl8VlSen00ZiONKqr4TzWHw9nch4zIsdrJvXiix1NV0Z8tptOZBXQYz3iON8aBYdPf3OAneRB7SLY2UV3RBQK4t/g8N7VLIw6xwXxjftifikXG+YUlHKuNf4N3SQ9KkspNiKU/L09uWASKRtgFMGAs43oc0SgD7d4B2MICheQR54YE0wfbP6LsgtKOTccxT93twynNQczuZskouHoQDlnRHtmMtEdKKB84qt9nNrSo1koUw3qO+Dm6Ndax9jbTtRysA3lSPft25d27txJkyZN4tMuWrSI/wse7MmTJ9/Gg42ItjV4sM3VEx60oxbtNvNhau5ZxXECgdsRwL113uhEemXVUZtDA37kyCBfrp9B0fiN8iqjX3j0M+SVbBZOJzNSdYiiF1ccps0plrHP4NpFHwYU6pfdpOupm8Zwa4f6UXRjkVo4chhaZxHRWjxLcotqsKl1kOBKuxElNgni5xpednw1JfTi0C4mnUFzGiYpwdlWc819psl9wUD/i093nDFIYmCM1Qiy4yUz8+aL5zgDLzjm4KOGvyki2DI0Ya6RyVha1hQt7R7o7757qofBYxBlQGcwRHbfeiCBuasxMvNu8L/DyUU7clBTncoupGeXHmLHGfmFmAsaPtxsVh7IqNN2GM4xOjl6ergReLfh6JZW3P6ZCDc9sIiguBEpJWAegbOMm9MDidF0f/so+i7pAvNuY+AGN+uhdrwmmsrAyccNbOrgNvT035pxmovuQMoLqAdTLhUwY8iSJ7vX6eYoC0wVJ9nbTnRFU+NmoSJ0ty2txt5xs157OJOmrjlKKDATQyBgDwR8vdydpqOemvjgeREX6kfP9m9BRzKu8xdOBHiQhtA5LoRulFfS6ZwCKi6XVwgol4pSSiZTDrk2Qi3nPm8u24fU/mz9uxxZDe1J7gvGP7ecoo+3n+EGc2A50w5TeeK6pc76esfx/NK054JiB1yN545wsGVYrLlGJmNpWVMqq6q5DTgKAUG7B/o7QwMNVxCxBicAHPG7mofxtNM5hTT2P0mc3wzn9J8Pd6Kwht700ZbT3PURtHxIEenfphENaBtBgQ08mdEDKRvnrhRxxAN/kM8NJxi/N6BySmgaQY3geLu70eXCMubC1nanQ3e5EZ2bUI/mYWzwiGRjtGjkz0WXfVo3IrCAIAcbUQFEu//1SOfaPevKd/5KMf3P1/s4D7xn8zD6z/hunK7iaMPediIcbGmLQETsia+SROqINFRihkDAaRBAzvrke1vbJMVA7n1ejrPu6ADLlVVfDrkvGNo0VvTeePjOWF4Gx6Ih3tIk+XU7OA7fu3283Dn4Z05ut3Cw7WSN5hqZNbe76Pez9P6mv5h0fsEjnY0uDV5ZtOcN8PGkb5/qztEADDixz3x/kJu/NPByp6d7N6f//VtzzuH7ctd5LrzRbd2MogXkRaGxTKCvJzvRiJKjjfm1GxV0KiOX8ircb8vFBmtI75bhzAZSWV3NUWmcDwO518/f05LTP/Ci8O7Gk9w5EgMMIHOGtacQ/7o5vWg08+yyQxwVR871gkc6OVRaiK4iHMFOtPtR42ZhTXs2tZbae5dbLGUrecV5BAICAcsQaBrSgH7/vwGWLSLzaEe6z8vcstnTLJFVKj0HjD0z1h2jQiXVwmZLQiTFTqLGc0dEsGUozBIjk7G8rCnIf+43byezg6x5pid1bRpq9DgtbR8YPtDZaXD7SJ4LFo+FO8/Q5zvPcvoGR5m7NKGRXWIoITKAdp+7Sr+fyqWjF68zTR94s02N8Ibe1CYykHmywXNdWFZOf5y+ynzXOBcGaP/gzA/rHM30ezj3t3vSeO3ooAY086F2NLBdzf50By7ORX+cJeRoIXIO1hF0stSn65MFno0mOYKdCAdbnrJhXzU3+KNUKPMztLyVxSyBgEDAHgice3eoTQreHek+rzbOashqqgmPmvLgK8fOV/sbPYVwsNVE38TaahiZOaKgEBAtgZuH+9P6F3qbTJPQRrxxnid6NmXnVJtWgWj2ZzvOcOGI1hHmZjTNw7hleUJ0INMCVmk0nG+NJjQVN/Op8e0FH2B27dlH0S3bcU70kcx8pszTDkTPh3SIpNFdY+nO+BDKzCvhKPkP+9P58w0c/4l9m9PEPi24YFJ/gA7wldVH6Y/TuRxtf29kB4NdHM3BUM1jHMVOIKMaNws1sdNd25Z71zraC347xRRt2k+L6BiIPFG9UgNbQSDOIxAQCChE4MMxifzMUXs40n3eGWVFfjZ6X9h6IF/7/Pv3Cwdbi4AtH7SmlO0oFxQqwMEAsu2vy1yU+MmjnesUA+rKse1kDrdIRwOZyMAG9NLA1pwXrWXnyCsuJ7Ri33gsmw6m5xmkY/LycOP51RoNR73BImJotGrckNlA+rdpTHc1DyV3NzeOhiNlZcepyxyFhrP8WPemNKlfc6N0gz8lX6KZ61M4JQRrfvJYZ46SO8NwFDsRDrZ1rEXX+U6XwY9snbOKVQQCAgFzEAjz96KDb9W0KldzONJ9Xk05sbYasoJh5GB6vtpbN7j+BeFg38JFONh1bQROMZrKIAr9v39rRm8MbWvSyb5cWEqzN5yk9Ucu8WKITI/r2ZQd7YjAW5zayMUG/R1YSFJziph9BI1jwF0N5hA4zIg8BzTwZHq9yuuX6Z5u7ahNVABHvYP9vLnb2d7zV2lLSg5tPp7Fjj0G5o/tEcc0fWENfQwaPgoZwSaCqDXGhF7x3EDGkWj4pO4IatyMpM5p7HdHuXbM2b+j7r2G7g8d+ArMEcvIMbbvlGbFzYulBAIOhYApB8paG3Wk+7y1ZDK2jhqySjXhUVMm4WDroOsoD1o1jMwSI0pFw5hFezh9AxR704a2lcw9O5Sex+3Td5yqcWDBggdGkX53NKY740OpXXSgImaOdet+op73DKITlwooOSOf9l+4RgfS8mpTThD57tOqEVPv3JsQUYfTWis/HHvkZX/53/Ocl928kT+9N6IDs48423AkO3GUa8ccHTry3vULd6KDfbmDKpo84aW3SYgfv0xifL83jc5cLqSyimqq5LZlGvLz9mQ7x0srXlg7BlfQsN6JNHP9CUHfZo6xyDjG2x3sR0QllTImqzylR3ww7U/L12tHrfJJ69HywsG2rrLVeKaJCLZ1dWT2ao7yoFXDyMwG5eaBaI+OluKIEg9pH8nk/uC0lhp44K/Yn0Hrj2Rxsxfd0TTMj7lJkU4CRg+0PAd7CGj8kDtdWFrBRZZgAUnNyqeSqtu5qkHf17tVOPW/ozHdlxDBUW1jAzyncEAW/X6OKQDhbIBlBBzY+q3RpWRylN8dyU4c5doxRzfOvHel8mptxlDFvdZRB12VfjvjdUcu0nsbT3KnPe0I8PHgL0SFJWV07UbVbVRVSvflCvPjQn1p6+S+5H2zzgMYrz6UQVNXHyP1qdDrfpkI9/Og3VPvoymrkkmq3bcr4G8PGYSDbV3U1Xim2SsHG8iICLaOfTjKg1YNI7PGZQCu6ieX7OeGMaDUA1l716Y1tHxSAw8bFCj+efYKHc3Mp+T0fLp0/XaH29QaXu4aah0ZxPnRHZoEUrf4UGobFSjJ8nH9RgV9n5RGX+06T1eLyzmSPqpLDL08sDWBEtCZhyPZiaNcO+bo05n3rlRetWwG6SyoZfjxZgMPRHGD/H3ockGZLMcbbD2P3BlLM+5PoI0p2bWtkXUj9kgj8/X25O6A6PRaVgkG/pqBF3NfTzfy9vKg6yWV/JKOht7h/t788r3n3DXKuHbDYDdB3BMCfTyovKrmxV5eq5Ga82obXhlqX63VDbCZ/tMx+mF/plFHO8zPC92wuRbkZgNBo6pFmKFnizBaMv5O8vR054ZGs9YlU1GFO+/dx9Odv+TNerAd/457b6tpGyXXVWpL9X1+o4betP/N+1SHQa1rVvWNm3ECNWSF/Td/Y6MZu7HsEBSun31PFDnWougoD1o1jMwyU7l1dP6Ncm69u/VkDjurj3aPo5fua82dF5UOcFyD8QN523iwIKcaTCJ4aCEXGvnXof4+TK/35/ZfacTwYbJP8Vd2AUeswY2NVrTY64OJ0fSPAa2MNs6RvbiDTHQkO3GUa8cc1Tjz3pXKa2+bsWUzDEOymnt+/RcIfAFDXcnMm06sHD0oObeSuTi3lF6n/XhMcSMNOTLV5zkfjU6kUd0Ei4g1bUDKjs09V/c5W+hy0a2vb+auo+Q4QdOnh5ajPGjVMjIlxmFqLiJIqw5mcvMWOMZIFRnfqymN7xVvkK3DGueVgwk6R/5y9BKtPXyr4QyYRBCxRu5480aGO1JaY3/2WEMOJrbal6NcO+bI68x7VyqvI9mM0r0rnS9kvYUYXhDu/mAb5RSWK4VRzDeAwOB2EbRwbFfJWiRrgCfs2HIUb9yooIS3t1i+kIIVRKMZ4WArMJe6U8Ew8q9tqbQsKZ0LqVBoOKgd+KhjmEJPS89n0UluHmzoJgNHH2krO0/l0pYT2XQwLa+2mAft3fHJGXsxlZttjb3Zaw1HuvE6s5PqzHtXanuOZMTk/HYAAA3LSURBVDNK9650vpD1dsTgZM/4+TitOpBBNmpmp1RlBud7eRAdmTaQGjTw5GZN/9p6mtKuoQ/C7TU5VjmZxCKoE5r9UDsa0SXGJs41tiPs2DqaLSoupy7vbuVUMLUH6tQ+e6yLSRtR47kjOjnK0KyzXVBZ10s4xxnFjNr25yhA7HtHY/pby3DqGh9CzcL8LbohAZN7B99Pp3MKmdpv/4U82nvuKiFqrR0RgT40pH0Uf7pNjAkySScoQw0OP8WR7ESNm4WtFODMe1eKkSPZjNK9K50vZDWOmJZz/eNtqUyRin4DyIMHPSoCF2ChcSMNhfj5kJ+3O2UXlHFfAv0Bh7NxgA+hiByMNbiWissqav+OfwdVqzHmG92C2ke7x9Lh9HxCUVpJRRUXohtLw4FuH3zwIfr5yKXafH0w6oCa9YEOUfTiisO0OSXHYK8FpXYENx4F+UgvHN6piUXPMaXnFg62OYiZtnvYzDe7z1PKxet1XjQjAnwIXayRVopUVSW+OHKuY0Pl24kazx3hYMuwF2d9MJRWVNHm49l809t15kothR5Exo0Y1HzNwxtSTIgvc2IH+3lxeomPlzvf2Lm5TEU1FZdXEXK9UZSYlV9CGXkldOR8Dl0rx83/FoB4IIATu0+rcLqnbQR1rAdOta75OJKdqHGzkHGpWGWKM+9dKQCOZDNK9650vpBVKWLSjsl3e9NuY5h5qGO0zR1OOU6nbg575rViLo7FdQ6HP0bHEd9wLMtgQa2WAhMOu71k1GpD2LH17FjJSkrrIJSsjblqPHdkO9hZWVk0ceJEOnDgAOHvhw8fpk6dOhmV4cKFC9SsWTPy9/evndO/f39av369bLnVEFj2yXUmusIFhQLGPWevcpT5cEY+ncou5DdDSwYcc7CIwFHv0jSEusQFU0ADL0uWdOpjHclOHOXaMUehzrx3pfI6ks0o3bvS+UJWpYg5z3yhW+fRlZKd1ie9qvHcke1g5+Tk0Jo1a6hbt27Uo0cP2Q52Xl4eBQcHK9Fp7Vw1BDZnI65oZFXVGqb3u3ClmDLzSzi1o6CkggpLKzl/G9FrRLG9PdzJ38eDgn29KNTfmyKDGnDE4UTSTnp4pHwWEXNwd7ZjHMlOHOXaMUeHzrx3pfI6ks0o3bvS+UJWpYg5z3yhW+fRlZKd1ie9qvHcke1g6yoFG5EbwRYOthJzdp659enCk6sVR8JEjZuFXBwsnefMe1cquyPZjNK9K50vZFWKmPPMF7p1Hl0p2Wl90qsazx3VHezo6Giqqqqi7t2709y5c6lNmzay9auGwLJPrjOxPhmZXHwEJnWRciRMHOXakWtP+i/wKOyqD8ORbEZtvIWsaiNsv/WFbu2HvZpnrk96VeOZyQ52eXm5Bk6wseHj43MbA4ScCHZRURGdOHGCOnfuTMXFxTR79mxauXIl/1tAQIDBU82cOZNmzZqlpr2ItQUC9QYBZ3VScX8RQyAgEBAICAQEArZEwNrPTHawhw0bpsGbirFx/vx5io+Pr/1ZjoOtvxY2HhUVRUuWLKHBgwfbEjOLz6XGm43Fm7LzAgKTugoQmFjHKOsTjkJW69iMo61Sn/QK7OuTvEJWR7varLMfNfSqWoqIIZHhYH/99dfCwbaOPdh1FTWM0a4CWeHkAhMrgCge1tYB0QFXqU/XR32SVTjYDnixWWlL9cmO1ZBVkYNdWlrKavP19aWkpCRKTEwkb29vcnd3r6NO/B4YGEitW7emkpISThH57rvv6OTJkxQUFGQl9dtmGTWAt83O1TuLwEREsNWyrvpkW0JWtazIvuvWJ70KB9u+tqbm2euTHashqyIH21Bu5I4dO6hfv36Unp5OCQkJnGMdFxdHy5cvpzfffJOys7PJz8+Pqf3ef/99at++vZr2oMrayA3HHzFuISAwqWsNAhPrXCH1CUchq3VsxtFWqU96Bfb1SV4hq6NdbdbZjxp6VeRgW0cMsYpAQCAgEBAICAQEAgIBgYBAwHUREA626+pWSCYQEAgIBAQCAgGBgEBAIGAHBISDbQfQxSkFAgIBgYBAQCAgEBAICARcFwHhYLuuboVkAgGBgEBAICAQEAgIBAQCdkBAONh2AF2cUiAgEBAICAQEAgIBgYBAwHUREA62TN1mZWXRxIkT6cCBA4S/Hz58mDp16iTzaNeZVlFRQVOmTKFly5axUGPHjqX58+eTp6en6wipUJJPP/2UGygdO3aMhgwZQuvWrVO4gpgOBFzFtiZMmMDXByhMteO3336jnj178v9KySn1u72txZS9S+3d0t9tLbspWV1Jz2VlZfT888/T1q1b6cqVK9SkSRN67bXX6Mknn7SKzUrp3dZ6lZLXlXQLbF944QV+Ll2/fp07aY8ZM4bmzp3L9ygp3Vj6u611a0pWW+tVONgytZ+Tk0Nr1qyhbt26MeVgfXWwZ8yYQej6uWnTJkYODuXIkSNp+vTpMpF0vWlr165lLng8nDIzM4WDbaaKXcW2cBMPDg6mBQsWGERCSk6p382E12qHmbJ3qb1b+rvVhJC5kClZXUnPxcXF9MEHH9D48eOpefPm3OcC9/YVK1bQwIEDyVK9SR0vUx1WmyYlryvpFqCh/wjok/39/Sk3N5cefvhhGjBgAFMpS+nG0t+tpjSZC5mS1dZ6FQ62TKXpTjOnVbwZp3HIQ2JjYzliPXr0aN7fqlWr6JVXXqG0tDSH3K8tNwUezeTkZOFgmwm6q9iW1E1cSk6p382E1+qHGbJ3qb1b+rvVhZC5oCFZXV3PCJygb8Xbb79NlupN6niZalB1mq68rqxbONiPPPIIxcTE0DfffOPSutWX1dZ6FQ62GZdsfXWw8/LyKDQ0lFJTU6lly5aMHP6Obp35+flO16HTDNWbPEQ42OYj6kq2hZs4vvLgPhEVFUVPPfUUTZ48mb9ySMlZXV3tNNeYvr1bKpsjy27MwXZVPaNrM+7x+AqDSKep+76U3qR+d4TOzrryInjkitcwGv298847VFRURGFhYbR582Zq0aKFS+rWkKzIPrC1XoWDfTMnsqqqyqh34OPjww9L7aivDnZGRgZ/ZsJbYXh4OMOBvzdu3JjwG96I6/MQDrb52ncl2zp06BBHheCU7N+/nz/Hom4Bf6Tk1Gg0TnON6du7pbI5suyGrm1X1TP0MG7cOLp48SJt27aN/2vqvi+lN6nf7f3c0JcXL8KuqlttusjSpUtp0qRJJKUbS3+3t26RLqKVFXuxtV6Fg01Ew4cP54iTsXH+/HmKj4+v9w62NkJ15swZfvPFwN9btWolItg32wWLFBHznGxXtq2FCxfSt99+S3v37q2NYBu7hrTRPme4xoxFsM2VzZFll/Py7Ap6hkP1zDPP0MGDB7mmBNFlqWtTSm9Sv9szgm1IXkN3MFfQra5cSO384osvOMUTgQBXvGa18mplhT3rD7X1KhxsM/yB+hrBBlSIzOGz4ahRoxi51atX00svvUTp6elmIOlah8h5CLuWxNaVxlVta9GiRcwyAwdbzjXkLDgYy8E2dX+Qkk3qd+tanPzV5Fzbzq5nOJvPPfcc2yki1yEhIbUASenF0t/la8J6M03Jq38WZ9etvjzLly+nqVOncu2UpbqTOt56GjNvJV1Zba1X4WAr0BnytDB8fX25yjoxMZFpbvBJqb4MsIVs2LCBNm7cyCIPHTqUvwDUZxaRyspKwp85c+bQ0aNHaeXKlWwTujRt9cU+LJHTVWwL+h88eDDTYSESiJxOOC6vvvoqwyMlp9TvlmBsjWNN2bvU3i393Rr7V7KGKVldTc+w0V27dtH27ds5R1d3WKo3qeOV6MRac03J60q6Rc415BkxYgSzG6WkpHCRY69evWjx4sUW348cSbdSstpar8LBVnC16uZhaw/bsWMH9evXT8Eqzj0VnJgo2NLlwUbEqj7zYCO6NWvWrNsU27dvX9q5c6dzK9vGu3cV2+rTpw+/aME5A58wihzBtKN9EZeSU+p3G6ulzulM2bvU3i393daym5LVlfSMSCbSIFFvpHsvf/zxxwnRW0v1JnW8rfUqJa8r6RaUhAiCIf8Y/N+omcIXaDyz/Pz8XEq3UrLaWq/Cwbb1lS3OJxAQCAgEBAICAYGAQEAg4NIICAfbpdUrhBMICAQEAgIBgYBAQCAgELA1AsLBtjXi4nwCAYGAQEAgIBAQCAgEBAIujYBwsF1avUI4gYBAQCAgEBAICAQEAgIBWyMgHGxbIy7OJxAQCAgEBAICAYGAQEAg4NIICAfbpdUrhBMICAQEAgIBgYBAQCAgELA1AsLBtjXi4nwCAYGAQEAgIBAQCAgEBAIujYBwsF1avUI4gYBAQCAgEBAICAQEAgIBWyMgHGxbIy7OJxAQCAgEBAICATsjMGHCBO7sh0ZhYggEBALWR0A42NbHVKwoEBAICAQEAgIB2QigG/CePXvIy8ur9piGDRtSdna27DWUThQOtlLExHyBgDIEhIOtDC8xWyAgEBAICAQEAlZFAA422llPnjzZquuaWkw42DaDWpyoniIgHOx6qnghtkBAICAQEAg4BgKmHGw3NzdO41i4cCHl5OTQoEGDaPHixRQUFMSbP3DgAL344ouUkpJC0dHR9NZbb9Gjjz5aK9j3339Pc+fOpQsXLlBYWBjNmzePRo8eTXCwETEvLCykX375hY/94osvCHsRQyAgELAcAXawLV9GrCAQEAgIBAQCAgGBgEBAICAQEAhoEfj/S85HGAkN9mwAAAAASUVORK5CYII=\" width=\"808.8889103171272\">"
      ],
      "text/plain": [
       "<IPython.core.display.HTML object>"
      ]
     },
     "metadata": {},
     "output_type": "display_data"
    }
   ],
   "source": [
    "fig = plt.figure(figsize=(9, 3)) \n",
    "gs = gridspec.GridSpec(1, 2, width_ratios=[1, 2]) \n",
    "ax0 = plt.subplot(gs[0])\n",
    "ax1 = plt.subplot(gs[1])\n",
    "fig.tight_layout()\n",
    "fig.show()"
   ]
  },
  {
   "cell_type": "code",
   "execution_count": 52,
   "metadata": {},
   "outputs": [],
   "source": [
    "dict_train_loss = {}\n",
    "n_epochs = 1500\n",
    "epoch = 0"
   ]
  },
  {
   "cell_type": "code",
   "execution_count": 90,
   "metadata": {},
   "outputs": [],
   "source": [
    "n_epochs = 3500"
   ]
  },
  {
   "cell_type": "code",
   "execution_count": null,
   "metadata": {
    "scrolled": true
   },
   "outputs": [
    {
     "name": "stdout",
     "output_type": "stream",
     "text": [
      "Epoch [3215/3215]: Avg. Train Loss: 0.82141 | Avg. Non-Zero Triplets: 97920.00000\n"
     ]
    },
    {
     "name": "stderr",
     "output_type": "stream",
     "text": [
      "C:\\Opt\\Anaconda3\\envs\\pDL\\lib\\site-packages\\seaborn\\_decorators.py:36: FutureWarning: Pass the following variable as a keyword arg: y. From version 0.12, the only valid positional argument will be `data`, and passing other arguments without an explicit keyword will result in an error or misinterpretation.\n",
      "  warnings.warn(\n"
     ]
    },
    {
     "name": "stdout",
     "output_type": "stream",
     "text": [
      "Epoch [3216/3216]: Avg. Train Loss: 0.79152 | Avg. Non-Zero Triplets: 97920.00000\n"
     ]
    },
    {
     "name": "stderr",
     "output_type": "stream",
     "text": [
      "C:\\Opt\\Anaconda3\\envs\\pDL\\lib\\site-packages\\seaborn\\_decorators.py:36: FutureWarning: Pass the following variable as a keyword arg: y. From version 0.12, the only valid positional argument will be `data`, and passing other arguments without an explicit keyword will result in an error or misinterpretation.\n",
      "  warnings.warn(\n"
     ]
    },
    {
     "name": "stdout",
     "output_type": "stream",
     "text": [
      "Epoch [3217/3217]: Avg. Train Loss: 0.79932 | Avg. Non-Zero Triplets: 97920.00000\n"
     ]
    },
    {
     "name": "stderr",
     "output_type": "stream",
     "text": [
      "C:\\Opt\\Anaconda3\\envs\\pDL\\lib\\site-packages\\seaborn\\_decorators.py:36: FutureWarning: Pass the following variable as a keyword arg: y. From version 0.12, the only valid positional argument will be `data`, and passing other arguments without an explicit keyword will result in an error or misinterpretation.\n",
      "  warnings.warn(\n"
     ]
    },
    {
     "name": "stdout",
     "output_type": "stream",
     "text": [
      "Epoch [3218/3218]: Avg. Train Loss: 0.81284 | Avg. Non-Zero Triplets: 97920.00000\n"
     ]
    },
    {
     "name": "stderr",
     "output_type": "stream",
     "text": [
      "C:\\Opt\\Anaconda3\\envs\\pDL\\lib\\site-packages\\seaborn\\_decorators.py:36: FutureWarning: Pass the following variable as a keyword arg: y. From version 0.12, the only valid positional argument will be `data`, and passing other arguments without an explicit keyword will result in an error or misinterpretation.\n",
      "  warnings.warn(\n"
     ]
    },
    {
     "name": "stdout",
     "output_type": "stream",
     "text": [
      "Epoch [3219/3219]: Avg. Train Loss: 0.78967 | Avg. Non-Zero Triplets: 97920.00000\n"
     ]
    },
    {
     "name": "stderr",
     "output_type": "stream",
     "text": [
      "C:\\Opt\\Anaconda3\\envs\\pDL\\lib\\site-packages\\seaborn\\_decorators.py:36: FutureWarning: Pass the following variable as a keyword arg: y. From version 0.12, the only valid positional argument will be `data`, and passing other arguments without an explicit keyword will result in an error or misinterpretation.\n",
      "  warnings.warn(\n"
     ]
    },
    {
     "name": "stdout",
     "output_type": "stream",
     "text": [
      "Epoch [3220/3220]: Avg. Train Loss: 0.81502 | Avg. Non-Zero Triplets: 97920.00000\n"
     ]
    },
    {
     "name": "stderr",
     "output_type": "stream",
     "text": [
      "C:\\Opt\\Anaconda3\\envs\\pDL\\lib\\site-packages\\seaborn\\_decorators.py:36: FutureWarning: Pass the following variable as a keyword arg: y. From version 0.12, the only valid positional argument will be `data`, and passing other arguments without an explicit keyword will result in an error or misinterpretation.\n",
      "  warnings.warn(\n"
     ]
    },
    {
     "name": "stdout",
     "output_type": "stream",
     "text": [
      "Epoch [3221/3221]: Avg. Train Loss: 0.79897 | Avg. Non-Zero Triplets: 97920.00000\n"
     ]
    },
    {
     "name": "stderr",
     "output_type": "stream",
     "text": [
      "C:\\Opt\\Anaconda3\\envs\\pDL\\lib\\site-packages\\seaborn\\_decorators.py:36: FutureWarning: Pass the following variable as a keyword arg: y. From version 0.12, the only valid positional argument will be `data`, and passing other arguments without an explicit keyword will result in an error or misinterpretation.\n",
      "  warnings.warn(\n"
     ]
    },
    {
     "name": "stdout",
     "output_type": "stream",
     "text": [
      "Epoch [3222/3222]: Avg. Train Loss: 0.81541 | Avg. Non-Zero Triplets: 97920.00000\n"
     ]
    },
    {
     "name": "stderr",
     "output_type": "stream",
     "text": [
      "C:\\Opt\\Anaconda3\\envs\\pDL\\lib\\site-packages\\seaborn\\_decorators.py:36: FutureWarning: Pass the following variable as a keyword arg: y. From version 0.12, the only valid positional argument will be `data`, and passing other arguments without an explicit keyword will result in an error or misinterpretation.\n",
      "  warnings.warn(\n"
     ]
    },
    {
     "name": "stdout",
     "output_type": "stream",
     "text": [
      "Epoch [3223/3223]: Avg. Train Loss: 0.79979 | Avg. Non-Zero Triplets: 97920.00000\n"
     ]
    },
    {
     "name": "stderr",
     "output_type": "stream",
     "text": [
      "C:\\Opt\\Anaconda3\\envs\\pDL\\lib\\site-packages\\seaborn\\_decorators.py:36: FutureWarning: Pass the following variable as a keyword arg: y. From version 0.12, the only valid positional argument will be `data`, and passing other arguments without an explicit keyword will result in an error or misinterpretation.\n",
      "  warnings.warn(\n"
     ]
    },
    {
     "name": "stdout",
     "output_type": "stream",
     "text": [
      "Epoch [3224/3224]: Avg. Train Loss: 0.81724 | Avg. Non-Zero Triplets: 97920.00000\n"
     ]
    },
    {
     "name": "stderr",
     "output_type": "stream",
     "text": [
      "C:\\Opt\\Anaconda3\\envs\\pDL\\lib\\site-packages\\seaborn\\_decorators.py:36: FutureWarning: Pass the following variable as a keyword arg: y. From version 0.12, the only valid positional argument will be `data`, and passing other arguments without an explicit keyword will result in an error or misinterpretation.\n",
      "  warnings.warn(\n"
     ]
    },
    {
     "name": "stdout",
     "output_type": "stream",
     "text": [
      "Epoch [3225/3225]: Avg. Train Loss: 0.80838 | Avg. Non-Zero Triplets: 97920.00000\n"
     ]
    },
    {
     "name": "stderr",
     "output_type": "stream",
     "text": [
      "C:\\Opt\\Anaconda3\\envs\\pDL\\lib\\site-packages\\seaborn\\_decorators.py:36: FutureWarning: Pass the following variable as a keyword arg: y. From version 0.12, the only valid positional argument will be `data`, and passing other arguments without an explicit keyword will result in an error or misinterpretation.\n",
      "  warnings.warn(\n"
     ]
    },
    {
     "name": "stdout",
     "output_type": "stream",
     "text": [
      "Epoch [3226/3226]: Avg. Train Loss: 0.81475 | Avg. Non-Zero Triplets: 97920.00000\n"
     ]
    },
    {
     "name": "stderr",
     "output_type": "stream",
     "text": [
      "C:\\Opt\\Anaconda3\\envs\\pDL\\lib\\site-packages\\seaborn\\_decorators.py:36: FutureWarning: Pass the following variable as a keyword arg: y. From version 0.12, the only valid positional argument will be `data`, and passing other arguments without an explicit keyword will result in an error or misinterpretation.\n",
      "  warnings.warn(\n"
     ]
    },
    {
     "name": "stdout",
     "output_type": "stream",
     "text": [
      "Epoch [3227/3227]: Avg. Train Loss: 0.81745 | Avg. Non-Zero Triplets: 97920.00000\n"
     ]
    },
    {
     "name": "stderr",
     "output_type": "stream",
     "text": [
      "C:\\Opt\\Anaconda3\\envs\\pDL\\lib\\site-packages\\seaborn\\_decorators.py:36: FutureWarning: Pass the following variable as a keyword arg: y. From version 0.12, the only valid positional argument will be `data`, and passing other arguments without an explicit keyword will result in an error or misinterpretation.\n",
      "  warnings.warn(\n"
     ]
    },
    {
     "name": "stdout",
     "output_type": "stream",
     "text": [
      "Epoch [3228/3228]: Avg. Train Loss: 0.77511 | Avg. Non-Zero Triplets: 97920.00000\n"
     ]
    },
    {
     "name": "stderr",
     "output_type": "stream",
     "text": [
      "C:\\Opt\\Anaconda3\\envs\\pDL\\lib\\site-packages\\seaborn\\_decorators.py:36: FutureWarning: Pass the following variable as a keyword arg: y. From version 0.12, the only valid positional argument will be `data`, and passing other arguments without an explicit keyword will result in an error or misinterpretation.\n",
      "  warnings.warn(\n"
     ]
    },
    {
     "name": "stdout",
     "output_type": "stream",
     "text": [
      "Epoch [3229/3229]: Avg. Train Loss: 0.81753 | Avg. Non-Zero Triplets: 97920.00000\n"
     ]
    },
    {
     "name": "stderr",
     "output_type": "stream",
     "text": [
      "C:\\Opt\\Anaconda3\\envs\\pDL\\lib\\site-packages\\seaborn\\_decorators.py:36: FutureWarning: Pass the following variable as a keyword arg: y. From version 0.12, the only valid positional argument will be `data`, and passing other arguments without an explicit keyword will result in an error or misinterpretation.\n",
      "  warnings.warn(\n"
     ]
    },
    {
     "name": "stdout",
     "output_type": "stream",
     "text": [
      "Epoch [3230/3230]: Avg. Train Loss: 0.79051 | Avg. Non-Zero Triplets: 97920.00000\n"
     ]
    },
    {
     "name": "stderr",
     "output_type": "stream",
     "text": [
      "C:\\Opt\\Anaconda3\\envs\\pDL\\lib\\site-packages\\seaborn\\_decorators.py:36: FutureWarning: Pass the following variable as a keyword arg: y. From version 0.12, the only valid positional argument will be `data`, and passing other arguments without an explicit keyword will result in an error or misinterpretation.\n",
      "  warnings.warn(\n"
     ]
    },
    {
     "name": "stdout",
     "output_type": "stream",
     "text": [
      "Epoch [3231/3231]: Avg. Train Loss: 0.82138 | Avg. Non-Zero Triplets: 97920.00000\n"
     ]
    },
    {
     "name": "stderr",
     "output_type": "stream",
     "text": [
      "C:\\Opt\\Anaconda3\\envs\\pDL\\lib\\site-packages\\seaborn\\_decorators.py:36: FutureWarning: Pass the following variable as a keyword arg: y. From version 0.12, the only valid positional argument will be `data`, and passing other arguments without an explicit keyword will result in an error or misinterpretation.\n",
      "  warnings.warn(\n"
     ]
    },
    {
     "name": "stdout",
     "output_type": "stream",
     "text": [
      "Epoch [3232/3232]: Avg. Train Loss: 0.80092 | Avg. Non-Zero Triplets: 97920.00000\n"
     ]
    },
    {
     "name": "stderr",
     "output_type": "stream",
     "text": [
      "C:\\Opt\\Anaconda3\\envs\\pDL\\lib\\site-packages\\seaborn\\_decorators.py:36: FutureWarning: Pass the following variable as a keyword arg: y. From version 0.12, the only valid positional argument will be `data`, and passing other arguments without an explicit keyword will result in an error or misinterpretation.\n",
      "  warnings.warn(\n"
     ]
    },
    {
     "name": "stdout",
     "output_type": "stream",
     "text": [
      "Epoch [3233/3233]: Avg. Train Loss: 0.82371 | Avg. Non-Zero Triplets: 97920.00000\n"
     ]
    },
    {
     "name": "stderr",
     "output_type": "stream",
     "text": [
      "C:\\Opt\\Anaconda3\\envs\\pDL\\lib\\site-packages\\seaborn\\_decorators.py:36: FutureWarning: Pass the following variable as a keyword arg: y. From version 0.12, the only valid positional argument will be `data`, and passing other arguments without an explicit keyword will result in an error or misinterpretation.\n",
      "  warnings.warn(\n"
     ]
    },
    {
     "name": "stdout",
     "output_type": "stream",
     "text": [
      "Epoch [3234/3234]: Avg. Train Loss: 0.82436 | Avg. Non-Zero Triplets: 97920.00000\n"
     ]
    },
    {
     "name": "stderr",
     "output_type": "stream",
     "text": [
      "C:\\Opt\\Anaconda3\\envs\\pDL\\lib\\site-packages\\seaborn\\_decorators.py:36: FutureWarning: Pass the following variable as a keyword arg: y. From version 0.12, the only valid positional argument will be `data`, and passing other arguments without an explicit keyword will result in an error or misinterpretation.\n",
      "  warnings.warn(\n"
     ]
    },
    {
     "name": "stdout",
     "output_type": "stream",
     "text": [
      "Epoch [3235/3235]: Avg. Train Loss: 0.80613 | Avg. Non-Zero Triplets: 97920.00000\n"
     ]
    },
    {
     "name": "stderr",
     "output_type": "stream",
     "text": [
      "C:\\Opt\\Anaconda3\\envs\\pDL\\lib\\site-packages\\seaborn\\_decorators.py:36: FutureWarning: Pass the following variable as a keyword arg: y. From version 0.12, the only valid positional argument will be `data`, and passing other arguments without an explicit keyword will result in an error or misinterpretation.\n",
      "  warnings.warn(\n"
     ]
    },
    {
     "name": "stdout",
     "output_type": "stream",
     "text": [
      "Epoch [3236/3236]: Avg. Train Loss: 0.80404 | Avg. Non-Zero Triplets: 97920.00000\n"
     ]
    },
    {
     "name": "stderr",
     "output_type": "stream",
     "text": [
      "C:\\Opt\\Anaconda3\\envs\\pDL\\lib\\site-packages\\seaborn\\_decorators.py:36: FutureWarning: Pass the following variable as a keyword arg: y. From version 0.12, the only valid positional argument will be `data`, and passing other arguments without an explicit keyword will result in an error or misinterpretation.\n",
      "  warnings.warn(\n"
     ]
    },
    {
     "name": "stdout",
     "output_type": "stream",
     "text": [
      "Epoch [3237/3237]: Avg. Train Loss: 0.83065 | Avg. Non-Zero Triplets: 97920.00000\n"
     ]
    },
    {
     "name": "stderr",
     "output_type": "stream",
     "text": [
      "C:\\Opt\\Anaconda3\\envs\\pDL\\lib\\site-packages\\seaborn\\_decorators.py:36: FutureWarning: Pass the following variable as a keyword arg: y. From version 0.12, the only valid positional argument will be `data`, and passing other arguments without an explicit keyword will result in an error or misinterpretation.\n",
      "  warnings.warn(\n"
     ]
    },
    {
     "name": "stdout",
     "output_type": "stream",
     "text": [
      "Epoch [3238/3238]: Avg. Train Loss: 0.82926 | Avg. Non-Zero Triplets: 97920.00000\n"
     ]
    },
    {
     "name": "stderr",
     "output_type": "stream",
     "text": [
      "C:\\Opt\\Anaconda3\\envs\\pDL\\lib\\site-packages\\seaborn\\_decorators.py:36: FutureWarning: Pass the following variable as a keyword arg: y. From version 0.12, the only valid positional argument will be `data`, and passing other arguments without an explicit keyword will result in an error or misinterpretation.\n",
      "  warnings.warn(\n"
     ]
    },
    {
     "name": "stdout",
     "output_type": "stream",
     "text": [
      "Epoch [3239/3239]: Avg. Train Loss: 0.80373 | Avg. Non-Zero Triplets: 97920.00000\n"
     ]
    },
    {
     "name": "stderr",
     "output_type": "stream",
     "text": [
      "C:\\Opt\\Anaconda3\\envs\\pDL\\lib\\site-packages\\seaborn\\_decorators.py:36: FutureWarning: Pass the following variable as a keyword arg: y. From version 0.12, the only valid positional argument will be `data`, and passing other arguments without an explicit keyword will result in an error or misinterpretation.\n",
      "  warnings.warn(\n"
     ]
    },
    {
     "name": "stdout",
     "output_type": "stream",
     "text": [
      "Epoch [3240/3240]: Avg. Train Loss: 0.80762 | Avg. Non-Zero Triplets: 97920.00000\n"
     ]
    },
    {
     "name": "stderr",
     "output_type": "stream",
     "text": [
      "C:\\Opt\\Anaconda3\\envs\\pDL\\lib\\site-packages\\seaborn\\_decorators.py:36: FutureWarning: Pass the following variable as a keyword arg: y. From version 0.12, the only valid positional argument will be `data`, and passing other arguments without an explicit keyword will result in an error or misinterpretation.\n",
      "  warnings.warn(\n"
     ]
    },
    {
     "name": "stdout",
     "output_type": "stream",
     "text": [
      "Epoch [3241/3241]: Avg. Train Loss: 0.79580 | Avg. Non-Zero Triplets: 97920.00000\n"
     ]
    },
    {
     "name": "stderr",
     "output_type": "stream",
     "text": [
      "C:\\Opt\\Anaconda3\\envs\\pDL\\lib\\site-packages\\seaborn\\_decorators.py:36: FutureWarning: Pass the following variable as a keyword arg: y. From version 0.12, the only valid positional argument will be `data`, and passing other arguments without an explicit keyword will result in an error or misinterpretation.\n",
      "  warnings.warn(\n"
     ]
    },
    {
     "name": "stdout",
     "output_type": "stream",
     "text": [
      "Epoch [3242/3242]: Avg. Train Loss: 0.83142 | Avg. Non-Zero Triplets: 97920.00000\n"
     ]
    },
    {
     "name": "stderr",
     "output_type": "stream",
     "text": [
      "C:\\Opt\\Anaconda3\\envs\\pDL\\lib\\site-packages\\seaborn\\_decorators.py:36: FutureWarning: Pass the following variable as a keyword arg: y. From version 0.12, the only valid positional argument will be `data`, and passing other arguments without an explicit keyword will result in an error or misinterpretation.\n",
      "  warnings.warn(\n"
     ]
    },
    {
     "name": "stdout",
     "output_type": "stream",
     "text": [
      "Epoch [3243/3243]: Avg. Train Loss: 0.78337 | Avg. Non-Zero Triplets: 97920.00000\n"
     ]
    },
    {
     "name": "stderr",
     "output_type": "stream",
     "text": [
      "C:\\Opt\\Anaconda3\\envs\\pDL\\lib\\site-packages\\seaborn\\_decorators.py:36: FutureWarning: Pass the following variable as a keyword arg: y. From version 0.12, the only valid positional argument will be `data`, and passing other arguments without an explicit keyword will result in an error or misinterpretation.\n",
      "  warnings.warn(\n"
     ]
    },
    {
     "name": "stdout",
     "output_type": "stream",
     "text": [
      "Epoch [3244/3244]: Avg. Train Loss: 0.82429 | Avg. Non-Zero Triplets: 97920.00000\n"
     ]
    },
    {
     "name": "stderr",
     "output_type": "stream",
     "text": [
      "C:\\Opt\\Anaconda3\\envs\\pDL\\lib\\site-packages\\seaborn\\_decorators.py:36: FutureWarning: Pass the following variable as a keyword arg: y. From version 0.12, the only valid positional argument will be `data`, and passing other arguments without an explicit keyword will result in an error or misinterpretation.\n",
      "  warnings.warn(\n"
     ]
    },
    {
     "name": "stdout",
     "output_type": "stream",
     "text": [
      "Epoch [3245/3245]: Avg. Train Loss: 0.80524 | Avg. Non-Zero Triplets: 97920.00000\n"
     ]
    },
    {
     "name": "stderr",
     "output_type": "stream",
     "text": [
      "C:\\Opt\\Anaconda3\\envs\\pDL\\lib\\site-packages\\seaborn\\_decorators.py:36: FutureWarning: Pass the following variable as a keyword arg: y. From version 0.12, the only valid positional argument will be `data`, and passing other arguments without an explicit keyword will result in an error or misinterpretation.\n",
      "  warnings.warn(\n"
     ]
    },
    {
     "name": "stdout",
     "output_type": "stream",
     "text": [
      "Epoch [3246/3246]: Avg. Train Loss: 0.79211 | Avg. Non-Zero Triplets: 97920.00000\n"
     ]
    },
    {
     "name": "stderr",
     "output_type": "stream",
     "text": [
      "C:\\Opt\\Anaconda3\\envs\\pDL\\lib\\site-packages\\seaborn\\_decorators.py:36: FutureWarning: Pass the following variable as a keyword arg: y. From version 0.12, the only valid positional argument will be `data`, and passing other arguments without an explicit keyword will result in an error or misinterpretation.\n",
      "  warnings.warn(\n"
     ]
    },
    {
     "name": "stdout",
     "output_type": "stream",
     "text": [
      "Epoch [3247/3247]: Avg. Train Loss: 0.81478 | Avg. Non-Zero Triplets: 97920.00000\n"
     ]
    },
    {
     "name": "stderr",
     "output_type": "stream",
     "text": [
      "C:\\Opt\\Anaconda3\\envs\\pDL\\lib\\site-packages\\seaborn\\_decorators.py:36: FutureWarning: Pass the following variable as a keyword arg: y. From version 0.12, the only valid positional argument will be `data`, and passing other arguments without an explicit keyword will result in an error or misinterpretation.\n",
      "  warnings.warn(\n"
     ]
    },
    {
     "name": "stdout",
     "output_type": "stream",
     "text": [
      "Epoch [3248/3248]: Avg. Train Loss: 0.78304 | Avg. Non-Zero Triplets: 97920.00000\n"
     ]
    },
    {
     "name": "stderr",
     "output_type": "stream",
     "text": [
      "C:\\Opt\\Anaconda3\\envs\\pDL\\lib\\site-packages\\seaborn\\_decorators.py:36: FutureWarning: Pass the following variable as a keyword arg: y. From version 0.12, the only valid positional argument will be `data`, and passing other arguments without an explicit keyword will result in an error or misinterpretation.\n",
      "  warnings.warn(\n"
     ]
    },
    {
     "name": "stdout",
     "output_type": "stream",
     "text": [
      "Epoch [3249/3249]: Avg. Train Loss: 0.79829 | Avg. Non-Zero Triplets: 97920.00000\n"
     ]
    },
    {
     "name": "stderr",
     "output_type": "stream",
     "text": [
      "C:\\Opt\\Anaconda3\\envs\\pDL\\lib\\site-packages\\seaborn\\_decorators.py:36: FutureWarning: Pass the following variable as a keyword arg: y. From version 0.12, the only valid positional argument will be `data`, and passing other arguments without an explicit keyword will result in an error or misinterpretation.\n",
      "  warnings.warn(\n"
     ]
    },
    {
     "name": "stdout",
     "output_type": "stream",
     "text": [
      "Epoch [3250/3250]: Avg. Train Loss: 0.80827 | Avg. Non-Zero Triplets: 97920.00000\n"
     ]
    },
    {
     "name": "stderr",
     "output_type": "stream",
     "text": [
      "C:\\Opt\\Anaconda3\\envs\\pDL\\lib\\site-packages\\seaborn\\_decorators.py:36: FutureWarning: Pass the following variable as a keyword arg: y. From version 0.12, the only valid positional argument will be `data`, and passing other arguments without an explicit keyword will result in an error or misinterpretation.\n",
      "  warnings.warn(\n"
     ]
    },
    {
     "name": "stdout",
     "output_type": "stream",
     "text": [
      "Epoch [3251/3251]: Avg. Train Loss: 0.78892 | Avg. Non-Zero Triplets: 97920.00000\n"
     ]
    },
    {
     "name": "stderr",
     "output_type": "stream",
     "text": [
      "C:\\Opt\\Anaconda3\\envs\\pDL\\lib\\site-packages\\seaborn\\_decorators.py:36: FutureWarning: Pass the following variable as a keyword arg: y. From version 0.12, the only valid positional argument will be `data`, and passing other arguments without an explicit keyword will result in an error or misinterpretation.\n",
      "  warnings.warn(\n"
     ]
    },
    {
     "name": "stdout",
     "output_type": "stream",
     "text": [
      "Epoch [3252/3252]: Avg. Train Loss: 0.78021 | Avg. Non-Zero Triplets: 97920.00000\n"
     ]
    },
    {
     "name": "stderr",
     "output_type": "stream",
     "text": [
      "C:\\Opt\\Anaconda3\\envs\\pDL\\lib\\site-packages\\seaborn\\_decorators.py:36: FutureWarning: Pass the following variable as a keyword arg: y. From version 0.12, the only valid positional argument will be `data`, and passing other arguments without an explicit keyword will result in an error or misinterpretation.\n",
      "  warnings.warn(\n"
     ]
    },
    {
     "name": "stdout",
     "output_type": "stream",
     "text": [
      "Epoch [3253/3253]: Avg. Train Loss: 0.80464 | Avg. Non-Zero Triplets: 97920.00000\n"
     ]
    },
    {
     "name": "stderr",
     "output_type": "stream",
     "text": [
      "C:\\Opt\\Anaconda3\\envs\\pDL\\lib\\site-packages\\seaborn\\_decorators.py:36: FutureWarning: Pass the following variable as a keyword arg: y. From version 0.12, the only valid positional argument will be `data`, and passing other arguments without an explicit keyword will result in an error or misinterpretation.\n",
      "  warnings.warn(\n"
     ]
    },
    {
     "name": "stdout",
     "output_type": "stream",
     "text": [
      "Epoch [3254/3254]: Avg. Train Loss: 0.77260 | Avg. Non-Zero Triplets: 97920.00000\n"
     ]
    },
    {
     "name": "stderr",
     "output_type": "stream",
     "text": [
      "C:\\Opt\\Anaconda3\\envs\\pDL\\lib\\site-packages\\seaborn\\_decorators.py:36: FutureWarning: Pass the following variable as a keyword arg: y. From version 0.12, the only valid positional argument will be `data`, and passing other arguments without an explicit keyword will result in an error or misinterpretation.\n",
      "  warnings.warn(\n"
     ]
    },
    {
     "name": "stdout",
     "output_type": "stream",
     "text": [
      "Epoch [3255/3255]: Avg. Train Loss: 0.79356 | Avg. Non-Zero Triplets: 97920.00000\n"
     ]
    },
    {
     "name": "stderr",
     "output_type": "stream",
     "text": [
      "C:\\Opt\\Anaconda3\\envs\\pDL\\lib\\site-packages\\seaborn\\_decorators.py:36: FutureWarning: Pass the following variable as a keyword arg: y. From version 0.12, the only valid positional argument will be `data`, and passing other arguments without an explicit keyword will result in an error or misinterpretation.\n",
      "  warnings.warn(\n"
     ]
    },
    {
     "name": "stdout",
     "output_type": "stream",
     "text": [
      "Epoch [3256/3256]: Avg. Train Loss: 0.78087 | Avg. Non-Zero Triplets: 97920.00000\n"
     ]
    },
    {
     "name": "stderr",
     "output_type": "stream",
     "text": [
      "C:\\Opt\\Anaconda3\\envs\\pDL\\lib\\site-packages\\seaborn\\_decorators.py:36: FutureWarning: Pass the following variable as a keyword arg: y. From version 0.12, the only valid positional argument will be `data`, and passing other arguments without an explicit keyword will result in an error or misinterpretation.\n",
      "  warnings.warn(\n"
     ]
    },
    {
     "name": "stdout",
     "output_type": "stream",
     "text": [
      "Epoch [3257/3257]: Avg. Train Loss: 0.79176 | Avg. Non-Zero Triplets: 97920.00000\n"
     ]
    },
    {
     "name": "stderr",
     "output_type": "stream",
     "text": [
      "C:\\Opt\\Anaconda3\\envs\\pDL\\lib\\site-packages\\seaborn\\_decorators.py:36: FutureWarning: Pass the following variable as a keyword arg: y. From version 0.12, the only valid positional argument will be `data`, and passing other arguments without an explicit keyword will result in an error or misinterpretation.\n",
      "  warnings.warn(\n"
     ]
    },
    {
     "name": "stdout",
     "output_type": "stream",
     "text": [
      "Epoch [3258/3258]: Avg. Train Loss: 0.80345 | Avg. Non-Zero Triplets: 97920.00000\n"
     ]
    },
    {
     "name": "stderr",
     "output_type": "stream",
     "text": [
      "C:\\Opt\\Anaconda3\\envs\\pDL\\lib\\site-packages\\seaborn\\_decorators.py:36: FutureWarning: Pass the following variable as a keyword arg: y. From version 0.12, the only valid positional argument will be `data`, and passing other arguments without an explicit keyword will result in an error or misinterpretation.\n",
      "  warnings.warn(\n"
     ]
    },
    {
     "name": "stdout",
     "output_type": "stream",
     "text": [
      "Epoch [3259/3259]: Avg. Train Loss: 0.79278 | Avg. Non-Zero Triplets: 97920.00000\n"
     ]
    },
    {
     "name": "stderr",
     "output_type": "stream",
     "text": [
      "C:\\Opt\\Anaconda3\\envs\\pDL\\lib\\site-packages\\seaborn\\_decorators.py:36: FutureWarning: Pass the following variable as a keyword arg: y. From version 0.12, the only valid positional argument will be `data`, and passing other arguments without an explicit keyword will result in an error or misinterpretation.\n",
      "  warnings.warn(\n"
     ]
    },
    {
     "name": "stdout",
     "output_type": "stream",
     "text": [
      "Epoch [3260/3260]: Avg. Train Loss: 0.81011 | Avg. Non-Zero Triplets: 97920.00000\n"
     ]
    },
    {
     "name": "stderr",
     "output_type": "stream",
     "text": [
      "C:\\Opt\\Anaconda3\\envs\\pDL\\lib\\site-packages\\seaborn\\_decorators.py:36: FutureWarning: Pass the following variable as a keyword arg: y. From version 0.12, the only valid positional argument will be `data`, and passing other arguments without an explicit keyword will result in an error or misinterpretation.\n",
      "  warnings.warn(\n"
     ]
    },
    {
     "name": "stdout",
     "output_type": "stream",
     "text": [
      "Epoch [3261/3261]: Avg. Train Loss: 0.81528 | Avg. Non-Zero Triplets: 97920.00000\n"
     ]
    },
    {
     "name": "stderr",
     "output_type": "stream",
     "text": [
      "C:\\Opt\\Anaconda3\\envs\\pDL\\lib\\site-packages\\seaborn\\_decorators.py:36: FutureWarning: Pass the following variable as a keyword arg: y. From version 0.12, the only valid positional argument will be `data`, and passing other arguments without an explicit keyword will result in an error or misinterpretation.\n",
      "  warnings.warn(\n"
     ]
    },
    {
     "name": "stdout",
     "output_type": "stream",
     "text": [
      "Epoch [3262/3262]: Avg. Train Loss: 0.81221 | Avg. Non-Zero Triplets: 97920.00000\n"
     ]
    },
    {
     "name": "stderr",
     "output_type": "stream",
     "text": [
      "C:\\Opt\\Anaconda3\\envs\\pDL\\lib\\site-packages\\seaborn\\_decorators.py:36: FutureWarning: Pass the following variable as a keyword arg: y. From version 0.12, the only valid positional argument will be `data`, and passing other arguments without an explicit keyword will result in an error or misinterpretation.\n",
      "  warnings.warn(\n"
     ]
    },
    {
     "name": "stdout",
     "output_type": "stream",
     "text": [
      "Epoch [3263/3263]: Avg. Train Loss: 0.82324 | Avg. Non-Zero Triplets: 97920.00000\n"
     ]
    },
    {
     "name": "stderr",
     "output_type": "stream",
     "text": [
      "C:\\Opt\\Anaconda3\\envs\\pDL\\lib\\site-packages\\seaborn\\_decorators.py:36: FutureWarning: Pass the following variable as a keyword arg: y. From version 0.12, the only valid positional argument will be `data`, and passing other arguments without an explicit keyword will result in an error or misinterpretation.\n",
      "  warnings.warn(\n"
     ]
    },
    {
     "name": "stdout",
     "output_type": "stream",
     "text": [
      "Epoch [3264/3264]: Avg. Train Loss: 0.82125 | Avg. Non-Zero Triplets: 97920.00000\n"
     ]
    },
    {
     "name": "stderr",
     "output_type": "stream",
     "text": [
      "C:\\Opt\\Anaconda3\\envs\\pDL\\lib\\site-packages\\seaborn\\_decorators.py:36: FutureWarning: Pass the following variable as a keyword arg: y. From version 0.12, the only valid positional argument will be `data`, and passing other arguments without an explicit keyword will result in an error or misinterpretation.\n",
      "  warnings.warn(\n"
     ]
    },
    {
     "name": "stdout",
     "output_type": "stream",
     "text": [
      "Epoch [3265/3265]: Avg. Train Loss: 0.79809 | Avg. Non-Zero Triplets: 97920.00000\n"
     ]
    },
    {
     "name": "stderr",
     "output_type": "stream",
     "text": [
      "C:\\Opt\\Anaconda3\\envs\\pDL\\lib\\site-packages\\seaborn\\_decorators.py:36: FutureWarning: Pass the following variable as a keyword arg: y. From version 0.12, the only valid positional argument will be `data`, and passing other arguments without an explicit keyword will result in an error or misinterpretation.\n",
      "  warnings.warn(\n"
     ]
    },
    {
     "name": "stdout",
     "output_type": "stream",
     "text": [
      "Epoch [3266/3266]: Avg. Train Loss: 0.82611 | Avg. Non-Zero Triplets: 97920.00000\n"
     ]
    },
    {
     "name": "stderr",
     "output_type": "stream",
     "text": [
      "C:\\Opt\\Anaconda3\\envs\\pDL\\lib\\site-packages\\seaborn\\_decorators.py:36: FutureWarning: Pass the following variable as a keyword arg: y. From version 0.12, the only valid positional argument will be `data`, and passing other arguments without an explicit keyword will result in an error or misinterpretation.\n",
      "  warnings.warn(\n"
     ]
    },
    {
     "name": "stdout",
     "output_type": "stream",
     "text": [
      "Epoch [3267/3267]: Avg. Train Loss: 0.81970 | Avg. Non-Zero Triplets: 97920.00000\n"
     ]
    },
    {
     "name": "stderr",
     "output_type": "stream",
     "text": [
      "C:\\Opt\\Anaconda3\\envs\\pDL\\lib\\site-packages\\seaborn\\_decorators.py:36: FutureWarning: Pass the following variable as a keyword arg: y. From version 0.12, the only valid positional argument will be `data`, and passing other arguments without an explicit keyword will result in an error or misinterpretation.\n",
      "  warnings.warn(\n"
     ]
    },
    {
     "name": "stdout",
     "output_type": "stream",
     "text": [
      "Epoch [3268/3268]: Avg. Train Loss: 0.80299 | Avg. Non-Zero Triplets: 97920.00000\n"
     ]
    },
    {
     "name": "stderr",
     "output_type": "stream",
     "text": [
      "C:\\Opt\\Anaconda3\\envs\\pDL\\lib\\site-packages\\seaborn\\_decorators.py:36: FutureWarning: Pass the following variable as a keyword arg: y. From version 0.12, the only valid positional argument will be `data`, and passing other arguments without an explicit keyword will result in an error or misinterpretation.\n",
      "  warnings.warn(\n"
     ]
    },
    {
     "name": "stdout",
     "output_type": "stream",
     "text": [
      "Epoch [3269/3269]: Avg. Train Loss: 0.81482 | Avg. Non-Zero Triplets: 97920.00000\n"
     ]
    },
    {
     "name": "stderr",
     "output_type": "stream",
     "text": [
      "C:\\Opt\\Anaconda3\\envs\\pDL\\lib\\site-packages\\seaborn\\_decorators.py:36: FutureWarning: Pass the following variable as a keyword arg: y. From version 0.12, the only valid positional argument will be `data`, and passing other arguments without an explicit keyword will result in an error or misinterpretation.\n",
      "  warnings.warn(\n"
     ]
    },
    {
     "name": "stdout",
     "output_type": "stream",
     "text": [
      "Epoch [3270/3270]: Avg. Train Loss: 0.78510 | Avg. Non-Zero Triplets: 97920.00000\n"
     ]
    },
    {
     "name": "stderr",
     "output_type": "stream",
     "text": [
      "C:\\Opt\\Anaconda3\\envs\\pDL\\lib\\site-packages\\seaborn\\_decorators.py:36: FutureWarning: Pass the following variable as a keyword arg: y. From version 0.12, the only valid positional argument will be `data`, and passing other arguments without an explicit keyword will result in an error or misinterpretation.\n",
      "  warnings.warn(\n"
     ]
    },
    {
     "name": "stdout",
     "output_type": "stream",
     "text": [
      "Epoch [3271/3271]: Avg. Train Loss: 0.83456 | Avg. Non-Zero Triplets: 97920.00000\n"
     ]
    },
    {
     "name": "stderr",
     "output_type": "stream",
     "text": [
      "C:\\Opt\\Anaconda3\\envs\\pDL\\lib\\site-packages\\seaborn\\_decorators.py:36: FutureWarning: Pass the following variable as a keyword arg: y. From version 0.12, the only valid positional argument will be `data`, and passing other arguments without an explicit keyword will result in an error or misinterpretation.\n",
      "  warnings.warn(\n"
     ]
    },
    {
     "name": "stdout",
     "output_type": "stream",
     "text": [
      "Epoch [3272/3272]: Avg. Train Loss: 0.80300 | Avg. Non-Zero Triplets: 97920.00000\n"
     ]
    },
    {
     "name": "stderr",
     "output_type": "stream",
     "text": [
      "C:\\Opt\\Anaconda3\\envs\\pDL\\lib\\site-packages\\seaborn\\_decorators.py:36: FutureWarning: Pass the following variable as a keyword arg: y. From version 0.12, the only valid positional argument will be `data`, and passing other arguments without an explicit keyword will result in an error or misinterpretation.\n",
      "  warnings.warn(\n"
     ]
    },
    {
     "name": "stdout",
     "output_type": "stream",
     "text": [
      "Epoch [3273/3273]: Avg. Train Loss: 0.80113 | Avg. Non-Zero Triplets: 97920.00000\n"
     ]
    },
    {
     "name": "stderr",
     "output_type": "stream",
     "text": [
      "C:\\Opt\\Anaconda3\\envs\\pDL\\lib\\site-packages\\seaborn\\_decorators.py:36: FutureWarning: Pass the following variable as a keyword arg: y. From version 0.12, the only valid positional argument will be `data`, and passing other arguments without an explicit keyword will result in an error or misinterpretation.\n",
      "  warnings.warn(\n"
     ]
    },
    {
     "name": "stdout",
     "output_type": "stream",
     "text": [
      "Epoch [3274/3274]: Avg. Train Loss: 0.81740 | Avg. Non-Zero Triplets: 97920.00000\n"
     ]
    },
    {
     "name": "stderr",
     "output_type": "stream",
     "text": [
      "C:\\Opt\\Anaconda3\\envs\\pDL\\lib\\site-packages\\seaborn\\_decorators.py:36: FutureWarning: Pass the following variable as a keyword arg: y. From version 0.12, the only valid positional argument will be `data`, and passing other arguments without an explicit keyword will result in an error or misinterpretation.\n",
      "  warnings.warn(\n"
     ]
    },
    {
     "name": "stdout",
     "output_type": "stream",
     "text": [
      "Epoch [3275/3275]: Avg. Train Loss: 0.81111 | Avg. Non-Zero Triplets: 97920.00000\n"
     ]
    },
    {
     "name": "stderr",
     "output_type": "stream",
     "text": [
      "C:\\Opt\\Anaconda3\\envs\\pDL\\lib\\site-packages\\seaborn\\_decorators.py:36: FutureWarning: Pass the following variable as a keyword arg: y. From version 0.12, the only valid positional argument will be `data`, and passing other arguments without an explicit keyword will result in an error or misinterpretation.\n",
      "  warnings.warn(\n"
     ]
    },
    {
     "name": "stdout",
     "output_type": "stream",
     "text": [
      "Epoch [3276/3276]: Avg. Train Loss: 0.80064 | Avg. Non-Zero Triplets: 97920.00000\n"
     ]
    },
    {
     "name": "stderr",
     "output_type": "stream",
     "text": [
      "C:\\Opt\\Anaconda3\\envs\\pDL\\lib\\site-packages\\seaborn\\_decorators.py:36: FutureWarning: Pass the following variable as a keyword arg: y. From version 0.12, the only valid positional argument will be `data`, and passing other arguments without an explicit keyword will result in an error or misinterpretation.\n",
      "  warnings.warn(\n"
     ]
    },
    {
     "name": "stdout",
     "output_type": "stream",
     "text": [
      "Epoch [3277/3277]: Avg. Train Loss: 0.84808 | Avg. Non-Zero Triplets: 97920.00000\n"
     ]
    },
    {
     "name": "stderr",
     "output_type": "stream",
     "text": [
      "C:\\Opt\\Anaconda3\\envs\\pDL\\lib\\site-packages\\seaborn\\_decorators.py:36: FutureWarning: Pass the following variable as a keyword arg: y. From version 0.12, the only valid positional argument will be `data`, and passing other arguments without an explicit keyword will result in an error or misinterpretation.\n",
      "  warnings.warn(\n"
     ]
    },
    {
     "name": "stdout",
     "output_type": "stream",
     "text": [
      "Epoch [3278/3278]: Avg. Train Loss: 0.80020 | Avg. Non-Zero Triplets: 97920.00000\n"
     ]
    },
    {
     "name": "stderr",
     "output_type": "stream",
     "text": [
      "C:\\Opt\\Anaconda3\\envs\\pDL\\lib\\site-packages\\seaborn\\_decorators.py:36: FutureWarning: Pass the following variable as a keyword arg: y. From version 0.12, the only valid positional argument will be `data`, and passing other arguments without an explicit keyword will result in an error or misinterpretation.\n",
      "  warnings.warn(\n"
     ]
    },
    {
     "name": "stdout",
     "output_type": "stream",
     "text": [
      "Epoch [3279/3279]: Avg. Train Loss: 0.80483 | Avg. Non-Zero Triplets: 97920.00000\n"
     ]
    },
    {
     "name": "stderr",
     "output_type": "stream",
     "text": [
      "C:\\Opt\\Anaconda3\\envs\\pDL\\lib\\site-packages\\seaborn\\_decorators.py:36: FutureWarning: Pass the following variable as a keyword arg: y. From version 0.12, the only valid positional argument will be `data`, and passing other arguments without an explicit keyword will result in an error or misinterpretation.\n",
      "  warnings.warn(\n"
     ]
    },
    {
     "name": "stdout",
     "output_type": "stream",
     "text": [
      "Epoch [3280/3280]: Avg. Train Loss: 0.82519 | Avg. Non-Zero Triplets: 97920.00000\n"
     ]
    },
    {
     "name": "stderr",
     "output_type": "stream",
     "text": [
      "C:\\Opt\\Anaconda3\\envs\\pDL\\lib\\site-packages\\seaborn\\_decorators.py:36: FutureWarning: Pass the following variable as a keyword arg: y. From version 0.12, the only valid positional argument will be `data`, and passing other arguments without an explicit keyword will result in an error or misinterpretation.\n",
      "  warnings.warn(\n"
     ]
    },
    {
     "name": "stdout",
     "output_type": "stream",
     "text": [
      "Epoch [3281/3281]: Avg. Train Loss: 0.81261 | Avg. Non-Zero Triplets: 97920.00000\n"
     ]
    },
    {
     "name": "stderr",
     "output_type": "stream",
     "text": [
      "C:\\Opt\\Anaconda3\\envs\\pDL\\lib\\site-packages\\seaborn\\_decorators.py:36: FutureWarning: Pass the following variable as a keyword arg: y. From version 0.12, the only valid positional argument will be `data`, and passing other arguments without an explicit keyword will result in an error or misinterpretation.\n",
      "  warnings.warn(\n"
     ]
    },
    {
     "name": "stdout",
     "output_type": "stream",
     "text": [
      "Epoch [3282/3282]: Avg. Train Loss: 0.82309 | Avg. Non-Zero Triplets: 97920.00000\n"
     ]
    },
    {
     "name": "stderr",
     "output_type": "stream",
     "text": [
      "C:\\Opt\\Anaconda3\\envs\\pDL\\lib\\site-packages\\seaborn\\_decorators.py:36: FutureWarning: Pass the following variable as a keyword arg: y. From version 0.12, the only valid positional argument will be `data`, and passing other arguments without an explicit keyword will result in an error or misinterpretation.\n",
      "  warnings.warn(\n"
     ]
    },
    {
     "name": "stdout",
     "output_type": "stream",
     "text": [
      "Epoch [3283/3283]: Avg. Train Loss: 0.80849 | Avg. Non-Zero Triplets: 97920.00000\n"
     ]
    },
    {
     "name": "stderr",
     "output_type": "stream",
     "text": [
      "C:\\Opt\\Anaconda3\\envs\\pDL\\lib\\site-packages\\seaborn\\_decorators.py:36: FutureWarning: Pass the following variable as a keyword arg: y. From version 0.12, the only valid positional argument will be `data`, and passing other arguments without an explicit keyword will result in an error or misinterpretation.\n",
      "  warnings.warn(\n"
     ]
    },
    {
     "name": "stdout",
     "output_type": "stream",
     "text": [
      "Epoch [3284/3284]: Avg. Train Loss: 0.77395 | Avg. Non-Zero Triplets: 97920.00000\n"
     ]
    },
    {
     "name": "stderr",
     "output_type": "stream",
     "text": [
      "C:\\Opt\\Anaconda3\\envs\\pDL\\lib\\site-packages\\seaborn\\_decorators.py:36: FutureWarning: Pass the following variable as a keyword arg: y. From version 0.12, the only valid positional argument will be `data`, and passing other arguments without an explicit keyword will result in an error or misinterpretation.\n",
      "  warnings.warn(\n"
     ]
    },
    {
     "name": "stdout",
     "output_type": "stream",
     "text": [
      "Epoch [3285/3285]: Avg. Train Loss: 0.86866 | Avg. Non-Zero Triplets: 97920.00000\n"
     ]
    },
    {
     "name": "stderr",
     "output_type": "stream",
     "text": [
      "C:\\Opt\\Anaconda3\\envs\\pDL\\lib\\site-packages\\seaborn\\_decorators.py:36: FutureWarning: Pass the following variable as a keyword arg: y. From version 0.12, the only valid positional argument will be `data`, and passing other arguments without an explicit keyword will result in an error or misinterpretation.\n",
      "  warnings.warn(\n"
     ]
    },
    {
     "name": "stdout",
     "output_type": "stream",
     "text": [
      "Epoch [3286/3286]: Avg. Train Loss: 0.82158 | Avg. Non-Zero Triplets: 97920.00000\n"
     ]
    },
    {
     "name": "stderr",
     "output_type": "stream",
     "text": [
      "C:\\Opt\\Anaconda3\\envs\\pDL\\lib\\site-packages\\seaborn\\_decorators.py:36: FutureWarning: Pass the following variable as a keyword arg: y. From version 0.12, the only valid positional argument will be `data`, and passing other arguments without an explicit keyword will result in an error or misinterpretation.\n",
      "  warnings.warn(\n"
     ]
    },
    {
     "name": "stdout",
     "output_type": "stream",
     "text": [
      "Epoch [3287/3287]: Avg. Train Loss: 0.82227 | Avg. Non-Zero Triplets: 97920.00000\n"
     ]
    },
    {
     "name": "stderr",
     "output_type": "stream",
     "text": [
      "C:\\Opt\\Anaconda3\\envs\\pDL\\lib\\site-packages\\seaborn\\_decorators.py:36: FutureWarning: Pass the following variable as a keyword arg: y. From version 0.12, the only valid positional argument will be `data`, and passing other arguments without an explicit keyword will result in an error or misinterpretation.\n",
      "  warnings.warn(\n"
     ]
    },
    {
     "name": "stdout",
     "output_type": "stream",
     "text": [
      "Epoch [3288/3288]: Avg. Train Loss: 0.81859 | Avg. Non-Zero Triplets: 97920.00000\n"
     ]
    },
    {
     "name": "stderr",
     "output_type": "stream",
     "text": [
      "C:\\Opt\\Anaconda3\\envs\\pDL\\lib\\site-packages\\seaborn\\_decorators.py:36: FutureWarning: Pass the following variable as a keyword arg: y. From version 0.12, the only valid positional argument will be `data`, and passing other arguments without an explicit keyword will result in an error or misinterpretation.\n",
      "  warnings.warn(\n"
     ]
    },
    {
     "name": "stdout",
     "output_type": "stream",
     "text": [
      "Epoch [3289/3289]: Avg. Train Loss: 0.81258 | Avg. Non-Zero Triplets: 97920.00000\n"
     ]
    },
    {
     "name": "stderr",
     "output_type": "stream",
     "text": [
      "C:\\Opt\\Anaconda3\\envs\\pDL\\lib\\site-packages\\seaborn\\_decorators.py:36: FutureWarning: Pass the following variable as a keyword arg: y. From version 0.12, the only valid positional argument will be `data`, and passing other arguments without an explicit keyword will result in an error or misinterpretation.\n",
      "  warnings.warn(\n"
     ]
    },
    {
     "name": "stdout",
     "output_type": "stream",
     "text": [
      "Epoch [3290/3290]: Avg. Train Loss: 0.78421 | Avg. Non-Zero Triplets: 97920.00000\n"
     ]
    },
    {
     "name": "stderr",
     "output_type": "stream",
     "text": [
      "C:\\Opt\\Anaconda3\\envs\\pDL\\lib\\site-packages\\seaborn\\_decorators.py:36: FutureWarning: Pass the following variable as a keyword arg: y. From version 0.12, the only valid positional argument will be `data`, and passing other arguments without an explicit keyword will result in an error or misinterpretation.\n",
      "  warnings.warn(\n"
     ]
    },
    {
     "name": "stdout",
     "output_type": "stream",
     "text": [
      "Epoch [3291/3291]: Avg. Train Loss: 0.81018 | Avg. Non-Zero Triplets: 97920.00000\n"
     ]
    },
    {
     "name": "stderr",
     "output_type": "stream",
     "text": [
      "C:\\Opt\\Anaconda3\\envs\\pDL\\lib\\site-packages\\seaborn\\_decorators.py:36: FutureWarning: Pass the following variable as a keyword arg: y. From version 0.12, the only valid positional argument will be `data`, and passing other arguments without an explicit keyword will result in an error or misinterpretation.\n",
      "  warnings.warn(\n"
     ]
    },
    {
     "name": "stdout",
     "output_type": "stream",
     "text": [
      "Epoch [3292/3292]: Avg. Train Loss: 0.83538 | Avg. Non-Zero Triplets: 97920.00000\n"
     ]
    },
    {
     "name": "stderr",
     "output_type": "stream",
     "text": [
      "C:\\Opt\\Anaconda3\\envs\\pDL\\lib\\site-packages\\seaborn\\_decorators.py:36: FutureWarning: Pass the following variable as a keyword arg: y. From version 0.12, the only valid positional argument will be `data`, and passing other arguments without an explicit keyword will result in an error or misinterpretation.\n",
      "  warnings.warn(\n"
     ]
    },
    {
     "name": "stdout",
     "output_type": "stream",
     "text": [
      "Epoch [3293/3293]: Avg. Train Loss: 0.80200 | Avg. Non-Zero Triplets: 97920.00000\n"
     ]
    },
    {
     "name": "stderr",
     "output_type": "stream",
     "text": [
      "C:\\Opt\\Anaconda3\\envs\\pDL\\lib\\site-packages\\seaborn\\_decorators.py:36: FutureWarning: Pass the following variable as a keyword arg: y. From version 0.12, the only valid positional argument will be `data`, and passing other arguments without an explicit keyword will result in an error or misinterpretation.\n",
      "  warnings.warn(\n"
     ]
    },
    {
     "name": "stdout",
     "output_type": "stream",
     "text": [
      "Epoch [3294/3294]: Avg. Train Loss: 0.81623 | Avg. Non-Zero Triplets: 97920.00000\n"
     ]
    },
    {
     "name": "stderr",
     "output_type": "stream",
     "text": [
      "C:\\Opt\\Anaconda3\\envs\\pDL\\lib\\site-packages\\seaborn\\_decorators.py:36: FutureWarning: Pass the following variable as a keyword arg: y. From version 0.12, the only valid positional argument will be `data`, and passing other arguments without an explicit keyword will result in an error or misinterpretation.\n",
      "  warnings.warn(\n"
     ]
    },
    {
     "name": "stdout",
     "output_type": "stream",
     "text": [
      "Epoch [3295/3295]: Avg. Train Loss: 0.80516 | Avg. Non-Zero Triplets: 97920.00000\n"
     ]
    },
    {
     "name": "stderr",
     "output_type": "stream",
     "text": [
      "C:\\Opt\\Anaconda3\\envs\\pDL\\lib\\site-packages\\seaborn\\_decorators.py:36: FutureWarning: Pass the following variable as a keyword arg: y. From version 0.12, the only valid positional argument will be `data`, and passing other arguments without an explicit keyword will result in an error or misinterpretation.\n",
      "  warnings.warn(\n"
     ]
    },
    {
     "name": "stdout",
     "output_type": "stream",
     "text": [
      "Epoch [3296/3296]: Avg. Train Loss: 0.82922 | Avg. Non-Zero Triplets: 97920.00000\n"
     ]
    },
    {
     "name": "stderr",
     "output_type": "stream",
     "text": [
      "C:\\Opt\\Anaconda3\\envs\\pDL\\lib\\site-packages\\seaborn\\_decorators.py:36: FutureWarning: Pass the following variable as a keyword arg: y. From version 0.12, the only valid positional argument will be `data`, and passing other arguments without an explicit keyword will result in an error or misinterpretation.\n",
      "  warnings.warn(\n"
     ]
    },
    {
     "name": "stdout",
     "output_type": "stream",
     "text": [
      "Epoch [3297/3297]: Avg. Train Loss: 0.78956 | Avg. Non-Zero Triplets: 97920.00000\n"
     ]
    },
    {
     "name": "stderr",
     "output_type": "stream",
     "text": [
      "C:\\Opt\\Anaconda3\\envs\\pDL\\lib\\site-packages\\seaborn\\_decorators.py:36: FutureWarning: Pass the following variable as a keyword arg: y. From version 0.12, the only valid positional argument will be `data`, and passing other arguments without an explicit keyword will result in an error or misinterpretation.\n",
      "  warnings.warn(\n"
     ]
    },
    {
     "name": "stdout",
     "output_type": "stream",
     "text": [
      "Epoch [3298/3298]: Avg. Train Loss: 0.79740 | Avg. Non-Zero Triplets: 97920.00000\n"
     ]
    },
    {
     "name": "stderr",
     "output_type": "stream",
     "text": [
      "C:\\Opt\\Anaconda3\\envs\\pDL\\lib\\site-packages\\seaborn\\_decorators.py:36: FutureWarning: Pass the following variable as a keyword arg: y. From version 0.12, the only valid positional argument will be `data`, and passing other arguments without an explicit keyword will result in an error or misinterpretation.\n",
      "  warnings.warn(\n"
     ]
    },
    {
     "name": "stdout",
     "output_type": "stream",
     "text": [
      "Epoch [3299/3299]: Avg. Train Loss: 0.80115 | Avg. Non-Zero Triplets: 97920.00000\n"
     ]
    },
    {
     "name": "stderr",
     "output_type": "stream",
     "text": [
      "C:\\Opt\\Anaconda3\\envs\\pDL\\lib\\site-packages\\seaborn\\_decorators.py:36: FutureWarning: Pass the following variable as a keyword arg: y. From version 0.12, the only valid positional argument will be `data`, and passing other arguments without an explicit keyword will result in an error or misinterpretation.\n",
      "  warnings.warn(\n"
     ]
    },
    {
     "name": "stdout",
     "output_type": "stream",
     "text": [
      "Epoch [3300/3300]: Avg. Train Loss: 0.82027 | Avg. Non-Zero Triplets: 97920.00000\n"
     ]
    },
    {
     "name": "stderr",
     "output_type": "stream",
     "text": [
      "C:\\Opt\\Anaconda3\\envs\\pDL\\lib\\site-packages\\seaborn\\_decorators.py:36: FutureWarning: Pass the following variable as a keyword arg: y. From version 0.12, the only valid positional argument will be `data`, and passing other arguments without an explicit keyword will result in an error or misinterpretation.\n",
      "  warnings.warn(\n"
     ]
    },
    {
     "name": "stdout",
     "output_type": "stream",
     "text": [
      "Epoch [3301/3301]: Avg. Train Loss: 0.82859 | Avg. Non-Zero Triplets: 97920.00000\n"
     ]
    },
    {
     "name": "stderr",
     "output_type": "stream",
     "text": [
      "C:\\Opt\\Anaconda3\\envs\\pDL\\lib\\site-packages\\seaborn\\_decorators.py:36: FutureWarning: Pass the following variable as a keyword arg: y. From version 0.12, the only valid positional argument will be `data`, and passing other arguments without an explicit keyword will result in an error or misinterpretation.\n",
      "  warnings.warn(\n"
     ]
    },
    {
     "name": "stdout",
     "output_type": "stream",
     "text": [
      "Epoch [3302/3302]: Avg. Train Loss: 0.81663 | Avg. Non-Zero Triplets: 97920.00000\n"
     ]
    },
    {
     "name": "stderr",
     "output_type": "stream",
     "text": [
      "C:\\Opt\\Anaconda3\\envs\\pDL\\lib\\site-packages\\seaborn\\_decorators.py:36: FutureWarning: Pass the following variable as a keyword arg: y. From version 0.12, the only valid positional argument will be `data`, and passing other arguments without an explicit keyword will result in an error or misinterpretation.\n",
      "  warnings.warn(\n"
     ]
    },
    {
     "name": "stdout",
     "output_type": "stream",
     "text": [
      "Epoch [3303/3303]: Avg. Train Loss: 0.81692 | Avg. Non-Zero Triplets: 97920.00000\n"
     ]
    },
    {
     "name": "stderr",
     "output_type": "stream",
     "text": [
      "C:\\Opt\\Anaconda3\\envs\\pDL\\lib\\site-packages\\seaborn\\_decorators.py:36: FutureWarning: Pass the following variable as a keyword arg: y. From version 0.12, the only valid positional argument will be `data`, and passing other arguments without an explicit keyword will result in an error or misinterpretation.\n",
      "  warnings.warn(\n"
     ]
    },
    {
     "name": "stdout",
     "output_type": "stream",
     "text": [
      "Epoch [3304/3304]: Avg. Train Loss: 0.79018 | Avg. Non-Zero Triplets: 97920.00000\n"
     ]
    },
    {
     "name": "stderr",
     "output_type": "stream",
     "text": [
      "C:\\Opt\\Anaconda3\\envs\\pDL\\lib\\site-packages\\seaborn\\_decorators.py:36: FutureWarning: Pass the following variable as a keyword arg: y. From version 0.12, the only valid positional argument will be `data`, and passing other arguments without an explicit keyword will result in an error or misinterpretation.\n",
      "  warnings.warn(\n"
     ]
    },
    {
     "name": "stdout",
     "output_type": "stream",
     "text": [
      "Epoch [3305/3305]: Avg. Train Loss: 0.80567 | Avg. Non-Zero Triplets: 97920.00000\n"
     ]
    },
    {
     "name": "stderr",
     "output_type": "stream",
     "text": [
      "C:\\Opt\\Anaconda3\\envs\\pDL\\lib\\site-packages\\seaborn\\_decorators.py:36: FutureWarning: Pass the following variable as a keyword arg: y. From version 0.12, the only valid positional argument will be `data`, and passing other arguments without an explicit keyword will result in an error or misinterpretation.\n",
      "  warnings.warn(\n"
     ]
    },
    {
     "name": "stdout",
     "output_type": "stream",
     "text": [
      "Epoch [3306/3306]: Avg. Train Loss: 0.81107 | Avg. Non-Zero Triplets: 97920.00000\n"
     ]
    },
    {
     "name": "stderr",
     "output_type": "stream",
     "text": [
      "C:\\Opt\\Anaconda3\\envs\\pDL\\lib\\site-packages\\seaborn\\_decorators.py:36: FutureWarning: Pass the following variable as a keyword arg: y. From version 0.12, the only valid positional argument will be `data`, and passing other arguments without an explicit keyword will result in an error or misinterpretation.\n",
      "  warnings.warn(\n"
     ]
    },
    {
     "name": "stdout",
     "output_type": "stream",
     "text": [
      "Epoch [3307/3307]: Avg. Train Loss: 0.80508 | Avg. Non-Zero Triplets: 97920.00000\n"
     ]
    },
    {
     "name": "stderr",
     "output_type": "stream",
     "text": [
      "C:\\Opt\\Anaconda3\\envs\\pDL\\lib\\site-packages\\seaborn\\_decorators.py:36: FutureWarning: Pass the following variable as a keyword arg: y. From version 0.12, the only valid positional argument will be `data`, and passing other arguments without an explicit keyword will result in an error or misinterpretation.\n",
      "  warnings.warn(\n"
     ]
    },
    {
     "name": "stdout",
     "output_type": "stream",
     "text": [
      "Epoch [3308/3308]: Avg. Train Loss: 0.79883 | Avg. Non-Zero Triplets: 97920.00000\n"
     ]
    },
    {
     "name": "stderr",
     "output_type": "stream",
     "text": [
      "C:\\Opt\\Anaconda3\\envs\\pDL\\lib\\site-packages\\seaborn\\_decorators.py:36: FutureWarning: Pass the following variable as a keyword arg: y. From version 0.12, the only valid positional argument will be `data`, and passing other arguments without an explicit keyword will result in an error or misinterpretation.\n",
      "  warnings.warn(\n"
     ]
    },
    {
     "name": "stdout",
     "output_type": "stream",
     "text": [
      "Epoch [3309/3309]: Avg. Train Loss: 0.80111 | Avg. Non-Zero Triplets: 97920.00000\n"
     ]
    },
    {
     "name": "stderr",
     "output_type": "stream",
     "text": [
      "C:\\Opt\\Anaconda3\\envs\\pDL\\lib\\site-packages\\seaborn\\_decorators.py:36: FutureWarning: Pass the following variable as a keyword arg: y. From version 0.12, the only valid positional argument will be `data`, and passing other arguments without an explicit keyword will result in an error or misinterpretation.\n",
      "  warnings.warn(\n"
     ]
    },
    {
     "name": "stdout",
     "output_type": "stream",
     "text": [
      "Epoch [3310/3310]: Avg. Train Loss: 0.81063 | Avg. Non-Zero Triplets: 97920.00000\n"
     ]
    },
    {
     "name": "stderr",
     "output_type": "stream",
     "text": [
      "C:\\Opt\\Anaconda3\\envs\\pDL\\lib\\site-packages\\seaborn\\_decorators.py:36: FutureWarning: Pass the following variable as a keyword arg: y. From version 0.12, the only valid positional argument will be `data`, and passing other arguments without an explicit keyword will result in an error or misinterpretation.\n",
      "  warnings.warn(\n"
     ]
    },
    {
     "name": "stdout",
     "output_type": "stream",
     "text": [
      "Epoch [3311/3311]: Avg. Train Loss: 0.80160 | Avg. Non-Zero Triplets: 97920.00000\n"
     ]
    },
    {
     "name": "stderr",
     "output_type": "stream",
     "text": [
      "C:\\Opt\\Anaconda3\\envs\\pDL\\lib\\site-packages\\seaborn\\_decorators.py:36: FutureWarning: Pass the following variable as a keyword arg: y. From version 0.12, the only valid positional argument will be `data`, and passing other arguments without an explicit keyword will result in an error or misinterpretation.\n",
      "  warnings.warn(\n"
     ]
    },
    {
     "name": "stdout",
     "output_type": "stream",
     "text": [
      "Epoch [3312/3312]: Avg. Train Loss: 0.81295 | Avg. Non-Zero Triplets: 97920.00000\n"
     ]
    },
    {
     "name": "stderr",
     "output_type": "stream",
     "text": [
      "C:\\Opt\\Anaconda3\\envs\\pDL\\lib\\site-packages\\seaborn\\_decorators.py:36: FutureWarning: Pass the following variable as a keyword arg: y. From version 0.12, the only valid positional argument will be `data`, and passing other arguments without an explicit keyword will result in an error or misinterpretation.\n",
      "  warnings.warn(\n"
     ]
    },
    {
     "name": "stdout",
     "output_type": "stream",
     "text": [
      "Epoch [3313/3313]: Avg. Train Loss: 0.80966 | Avg. Non-Zero Triplets: 97920.00000\n"
     ]
    },
    {
     "name": "stderr",
     "output_type": "stream",
     "text": [
      "C:\\Opt\\Anaconda3\\envs\\pDL\\lib\\site-packages\\seaborn\\_decorators.py:36: FutureWarning: Pass the following variable as a keyword arg: y. From version 0.12, the only valid positional argument will be `data`, and passing other arguments without an explicit keyword will result in an error or misinterpretation.\n",
      "  warnings.warn(\n"
     ]
    },
    {
     "name": "stdout",
     "output_type": "stream",
     "text": [
      "Epoch [3314/3314]: Avg. Train Loss: 0.79965 | Avg. Non-Zero Triplets: 97920.00000\n"
     ]
    },
    {
     "name": "stderr",
     "output_type": "stream",
     "text": [
      "C:\\Opt\\Anaconda3\\envs\\pDL\\lib\\site-packages\\seaborn\\_decorators.py:36: FutureWarning: Pass the following variable as a keyword arg: y. From version 0.12, the only valid positional argument will be `data`, and passing other arguments without an explicit keyword will result in an error or misinterpretation.\n",
      "  warnings.warn(\n"
     ]
    },
    {
     "name": "stdout",
     "output_type": "stream",
     "text": [
      "Epoch [3315/3315]: Avg. Train Loss: 0.82724 | Avg. Non-Zero Triplets: 97920.00000\n"
     ]
    },
    {
     "name": "stderr",
     "output_type": "stream",
     "text": [
      "C:\\Opt\\Anaconda3\\envs\\pDL\\lib\\site-packages\\seaborn\\_decorators.py:36: FutureWarning: Pass the following variable as a keyword arg: y. From version 0.12, the only valid positional argument will be `data`, and passing other arguments without an explicit keyword will result in an error or misinterpretation.\n",
      "  warnings.warn(\n"
     ]
    },
    {
     "name": "stdout",
     "output_type": "stream",
     "text": [
      "Epoch [3316/3316]: Avg. Train Loss: 0.78627 | Avg. Non-Zero Triplets: 97920.00000\n"
     ]
    },
    {
     "name": "stderr",
     "output_type": "stream",
     "text": [
      "C:\\Opt\\Anaconda3\\envs\\pDL\\lib\\site-packages\\seaborn\\_decorators.py:36: FutureWarning: Pass the following variable as a keyword arg: y. From version 0.12, the only valid positional argument will be `data`, and passing other arguments without an explicit keyword will result in an error or misinterpretation.\n",
      "  warnings.warn(\n"
     ]
    },
    {
     "name": "stdout",
     "output_type": "stream",
     "text": [
      "Epoch [3317/3317]: Avg. Train Loss: 0.81299 | Avg. Non-Zero Triplets: 97920.00000\n"
     ]
    },
    {
     "name": "stderr",
     "output_type": "stream",
     "text": [
      "C:\\Opt\\Anaconda3\\envs\\pDL\\lib\\site-packages\\seaborn\\_decorators.py:36: FutureWarning: Pass the following variable as a keyword arg: y. From version 0.12, the only valid positional argument will be `data`, and passing other arguments without an explicit keyword will result in an error or misinterpretation.\n",
      "  warnings.warn(\n"
     ]
    },
    {
     "name": "stdout",
     "output_type": "stream",
     "text": [
      "Epoch [3318/3318]: Avg. Train Loss: 0.81180 | Avg. Non-Zero Triplets: 97920.00000\n"
     ]
    },
    {
     "name": "stderr",
     "output_type": "stream",
     "text": [
      "C:\\Opt\\Anaconda3\\envs\\pDL\\lib\\site-packages\\seaborn\\_decorators.py:36: FutureWarning: Pass the following variable as a keyword arg: y. From version 0.12, the only valid positional argument will be `data`, and passing other arguments without an explicit keyword will result in an error or misinterpretation.\n",
      "  warnings.warn(\n"
     ]
    },
    {
     "name": "stdout",
     "output_type": "stream",
     "text": [
      "Epoch [3319/3319]: Avg. Train Loss: 0.76840 | Avg. Non-Zero Triplets: 97920.00000\n"
     ]
    },
    {
     "name": "stderr",
     "output_type": "stream",
     "text": [
      "C:\\Opt\\Anaconda3\\envs\\pDL\\lib\\site-packages\\seaborn\\_decorators.py:36: FutureWarning: Pass the following variable as a keyword arg: y. From version 0.12, the only valid positional argument will be `data`, and passing other arguments without an explicit keyword will result in an error or misinterpretation.\n",
      "  warnings.warn(\n"
     ]
    },
    {
     "name": "stdout",
     "output_type": "stream",
     "text": [
      "Epoch [3320/3320]: Avg. Train Loss: 0.80412 | Avg. Non-Zero Triplets: 97920.00000\n"
     ]
    },
    {
     "name": "stderr",
     "output_type": "stream",
     "text": [
      "C:\\Opt\\Anaconda3\\envs\\pDL\\lib\\site-packages\\seaborn\\_decorators.py:36: FutureWarning: Pass the following variable as a keyword arg: y. From version 0.12, the only valid positional argument will be `data`, and passing other arguments without an explicit keyword will result in an error or misinterpretation.\n",
      "  warnings.warn(\n"
     ]
    },
    {
     "name": "stdout",
     "output_type": "stream",
     "text": [
      "Epoch [3321/3321]: Avg. Train Loss: 0.82299 | Avg. Non-Zero Triplets: 97920.00000\n"
     ]
    },
    {
     "name": "stderr",
     "output_type": "stream",
     "text": [
      "C:\\Opt\\Anaconda3\\envs\\pDL\\lib\\site-packages\\seaborn\\_decorators.py:36: FutureWarning: Pass the following variable as a keyword arg: y. From version 0.12, the only valid positional argument will be `data`, and passing other arguments without an explicit keyword will result in an error or misinterpretation.\n",
      "  warnings.warn(\n"
     ]
    },
    {
     "name": "stdout",
     "output_type": "stream",
     "text": [
      "Epoch [3322/3322]: Avg. Train Loss: 0.80521 | Avg. Non-Zero Triplets: 97920.00000\n"
     ]
    },
    {
     "name": "stderr",
     "output_type": "stream",
     "text": [
      "C:\\Opt\\Anaconda3\\envs\\pDL\\lib\\site-packages\\seaborn\\_decorators.py:36: FutureWarning: Pass the following variable as a keyword arg: y. From version 0.12, the only valid positional argument will be `data`, and passing other arguments without an explicit keyword will result in an error or misinterpretation.\n",
      "  warnings.warn(\n"
     ]
    },
    {
     "name": "stdout",
     "output_type": "stream",
     "text": [
      "Epoch [3323/3323]: Avg. Train Loss: 0.81779 | Avg. Non-Zero Triplets: 97920.00000\n"
     ]
    },
    {
     "name": "stderr",
     "output_type": "stream",
     "text": [
      "C:\\Opt\\Anaconda3\\envs\\pDL\\lib\\site-packages\\seaborn\\_decorators.py:36: FutureWarning: Pass the following variable as a keyword arg: y. From version 0.12, the only valid positional argument will be `data`, and passing other arguments without an explicit keyword will result in an error or misinterpretation.\n",
      "  warnings.warn(\n"
     ]
    },
    {
     "name": "stdout",
     "output_type": "stream",
     "text": [
      "Epoch [3324/3324]: Avg. Train Loss: 0.81665 | Avg. Non-Zero Triplets: 97920.00000\n"
     ]
    },
    {
     "name": "stderr",
     "output_type": "stream",
     "text": [
      "C:\\Opt\\Anaconda3\\envs\\pDL\\lib\\site-packages\\seaborn\\_decorators.py:36: FutureWarning: Pass the following variable as a keyword arg: y. From version 0.12, the only valid positional argument will be `data`, and passing other arguments without an explicit keyword will result in an error or misinterpretation.\n",
      "  warnings.warn(\n"
     ]
    },
    {
     "name": "stdout",
     "output_type": "stream",
     "text": [
      "Epoch [3325/3325]: Avg. Train Loss: 0.79081 | Avg. Non-Zero Triplets: 97920.00000\n"
     ]
    },
    {
     "name": "stderr",
     "output_type": "stream",
     "text": [
      "C:\\Opt\\Anaconda3\\envs\\pDL\\lib\\site-packages\\seaborn\\_decorators.py:36: FutureWarning: Pass the following variable as a keyword arg: y. From version 0.12, the only valid positional argument will be `data`, and passing other arguments without an explicit keyword will result in an error or misinterpretation.\n",
      "  warnings.warn(\n"
     ]
    },
    {
     "name": "stdout",
     "output_type": "stream",
     "text": [
      "Epoch [3326/3326]: Avg. Train Loss: 0.79645 | Avg. Non-Zero Triplets: 97920.00000\n"
     ]
    },
    {
     "name": "stderr",
     "output_type": "stream",
     "text": [
      "C:\\Opt\\Anaconda3\\envs\\pDL\\lib\\site-packages\\seaborn\\_decorators.py:36: FutureWarning: Pass the following variable as a keyword arg: y. From version 0.12, the only valid positional argument will be `data`, and passing other arguments without an explicit keyword will result in an error or misinterpretation.\n",
      "  warnings.warn(\n"
     ]
    },
    {
     "name": "stdout",
     "output_type": "stream",
     "text": [
      "Epoch [3327/3327]: Avg. Train Loss: 0.78215 | Avg. Non-Zero Triplets: 97920.00000\n"
     ]
    },
    {
     "name": "stderr",
     "output_type": "stream",
     "text": [
      "C:\\Opt\\Anaconda3\\envs\\pDL\\lib\\site-packages\\seaborn\\_decorators.py:36: FutureWarning: Pass the following variable as a keyword arg: y. From version 0.12, the only valid positional argument will be `data`, and passing other arguments without an explicit keyword will result in an error or misinterpretation.\n",
      "  warnings.warn(\n"
     ]
    },
    {
     "name": "stdout",
     "output_type": "stream",
     "text": [
      "Epoch [3328/3328]: Avg. Train Loss: 0.82304 | Avg. Non-Zero Triplets: 97920.00000\n"
     ]
    },
    {
     "name": "stderr",
     "output_type": "stream",
     "text": [
      "C:\\Opt\\Anaconda3\\envs\\pDL\\lib\\site-packages\\seaborn\\_decorators.py:36: FutureWarning: Pass the following variable as a keyword arg: y. From version 0.12, the only valid positional argument will be `data`, and passing other arguments without an explicit keyword will result in an error or misinterpretation.\n",
      "  warnings.warn(\n"
     ]
    },
    {
     "name": "stdout",
     "output_type": "stream",
     "text": [
      "Epoch [3329/3329]: Avg. Train Loss: 0.80365 | Avg. Non-Zero Triplets: 97920.00000\n"
     ]
    },
    {
     "name": "stderr",
     "output_type": "stream",
     "text": [
      "C:\\Opt\\Anaconda3\\envs\\pDL\\lib\\site-packages\\seaborn\\_decorators.py:36: FutureWarning: Pass the following variable as a keyword arg: y. From version 0.12, the only valid positional argument will be `data`, and passing other arguments without an explicit keyword will result in an error or misinterpretation.\n",
      "  warnings.warn(\n"
     ]
    },
    {
     "name": "stdout",
     "output_type": "stream",
     "text": [
      "Epoch [3330/3330]: Avg. Train Loss: 0.81114 | Avg. Non-Zero Triplets: 97920.00000\n"
     ]
    },
    {
     "name": "stderr",
     "output_type": "stream",
     "text": [
      "C:\\Opt\\Anaconda3\\envs\\pDL\\lib\\site-packages\\seaborn\\_decorators.py:36: FutureWarning: Pass the following variable as a keyword arg: y. From version 0.12, the only valid positional argument will be `data`, and passing other arguments without an explicit keyword will result in an error or misinterpretation.\n",
      "  warnings.warn(\n"
     ]
    },
    {
     "name": "stdout",
     "output_type": "stream",
     "text": [
      "Epoch [3331/3331]: Avg. Train Loss: 0.81755 | Avg. Non-Zero Triplets: 97920.00000\n"
     ]
    },
    {
     "name": "stderr",
     "output_type": "stream",
     "text": [
      "C:\\Opt\\Anaconda3\\envs\\pDL\\lib\\site-packages\\seaborn\\_decorators.py:36: FutureWarning: Pass the following variable as a keyword arg: y. From version 0.12, the only valid positional argument will be `data`, and passing other arguments without an explicit keyword will result in an error or misinterpretation.\n",
      "  warnings.warn(\n"
     ]
    },
    {
     "name": "stdout",
     "output_type": "stream",
     "text": [
      "Epoch [3332/3332]: Avg. Train Loss: 0.81113 | Avg. Non-Zero Triplets: 97920.00000\n"
     ]
    },
    {
     "name": "stderr",
     "output_type": "stream",
     "text": [
      "C:\\Opt\\Anaconda3\\envs\\pDL\\lib\\site-packages\\seaborn\\_decorators.py:36: FutureWarning: Pass the following variable as a keyword arg: y. From version 0.12, the only valid positional argument will be `data`, and passing other arguments without an explicit keyword will result in an error or misinterpretation.\n",
      "  warnings.warn(\n"
     ]
    },
    {
     "name": "stdout",
     "output_type": "stream",
     "text": [
      "Epoch [3333/3333]: Avg. Train Loss: 0.87877 | Avg. Non-Zero Triplets: 97920.00000\n"
     ]
    },
    {
     "name": "stderr",
     "output_type": "stream",
     "text": [
      "C:\\Opt\\Anaconda3\\envs\\pDL\\lib\\site-packages\\seaborn\\_decorators.py:36: FutureWarning: Pass the following variable as a keyword arg: y. From version 0.12, the only valid positional argument will be `data`, and passing other arguments without an explicit keyword will result in an error or misinterpretation.\n",
      "  warnings.warn(\n"
     ]
    },
    {
     "name": "stdout",
     "output_type": "stream",
     "text": [
      "Epoch [3334/3334]: Avg. Train Loss: 0.82308 | Avg. Non-Zero Triplets: 97920.00000\n"
     ]
    },
    {
     "name": "stderr",
     "output_type": "stream",
     "text": [
      "C:\\Opt\\Anaconda3\\envs\\pDL\\lib\\site-packages\\seaborn\\_decorators.py:36: FutureWarning: Pass the following variable as a keyword arg: y. From version 0.12, the only valid positional argument will be `data`, and passing other arguments without an explicit keyword will result in an error or misinterpretation.\n",
      "  warnings.warn(\n"
     ]
    },
    {
     "name": "stdout",
     "output_type": "stream",
     "text": [
      "Epoch [3335/3335]: Avg. Train Loss: 0.81684 | Avg. Non-Zero Triplets: 97920.00000\n"
     ]
    },
    {
     "name": "stderr",
     "output_type": "stream",
     "text": [
      "C:\\Opt\\Anaconda3\\envs\\pDL\\lib\\site-packages\\seaborn\\_decorators.py:36: FutureWarning: Pass the following variable as a keyword arg: y. From version 0.12, the only valid positional argument will be `data`, and passing other arguments without an explicit keyword will result in an error or misinterpretation.\n",
      "  warnings.warn(\n"
     ]
    },
    {
     "name": "stdout",
     "output_type": "stream",
     "text": [
      "Epoch [3336/3336]: Avg. Train Loss: 0.80772 | Avg. Non-Zero Triplets: 97920.00000\n"
     ]
    },
    {
     "name": "stderr",
     "output_type": "stream",
     "text": [
      "C:\\Opt\\Anaconda3\\envs\\pDL\\lib\\site-packages\\seaborn\\_decorators.py:36: FutureWarning: Pass the following variable as a keyword arg: y. From version 0.12, the only valid positional argument will be `data`, and passing other arguments without an explicit keyword will result in an error or misinterpretation.\n",
      "  warnings.warn(\n"
     ]
    },
    {
     "name": "stdout",
     "output_type": "stream",
     "text": [
      "Epoch [3337/3337]: Avg. Train Loss: 0.82013 | Avg. Non-Zero Triplets: 97920.00000\n"
     ]
    },
    {
     "name": "stderr",
     "output_type": "stream",
     "text": [
      "C:\\Opt\\Anaconda3\\envs\\pDL\\lib\\site-packages\\seaborn\\_decorators.py:36: FutureWarning: Pass the following variable as a keyword arg: y. From version 0.12, the only valid positional argument will be `data`, and passing other arguments without an explicit keyword will result in an error or misinterpretation.\n",
      "  warnings.warn(\n"
     ]
    },
    {
     "name": "stdout",
     "output_type": "stream",
     "text": [
      "Epoch [3338/3338]: Avg. Train Loss: 0.79672 | Avg. Non-Zero Triplets: 97920.00000\n"
     ]
    },
    {
     "name": "stderr",
     "output_type": "stream",
     "text": [
      "C:\\Opt\\Anaconda3\\envs\\pDL\\lib\\site-packages\\seaborn\\_decorators.py:36: FutureWarning: Pass the following variable as a keyword arg: y. From version 0.12, the only valid positional argument will be `data`, and passing other arguments without an explicit keyword will result in an error or misinterpretation.\n",
      "  warnings.warn(\n"
     ]
    },
    {
     "name": "stdout",
     "output_type": "stream",
     "text": [
      "Epoch [3339/3339]: Avg. Train Loss: 0.79165 | Avg. Non-Zero Triplets: 97920.00000\n"
     ]
    },
    {
     "name": "stderr",
     "output_type": "stream",
     "text": [
      "C:\\Opt\\Anaconda3\\envs\\pDL\\lib\\site-packages\\seaborn\\_decorators.py:36: FutureWarning: Pass the following variable as a keyword arg: y. From version 0.12, the only valid positional argument will be `data`, and passing other arguments without an explicit keyword will result in an error or misinterpretation.\n",
      "  warnings.warn(\n"
     ]
    },
    {
     "name": "stdout",
     "output_type": "stream",
     "text": [
      "Epoch [3340/3340]: Avg. Train Loss: 0.79541 | Avg. Non-Zero Triplets: 97920.00000\n"
     ]
    },
    {
     "name": "stderr",
     "output_type": "stream",
     "text": [
      "C:\\Opt\\Anaconda3\\envs\\pDL\\lib\\site-packages\\seaborn\\_decorators.py:36: FutureWarning: Pass the following variable as a keyword arg: y. From version 0.12, the only valid positional argument will be `data`, and passing other arguments without an explicit keyword will result in an error or misinterpretation.\n",
      "  warnings.warn(\n"
     ]
    },
    {
     "name": "stdout",
     "output_type": "stream",
     "text": [
      "Epoch [3341/3341]: Avg. Train Loss: 0.82044 | Avg. Non-Zero Triplets: 97920.00000\n"
     ]
    },
    {
     "name": "stderr",
     "output_type": "stream",
     "text": [
      "C:\\Opt\\Anaconda3\\envs\\pDL\\lib\\site-packages\\seaborn\\_decorators.py:36: FutureWarning: Pass the following variable as a keyword arg: y. From version 0.12, the only valid positional argument will be `data`, and passing other arguments without an explicit keyword will result in an error or misinterpretation.\n",
      "  warnings.warn(\n"
     ]
    },
    {
     "name": "stdout",
     "output_type": "stream",
     "text": [
      "Epoch [3342/3342]: Avg. Train Loss: 0.80346 | Avg. Non-Zero Triplets: 97920.00000\n"
     ]
    },
    {
     "name": "stderr",
     "output_type": "stream",
     "text": [
      "C:\\Opt\\Anaconda3\\envs\\pDL\\lib\\site-packages\\seaborn\\_decorators.py:36: FutureWarning: Pass the following variable as a keyword arg: y. From version 0.12, the only valid positional argument will be `data`, and passing other arguments without an explicit keyword will result in an error or misinterpretation.\n",
      "  warnings.warn(\n"
     ]
    },
    {
     "name": "stdout",
     "output_type": "stream",
     "text": [
      "Epoch [3343/3343]: Avg. Train Loss: 0.81627 | Avg. Non-Zero Triplets: 97920.00000\n"
     ]
    },
    {
     "name": "stderr",
     "output_type": "stream",
     "text": [
      "C:\\Opt\\Anaconda3\\envs\\pDL\\lib\\site-packages\\seaborn\\_decorators.py:36: FutureWarning: Pass the following variable as a keyword arg: y. From version 0.12, the only valid positional argument will be `data`, and passing other arguments without an explicit keyword will result in an error or misinterpretation.\n",
      "  warnings.warn(\n"
     ]
    },
    {
     "name": "stdout",
     "output_type": "stream",
     "text": [
      "Epoch [3344/3344]: Avg. Train Loss: 0.81795 | Avg. Non-Zero Triplets: 97920.00000\n"
     ]
    },
    {
     "name": "stderr",
     "output_type": "stream",
     "text": [
      "C:\\Opt\\Anaconda3\\envs\\pDL\\lib\\site-packages\\seaborn\\_decorators.py:36: FutureWarning: Pass the following variable as a keyword arg: y. From version 0.12, the only valid positional argument will be `data`, and passing other arguments without an explicit keyword will result in an error or misinterpretation.\n",
      "  warnings.warn(\n"
     ]
    },
    {
     "name": "stdout",
     "output_type": "stream",
     "text": [
      "Epoch [3345/3345]: Avg. Train Loss: 0.83236 | Avg. Non-Zero Triplets: 97920.00000\n"
     ]
    },
    {
     "name": "stderr",
     "output_type": "stream",
     "text": [
      "C:\\Opt\\Anaconda3\\envs\\pDL\\lib\\site-packages\\seaborn\\_decorators.py:36: FutureWarning: Pass the following variable as a keyword arg: y. From version 0.12, the only valid positional argument will be `data`, and passing other arguments without an explicit keyword will result in an error or misinterpretation.\n",
      "  warnings.warn(\n"
     ]
    },
    {
     "name": "stdout",
     "output_type": "stream",
     "text": [
      "Epoch [3346/3346]: Avg. Train Loss: 0.80154 | Avg. Non-Zero Triplets: 97920.00000\n"
     ]
    },
    {
     "name": "stderr",
     "output_type": "stream",
     "text": [
      "C:\\Opt\\Anaconda3\\envs\\pDL\\lib\\site-packages\\seaborn\\_decorators.py:36: FutureWarning: Pass the following variable as a keyword arg: y. From version 0.12, the only valid positional argument will be `data`, and passing other arguments without an explicit keyword will result in an error or misinterpretation.\n",
      "  warnings.warn(\n"
     ]
    },
    {
     "name": "stdout",
     "output_type": "stream",
     "text": [
      "Epoch [3347/3347]: Avg. Train Loss: 0.81806 | Avg. Non-Zero Triplets: 97920.00000\n"
     ]
    },
    {
     "name": "stderr",
     "output_type": "stream",
     "text": [
      "C:\\Opt\\Anaconda3\\envs\\pDL\\lib\\site-packages\\seaborn\\_decorators.py:36: FutureWarning: Pass the following variable as a keyword arg: y. From version 0.12, the only valid positional argument will be `data`, and passing other arguments without an explicit keyword will result in an error or misinterpretation.\n",
      "  warnings.warn(\n"
     ]
    },
    {
     "name": "stdout",
     "output_type": "stream",
     "text": [
      "Epoch [3348/3348]: Avg. Train Loss: 0.81721 | Avg. Non-Zero Triplets: 97920.00000\n"
     ]
    },
    {
     "name": "stderr",
     "output_type": "stream",
     "text": [
      "C:\\Opt\\Anaconda3\\envs\\pDL\\lib\\site-packages\\seaborn\\_decorators.py:36: FutureWarning: Pass the following variable as a keyword arg: y. From version 0.12, the only valid positional argument will be `data`, and passing other arguments without an explicit keyword will result in an error or misinterpretation.\n",
      "  warnings.warn(\n"
     ]
    },
    {
     "name": "stdout",
     "output_type": "stream",
     "text": [
      "Epoch [3349/3349]: Avg. Train Loss: 0.77996 | Avg. Non-Zero Triplets: 97920.00000\n"
     ]
    },
    {
     "name": "stderr",
     "output_type": "stream",
     "text": [
      "C:\\Opt\\Anaconda3\\envs\\pDL\\lib\\site-packages\\seaborn\\_decorators.py:36: FutureWarning: Pass the following variable as a keyword arg: y. From version 0.12, the only valid positional argument will be `data`, and passing other arguments without an explicit keyword will result in an error or misinterpretation.\n",
      "  warnings.warn(\n"
     ]
    },
    {
     "name": "stdout",
     "output_type": "stream",
     "text": [
      "Epoch [3350/3350]: Avg. Train Loss: 0.81229 | Avg. Non-Zero Triplets: 97920.00000\n"
     ]
    },
    {
     "name": "stderr",
     "output_type": "stream",
     "text": [
      "C:\\Opt\\Anaconda3\\envs\\pDL\\lib\\site-packages\\seaborn\\_decorators.py:36: FutureWarning: Pass the following variable as a keyword arg: y. From version 0.12, the only valid positional argument will be `data`, and passing other arguments without an explicit keyword will result in an error or misinterpretation.\n",
      "  warnings.warn(\n"
     ]
    },
    {
     "name": "stdout",
     "output_type": "stream",
     "text": [
      "Epoch [3351/3351]: Avg. Train Loss: 0.78890 | Avg. Non-Zero Triplets: 97920.00000\n"
     ]
    },
    {
     "name": "stderr",
     "output_type": "stream",
     "text": [
      "C:\\Opt\\Anaconda3\\envs\\pDL\\lib\\site-packages\\seaborn\\_decorators.py:36: FutureWarning: Pass the following variable as a keyword arg: y. From version 0.12, the only valid positional argument will be `data`, and passing other arguments without an explicit keyword will result in an error or misinterpretation.\n",
      "  warnings.warn(\n"
     ]
    },
    {
     "name": "stdout",
     "output_type": "stream",
     "text": [
      "Epoch [3352/3352]: Avg. Train Loss: 0.78051 | Avg. Non-Zero Triplets: 97920.00000\n"
     ]
    },
    {
     "name": "stderr",
     "output_type": "stream",
     "text": [
      "C:\\Opt\\Anaconda3\\envs\\pDL\\lib\\site-packages\\seaborn\\_decorators.py:36: FutureWarning: Pass the following variable as a keyword arg: y. From version 0.12, the only valid positional argument will be `data`, and passing other arguments without an explicit keyword will result in an error or misinterpretation.\n",
      "  warnings.warn(\n"
     ]
    },
    {
     "name": "stdout",
     "output_type": "stream",
     "text": [
      "Epoch [3353/3353]: Avg. Train Loss: 0.81742 | Avg. Non-Zero Triplets: 97920.00000\n"
     ]
    },
    {
     "name": "stderr",
     "output_type": "stream",
     "text": [
      "C:\\Opt\\Anaconda3\\envs\\pDL\\lib\\site-packages\\seaborn\\_decorators.py:36: FutureWarning: Pass the following variable as a keyword arg: y. From version 0.12, the only valid positional argument will be `data`, and passing other arguments without an explicit keyword will result in an error or misinterpretation.\n",
      "  warnings.warn(\n"
     ]
    },
    {
     "name": "stdout",
     "output_type": "stream",
     "text": [
      "Epoch [3354/3354]: Avg. Train Loss: 0.78972 | Avg. Non-Zero Triplets: 97920.00000\n"
     ]
    },
    {
     "name": "stderr",
     "output_type": "stream",
     "text": [
      "C:\\Opt\\Anaconda3\\envs\\pDL\\lib\\site-packages\\seaborn\\_decorators.py:36: FutureWarning: Pass the following variable as a keyword arg: y. From version 0.12, the only valid positional argument will be `data`, and passing other arguments without an explicit keyword will result in an error or misinterpretation.\n",
      "  warnings.warn(\n"
     ]
    },
    {
     "name": "stdout",
     "output_type": "stream",
     "text": [
      "Epoch [3355/3355]: Avg. Train Loss: 0.82559 | Avg. Non-Zero Triplets: 97920.00000\n"
     ]
    },
    {
     "name": "stderr",
     "output_type": "stream",
     "text": [
      "C:\\Opt\\Anaconda3\\envs\\pDL\\lib\\site-packages\\seaborn\\_decorators.py:36: FutureWarning: Pass the following variable as a keyword arg: y. From version 0.12, the only valid positional argument will be `data`, and passing other arguments without an explicit keyword will result in an error or misinterpretation.\n",
      "  warnings.warn(\n"
     ]
    },
    {
     "name": "stdout",
     "output_type": "stream",
     "text": [
      "Epoch [3356/3356]: Avg. Train Loss: 0.81179 | Avg. Non-Zero Triplets: 97920.00000\n"
     ]
    },
    {
     "name": "stderr",
     "output_type": "stream",
     "text": [
      "C:\\Opt\\Anaconda3\\envs\\pDL\\lib\\site-packages\\seaborn\\_decorators.py:36: FutureWarning: Pass the following variable as a keyword arg: y. From version 0.12, the only valid positional argument will be `data`, and passing other arguments without an explicit keyword will result in an error or misinterpretation.\n",
      "  warnings.warn(\n"
     ]
    },
    {
     "name": "stdout",
     "output_type": "stream",
     "text": [
      "Epoch [3357/3357]: Avg. Train Loss: 0.78582 | Avg. Non-Zero Triplets: 97920.00000\n"
     ]
    },
    {
     "name": "stderr",
     "output_type": "stream",
     "text": [
      "C:\\Opt\\Anaconda3\\envs\\pDL\\lib\\site-packages\\seaborn\\_decorators.py:36: FutureWarning: Pass the following variable as a keyword arg: y. From version 0.12, the only valid positional argument will be `data`, and passing other arguments without an explicit keyword will result in an error or misinterpretation.\n",
      "  warnings.warn(\n"
     ]
    },
    {
     "name": "stdout",
     "output_type": "stream",
     "text": [
      "Epoch [3358/3358]: Avg. Train Loss: 0.83742 | Avg. Non-Zero Triplets: 97920.00000\n"
     ]
    },
    {
     "name": "stderr",
     "output_type": "stream",
     "text": [
      "C:\\Opt\\Anaconda3\\envs\\pDL\\lib\\site-packages\\seaborn\\_decorators.py:36: FutureWarning: Pass the following variable as a keyword arg: y. From version 0.12, the only valid positional argument will be `data`, and passing other arguments without an explicit keyword will result in an error or misinterpretation.\n",
      "  warnings.warn(\n"
     ]
    },
    {
     "name": "stdout",
     "output_type": "stream",
     "text": [
      "Epoch [3359/3359]: Avg. Train Loss: 0.79197 | Avg. Non-Zero Triplets: 97920.00000\n"
     ]
    },
    {
     "name": "stderr",
     "output_type": "stream",
     "text": [
      "C:\\Opt\\Anaconda3\\envs\\pDL\\lib\\site-packages\\seaborn\\_decorators.py:36: FutureWarning: Pass the following variable as a keyword arg: y. From version 0.12, the only valid positional argument will be `data`, and passing other arguments without an explicit keyword will result in an error or misinterpretation.\n",
      "  warnings.warn(\n"
     ]
    },
    {
     "name": "stdout",
     "output_type": "stream",
     "text": [
      "Epoch [3360/3360]: Avg. Train Loss: 0.81267 | Avg. Non-Zero Triplets: 97920.00000\n"
     ]
    },
    {
     "name": "stderr",
     "output_type": "stream",
     "text": [
      "C:\\Opt\\Anaconda3\\envs\\pDL\\lib\\site-packages\\seaborn\\_decorators.py:36: FutureWarning: Pass the following variable as a keyword arg: y. From version 0.12, the only valid positional argument will be `data`, and passing other arguments without an explicit keyword will result in an error or misinterpretation.\n",
      "  warnings.warn(\n"
     ]
    },
    {
     "name": "stdout",
     "output_type": "stream",
     "text": [
      "Epoch [3361/3361]: Avg. Train Loss: 0.81967 | Avg. Non-Zero Triplets: 97920.00000\n"
     ]
    },
    {
     "name": "stderr",
     "output_type": "stream",
     "text": [
      "C:\\Opt\\Anaconda3\\envs\\pDL\\lib\\site-packages\\seaborn\\_decorators.py:36: FutureWarning: Pass the following variable as a keyword arg: y. From version 0.12, the only valid positional argument will be `data`, and passing other arguments without an explicit keyword will result in an error or misinterpretation.\n",
      "  warnings.warn(\n"
     ]
    },
    {
     "name": "stdout",
     "output_type": "stream",
     "text": [
      "Epoch [3362/3362]: Avg. Train Loss: 0.81285 | Avg. Non-Zero Triplets: 97920.00000\n"
     ]
    },
    {
     "name": "stderr",
     "output_type": "stream",
     "text": [
      "C:\\Opt\\Anaconda3\\envs\\pDL\\lib\\site-packages\\seaborn\\_decorators.py:36: FutureWarning: Pass the following variable as a keyword arg: y. From version 0.12, the only valid positional argument will be `data`, and passing other arguments without an explicit keyword will result in an error or misinterpretation.\n",
      "  warnings.warn(\n"
     ]
    },
    {
     "name": "stdout",
     "output_type": "stream",
     "text": [
      "Epoch [3363/3363]: Avg. Train Loss: 0.82453 | Avg. Non-Zero Triplets: 97920.00000\n"
     ]
    },
    {
     "name": "stderr",
     "output_type": "stream",
     "text": [
      "C:\\Opt\\Anaconda3\\envs\\pDL\\lib\\site-packages\\seaborn\\_decorators.py:36: FutureWarning: Pass the following variable as a keyword arg: y. From version 0.12, the only valid positional argument will be `data`, and passing other arguments without an explicit keyword will result in an error or misinterpretation.\n",
      "  warnings.warn(\n"
     ]
    },
    {
     "name": "stdout",
     "output_type": "stream",
     "text": [
      "Epoch [3364/3364]: Avg. Train Loss: 0.80929 | Avg. Non-Zero Triplets: 97920.00000\n"
     ]
    },
    {
     "name": "stderr",
     "output_type": "stream",
     "text": [
      "C:\\Opt\\Anaconda3\\envs\\pDL\\lib\\site-packages\\seaborn\\_decorators.py:36: FutureWarning: Pass the following variable as a keyword arg: y. From version 0.12, the only valid positional argument will be `data`, and passing other arguments without an explicit keyword will result in an error or misinterpretation.\n",
      "  warnings.warn(\n"
     ]
    },
    {
     "name": "stdout",
     "output_type": "stream",
     "text": [
      "Epoch [3365/3365]: Avg. Train Loss: 0.80961 | Avg. Non-Zero Triplets: 97920.00000\n"
     ]
    },
    {
     "name": "stderr",
     "output_type": "stream",
     "text": [
      "C:\\Opt\\Anaconda3\\envs\\pDL\\lib\\site-packages\\seaborn\\_decorators.py:36: FutureWarning: Pass the following variable as a keyword arg: y. From version 0.12, the only valid positional argument will be `data`, and passing other arguments without an explicit keyword will result in an error or misinterpretation.\n",
      "  warnings.warn(\n"
     ]
    },
    {
     "name": "stdout",
     "output_type": "stream",
     "text": [
      "Epoch [3366/3366]: Avg. Train Loss: 0.77515 | Avg. Non-Zero Triplets: 97920.00000\n"
     ]
    },
    {
     "name": "stderr",
     "output_type": "stream",
     "text": [
      "C:\\Opt\\Anaconda3\\envs\\pDL\\lib\\site-packages\\seaborn\\_decorators.py:36: FutureWarning: Pass the following variable as a keyword arg: y. From version 0.12, the only valid positional argument will be `data`, and passing other arguments without an explicit keyword will result in an error or misinterpretation.\n",
      "  warnings.warn(\n"
     ]
    },
    {
     "name": "stdout",
     "output_type": "stream",
     "text": [
      "Epoch [3367/3367]: Avg. Train Loss: 0.84009 | Avg. Non-Zero Triplets: 97920.00000\n"
     ]
    },
    {
     "name": "stderr",
     "output_type": "stream",
     "text": [
      "C:\\Opt\\Anaconda3\\envs\\pDL\\lib\\site-packages\\seaborn\\_decorators.py:36: FutureWarning: Pass the following variable as a keyword arg: y. From version 0.12, the only valid positional argument will be `data`, and passing other arguments without an explicit keyword will result in an error or misinterpretation.\n",
      "  warnings.warn(\n"
     ]
    },
    {
     "name": "stdout",
     "output_type": "stream",
     "text": [
      "Epoch [3368/3368]: Avg. Train Loss: 0.78242 | Avg. Non-Zero Triplets: 97920.00000\n"
     ]
    },
    {
     "name": "stderr",
     "output_type": "stream",
     "text": [
      "C:\\Opt\\Anaconda3\\envs\\pDL\\lib\\site-packages\\seaborn\\_decorators.py:36: FutureWarning: Pass the following variable as a keyword arg: y. From version 0.12, the only valid positional argument will be `data`, and passing other arguments without an explicit keyword will result in an error or misinterpretation.\n",
      "  warnings.warn(\n"
     ]
    },
    {
     "name": "stdout",
     "output_type": "stream",
     "text": [
      "Epoch [3369/3369]: Avg. Train Loss: 0.78210 | Avg. Non-Zero Triplets: 97920.00000\n"
     ]
    },
    {
     "name": "stderr",
     "output_type": "stream",
     "text": [
      "C:\\Opt\\Anaconda3\\envs\\pDL\\lib\\site-packages\\seaborn\\_decorators.py:36: FutureWarning: Pass the following variable as a keyword arg: y. From version 0.12, the only valid positional argument will be `data`, and passing other arguments without an explicit keyword will result in an error or misinterpretation.\n",
      "  warnings.warn(\n"
     ]
    },
    {
     "name": "stdout",
     "output_type": "stream",
     "text": [
      "Epoch [3370/3370]: Avg. Train Loss: 0.82175 | Avg. Non-Zero Triplets: 97920.00000\n"
     ]
    },
    {
     "name": "stderr",
     "output_type": "stream",
     "text": [
      "C:\\Opt\\Anaconda3\\envs\\pDL\\lib\\site-packages\\seaborn\\_decorators.py:36: FutureWarning: Pass the following variable as a keyword arg: y. From version 0.12, the only valid positional argument will be `data`, and passing other arguments without an explicit keyword will result in an error or misinterpretation.\n",
      "  warnings.warn(\n"
     ]
    },
    {
     "name": "stdout",
     "output_type": "stream",
     "text": [
      "Epoch [3371/3371]: Avg. Train Loss: 0.80669 | Avg. Non-Zero Triplets: 97920.00000\n"
     ]
    },
    {
     "name": "stderr",
     "output_type": "stream",
     "text": [
      "C:\\Opt\\Anaconda3\\envs\\pDL\\lib\\site-packages\\seaborn\\_decorators.py:36: FutureWarning: Pass the following variable as a keyword arg: y. From version 0.12, the only valid positional argument will be `data`, and passing other arguments without an explicit keyword will result in an error or misinterpretation.\n",
      "  warnings.warn(\n"
     ]
    },
    {
     "name": "stdout",
     "output_type": "stream",
     "text": [
      "Epoch [3372/3372]: Avg. Train Loss: 0.81505 | Avg. Non-Zero Triplets: 97920.00000\n"
     ]
    },
    {
     "name": "stderr",
     "output_type": "stream",
     "text": [
      "C:\\Opt\\Anaconda3\\envs\\pDL\\lib\\site-packages\\seaborn\\_decorators.py:36: FutureWarning: Pass the following variable as a keyword arg: y. From version 0.12, the only valid positional argument will be `data`, and passing other arguments without an explicit keyword will result in an error or misinterpretation.\n",
      "  warnings.warn(\n"
     ]
    },
    {
     "name": "stdout",
     "output_type": "stream",
     "text": [
      "Epoch [3373/3373]: Avg. Train Loss: 0.79175 | Avg. Non-Zero Triplets: 97920.00000\n"
     ]
    },
    {
     "name": "stderr",
     "output_type": "stream",
     "text": [
      "C:\\Opt\\Anaconda3\\envs\\pDL\\lib\\site-packages\\seaborn\\_decorators.py:36: FutureWarning: Pass the following variable as a keyword arg: y. From version 0.12, the only valid positional argument will be `data`, and passing other arguments without an explicit keyword will result in an error or misinterpretation.\n",
      "  warnings.warn(\n"
     ]
    },
    {
     "name": "stdout",
     "output_type": "stream",
     "text": [
      "Epoch [3374/3374]: Avg. Train Loss: 0.82206 | Avg. Non-Zero Triplets: 97920.00000\n"
     ]
    },
    {
     "name": "stderr",
     "output_type": "stream",
     "text": [
      "C:\\Opt\\Anaconda3\\envs\\pDL\\lib\\site-packages\\seaborn\\_decorators.py:36: FutureWarning: Pass the following variable as a keyword arg: y. From version 0.12, the only valid positional argument will be `data`, and passing other arguments without an explicit keyword will result in an error or misinterpretation.\n",
      "  warnings.warn(\n"
     ]
    },
    {
     "name": "stdout",
     "output_type": "stream",
     "text": [
      "Epoch [3375/3375]: Avg. Train Loss: 0.82319 | Avg. Non-Zero Triplets: 97920.00000\n"
     ]
    },
    {
     "name": "stderr",
     "output_type": "stream",
     "text": [
      "C:\\Opt\\Anaconda3\\envs\\pDL\\lib\\site-packages\\seaborn\\_decorators.py:36: FutureWarning: Pass the following variable as a keyword arg: y. From version 0.12, the only valid positional argument will be `data`, and passing other arguments without an explicit keyword will result in an error or misinterpretation.\n",
      "  warnings.warn(\n"
     ]
    },
    {
     "name": "stdout",
     "output_type": "stream",
     "text": [
      "Epoch [3376/3376]: Avg. Train Loss: 0.77668 | Avg. Non-Zero Triplets: 97920.00000\n"
     ]
    },
    {
     "name": "stderr",
     "output_type": "stream",
     "text": [
      "C:\\Opt\\Anaconda3\\envs\\pDL\\lib\\site-packages\\seaborn\\_decorators.py:36: FutureWarning: Pass the following variable as a keyword arg: y. From version 0.12, the only valid positional argument will be `data`, and passing other arguments without an explicit keyword will result in an error or misinterpretation.\n",
      "  warnings.warn(\n"
     ]
    },
    {
     "name": "stdout",
     "output_type": "stream",
     "text": [
      "Epoch [3377/3377]: Avg. Train Loss: 0.80820 | Avg. Non-Zero Triplets: 97920.00000\n"
     ]
    },
    {
     "name": "stderr",
     "output_type": "stream",
     "text": [
      "C:\\Opt\\Anaconda3\\envs\\pDL\\lib\\site-packages\\seaborn\\_decorators.py:36: FutureWarning: Pass the following variable as a keyword arg: y. From version 0.12, the only valid positional argument will be `data`, and passing other arguments without an explicit keyword will result in an error or misinterpretation.\n",
      "  warnings.warn(\n"
     ]
    },
    {
     "name": "stdout",
     "output_type": "stream",
     "text": [
      "Epoch [3378/3378]: Avg. Train Loss: 0.78831 | Avg. Non-Zero Triplets: 97920.00000\n"
     ]
    },
    {
     "name": "stderr",
     "output_type": "stream",
     "text": [
      "C:\\Opt\\Anaconda3\\envs\\pDL\\lib\\site-packages\\seaborn\\_decorators.py:36: FutureWarning: Pass the following variable as a keyword arg: y. From version 0.12, the only valid positional argument will be `data`, and passing other arguments without an explicit keyword will result in an error or misinterpretation.\n",
      "  warnings.warn(\n"
     ]
    },
    {
     "name": "stdout",
     "output_type": "stream",
     "text": [
      "Epoch [3379/3379]: Avg. Train Loss: 0.82192 | Avg. Non-Zero Triplets: 97920.00000\n"
     ]
    },
    {
     "name": "stderr",
     "output_type": "stream",
     "text": [
      "C:\\Opt\\Anaconda3\\envs\\pDL\\lib\\site-packages\\seaborn\\_decorators.py:36: FutureWarning: Pass the following variable as a keyword arg: y. From version 0.12, the only valid positional argument will be `data`, and passing other arguments without an explicit keyword will result in an error or misinterpretation.\n",
      "  warnings.warn(\n"
     ]
    },
    {
     "name": "stdout",
     "output_type": "stream",
     "text": [
      "Epoch [3380/3380]: Avg. Train Loss: 0.77719 | Avg. Non-Zero Triplets: 97920.00000\n"
     ]
    },
    {
     "name": "stderr",
     "output_type": "stream",
     "text": [
      "C:\\Opt\\Anaconda3\\envs\\pDL\\lib\\site-packages\\seaborn\\_decorators.py:36: FutureWarning: Pass the following variable as a keyword arg: y. From version 0.12, the only valid positional argument will be `data`, and passing other arguments without an explicit keyword will result in an error or misinterpretation.\n",
      "  warnings.warn(\n"
     ]
    },
    {
     "name": "stdout",
     "output_type": "stream",
     "text": [
      "Epoch [3381/3381]: Avg. Train Loss: 0.79823 | Avg. Non-Zero Triplets: 97920.00000\n"
     ]
    },
    {
     "name": "stderr",
     "output_type": "stream",
     "text": [
      "C:\\Opt\\Anaconda3\\envs\\pDL\\lib\\site-packages\\seaborn\\_decorators.py:36: FutureWarning: Pass the following variable as a keyword arg: y. From version 0.12, the only valid positional argument will be `data`, and passing other arguments without an explicit keyword will result in an error or misinterpretation.\n",
      "  warnings.warn(\n"
     ]
    },
    {
     "name": "stdout",
     "output_type": "stream",
     "text": [
      "Epoch [3382/3382]: Avg. Train Loss: 0.82920 | Avg. Non-Zero Triplets: 97920.00000\n"
     ]
    },
    {
     "name": "stderr",
     "output_type": "stream",
     "text": [
      "C:\\Opt\\Anaconda3\\envs\\pDL\\lib\\site-packages\\seaborn\\_decorators.py:36: FutureWarning: Pass the following variable as a keyword arg: y. From version 0.12, the only valid positional argument will be `data`, and passing other arguments without an explicit keyword will result in an error or misinterpretation.\n",
      "  warnings.warn(\n"
     ]
    },
    {
     "name": "stdout",
     "output_type": "stream",
     "text": [
      "Epoch [3383/3383]: Avg. Train Loss: 0.79630 | Avg. Non-Zero Triplets: 97920.00000\n"
     ]
    },
    {
     "name": "stderr",
     "output_type": "stream",
     "text": [
      "C:\\Opt\\Anaconda3\\envs\\pDL\\lib\\site-packages\\seaborn\\_decorators.py:36: FutureWarning: Pass the following variable as a keyword arg: y. From version 0.12, the only valid positional argument will be `data`, and passing other arguments without an explicit keyword will result in an error or misinterpretation.\n",
      "  warnings.warn(\n"
     ]
    },
    {
     "name": "stdout",
     "output_type": "stream",
     "text": [
      "Epoch [3384/3384]: Avg. Train Loss: 0.82903 | Avg. Non-Zero Triplets: 97920.00000\n"
     ]
    },
    {
     "name": "stderr",
     "output_type": "stream",
     "text": [
      "C:\\Opt\\Anaconda3\\envs\\pDL\\lib\\site-packages\\seaborn\\_decorators.py:36: FutureWarning: Pass the following variable as a keyword arg: y. From version 0.12, the only valid positional argument will be `data`, and passing other arguments without an explicit keyword will result in an error or misinterpretation.\n",
      "  warnings.warn(\n"
     ]
    },
    {
     "name": "stdout",
     "output_type": "stream",
     "text": [
      "Epoch [3385/3385]: Avg. Train Loss: 0.80494 | Avg. Non-Zero Triplets: 97920.00000\n"
     ]
    },
    {
     "name": "stderr",
     "output_type": "stream",
     "text": [
      "C:\\Opt\\Anaconda3\\envs\\pDL\\lib\\site-packages\\seaborn\\_decorators.py:36: FutureWarning: Pass the following variable as a keyword arg: y. From version 0.12, the only valid positional argument will be `data`, and passing other arguments without an explicit keyword will result in an error or misinterpretation.\n",
      "  warnings.warn(\n"
     ]
    },
    {
     "name": "stdout",
     "output_type": "stream",
     "text": [
      "Epoch [3386/3386]: Avg. Train Loss: 0.80511 | Avg. Non-Zero Triplets: 97920.00000\n"
     ]
    },
    {
     "name": "stderr",
     "output_type": "stream",
     "text": [
      "C:\\Opt\\Anaconda3\\envs\\pDL\\lib\\site-packages\\seaborn\\_decorators.py:36: FutureWarning: Pass the following variable as a keyword arg: y. From version 0.12, the only valid positional argument will be `data`, and passing other arguments without an explicit keyword will result in an error or misinterpretation.\n",
      "  warnings.warn(\n"
     ]
    },
    {
     "name": "stdout",
     "output_type": "stream",
     "text": [
      "Epoch [3387/3387]: Avg. Train Loss: 0.82385 | Avg. Non-Zero Triplets: 97920.00000\n"
     ]
    },
    {
     "name": "stderr",
     "output_type": "stream",
     "text": [
      "C:\\Opt\\Anaconda3\\envs\\pDL\\lib\\site-packages\\seaborn\\_decorators.py:36: FutureWarning: Pass the following variable as a keyword arg: y. From version 0.12, the only valid positional argument will be `data`, and passing other arguments without an explicit keyword will result in an error or misinterpretation.\n",
      "  warnings.warn(\n"
     ]
    },
    {
     "name": "stdout",
     "output_type": "stream",
     "text": [
      "Epoch [3388/3388]: Avg. Train Loss: 0.80851 | Avg. Non-Zero Triplets: 97920.00000\n"
     ]
    },
    {
     "name": "stderr",
     "output_type": "stream",
     "text": [
      "C:\\Opt\\Anaconda3\\envs\\pDL\\lib\\site-packages\\seaborn\\_decorators.py:36: FutureWarning: Pass the following variable as a keyword arg: y. From version 0.12, the only valid positional argument will be `data`, and passing other arguments without an explicit keyword will result in an error or misinterpretation.\n",
      "  warnings.warn(\n"
     ]
    },
    {
     "name": "stdout",
     "output_type": "stream",
     "text": [
      "Epoch [3389/3389]: Avg. Train Loss: 0.78346 | Avg. Non-Zero Triplets: 97920.00000\n"
     ]
    },
    {
     "name": "stderr",
     "output_type": "stream",
     "text": [
      "C:\\Opt\\Anaconda3\\envs\\pDL\\lib\\site-packages\\seaborn\\_decorators.py:36: FutureWarning: Pass the following variable as a keyword arg: y. From version 0.12, the only valid positional argument will be `data`, and passing other arguments without an explicit keyword will result in an error or misinterpretation.\n",
      "  warnings.warn(\n"
     ]
    },
    {
     "name": "stdout",
     "output_type": "stream",
     "text": [
      "Epoch [3390/3390]: Avg. Train Loss: 0.79474 | Avg. Non-Zero Triplets: 97920.00000\n"
     ]
    },
    {
     "name": "stderr",
     "output_type": "stream",
     "text": [
      "C:\\Opt\\Anaconda3\\envs\\pDL\\lib\\site-packages\\seaborn\\_decorators.py:36: FutureWarning: Pass the following variable as a keyword arg: y. From version 0.12, the only valid positional argument will be `data`, and passing other arguments without an explicit keyword will result in an error or misinterpretation.\n",
      "  warnings.warn(\n"
     ]
    },
    {
     "name": "stdout",
     "output_type": "stream",
     "text": [
      "Epoch [3391/3391]: Avg. Train Loss: 0.82032 | Avg. Non-Zero Triplets: 97920.00000\n"
     ]
    },
    {
     "name": "stderr",
     "output_type": "stream",
     "text": [
      "C:\\Opt\\Anaconda3\\envs\\pDL\\lib\\site-packages\\seaborn\\_decorators.py:36: FutureWarning: Pass the following variable as a keyword arg: y. From version 0.12, the only valid positional argument will be `data`, and passing other arguments without an explicit keyword will result in an error or misinterpretation.\n",
      "  warnings.warn(\n"
     ]
    },
    {
     "name": "stdout",
     "output_type": "stream",
     "text": [
      "Epoch [3392/3392]: Avg. Train Loss: 0.79812 | Avg. Non-Zero Triplets: 97920.00000\n"
     ]
    },
    {
     "name": "stderr",
     "output_type": "stream",
     "text": [
      "C:\\Opt\\Anaconda3\\envs\\pDL\\lib\\site-packages\\seaborn\\_decorators.py:36: FutureWarning: Pass the following variable as a keyword arg: y. From version 0.12, the only valid positional argument will be `data`, and passing other arguments without an explicit keyword will result in an error or misinterpretation.\n",
      "  warnings.warn(\n"
     ]
    },
    {
     "name": "stdout",
     "output_type": "stream",
     "text": [
      "Epoch [3393/3393]: Avg. Train Loss: 0.79299 | Avg. Non-Zero Triplets: 97920.00000\n"
     ]
    },
    {
     "name": "stderr",
     "output_type": "stream",
     "text": [
      "C:\\Opt\\Anaconda3\\envs\\pDL\\lib\\site-packages\\seaborn\\_decorators.py:36: FutureWarning: Pass the following variable as a keyword arg: y. From version 0.12, the only valid positional argument will be `data`, and passing other arguments without an explicit keyword will result in an error or misinterpretation.\n",
      "  warnings.warn(\n"
     ]
    },
    {
     "name": "stdout",
     "output_type": "stream",
     "text": [
      "Epoch [3394/3394]: Avg. Train Loss: 0.82267 | Avg. Non-Zero Triplets: 97920.00000\n"
     ]
    },
    {
     "name": "stderr",
     "output_type": "stream",
     "text": [
      "C:\\Opt\\Anaconda3\\envs\\pDL\\lib\\site-packages\\seaborn\\_decorators.py:36: FutureWarning: Pass the following variable as a keyword arg: y. From version 0.12, the only valid positional argument will be `data`, and passing other arguments without an explicit keyword will result in an error or misinterpretation.\n",
      "  warnings.warn(\n"
     ]
    },
    {
     "name": "stdout",
     "output_type": "stream",
     "text": [
      "Epoch [3395/3395]: Avg. Train Loss: 0.78545 | Avg. Non-Zero Triplets: 97920.00000\n"
     ]
    },
    {
     "name": "stderr",
     "output_type": "stream",
     "text": [
      "C:\\Opt\\Anaconda3\\envs\\pDL\\lib\\site-packages\\seaborn\\_decorators.py:36: FutureWarning: Pass the following variable as a keyword arg: y. From version 0.12, the only valid positional argument will be `data`, and passing other arguments without an explicit keyword will result in an error or misinterpretation.\n",
      "  warnings.warn(\n"
     ]
    },
    {
     "name": "stdout",
     "output_type": "stream",
     "text": [
      "Epoch [3396/3396]: Avg. Train Loss: 0.82357 | Avg. Non-Zero Triplets: 97920.00000\n"
     ]
    },
    {
     "name": "stderr",
     "output_type": "stream",
     "text": [
      "C:\\Opt\\Anaconda3\\envs\\pDL\\lib\\site-packages\\seaborn\\_decorators.py:36: FutureWarning: Pass the following variable as a keyword arg: y. From version 0.12, the only valid positional argument will be `data`, and passing other arguments without an explicit keyword will result in an error or misinterpretation.\n",
      "  warnings.warn(\n"
     ]
    },
    {
     "name": "stdout",
     "output_type": "stream",
     "text": [
      "Epoch [3397/3397]: Avg. Train Loss: 0.82584 | Avg. Non-Zero Triplets: 97920.00000\n"
     ]
    },
    {
     "name": "stderr",
     "output_type": "stream",
     "text": [
      "C:\\Opt\\Anaconda3\\envs\\pDL\\lib\\site-packages\\seaborn\\_decorators.py:36: FutureWarning: Pass the following variable as a keyword arg: y. From version 0.12, the only valid positional argument will be `data`, and passing other arguments without an explicit keyword will result in an error or misinterpretation.\n",
      "  warnings.warn(\n"
     ]
    },
    {
     "name": "stdout",
     "output_type": "stream",
     "text": [
      "Epoch [3398/3398]: Avg. Train Loss: 0.85677 | Avg. Non-Zero Triplets: 97920.00000\n"
     ]
    },
    {
     "name": "stderr",
     "output_type": "stream",
     "text": [
      "C:\\Opt\\Anaconda3\\envs\\pDL\\lib\\site-packages\\seaborn\\_decorators.py:36: FutureWarning: Pass the following variable as a keyword arg: y. From version 0.12, the only valid positional argument will be `data`, and passing other arguments without an explicit keyword will result in an error or misinterpretation.\n",
      "  warnings.warn(\n"
     ]
    },
    {
     "name": "stdout",
     "output_type": "stream",
     "text": [
      "Epoch [3399/3399]: Avg. Train Loss: 0.80631 | Avg. Non-Zero Triplets: 97920.00000\n"
     ]
    },
    {
     "name": "stderr",
     "output_type": "stream",
     "text": [
      "C:\\Opt\\Anaconda3\\envs\\pDL\\lib\\site-packages\\seaborn\\_decorators.py:36: FutureWarning: Pass the following variable as a keyword arg: y. From version 0.12, the only valid positional argument will be `data`, and passing other arguments without an explicit keyword will result in an error or misinterpretation.\n",
      "  warnings.warn(\n"
     ]
    },
    {
     "name": "stdout",
     "output_type": "stream",
     "text": [
      "Epoch [3400/3400]: Avg. Train Loss: 0.83942 | Avg. Non-Zero Triplets: 97920.00000\n"
     ]
    },
    {
     "name": "stderr",
     "output_type": "stream",
     "text": [
      "C:\\Opt\\Anaconda3\\envs\\pDL\\lib\\site-packages\\seaborn\\_decorators.py:36: FutureWarning: Pass the following variable as a keyword arg: y. From version 0.12, the only valid positional argument will be `data`, and passing other arguments without an explicit keyword will result in an error or misinterpretation.\n",
      "  warnings.warn(\n"
     ]
    },
    {
     "name": "stdout",
     "output_type": "stream",
     "text": [
      "Epoch [3401/3401]: Avg. Train Loss: 0.77572 | Avg. Non-Zero Triplets: 97920.00000\n"
     ]
    },
    {
     "name": "stderr",
     "output_type": "stream",
     "text": [
      "C:\\Opt\\Anaconda3\\envs\\pDL\\lib\\site-packages\\seaborn\\_decorators.py:36: FutureWarning: Pass the following variable as a keyword arg: y. From version 0.12, the only valid positional argument will be `data`, and passing other arguments without an explicit keyword will result in an error or misinterpretation.\n",
      "  warnings.warn(\n"
     ]
    }
   ],
   "source": [
    "model = model.to(device)\n",
    "while epoch < n_epochs:\n",
    "    tmp_dict_train_loss, _ = fit(online_train_loader, \n",
    "                                         None, \n",
    "                                         model, \n",
    "                                         loss_fn, \n",
    "                                         optimizer, None, \n",
    "                                         epoch+1, \n",
    "                                         use_cuda, \n",
    "                                         dict_args[\"log_interval\"], \n",
    "                                         metrics=[AverageNonZeroTripletsMetric()],\n",
    "                                         start_epoch=epoch)\n",
    "    dict_train_loss.update(tmp_dict_train_loss)\n",
    "    \n",
    "    train_embeddings, train_labels = extract_embedding(train_loader, model, use_cuda)\n",
    "    \n",
    "    ax = ax0\n",
    "    ax.cla()\n",
    "    plot_2d_circle(ax)\n",
    "    plot_2d_embedding(train_embeddings, \n",
    "                  train_labels, \n",
    "                  ax=ax, xlim=[-1.5, 1.5], \n",
    "                  ylim=[-1.5, 1.5],\n",
    "                     n_classes=C)\n",
    "    \n",
    "    ax.set_title(\"Epoch {}/{} : {:.5f}\".format(epoch+1, n_epochs, tmp_dict_train_loss[epoch+1]))\n",
    "    \n",
    "    ax = ax1\n",
    "    ax.cla()\n",
    "    ax.plot(dict_train_loss.keys(), dict_train_loss.values(), marker=\"o\", label=\"Training Loss\")\n",
    "    ax.set_xlabel(\"Epoch\")\n",
    "    ax.set_ylabel(\"Training Loss\")\n",
    "    ax.set_xlim([0, n_epochs])\n",
    "    ax.grid()\n",
    "    ax.legend();\n",
    "    \n",
    "    fig.canvas.draw()\n",
    "    epoch += 1"
   ]
  },
  {
   "cell_type": "code",
   "execution_count": null,
   "metadata": {},
   "outputs": [],
   "source": []
  }
 ],
 "metadata": {
  "kernelspec": {
   "display_name": "pDL",
   "language": "python",
   "name": "pdl"
  },
  "language_info": {
   "codemirror_mode": {
    "name": "ipython",
    "version": 3
   },
   "file_extension": ".py",
   "mimetype": "text/x-python",
   "name": "python",
   "nbconvert_exporter": "python",
   "pygments_lexer": "ipython3",
   "version": "3.8.6"
  }
 },
 "nbformat": 4,
 "nbformat_minor": 2
}
